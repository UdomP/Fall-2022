{
 "cells": [
  {
   "cell_type": "code",
   "execution_count": 4,
   "id": "9b0adbfd",
   "metadata": {},
   "outputs": [
    {
     "data": {
      "text/html": [
       "<pre style=\"word-wrap: normal;white-space: pre;background: #fff0;line-height: 1.1;font-family: &quot;Courier New&quot;,Courier,monospace\">           ░ ┌───┐ ░  ░ ┌───┐┌─┐\n",
       "  x: ──────░─┤ H ├─░──░─┤ H ├┤M├\n",
       "     ┌───┐ ░ ├───┤ ░  ░ └───┘└╥┘\n",
       "  y: ┤ X ├─░─┤ H ├─░──░───────╫─\n",
       "     └───┘ ░ └───┘ ░  ░       ║ \n",
       "c: 1/═════════════════════════╩═\n",
       "                              0 </pre>"
      ],
      "text/plain": [
       "           ░ ┌───┐ ░  ░ ┌───┐┌─┐\n",
       "  x: ──────░─┤ H ├─░──░─┤ H ├┤M├\n",
       "     ┌───┐ ░ ├───┤ ░  ░ └───┘└╥┘\n",
       "  y: ┤ X ├─░─┤ H ├─░──░───────╫─\n",
       "     └───┘ ░ └───┘ ░  ░       ║ \n",
       "c: 1/═════════════════════════╩═\n",
       "                              0 "
      ]
     },
     "metadata": {},
     "output_type": "display_data"
    },
    {
     "name": "stdout",
     "output_type": "stream",
     "text": [
      "the top qubit x:  {'0': 1}\n"
     ]
    },
    {
     "data": {
      "image/png": "[encoded data removed]",
      "text/plain": [
       "<Figure size 504x360 with 1 Axes>"
      ]
     },
     "execution_count": 4,
     "metadata": {},
     "output_type": "execute_result"
    }
   ],
   "source": [
    "# Experiment 1\n",
    "# %load ~cis492s/pub/DeutschConst0.py\n",
    "# initialization\n",
    "import numpy as np\n",
    "\n",
    "# importing Qiskit\n",
    "from qiskit import QuantumCircuit, QuantumRegister, ClassicalRegister, assemble, transpile, Aer\n",
    "\n",
    "## for display\n",
    "from IPython.display import display\n",
    "\n",
    "# import basic plot tools\n",
    "from qiskit.visualization import plot_histogram\n",
    "\n",
    "x = QuantumRegister(1,'x')\n",
    "y = QuantumRegister(1,'y')\n",
    "c = ClassicalRegister(1, 'c')\n",
    "qc = QuantumCircuit(x,y,c)\n",
    "\n",
    "# set qubit y to 1\n",
    "qc.x(y)\n",
    "qc.barrier()\n",
    "\n",
    "# Apply H-gates for x and y\n",
    "qc.h(x)\n",
    "qc.h(y)\n",
    "\n",
    "qc.barrier()\n",
    "\n",
    "# f(x) is a constant 0 function; i.e. f(x) is always 0  \n",
    "# hence, y xor f(x) is y xor 0 which yields y \n",
    "\n",
    "qc.barrier()\n",
    "\n",
    "# Apply the H-gate for the top qubit x\n",
    "qc.h(x)\n",
    "\n",
    "# Measure the top qubit, i.e. q0 \n",
    "qc.measure(x,c)\n",
    "\n",
    "# Display circuit\n",
    "display(qc.draw())\n",
    "\n",
    "# use local simulator\n",
    "aer_sim = Aer.get_backend('aer_simulator')\n",
    "qobj = assemble(qc, aer_sim)\n",
    "results = aer_sim.run(qobj,shots=1).result()\n",
    "answer = results.get_counts()\n",
    "\n",
    "print('the top qubit x: ', answer)\n",
    "\n",
    "plot_histogram(answer)\n",
    "\n",
    "\n"
   ]
  },
  {
   "cell_type": "code",
   "execution_count": 5,
   "id": "5c87e084",
   "metadata": {},
   "outputs": [
    {
     "data": {
      "text/html": [
       "<pre style=\"word-wrap: normal;white-space: pre;background: #fff0;line-height: 1.1;font-family: &quot;Courier New&quot;,Courier,monospace\">           ░ ┌───┐ ░       ░ ┌───┐┌─┐\n",
       "  x: ──────░─┤ H ├─░───────░─┤ H ├┤M├\n",
       "     ┌───┐ ░ ├───┤ ░ ┌───┐ ░ └───┘└╥┘\n",
       "  y: ┤ X ├─░─┤ H ├─░─┤ X ├─░───────╫─\n",
       "     └───┘ ░ └───┘ ░ └───┘ ░       ║ \n",
       "c: 1/══════════════════════════════╩═\n",
       "                                   0 </pre>"
      ],
      "text/plain": [
       "           ░ ┌───┐ ░       ░ ┌───┐┌─┐\n",
       "  x: ──────░─┤ H ├─░───────░─┤ H ├┤M├\n",
       "     ┌───┐ ░ ├───┤ ░ ┌───┐ ░ └───┘└╥┘\n",
       "  y: ┤ X ├─░─┤ H ├─░─┤ X ├─░───────╫─\n",
       "     └───┘ ░ └───┘ ░ └───┘ ░       ║ \n",
       "c: 1/══════════════════════════════╩═\n",
       "                                   0 "
      ]
     },
     "metadata": {},
     "output_type": "display_data"
    },
    {
     "name": "stdout",
     "output_type": "stream",
     "text": [
      "the top qubit x:  {'0': 1}\n"
     ]
    },
    {
     "data": {
      "image/png": "[encoded data removed]",
      "text/plain": [
       "<Figure size 504x360 with 1 Axes>"
      ]
     },
     "execution_count": 5,
     "metadata": {},
     "output_type": "execute_result"
    }
   ],
   "source": [
    "# Experiment 2\n",
    "# %load ~cis492s/pub/DeutschConst0.py\n",
    "# initialization\n",
    "import numpy as np\n",
    "\n",
    "# importing Qiskit\n",
    "from qiskit import QuantumCircuit, QuantumRegister, ClassicalRegister, assemble, transpile, Aer\n",
    "\n",
    "## for display\n",
    "from IPython.display import display\n",
    "\n",
    "# import basic plot tools\n",
    "from qiskit.visualization import plot_histogram\n",
    "\n",
    "x = QuantumRegister(1,'x')\n",
    "y = QuantumRegister(1,'y')\n",
    "c = ClassicalRegister(1, 'c')\n",
    "qc = QuantumCircuit(x,y,c)\n",
    "\n",
    "# set qubit y to 1\n",
    "qc.x(y)\n",
    "qc.barrier()\n",
    "\n",
    "# Apply H-gates for x and y\n",
    "qc.h(x)\n",
    "qc.h(y)\n",
    "\n",
    "qc.barrier()\n",
    "\n",
    "# f(x) is a constant 0 function; i.e. f(x) is always 0  \n",
    "# hence, y xor f(x) is y xor 0 which yields y \n",
    "qc.x(y)\n",
    "\n",
    "qc.barrier()\n",
    "\n",
    "# Apply the H-gate for the top qubit x\n",
    "qc.h(x)\n",
    "\n",
    "# Measure the top qubit, i.e. q0 \n",
    "qc.measure(x,c)\n",
    "\n",
    "# Display circuit\n",
    "display(qc.draw())\n",
    "\n",
    "# use local simulator\n",
    "aer_sim = Aer.get_backend('aer_simulator')\n",
    "qobj = assemble(qc, aer_sim)\n",
    "results = aer_sim.run(qobj,shots=1).result()\n",
    "answer = results.get_counts()\n",
    "\n",
    "print('the top qubit x: ', answer)\n",
    "\n",
    "plot_histogram(answer)\n",
    "\n",
    "\n"
   ]
  },
  {
   "cell_type": "code",
   "execution_count": 6,
   "id": "b333d264",
   "metadata": {},
   "outputs": [
    {
     "data": {
      "text/html": [
       "<pre style=\"word-wrap: normal;white-space: pre;background: #fff0;line-height: 1.1;font-family: &quot;Courier New&quot;,Courier,monospace\">           ░ ┌───┐ ░       ░ ┌───┐┌─┐\n",
       "  x: ──────░─┤ H ├─░───■───░─┤ H ├┤M├\n",
       "     ┌───┐ ░ ├───┤ ░ ┌─┴─┐ ░ └───┘└╥┘\n",
       "  y: ┤ X ├─░─┤ H ├─░─┤ X ├─░───────╫─\n",
       "     └───┘ ░ └───┘ ░ └───┘ ░       ║ \n",
       "c: 1/══════════════════════════════╩═\n",
       "                                   0 </pre>"
      ],
      "text/plain": [
       "           ░ ┌───┐ ░       ░ ┌───┐┌─┐\n",
       "  x: ──────░─┤ H ├─░───■───░─┤ H ├┤M├\n",
       "     ┌───┐ ░ ├───┤ ░ ┌─┴─┐ ░ └───┘└╥┘\n",
       "  y: ┤ X ├─░─┤ H ├─░─┤ X ├─░───────╫─\n",
       "     └───┘ ░ └───┘ ░ └───┘ ░       ║ \n",
       "c: 1/══════════════════════════════╩═\n",
       "                                   0 "
      ]
     },
     "metadata": {},
     "output_type": "display_data"
    },
    {
     "name": "stdout",
     "output_type": "stream",
     "text": [
      "the top qubit x:  {'1': 1}\n"
     ]
    },
    {
     "data": {
      "image/png": "[encoded data removed]",
      "text/plain": [
       "<Figure size 504x360 with 1 Axes>"
      ]
     },
     "execution_count": 6,
     "metadata": {},
     "output_type": "execute_result"
    }
   ],
   "source": [
    "# Experiment 3\n",
    "# %load ~cis492s/pub/DeutschConst0.py\n",
    "# initialization\n",
    "import numpy as np\n",
    "\n",
    "# importing Qiskit\n",
    "from qiskit import QuantumCircuit, QuantumRegister, ClassicalRegister, assemble, transpile, Aer\n",
    "\n",
    "## for display\n",
    "from IPython.display import display\n",
    "\n",
    "# import basic plot tools\n",
    "from qiskit.visualization import plot_histogram\n",
    "\n",
    "x = QuantumRegister(1,'x')\n",
    "y = QuantumRegister(1,'y')\n",
    "c = ClassicalRegister(1, 'c')\n",
    "qc = QuantumCircuit(x,y,c)\n",
    "\n",
    "# set qubit y to 1\n",
    "qc.x(y)\n",
    "qc.barrier()\n",
    "\n",
    "# Apply H-gates for x and y\n",
    "qc.h(x)\n",
    "qc.h(y)\n",
    "\n",
    "qc.barrier()\n",
    "\n",
    "# f(x) is a constant 0 function; i.e. f(x) is always 0  \n",
    "# hence, y xor f(x) is y xor 0 which yields y \n",
    "qc.cx(x,y)\n",
    "\n",
    "qc.barrier()\n",
    "\n",
    "# Apply the H-gate for the top qubit x\n",
    "qc.h(x)\n",
    "\n",
    "# Measure the top qubit, i.e. q0 \n",
    "qc.measure(x,c)\n",
    "\n",
    "# Display circuit\n",
    "display(qc.draw())\n",
    "\n",
    "# use local simulator\n",
    "aer_sim = Aer.get_backend('aer_simulator')\n",
    "qobj = assemble(qc, aer_sim)\n",
    "results = aer_sim.run(qobj,shots=1).result()\n",
    "answer = results.get_counts()\n",
    "\n",
    "print('the top qubit x: ', answer)\n",
    "\n",
    "plot_histogram(answer)\n",
    "\n",
    "\n"
   ]
  },
  {
   "cell_type": "code",
   "execution_count": 7,
   "id": "f41616b6",
   "metadata": {},
   "outputs": [
    {
     "data": {
      "text/html": [
       "<pre style=\"word-wrap: normal;white-space: pre;background: #fff0;line-height: 1.1;font-family: &quot;Courier New&quot;,Courier,monospace\">           ░ ┌───┐ ░ ┌───┐      ░ ┌───┐┌─┐\n",
       "  x: ──────░─┤ H ├─░─┤ X ├──■───░─┤ H ├┤M├\n",
       "     ┌───┐ ░ ├───┤ ░ └───┘┌─┴─┐ ░ └───┘└╥┘\n",
       "  y: ┤ X ├─░─┤ H ├─░──────┤ X ├─░───────╫─\n",
       "     └───┘ ░ └───┘ ░      └───┘ ░       ║ \n",
       "c: 1/═══════════════════════════════════╩═\n",
       "                                        0 </pre>"
      ],
      "text/plain": [
       "           ░ ┌───┐ ░ ┌───┐      ░ ┌───┐┌─┐\n",
       "  x: ──────░─┤ H ├─░─┤ X ├──■───░─┤ H ├┤M├\n",
       "     ┌───┐ ░ ├───┤ ░ └───┘┌─┴─┐ ░ └───┘└╥┘\n",
       "  y: ┤ X ├─░─┤ H ├─░──────┤ X ├─░───────╫─\n",
       "     └───┘ ░ └───┘ ░      └───┘ ░       ║ \n",
       "c: 1/═══════════════════════════════════╩═\n",
       "                                        0 "
      ]
     },
     "metadata": {},
     "output_type": "display_data"
    },
    {
     "name": "stdout",
     "output_type": "stream",
     "text": [
      "the top qubit x:  {'1': 1}\n"
     ]
    },
    {
     "data": {
      "image/png": "[encoded data removed]",
      "text/plain": [
       "<Figure size 504x360 with 1 Axes>"
      ]
     },
     "execution_count": 7,
     "metadata": {},
     "output_type": "execute_result"
    }
   ],
   "source": [
    "# Experiment 4\n",
    "# %load ~cis492s/pub/DeutschConst0.py\n",
    "# initialization\n",
    "import numpy as np\n",
    "\n",
    "# importing Qiskit\n",
    "from qiskit import QuantumCircuit, QuantumRegister, ClassicalRegister, assemble, transpile, Aer\n",
    "\n",
    "## for display\n",
    "from IPython.display import display\n",
    "\n",
    "# import basic plot tools\n",
    "from qiskit.visualization import plot_histogram\n",
    "\n",
    "x = QuantumRegister(1,'x')\n",
    "y = QuantumRegister(1,'y')\n",
    "c = ClassicalRegister(1, 'c')\n",
    "qc = QuantumCircuit(x,y,c)\n",
    "\n",
    "# set qubit y to 1\n",
    "qc.x(y)\n",
    "qc.barrier()\n",
    "\n",
    "# Apply H-gates for x and y\n",
    "qc.h(x)\n",
    "qc.h(y)\n",
    "\n",
    "qc.barrier()\n",
    "\n",
    "# f(x) is a constant 0 function; i.e. f(x) is always 0  \n",
    "# hence, y xor f(x) is y xor 0 which yields y \n",
    "qc.x(x)\n",
    "qc.cx(x,y)\n",
    "\n",
    "qc.barrier()\n",
    "\n",
    "# Apply the H-gate for the top qubit x\n",
    "qc.h(x)\n",
    "\n",
    "# Measure the top qubit, i.e. q0 \n",
    "qc.measure(x,c)\n",
    "\n",
    "# Display circuit\n",
    "display(qc.draw())\n",
    "\n",
    "# use local simulator\n",
    "aer_sim = Aer.get_backend('aer_simulator')\n",
    "qobj = assemble(qc, aer_sim)\n",
    "results = aer_sim.run(qobj,shots=1).result()\n",
    "answer = results.get_counts()\n",
    "\n",
    "print('the top qubit x: ', answer)\n",
    "\n",
    "plot_histogram(answer)\n",
    "\n",
    "\n"
   ]
  },
  {
   "cell_type": "code",
   "execution_count": 12,
   "id": "7d708689",
   "metadata": {},
   "outputs": [
    {
     "data": {
      "text/html": [
       "<pre style=\"word-wrap: normal;white-space: pre;background: #fff0;line-height: 1.1;font-family: &quot;Courier New&quot;,Courier,monospace\">           ░ ┌───┐ ░  ░ ┌───┐┌─┐      \n",
       "x_0: ──────░─┤ H ├─░──░─┤ H ├┤M├──────\n",
       "           ░ ├───┤ ░  ░ ├───┤└╥┘┌─┐   \n",
       "x_1: ──────░─┤ H ├─░──░─┤ H ├─╫─┤M├───\n",
       "           ░ ├───┤ ░  ░ ├───┤ ║ └╥┘┌─┐\n",
       "x_2: ──────░─┤ H ├─░──░─┤ H ├─╫──╫─┤M├\n",
       "     ┌───┐ ░ ├───┤ ░  ░ └───┘ ║  ║ └╥┘\n",
       "  y: ┤ X ├─░─┤ H ├─░──░───────╫──╫──╫─\n",
       "     └───┘ ░ └───┘ ░  ░       ║  ║  ║ \n",
       "c: 3/═════════════════════════╩══╩══╩═\n",
       "                              0  1  2 </pre>"
      ],
      "text/plain": [
       "           ░ ┌───┐ ░  ░ ┌───┐┌─┐      \n",
       "x_0: ──────░─┤ H ├─░──░─┤ H ├┤M├──────\n",
       "           ░ ├───┤ ░  ░ ├───┤└╥┘┌─┐   \n",
       "x_1: ──────░─┤ H ├─░──░─┤ H ├─╫─┤M├───\n",
       "           ░ ├───┤ ░  ░ ├───┤ ║ └╥┘┌─┐\n",
       "x_2: ──────░─┤ H ├─░──░─┤ H ├─╫──╫─┤M├\n",
       "     ┌───┐ ░ ├───┤ ░  ░ └───┘ ║  ║ └╥┘\n",
       "  y: ┤ X ├─░─┤ H ├─░──░───────╫──╫──╫─\n",
       "     └───┘ ░ └───┘ ░  ░       ║  ║  ║ \n",
       "c: 3/═════════════════════════╩══╩══╩═\n",
       "                              0  1  2 "
      ]
     },
     "metadata": {},
     "output_type": "display_data"
    },
    {
     "name": "stdout",
     "output_type": "stream",
     "text": [
      "the top qubit:  {'000': 1000}\n"
     ]
    },
    {
     "data": {
      "image/png": "[encoded data removed]",
      "text/plain": [
       "<Figure size 504x360 with 1 Axes>"
      ]
     },
     "execution_count": 12,
     "metadata": {},
     "output_type": "execute_result"
    }
   ],
   "source": [
    "# Experiment 5\n",
    "# %load ~cis492s/pub/DJ-Const0.py\n",
    "# initialization\n",
    "import numpy as np\n",
    "\n",
    "# importing Qiskit\n",
    "from qiskit import QuantumCircuit, QuantumRegister, ClassicalRegister, assemble, transpile, Aer\n",
    "\n",
    "## for display\n",
    "from IPython.display import display\n",
    "\n",
    "# import basic plot tools\n",
    "from qiskit.visualization import plot_histogram\n",
    "\n",
    "n = 3\n",
    "x = QuantumRegister(n,'x')\n",
    "y = QuantumRegister(1,'y')\n",
    "c = ClassicalRegister(n, 'c')\n",
    "qc = QuantumCircuit(x,y,c)\n",
    "\n",
    "# set qubit y to 1\n",
    "qc.x(y)\n",
    "qc.barrier()\n",
    "\n",
    "# Apply H-gates for the top n-qubit x and y\n",
    "qc.h(x)\n",
    "qc.h(y)\n",
    "\n",
    "qc.barrier()\n",
    "\n",
    "# f(x) is a constant 0 function; i.e. f(x) is always 0\n",
    "# hence, y xor f(x) is y xor 0 which yields y\n",
    "\n",
    "qc.barrier()\n",
    "\n",
    "# Apply the H-gate for the top n-qubit x\n",
    "qc.h(x)\n",
    "\n",
    "# Measure the top n qubits \n",
    "qc.measure(x,c)\n",
    "\n",
    "# Display circuit\n",
    "display(qc.draw())\n",
    "\n",
    "# use local simulator\n",
    "aer_sim = Aer.get_backend('aer_simulator')\n",
    "qobj = assemble(qc, aer_sim)\n",
    "results = aer_sim.run(qobj,shots=1000).result()\n",
    "answer = results.get_counts()\n",
    "\n",
    "print('the top qubit: ', answer)\n",
    "\n",
    "plot_histogram(answer)\n",
    "\n",
    "\n"
   ]
  },
  {
   "cell_type": "code",
   "execution_count": 13,
   "id": "6d05cf3a",
   "metadata": {},
   "outputs": [
    {
     "data": {
      "text/html": [
       "<pre style=\"word-wrap: normal;white-space: pre;background: #fff0;line-height: 1.1;font-family: &quot;Courier New&quot;,Courier,monospace\">     ┌───┐ ░ ┌───┐ ░  ░ ┌───┐┌─┐      \n",
       "x_0: ┤ X ├─░─┤ H ├─░──░─┤ H ├┤M├──────\n",
       "     ├───┤ ░ ├───┤ ░  ░ ├───┤└╥┘┌─┐   \n",
       "x_1: ┤ X ├─░─┤ H ├─░──░─┤ H ├─╫─┤M├───\n",
       "     ├───┤ ░ ├───┤ ░  ░ ├───┤ ║ └╥┘┌─┐\n",
       "x_2: ┤ X ├─░─┤ H ├─░──░─┤ H ├─╫──╫─┤M├\n",
       "     ├───┤ ░ ├───┤ ░  ░ └───┘ ║  ║ └╥┘\n",
       "  y: ┤ X ├─░─┤ H ├─░──░───────╫──╫──╫─\n",
       "     └───┘ ░ └───┘ ░  ░       ║  ║  ║ \n",
       "c: 3/═════════════════════════╩══╩══╩═\n",
       "                              0  1  2 </pre>"
      ],
      "text/plain": [
       "     ┌───┐ ░ ┌───┐ ░  ░ ┌───┐┌─┐      \n",
       "x_0: ┤ X ├─░─┤ H ├─░──░─┤ H ├┤M├──────\n",
       "     ├───┤ ░ ├───┤ ░  ░ ├───┤└╥┘┌─┐   \n",
       "x_1: ┤ X ├─░─┤ H ├─░──░─┤ H ├─╫─┤M├───\n",
       "     ├───┤ ░ ├───┤ ░  ░ ├───┤ ║ └╥┘┌─┐\n",
       "x_2: ┤ X ├─░─┤ H ├─░──░─┤ H ├─╫──╫─┤M├\n",
       "     ├───┤ ░ ├───┤ ░  ░ └───┘ ║  ║ └╥┘\n",
       "  y: ┤ X ├─░─┤ H ├─░──░───────╫──╫──╫─\n",
       "     └───┘ ░ └───┘ ░  ░       ║  ║  ║ \n",
       "c: 3/═════════════════════════╩══╩══╩═\n",
       "                              0  1  2 "
      ]
     },
     "metadata": {},
     "output_type": "display_data"
    },
    {
     "name": "stdout",
     "output_type": "stream",
     "text": [
      "the top qubit:  {'111': 1000}\n"
     ]
    },
    {
     "data": {
      "image/png": "[encoded data removed]",
      "text/plain": [
       "<Figure size 504x360 with 1 Axes>"
      ]
     },
     "execution_count": 13,
     "metadata": {},
     "output_type": "execute_result"
    }
   ],
   "source": [
    "# Experiment 5\n",
    "# %load ~cis492s/pub/DJ-Const0.py\n",
    "# initialization\n",
    "import numpy as np\n",
    "\n",
    "# importing Qiskit\n",
    "from qiskit import QuantumCircuit, QuantumRegister, ClassicalRegister, assemble, transpile, Aer\n",
    "\n",
    "## for display\n",
    "from IPython.display import display\n",
    "\n",
    "# import basic plot tools\n",
    "from qiskit.visualization import plot_histogram\n",
    "\n",
    "n = 3\n",
    "x = QuantumRegister(n,'x')\n",
    "y = QuantumRegister(1,'y')\n",
    "c = ClassicalRegister(n, 'c')\n",
    "qc = QuantumCircuit(x,y,c)\n",
    "\n",
    "# set qubit y to 1\n",
    "qc.x(y)\n",
    "qc.x(x)\n",
    "qc.barrier()\n",
    "\n",
    "# Apply H-gates for the top n-qubit x and y\n",
    "qc.h(x)\n",
    "qc.h(y)\n",
    "\n",
    "qc.barrier()\n",
    "\n",
    "# f(x) is a constant 0 function; i.e. f(x) is always 0\n",
    "# hence, y xor f(x) is y xor 0 which yields y\n",
    "\n",
    "qc.barrier()\n",
    "\n",
    "# Apply the H-gate for the top n-qubit x\n",
    "qc.h(x)\n",
    "\n",
    "# Measure the top n qubits \n",
    "qc.measure(x,c)\n",
    "\n",
    "# Display circuit\n",
    "display(qc.draw())\n",
    "\n",
    "# use local simulator\n",
    "aer_sim = Aer.get_backend('aer_simulator')\n",
    "qobj = assemble(qc, aer_sim)\n",
    "results = aer_sim.run(qobj,shots=1000).result()\n",
    "answer = results.get_counts()\n",
    "\n",
    "print('the top qubit: ', answer)\n",
    "\n",
    "plot_histogram(answer)\n",
    "\n",
    "\n"
   ]
  },
  {
   "cell_type": "code",
   "execution_count": 16,
   "id": "834bf8f7",
   "metadata": {},
   "outputs": [
    {
     "data": {
      "text/html": [
       "<pre style=\"word-wrap: normal;white-space: pre;background: #fff0;line-height: 1.1;font-family: &quot;Courier New&quot;,Courier,monospace\">           ░ ┌───┐ ░                 ░ ┌───┐┌─┐      \n",
       "x_0: ──────░─┤ H ├─░───■─────────────░─┤ H ├┤M├──────\n",
       "           ░ ├───┤ ░   │             ░ ├───┤└╥┘┌─┐   \n",
       "x_1: ──────░─┤ H ├─░───┼────■────────░─┤ H ├─╫─┤M├───\n",
       "           ░ ├───┤ ░   │    │        ░ ├───┤ ║ └╥┘┌─┐\n",
       "x_2: ──────░─┤ H ├─░───┼────┼────■───░─┤ H ├─╫──╫─┤M├\n",
       "     ┌───┐ ░ ├───┤ ░ ┌─┴─┐┌─┴─┐┌─┴─┐ ░ └───┘ ║  ║ └╥┘\n",
       "  y: ┤ X ├─░─┤ H ├─░─┤ X ├┤ X ├┤ X ├─░───────╫──╫──╫─\n",
       "     └───┘ ░ └───┘ ░ └───┘└───┘└───┘ ░       ║  ║  ║ \n",
       "c: 3/════════════════════════════════════════╩══╩══╩═\n",
       "                                             0  1  2 </pre>"
      ],
      "text/plain": [
       "           ░ ┌───┐ ░                 ░ ┌───┐┌─┐      \n",
       "x_0: ──────░─┤ H ├─░───■─────────────░─┤ H ├┤M├──────\n",
       "           ░ ├───┤ ░   │             ░ ├───┤└╥┘┌─┐   \n",
       "x_1: ──────░─┤ H ├─░───┼────■────────░─┤ H ├─╫─┤M├───\n",
       "           ░ ├───┤ ░   │    │        ░ ├───┤ ║ └╥┘┌─┐\n",
       "x_2: ──────░─┤ H ├─░───┼────┼────■───░─┤ H ├─╫──╫─┤M├\n",
       "     ┌───┐ ░ ├───┤ ░ ┌─┴─┐┌─┴─┐┌─┴─┐ ░ └───┘ ║  ║ └╥┘\n",
       "  y: ┤ X ├─░─┤ H ├─░─┤ X ├┤ X ├┤ X ├─░───────╫──╫──╫─\n",
       "     └───┘ ░ └───┘ ░ └───┘└───┘└───┘ ░       ║  ║  ║ \n",
       "c: 3/════════════════════════════════════════╩══╩══╩═\n",
       "                                             0  1  2 "
      ]
     },
     "metadata": {},
     "output_type": "display_data"
    },
    {
     "name": "stdout",
     "output_type": "stream",
     "text": [
      "the top qubit:  {'111': 1000}\n"
     ]
    },
    {
     "data": {
      "image/png": "[encoded data removed]",
      "text/plain": [
       "<Figure size 504x360 with 1 Axes>"
      ]
     },
     "execution_count": 16,
     "metadata": {},
     "output_type": "execute_result"
    }
   ],
   "source": [
    "# Experiment 6\n",
    "# %load ~cis492s/pub/DJ-Const0.py\n",
    "# initialization\n",
    "import numpy as np\n",
    "\n",
    "# importing Qiskit\n",
    "from qiskit import QuantumCircuit, QuantumRegister, ClassicalRegister, assemble, transpile, Aer\n",
    "\n",
    "## for display\n",
    "from IPython.display import display\n",
    "\n",
    "# import basic plot tools\n",
    "from qiskit.visualization import plot_histogram\n",
    "\n",
    "n = 3\n",
    "x = QuantumRegister(n,'x')\n",
    "y = QuantumRegister(1,'y')\n",
    "c = ClassicalRegister(n, 'c')\n",
    "qc = QuantumCircuit(x,y,c)\n",
    "\n",
    "# set qubit y to 1\n",
    "qc.x(y)\n",
    "qc.barrier()\n",
    "\n",
    "# Apply H-gates for the top n-qubit x and y\n",
    "qc.h(x)\n",
    "qc.h(y)\n",
    "\n",
    "qc.barrier()\n",
    "\n",
    "qc.cx(x,y)\n",
    "\n",
    "# f(x) is a constant 0 function; i.e. f(x) is always 0\n",
    "# hence, y xor f(x) is y xor 0 which yields y\n",
    "\n",
    "qc.barrier()\n",
    "\n",
    "# Apply the H-gate for the top n-qubit x\n",
    "qc.h(x)\n",
    "\n",
    "# Measure the top n qubits \n",
    "qc.measure(x,c)\n",
    "\n",
    "# Display circuit\n",
    "display(qc.draw())\n",
    "\n",
    "# use local simulator\n",
    "aer_sim = Aer.get_backend('aer_simulator')\n",
    "qobj = assemble(qc, aer_sim)\n",
    "results = aer_sim.run(qobj,shots=1000).result()\n",
    "answer = results.get_counts()\n",
    "\n",
    "print('the top qubit: ', answer)\n",
    "\n",
    "plot_histogram(answer)\n",
    "\n",
    "\n"
   ]
  },
  {
   "cell_type": "code",
   "execution_count": 22,
   "id": "1e0c2c76",
   "metadata": {},
   "outputs": [
    {
     "data": {
      "text/html": [
       "<pre style=\"word-wrap: normal;white-space: pre;background: #fff0;line-height: 1.1;font-family: &quot;Courier New&quot;,Courier,monospace\">           ░ ┌───┐ ░            ░ ┌───┐┌─┐      \n",
       "x_0: ──────░─┤ H ├─░───■────────░─┤ H ├┤M├──────\n",
       "           ░ ├───┤ ░   │        ░ ├───┤└╥┘┌─┐   \n",
       "x_1: ──────░─┤ H ├─░───■────────░─┤ H ├─╫─┤M├───\n",
       "           ░ ├───┤ ░   │        ░ ├───┤ ║ └╥┘┌─┐\n",
       "x_2: ──────░─┤ H ├─░───┼────■───░─┤ H ├─╫──╫─┤M├\n",
       "     ┌───┐ ░ ├───┤ ░ ┌─┴─┐┌─┴─┐ ░ └───┘ ║  ║ └╥┘\n",
       "  y: ┤ X ├─░─┤ H ├─░─┤ X ├┤ X ├─░───────╫──╫──╫─\n",
       "     └───┘ ░ └───┘ ░ └───┘└───┘ ░       ║  ║  ║ \n",
       "c: 3/═══════════════════════════════════╩══╩══╩═\n",
       "                                        0  1  2 </pre>"
      ],
      "text/plain": [
       "           ░ ┌───┐ ░            ░ ┌───┐┌─┐      \n",
       "x_0: ──────░─┤ H ├─░───■────────░─┤ H ├┤M├──────\n",
       "           ░ ├───┤ ░   │        ░ ├───┤└╥┘┌─┐   \n",
       "x_1: ──────░─┤ H ├─░───■────────░─┤ H ├─╫─┤M├───\n",
       "           ░ ├───┤ ░   │        ░ ├───┤ ║ └╥┘┌─┐\n",
       "x_2: ──────░─┤ H ├─░───┼────■───░─┤ H ├─╫──╫─┤M├\n",
       "     ┌───┐ ░ ├───┤ ░ ┌─┴─┐┌─┴─┐ ░ └───┘ ║  ║ └╥┘\n",
       "  y: ┤ X ├─░─┤ H ├─░─┤ X ├┤ X ├─░───────╫──╫──╫─\n",
       "     └───┘ ░ └───┘ ░ └───┘└───┘ ░       ║  ║  ║ \n",
       "c: 3/═══════════════════════════════════╩══╩══╩═\n",
       "                                        0  1  2 "
      ]
     },
     "metadata": {},
     "output_type": "display_data"
    },
    {
     "name": "stdout",
     "output_type": "stream",
     "text": [
      "the top qubit:  {'110': 250, '100': 239, '101': 271, '111': 240}\n"
     ]
    },
    {
     "data": {
      "image/png": "[encoded data removed]",
      "text/plain": [
       "<Figure size 504x360 with 1 Axes>"
      ]
     },
     "execution_count": 22,
     "metadata": {},
     "output_type": "execute_result"
    }
   ],
   "source": [
    "# Experiment 7\n",
    "# %load ~cis492s/pub/DJ-Const0.py\n",
    "# initialization\n",
    "import numpy as np\n",
    "\n",
    "# importing Qiskit\n",
    "from qiskit import QuantumCircuit, QuantumRegister, ClassicalRegister, assemble, transpile, Aer\n",
    "\n",
    "## for display\n",
    "from IPython.display import display\n",
    "\n",
    "# import basic plot tools\n",
    "from qiskit.visualization import plot_histogram\n",
    "\n",
    "n = 3\n",
    "x = QuantumRegister(n,'x')\n",
    "y = QuantumRegister(1,'y')\n",
    "c = ClassicalRegister(n, 'c')\n",
    "qc = QuantumCircuit(x,y,c)\n",
    "\n",
    "# set qubit y to 1\n",
    "qc.x(y)\n",
    "qc.barrier()\n",
    "\n",
    "# Apply H-gates for the top n-qubit x and y\n",
    "qc.h(x)\n",
    "qc.h(y)\n",
    "\n",
    "qc.barrier()\n",
    "\n",
    "qc.ccx(x[0],x[1],y)\n",
    "qc.cx(x[2],y)\n",
    "\n",
    "# f(x) is a constant 0 function; i.e. f(x) is always 0\n",
    "# hence, y xor f(x) is y xor 0 which yields y\n",
    "\n",
    "qc.barrier()\n",
    "\n",
    "# Apply the H-gate for the top n-qubit x\n",
    "qc.h(x)\n",
    "\n",
    "# Measure the top n qubits \n",
    "qc.measure(x,c)\n",
    "\n",
    "# Display circuit\n",
    "display(qc.draw())\n",
    "\n",
    "# use local simulator\n",
    "aer_sim = Aer.get_backend('aer_simulator')\n",
    "qobj = assemble(qc, aer_sim)\n",
    "results = aer_sim.run(qobj,shots=1000).result()\n",
    "answer = results.get_counts()\n",
    "\n",
    "print('the top qubit: ', answer)\n",
    "\n",
    "plot_histogram(answer)\n",
    "\n",
    "\n"
   ]
  },
  {
   "cell_type": "code",
   "execution_count": null,
   "id": "1ca702cd",
   "metadata": {},
   "outputs": [],
   "source": []
  }
 ],
 "metadata": {
  "kernelspec": {
   "display_name": "Python 3 (ipykernel)",
   "language": "python",
   "name": "python3"
  },
  "language_info": {
   "codemirror_mode": {
    "name": "ipython",
    "version": 3
   },
   "file_extension": ".py",
   "mimetype": "text/x-python",
   "name": "python",
   "nbconvert_exporter": "python",
   "pygments_lexer": "ipython3",
   "version": "3.8.10"
  }
 },
 "nbformat": 4,
 "nbformat_minor": 5
}
