{
 "cells": [
  {
   "cell_type": "code",
   "execution_count": 6,
   "id": "16d19b4c",
   "metadata": {},
   "outputs": [
    {
     "data": {
      "text/plain": [
       "array([[ 1.+0.j,  0.+0.j,  0.+0.j,  0.+0.j],\n",
       "       [ 0.+0.j,  1.+0.j,  0.+0.j,  0.+0.j],\n",
       "       [ 0.+0.j,  0.+0.j,  1.+0.j,  0.+0.j],\n",
       "       [ 0.+0.j,  0.+0.j,  0.+0.j, -1.+0.j]])"
      ]
     },
     "metadata": {},
     "output_type": "display_data"
    },
    {
     "data": {
      "text/plain": [
       "array([[-0.5+0.j,  0.5+0.j,  0.5+0.j,  0.5+0.j],\n",
       "       [ 0.5+0.j, -0.5+0.j,  0.5+0.j,  0.5+0.j],\n",
       "       [ 0.5+0.j,  0.5+0.j, -0.5+0.j,  0.5+0.j],\n",
       "       [ 0.5+0.j,  0.5+0.j,  0.5+0.j, -0.5+0.j]])"
      ]
     },
     "metadata": {},
     "output_type": "display_data"
    },
    {
     "data": {
      "text/html": [
       "<pre style=\"word-wrap: normal;white-space: pre;background: #fff0;line-height: 1.1;font-family: &quot;Courier New&quot;,Courier,monospace\">     ┌───┐ ░     ░ ┌───┐┌───┐   ┌───┐ ░ \n",
       "q_0: ┤ H ├─░──■──░─┤ H ├┤ Z ├─■─┤ H ├─░─\n",
       "     ├───┤ ░  │  ░ ├───┤├───┤ │ ├───┤ ░ \n",
       "q_1: ┤ H ├─░──■──░─┤ H ├┤ Z ├─■─┤ H ├─░─\n",
       "     └───┘ ░     ░ └───┘└───┘   └───┘ ░ </pre>"
      ],
      "text/plain": [
       "     ┌───┐ ░     ░ ┌───┐┌───┐   ┌───┐ ░ \n",
       "q_0: ┤ H ├─░──■──░─┤ H ├┤ Z ├─■─┤ H ├─░─\n",
       "     ├───┤ ░  │  ░ ├───┤├───┤ │ ├───┤ ░ \n",
       "q_1: ┤ H ├─░──■──░─┤ H ├┤ Z ├─■─┤ H ├─░─\n",
       "     └───┘ ░     ░ └───┘└───┘   └───┘ ░ "
      ]
     },
     "metadata": {},
     "output_type": "display_data"
    },
    {
     "name": "stdout",
     "output_type": "stream",
     "text": [
      "[1.96261557e-16-3.69778549e-32j 1.96261557e-16+1.22464680e-16j\n",
      " 2.22044605e-16+1.22464680e-16j 1.00000000e+00-2.44929360e-16j]\n",
      "{'11': 1.0}\n"
     ]
    },
    {
     "data": {
      "image/png": "[encoded data removed]",
      "text/plain": [
       "<Figure size 504x360 with 1 Axes>"
      ]
     },
     "execution_count": 6,
     "metadata": {},
     "output_type": "execute_result"
    }
   ],
   "source": [
    "# Experiment 1\n",
    "# %load ~cis492s/pub/Grover2.py\n",
    "#initialization\n",
    "import numpy as np\n",
    "\n",
    "# importing Qiskit\n",
    "from qiskit import Aer, assemble, transpile\n",
    "from qiskit import QuantumCircuit, quantum_info\n",
    "\n",
    "from IPython.display import display\n",
    "\n",
    "# import basic plot tools\n",
    "from qiskit.visualization import plot_histogram\n",
    "\n",
    "n = 2\n",
    "\n",
    "# reverse the bit sequence of the nb-bit integer t\n",
    "def rbits(t,nb):\n",
    "    m = nb-1\n",
    "    k = 0\n",
    "    while t > 0:\n",
    "        k |= (t & 1) << m\n",
    "        t >>= 1\n",
    "        m -= 1\n",
    "    return k\n",
    "\n",
    "# exchange the elements in the vector v based on the reverse bits of indices\n",
    "def rv(v,nb) : \n",
    "    newv = np.copy(v)\n",
    "    for i in range(1<<nb):\n",
    "        ni = rbits(i,nb)\n",
    "        newv[i] = v[ni] \n",
    "         \n",
    "    return newv\n",
    "\n",
    "# exchange the diagonal elements in the matrix m based on the reverse bits of indices\n",
    "def rdm(m, nb) : \n",
    "    newm = np.copy(m)\n",
    "    for i in range(1<<nb):\n",
    "        ni = rbits(i,nb)\n",
    "        newm[i][i] = m[ni][ni]\n",
    "\n",
    "    return newm \n",
    "\n",
    "def Oracle():  ## select 11\n",
    "    oc = QuantumCircuit(n)\n",
    "    \n",
    "    # cz: control q0, target q1 \n",
    "    oc.cz(0, 1) \n",
    "    display(rdm(quantum_info.Operator(oc).data,n))\n",
    "\n",
    "    return oc\n",
    "\n",
    "def A(): ## amplitude amplification via fliiping around the mean \n",
    "    ac = QuantumCircuit(2)\n",
    "    ac.h(range(2))\n",
    "    ac.z(range(2))\n",
    "    ac.cz(0,1)\n",
    "    ac.h(range(2))\n",
    "    display(rdm(quantum_info.Operator(ac).data,n))\n",
    "\n",
    "\n",
    "    return ac\n",
    "\n",
    "qc = QuantumCircuit(n)\n",
    "\n",
    "qc.h(range(n))\n",
    "\n",
    "qc.barrier()\n",
    "\n",
    "# query the Oracle:  phase inversion\n",
    "qc.compose(Oracle(),inplace=True)\n",
    "\n",
    "qc.barrier()\n",
    "\n",
    "# amplitude magnification\n",
    "qc.compose(A(),inplace=True)\n",
    "\n",
    "qc.barrier()\n",
    "\n",
    "# Do NOT call measure() because we want to see the probability amplitudes in the statevector\n",
    "\n",
    "display(qc.draw())\n",
    "\n",
    "aer_sim = Aer.get_backend('aer_simulator')\n",
    "qc.save_statevector()\n",
    "qobj = assemble(qc)\n",
    "result = aer_sim.run(qobj,shots=1000).result()\n",
    "\n",
    "out_state = result.get_statevector()\n",
    "print(rv(out_state.data,n))\n",
    "\n",
    "# Because we don't call measure(), get_counts() returns the probabilities\n",
    "pbty = result.get_counts()\n",
    "\n",
    "# we have to reverse the string in the dictionary pbty\n",
    "answer = {}\n",
    "for str in pbty:\n",
    "    answer[str[::-1]] = pbty[str]\n",
    "\n",
    "print(answer)\n",
    "\n",
    "plot_histogram(answer)\n",
    "\n"
   ]
  },
  {
   "cell_type": "code",
   "execution_count": 11,
   "id": "e27e84be",
   "metadata": {},
   "outputs": [
    {
     "data": {
      "text/plain": [
       "array([[ 1.+0.j,  0.+0.j,  0.+0.j,  0.+0.j],\n",
       "       [ 0.+0.j,  1.+0.j,  0.+0.j,  0.+0.j],\n",
       "       [ 0.+0.j,  0.+0.j,  1.+0.j,  0.+0.j],\n",
       "       [ 0.+0.j,  0.+0.j,  0.+0.j, -1.+0.j]])"
      ]
     },
     "metadata": {},
     "output_type": "display_data"
    },
    {
     "data": {
      "text/plain": [
       "array([[-0.5+0.j,  0.5+0.j,  0.5+0.j,  0.5+0.j],\n",
       "       [ 0.5+0.j, -0.5+0.j,  0.5+0.j,  0.5+0.j],\n",
       "       [ 0.5+0.j,  0.5+0.j, -0.5+0.j,  0.5+0.j],\n",
       "       [ 0.5+0.j,  0.5+0.j,  0.5+0.j, -0.5+0.j]])"
      ]
     },
     "metadata": {},
     "output_type": "display_data"
    },
    {
     "data": {
      "text/html": [
       "<pre style=\"word-wrap: normal;white-space: pre;background: #fff0;line-height: 1.1;font-family: &quot;Courier New&quot;,Courier,monospace\">     ┌───┐ ░ ┌───┐   ┌───┐ ░ ┌───┐┌───┐   ┌───┐ ░ \n",
       "q_0: ┤ H ├─░─┤ X ├─■─┤ X ├─░─┤ H ├┤ Z ├─■─┤ H ├─░─\n",
       "     ├───┤ ░ └───┘ │ └───┘ ░ ├───┤├───┤ │ ├───┤ ░ \n",
       "q_1: ┤ H ├─░───────■───────░─┤ H ├┤ Z ├─■─┤ H ├─░─\n",
       "     └───┘ ░               ░ └───┘└───┘   └───┘ ░ </pre>"
      ],
      "text/plain": [
       "     ┌───┐ ░ ┌───┐   ┌───┐ ░ ┌───┐┌───┐   ┌───┐ ░ \n",
       "q_0: ┤ H ├─░─┤ X ├─■─┤ X ├─░─┤ H ├┤ Z ├─■─┤ H ├─░─\n",
       "     ├───┤ ░ └───┘ │ └───┘ ░ ├───┤├───┤ │ ├───┤ ░ \n",
       "q_1: ┤ H ├─░───────■───────░─┤ H ├┤ Z ├─■─┤ H ├─░─\n",
       "     └───┘ ░               ░ └───┘└───┘   └───┘ ░ "
      ]
     },
     "metadata": {},
     "output_type": "display_data"
    },
    {
     "name": "stdout",
     "output_type": "stream",
     "text": [
      "[ 0.00000000e+00+0.00000000e+00j  1.00000000e+00-2.44929360e-16j\n",
      " -7.49879891e-33+3.69778549e-32j  7.49879891e-33+1.22464680e-16j]\n",
      "{'01': 1.0}\n"
     ]
    },
    {
     "data": {
      "image/png": "[encoded data removed]",
      "text/plain": [
       "<Figure size 504x360 with 1 Axes>"
      ]
     },
     "execution_count": 11,
     "metadata": {},
     "output_type": "execute_result"
    }
   ],
   "source": [
    "# Experiment 2\n",
    "# %load ~cis492s/pub/Grover2.py\n",
    "#initialization\n",
    "import numpy as np\n",
    "\n",
    "# importing Qiskit\n",
    "from qiskit import Aer, assemble, transpile\n",
    "from qiskit import QuantumCircuit, quantum_info\n",
    "\n",
    "from IPython.display import display\n",
    "\n",
    "# import basic plot tools\n",
    "from qiskit.visualization import plot_histogram\n",
    "\n",
    "n = 2\n",
    "\n",
    "# reverse the bit sequence of the nb-bit integer t\n",
    "def rbits(t,nb):\n",
    "    m = nb-1\n",
    "    k = 0\n",
    "    while t > 0:\n",
    "        k |= (t & 1) << m\n",
    "        t >>= 1\n",
    "        m -= 1\n",
    "    return k\n",
    "\n",
    "# exchange the elements in the vector v based on the reverse bits of indices\n",
    "def rv(v,nb) : \n",
    "    newv = np.copy(v)\n",
    "    for i in range(1<<nb):\n",
    "        ni = rbits(i,nb)\n",
    "        newv[i] = v[ni] \n",
    "         \n",
    "    return newv\n",
    "\n",
    "# exchange the diagonal elements in the matrix m based on the reverse bits of indices\n",
    "def rdm(m, nb) : \n",
    "    newm = np.copy(m)\n",
    "    for i in range(1<<nb):\n",
    "        ni = rbits(i,nb)\n",
    "        newm[i][i] = m[ni][ni]\n",
    "\n",
    "    return newm \n",
    "\n",
    "def Oracle():  ## select 11\n",
    "    oc = QuantumCircuit(n)\n",
    "    \n",
    "    # cz: control q0, target q1 \n",
    "    oc.cz(0, 1) \n",
    "    display(rdm(quantum_info.Operator(oc).data,n))\n",
    "\n",
    "    return oc\n",
    "\n",
    "def A(): ## amplitude amplification via fliiping around the mean \n",
    "    ac = QuantumCircuit(2)\n",
    "    ac.h(range(2))\n",
    "    ac.z(range(2))\n",
    "    ac.cz(0,1)\n",
    "    ac.h(range(2))\n",
    "    display(rdm(quantum_info.Operator(ac).data,n))\n",
    "\n",
    "\n",
    "    return ac\n",
    "\n",
    "qc = QuantumCircuit(n)\n",
    "\n",
    "qc.h(range(n))\n",
    "\n",
    "qc.barrier()\n",
    "\n",
    "qc.x(0)\n",
    "# query the Oracle:  phase inversion\n",
    "qc.compose(Oracle(),inplace=True)\n",
    "qc.x(0)\n",
    "qc.barrier()\n",
    "\n",
    "# amplitude magnification\n",
    "qc.compose(A(),inplace=True)\n",
    "\n",
    "qc.barrier()\n",
    "\n",
    "# Do NOT call measure() because we want to see the probability amplitudes in the statevector\n",
    "\n",
    "display(qc.draw())\n",
    "\n",
    "aer_sim = Aer.get_backend('aer_simulator')\n",
    "qc.save_statevector()\n",
    "qobj = assemble(qc)\n",
    "result = aer_sim.run(qobj,shots=1000).result()\n",
    "\n",
    "out_state = result.get_statevector()\n",
    "print(rv(out_state.data,n))\n",
    "\n",
    "# Because we don't call measure(), get_counts() returns the probabilities\n",
    "pbty = result.get_counts()\n",
    "\n",
    "# we have to reverse the string in the dictionary pbty\n",
    "answer = {}\n",
    "for str in pbty:\n",
    "    answer[str[::-1]] = pbty[str]\n",
    "\n",
    "print(answer)\n",
    "\n",
    "plot_histogram(answer)\n",
    "\n"
   ]
  },
  {
   "cell_type": "code",
   "execution_count": 18,
   "id": "3d298689",
   "metadata": {},
   "outputs": [
    {
     "name": "stdout",
     "output_type": "stream",
     "text": [
      "[ 0.30935922-6.98177070e-16j  0.30935922-7.25238197e-16j\n",
      "  0.30935922-7.09001521e-16j  0.30935922-7.68536000e-16j\n",
      "  0.30935922-7.09001521e-16j  0.30935922-7.68536000e-16j\n",
      "  0.30935922-7.52299324e-16j -0.57452426+1.16904068e-15j]\n",
      "{'000': 0.095703125, '100': 0.095703125, '010': 0.095703125, '110': 0.095703125, '001': 0.095703125, '101': 0.095703125, '011': 0.095703125, '111': 0.330078125}\n"
     ]
    },
    {
     "data": {
      "image/png": "[encoded data removed]",
      "text/plain": [
       "<Figure size 504x360 with 1 Axes>"
      ]
     },
     "execution_count": 18,
     "metadata": {},
     "output_type": "execute_result"
    }
   ],
   "source": [
    "# Experiment 3\n",
    "# %load ~cis492s/pub/Grover3.py\n",
    "#initialization\n",
    "import numpy as np\n",
    "\n",
    "# importing Qiskit\n",
    "from qiskit import Aer, assemble, transpile, quantum_info\n",
    "from qiskit import QuantumCircuit, ClassicalRegister, QuantumRegister\n",
    "\n",
    "from IPython.display import display\n",
    "\n",
    "# import basic plot tools\n",
    "from qiskit.visualization import plot_histogram\n",
    "\n",
    "# reverse the bit sequence of the nb-bit integer t\n",
    "def rbits(t,nb):\n",
    "    m = nb-1\n",
    "    k = 0\n",
    "    while t > 0:\n",
    "        k |= (t & 1) << m\n",
    "        t >>= 1\n",
    "        m -= 1\n",
    "    return k\n",
    "\n",
    "# exchange the elements in the vector v based on the reverse bits of indices\n",
    "def rv(v,nb) : \n",
    "    newv = np.copy(v)\n",
    "    for i in range(1<<nb):\n",
    "        ni = rbits(i,nb)\n",
    "        newv[i] = v[ni] \n",
    "         \n",
    "    return newv\n",
    "\n",
    "# exchange the diagonal elements in the matrix m based on the reverse bits of indices\n",
    "def rdm(m, nb) : \n",
    "    newm = np.copy(m)\n",
    "    for i in range(1<<nb):\n",
    "        ni = rbits(i,nb)\n",
    "        newm[i][i] = m[ni][ni]\n",
    "\n",
    "    return newm \n",
    "\n",
    "n = 3\n",
    "\n",
    "def Oracle():  ## select q0 q1 q2: 111\n",
    "    oc = QuantumCircuit(n)\n",
    "\n",
    "    # use ccx and H-gates to achieve ccz\n",
    "    oc.h(2)\n",
    "    oc.ccx(0,1,2)\n",
    "    oc.h(2)\n",
    "\n",
    "    return oc\n",
    "\n",
    "def A(nb): ## amplitude amplification via fliiping around the mean \n",
    "    ac = QuantumCircuit(nb)\n",
    "    ac.h(range(nb))\n",
    "\n",
    "    ac.x(range(nb))\n",
    "\n",
    "    # Do multi-controlled-Z gate\n",
    "    ac.h(nb-1)\n",
    "    ac.mcx(list(range(nb-1)), nb-1)  # multi-controlled\n",
    "    ac.h(nb-1)\n",
    "\n",
    "    ac.x(range(nb))\n",
    "\n",
    "    ac.h(range(nb))\n",
    "\n",
    "    return ac\n",
    "\n",
    "\n",
    "qc = QuantumCircuit(n)\n",
    "\n",
    "qc.h(range(n))\n",
    "\n",
    "# query the Oracle\n",
    "qc.compose(Oracle(),inplace=True)\n",
    "\n",
    "# amplitude magnification\n",
    "qc.compose(A(n),inplace=True)\n",
    "\n",
    "# query the Oracle\n",
    "qc.compose(Oracle(),inplace=True)\n",
    "\n",
    "# amplitude magnification\n",
    "qc.compose(A(n),inplace=True)\n",
    "\n",
    "# Do NOT call measure() because we want to see the probability amplitudes in the statevector\n",
    "\n",
    "aer_sim = Aer.get_backend('aer_simulator')\n",
    "qc.save_statevector()\n",
    "qobj = assemble(qc)\n",
    "result = aer_sim.run(qobj,shots=1000).result()\n",
    "\n",
    "out_state = result.get_statevector()\n",
    "print(rv(out_state.data,n))\n",
    "\n",
    "counts = result.get_counts()\n",
    "\n",
    "# we have to reverse the string in the dictionary counts \n",
    "answer = {}\n",
    "for str in counts:\n",
    "    answer[str[::-1]] = counts[str]\n",
    "\n",
    "print(answer)\n",
    "\n",
    "plot_histogram(answer)\n",
    "\n"
   ]
  },
  {
   "cell_type": "code",
   "execution_count": 22,
   "id": "c66d1e19",
   "metadata": {},
   "outputs": [
    {
     "name": "stdout",
     "output_type": "stream",
     "text": [
      "[-0.08838835+2.05664563e-16j  0.97227182-1.19068958e-15j\n",
      " -0.08838835+1.62366761e-16j -0.08838835+1.73191211e-16j\n",
      " -0.08838835+1.62366761e-16j -0.08838835+1.73191211e-16j\n",
      " -0.08838835+1.40717859e-16j -0.08838835+1.29893408e-16j]\n",
      "{'000': 0.0078125, '100': 0.0078125, '010': 0.0078125, '110': 0.0078125, '001': 0.9453125, '101': 0.0078125, '011': 0.0078125, '111': 0.0078125}\n"
     ]
    },
    {
     "data": {
      "image/png": "[encoded data removed]",
      "text/plain": [
       "<Figure size 504x360 with 1 Axes>"
      ]
     },
     "execution_count": 22,
     "metadata": {},
     "output_type": "execute_result"
    }
   ],
   "source": [
    "# Experiment 4\n",
    "# %load ~cis492s/pub/Grover3.py\n",
    "#initialization\n",
    "import numpy as np\n",
    "\n",
    "# importing Qiskit\n",
    "from qiskit import Aer, assemble, transpile, quantum_info\n",
    "from qiskit import QuantumCircuit, ClassicalRegister, QuantumRegister\n",
    "\n",
    "from IPython.display import display\n",
    "\n",
    "# import basic plot tools\n",
    "from qiskit.visualization import plot_histogram\n",
    "\n",
    "# reverse the bit sequence of the nb-bit integer t\n",
    "def rbits(t,nb):\n",
    "    m = nb-1\n",
    "    k = 0\n",
    "    while t > 0:\n",
    "        k |= (t & 1) << m\n",
    "        t >>= 1\n",
    "        m -= 1\n",
    "    return k\n",
    "\n",
    "# exchange the elements in the vector v based on the reverse bits of indices\n",
    "def rv(v,nb) : \n",
    "    newv = np.copy(v)\n",
    "    for i in range(1<<nb):\n",
    "        ni = rbits(i,nb)\n",
    "        newv[i] = v[ni] \n",
    "         \n",
    "    return newv\n",
    "\n",
    "# exchange the diagonal elements in the matrix m based on the reverse bits of indices\n",
    "def rdm(m, nb) : \n",
    "    newm = np.copy(m)\n",
    "    for i in range(1<<nb):\n",
    "        ni = rbits(i,nb)\n",
    "        newm[i][i] = m[ni][ni]\n",
    "\n",
    "    return newm \n",
    "\n",
    "n = 3\n",
    "\n",
    "def Oracle():  ## select q0 q1 q2: 111\n",
    "    oc = QuantumCircuit(n)\n",
    "\n",
    "    # use ccx and H-gates to achieve ccz\n",
    "    oc.h(2)\n",
    "    oc.ccx(0,1,2)\n",
    "    oc.h(2)\n",
    "\n",
    "    return oc\n",
    "\n",
    "def A(nb): ## amplitude amplification via fliiping around the mean \n",
    "    ac = QuantumCircuit(nb)\n",
    "    ac.h(range(nb))\n",
    "\n",
    "    ac.x(range(nb))\n",
    "\n",
    "    # Do multi-controlled-Z gate\n",
    "    ac.h(nb-1)\n",
    "    ac.mcx(list(range(nb-1)), nb-1)  # multi-controlled\n",
    "    ac.h(nb-1)\n",
    "\n",
    "    ac.x(range(nb))\n",
    "\n",
    "    ac.h(range(nb))\n",
    "\n",
    "    return ac\n",
    "\n",
    "\n",
    "qc = QuantumCircuit(n)\n",
    "\n",
    "qc.h(range(n))\n",
    "\n",
    "qc.x(0)\n",
    "qc.x(1)\n",
    "# query the Oracle\n",
    "qc.compose(Oracle(),inplace=True)\n",
    "qc.x(0)\n",
    "qc.x(1)\n",
    "# amplitude magnification\n",
    "qc.compose(A(n),inplace=True)\n",
    "qc.x(0)\n",
    "qc.x(1)\n",
    "# query the Oracle\n",
    "qc.compose(Oracle(),inplace=True)\n",
    "qc.x(0)\n",
    "qc.x(1)\n",
    "# amplitude magnification\n",
    "qc.compose(A(n),inplace=True)\n",
    "\n",
    "# Do NOT call measure() because we want to see the probability amplitudes in the statevector\n",
    "\n",
    "aer_sim = Aer.get_backend('aer_simulator')\n",
    "qc.save_statevector()\n",
    "qobj = assemble(qc)\n",
    "result = aer_sim.run(qobj,shots=1000).result()\n",
    "\n",
    "out_state = result.get_statevector()\n",
    "print(rv(out_state.data,n))\n",
    "\n",
    "counts = result.get_counts()\n",
    "\n",
    "# we have to reverse the string in the dictionary counts \n",
    "answer = {}\n",
    "for str in counts:\n",
    "    answer[str[::-1]] = counts[str]\n",
    "\n",
    "print(answer)\n",
    "\n",
    "plot_histogram(answer)\n",
    "\n"
   ]
  },
  {
   "cell_type": "code",
   "execution_count": 30,
   "id": "ea197e96",
   "metadata": {},
   "outputs": [],
   "source": [
    "# Experiment 5\n",
    "import pylab\n",
    "import numpy as np\n",
    "from qiskit import Aer\n",
    "from qiskit.utils import QuantumInstance\n",
    "from qiskit.tools.visualization import plot_histogram\n",
    "from qiskit.algorithms import Grover, AmplificationProblem\n",
    "from qiskit.circuit.library.phase_oracle import PhaseOracle\n"
   ]
  },
  {
   "cell_type": "code",
   "execution_count": 31,
   "id": "8622f53d",
   "metadata": {},
   "outputs": [],
   "source": [
    "# Experiment 5\n",
    "\n",
    "input_3sat_instance = '''\n",
    "c example DIMACS-CNF 3-SAT\n",
    "p cnf 3 5\n",
    "-1 -2 -3 0\n",
    "1 -2 3 0\n",
    "1 2 -3 0\n",
    "1 -2 -3 0\n",
    "-1 2 3 0\n",
    "'''\n",
    "\n",
    "\n",
    "\n",
    "     \n"
   ]
  },
  {
   "cell_type": "code",
   "execution_count": 32,
   "id": "2d2be59e",
   "metadata": {},
   "outputs": [],
   "source": [
    "# Experiment 5\n",
    "import os\n",
    "import tempfile\n",
    "from qiskit.exceptions import MissingOptionalLibraryError\n",
    "\n",
    "fp = tempfile.NamedTemporaryFile(mode='w+t', delete=False)\n",
    "fp.write(input_3sat_instance)\n",
    "file_name = fp.name\n",
    "fp.close()\n",
    "oracle = None\n",
    "try:\n",
    "    oracle = PhaseOracle.from_dimacs_file(file_name)\n",
    "except MissingOptionalLibraryError as ex:\n",
    "    print(ex)\n",
    "finally:\n",
    "    os.remove(file_name)\n"
   ]
  },
  {
   "cell_type": "code",
   "execution_count": 33,
   "id": "a88c7e6c",
   "metadata": {},
   "outputs": [],
   "source": [
    "\n",
    "# Experiment 5problem = None\n",
    "if oracle is not None:\n",
    "    problem = AmplificationProblem(oracle, is_good_state=oracle.evaluate_bitstring)\n",
    "\n",
    "\n"
   ]
  },
  {
   "cell_type": "code",
   "execution_count": 34,
   "id": "cdbf7e0e",
   "metadata": {},
   "outputs": [
    {
     "name": "stdout",
     "output_type": "stream",
     "text": [
      "011\n"
     ]
    }
   ],
   "source": [
    "# Experiment 5\n",
    "backend = Aer.get_backend('aer_simulator')\n",
    "quantum_instance = QuantumInstance(backend, shots=1024)\n",
    "grover = Grover(quantum_instance=quantum_instance)\n",
    "result = None\n",
    "if problem is not None:\n",
    "    result = grover.amplify(problem)\n",
    "    print(result.assignment)"
   ]
  },
  {
   "cell_type": "code",
   "execution_count": 35,
   "id": "32141b76",
   "metadata": {},
   "outputs": [
    {
     "data": {
      "image/png": "[encoded data removed]",
      "text/plain": [
       "<Figure size 504x360 with 1 Axes>"
      ]
     },
     "metadata": {},
     "output_type": "display_data"
    }
   ],
   "source": [
    "\n",
    "# Experiment 5\n",
    "if result is not None:\n",
    "    display(plot_histogram(result.circuit_results[0]))\n",
    "\n",
    "\n",
    "\n",
    "     \n"
   ]
  },
  {
   "cell_type": "code",
   "execution_count": 36,
   "id": "8d03d1b8",
   "metadata": {},
   "outputs": [
    {
     "data": {
      "image/png": "[encoded data removed]",
      "text/plain": [
       "<Figure size 504x360 with 1 Axes>"
      ]
     },
     "metadata": {},
     "output_type": "display_data"
    }
   ],
   "source": [
    "# Experiment 5\n",
    "expression = '(w ^ x) & ~(y ^ z) & (x & y & z)'\n",
    "try:\n",
    "    oracle = PhaseOracle(expression)\n",
    "    problem = AmplificationProblem(oracle, is_good_state=oracle.evaluate_bitstring)\n",
    "    grover = Grover(quantum_instance=QuantumInstance(Aer.get_backend('aer_simulator'), shots=1024))\n",
    "    result = grover.amplify(problem)\n",
    "    display(plot_histogram(result.circuit_results[0]))\n",
    "except MissingOptionalLibraryError as ex:\n",
    "    print(ex)\n"
   ]
  },
  {
   "cell_type": "code",
   "execution_count": 37,
   "id": "0bc6df0e",
   "metadata": {},
   "outputs": [
    {
     "data": {
      "text/html": [
       "<h3>Version Information</h3><table><tr><th>Qiskit Software</th><th>Version</th></tr><tr><td><code>qiskit-terra</code></td><td>0.20.2</td></tr><tr><td><code>qiskit-aer</code></td><td>0.10.4</td></tr><tr><td><code>qiskit-ignis</code></td><td>0.7.1</td></tr><tr><td><code>qiskit-ibmq-provider</code></td><td>0.19.1</td></tr><tr><td><code>qiskit</code></td><td>0.36.2</td></tr><tr><th>System information</th></tr><tr><td>Python version</td><td>3.8.10</td></tr><tr><td>Python compiler</td><td>GCC 9.4.0</td></tr><tr><td>Python build</td><td>default, Jun 22 2022 20:18:18</td></tr><tr><td>OS</td><td>Linux</td></tr><tr><td>CPUs</td><td>4</td></tr><tr><td>Memory (Gb)</td><td>15.48360824584961</td></tr><tr><td colspan='2'>Fri Dec 02 17:25:28 2022 EST</td></tr></table>"
      ],
      "text/plain": [
       "<IPython.core.display.HTML object>"
      ]
     },
     "metadata": {},
     "output_type": "display_data"
    },
    {
     "data": {
      "text/html": [
       "<div style='width: 100%; background-color:#d5d9e0;padding-left: 10px; padding-bottom: 10px; padding-right: 10px; padding-top: 5px'><h3>This code is a part of Qiskit</h3><p>&copy; Copyright IBM 2017, 2022.</p><p>This code is licensed under the Apache License, Version 2.0. You may<br>obtain a copy of this license in the LICENSE.txt file in the root directory<br> of this source tree or at http://www.apache.org/licenses/LICENSE-2.0.<p>Any modifications or derivative works of this code must retain this<br>copyright notice, and modified files need to carry a notice indicating<br>that they have been altered from the originals.</p></div>"
      ],
      "text/plain": [
       "<IPython.core.display.HTML object>"
      ]
     },
     "metadata": {},
     "output_type": "display_data"
    }
   ],
   "source": [
    "\n",
    "# Experiment 5\n",
    "import qiskit.tools.jupyter\n",
    "%qiskit_version_table\n",
    "%qiskit_copyright\n",
    "\n",
    "\n",
    "\n",
    "     \n"
   ]
  }
 ],
 "metadata": {
  "kernelspec": {
   "display_name": "Python 3 (ipykernel)",
   "language": "python",
   "name": "python3"
  },
  "language_info": {
   "codemirror_mode": {
    "name": "ipython",
    "version": 3
   },
   "file_extension": ".py",
   "mimetype": "text/x-python",
   "name": "python",
   "nbconvert_exporter": "python",
   "pygments_lexer": "ipython3",
   "version": "3.8.10"
  }
 },
 "nbformat": 4,
 "nbformat_minor": 5
}
