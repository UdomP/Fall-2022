{
 "cells": [
  {
   "cell_type": "code",
   "execution_count": 6,
   "id": "5ab81668",
   "metadata": {},
   "outputs": [
    {
     "data": {
      "text/html": [
       "<pre style=\"word-wrap: normal;white-space: pre;background: #fff0;line-height: 1.1;font-family: &quot;Courier New&quot;,Courier,monospace\">     ┌───┐┌─┐\n",
       "  q: ┤ H ├┤M├\n",
       "     └───┘└╥┘\n",
       "c: 1/══════╩═\n",
       "           0 </pre>"
      ],
      "text/plain": [
       "     ┌───┐┌─┐\n",
       "  q: ┤ H ├┤M├\n",
       "     └───┘└╥┘\n",
       "c: 1/══════╩═\n",
       "           0 "
      ]
     },
     "metadata": {},
     "output_type": "display_data"
    },
    {
     "name": "stdout",
     "output_type": "stream",
     "text": [
      "\n",
      "Total counts: {'0': 5072, '1': 4928}\n",
      "<class 'qiskit.result.counts.Counts'>\n"
     ]
    },
    {
     "data": {
      "image/png": "[encoded data removed]",
      "text/plain": [
       "<Figure size 504x360 with 1 Axes>"
      ]
     },
     "execution_count": 6,
     "metadata": {},
     "output_type": "execute_result"
    }
   ],
   "source": [
    "# Experiment 1\n",
    "# %load Hgate.py\n",
    "import numpy as np\n",
    "from qiskit import QuantumCircuit, transpile\n",
    "from qiskit.providers.aer import QasmSimulator\n",
    "from qiskit.visualization import plot_histogram\n",
    "\n",
    "## for display\n",
    "from IPython.display import display\n",
    "\n",
    "# Create a Quantum Circuit \n",
    "qc = QuantumCircuit(1,1)\n",
    "\n",
    "# Add a H gate on qubit 0\n",
    "qc.h(0)\n",
    "\n",
    "# Map the quantum measurement from qubit 0 to the classical bit 0 \n",
    "qc.measure(0,0)\n",
    "\n",
    "# Draw the circuit\n",
    "display(qc.draw())\n",
    "\n",
    "\n",
    "# Use Aer's qasm_simulator\n",
    "simulator = QasmSimulator()\n",
    "\n",
    "# compile the circuit down to low-level QASM instructions\n",
    "# supported by the backend (not needed for simple circuits)\n",
    "compiled_circuit = transpile(qc, simulator)\n",
    "\n",
    "# Execute the circuit on the qasm simulator\n",
    "job = simulator.run(compiled_circuit, shots=10000)\n",
    "\n",
    "# Grab results from the job\n",
    "result = job.result()\n",
    "\n",
    "# Returns counts\n",
    "counts = result.get_counts(compiled_circuit)\n",
    "print(\"\\nTotal counts:\",counts)\n",
    "print(type(counts))\n",
    "plot_histogram(counts)"
   ]
  },
  {
   "cell_type": "code",
   "execution_count": 7,
   "id": "49b532d4",
   "metadata": {},
   "outputs": [
    {
     "data": {
      "text/html": [
       "<pre style=\"word-wrap: normal;white-space: pre;background: #fff0;line-height: 1.1;font-family: &quot;Courier New&quot;,Courier,monospace\">     ┌───┐┌───┐┌─┐\n",
       "  q: ┤ H ├┤ H ├┤M├\n",
       "     └───┘└───┘└╥┘\n",
       "c: 1/═══════════╩═\n",
       "                0 </pre>"
      ],
      "text/plain": [
       "     ┌───┐┌───┐┌─┐\n",
       "  q: ┤ H ├┤ H ├┤M├\n",
       "     └───┘└───┘└╥┘\n",
       "c: 1/═══════════╩═\n",
       "                0 "
      ]
     },
     "metadata": {},
     "output_type": "display_data"
    },
    {
     "name": "stdout",
     "output_type": "stream",
     "text": [
      "\n",
      "Total counts: {'0': 10000}\n",
      "<class 'qiskit.result.counts.Counts'>\n"
     ]
    },
    {
     "data": {
      "image/png": "[encoded data removed]",
      "text/plain": [
       "<Figure size 504x360 with 1 Axes>"
      ]
     },
     "execution_count": 7,
     "metadata": {},
     "output_type": "execute_result"
    }
   ],
   "source": [
    "# Experiment 2\n",
    "# %load Hgate.py\n",
    "import numpy as np\n",
    "from qiskit import QuantumCircuit, transpile\n",
    "from qiskit.providers.aer import QasmSimulator\n",
    "from qiskit.visualization import plot_histogram\n",
    "\n",
    "## for display\n",
    "from IPython.display import display\n",
    "\n",
    "# Create a Quantum Circuit \n",
    "qc = QuantumCircuit(1,1)\n",
    "\n",
    "# Add a H gate on qubit 0\n",
    "qc.h(0)\n",
    "qc.h(0)\n",
    "\n",
    "# Map the quantum measurement from qubit 0 to the classical bit 0 \n",
    "qc.measure(0,0)\n",
    "\n",
    "# Draw the circuit\n",
    "display(qc.draw())\n",
    "\n",
    "\n",
    "# Use Aer's qasm_simulator\n",
    "simulator = QasmSimulator()\n",
    "\n",
    "# compile the circuit down to low-level QASM instructions\n",
    "# supported by the backend (not needed for simple circuits)\n",
    "compiled_circuit = transpile(qc, simulator)\n",
    "\n",
    "# Execute the circuit on the qasm simulator\n",
    "job = simulator.run(compiled_circuit, shots=10000)\n",
    "\n",
    "# Grab results from the job\n",
    "result = job.result()\n",
    "\n",
    "# Returns counts\n",
    "counts = result.get_counts(compiled_circuit)\n",
    "print(\"\\nTotal counts:\",counts)\n",
    "print(type(counts))\n",
    "plot_histogram(counts)"
   ]
  },
  {
   "cell_type": "code",
   "execution_count": 8,
   "id": "ea5d5796",
   "metadata": {},
   "outputs": [
    {
     "data": {
      "text/html": [
       "<pre style=\"word-wrap: normal;white-space: pre;background: #fff0;line-height: 1.1;font-family: &quot;Courier New&quot;,Courier,monospace\">     ┌───┐┌───┐┌───┐┌─┐\n",
       "  q: ┤ X ├┤ H ├┤ H ├┤M├\n",
       "     └───┘└───┘└───┘└╥┘\n",
       "c: 1/════════════════╩═\n",
       "                     0 </pre>"
      ],
      "text/plain": [
       "     ┌───┐┌───┐┌───┐┌─┐\n",
       "  q: ┤ X ├┤ H ├┤ H ├┤M├\n",
       "     └───┘└───┘└───┘└╥┘\n",
       "c: 1/════════════════╩═\n",
       "                     0 "
      ]
     },
     "metadata": {},
     "output_type": "display_data"
    },
    {
     "name": "stdout",
     "output_type": "stream",
     "text": [
      "\n",
      "Total counts: {'1': 10000}\n",
      "<class 'qiskit.result.counts.Counts'>\n"
     ]
    },
    {
     "data": {
      "image/png": "[encoded data removed]",
      "text/plain": [
       "<Figure size 504x360 with 1 Axes>"
      ]
     },
     "execution_count": 8,
     "metadata": {},
     "output_type": "execute_result"
    }
   ],
   "source": [
    "# Experiment 3\n",
    "# %load Hgate.py\n",
    "import numpy as np\n",
    "from qiskit import QuantumCircuit, transpile\n",
    "from qiskit.providers.aer import QasmSimulator\n",
    "from qiskit.visualization import plot_histogram\n",
    "\n",
    "## for display\n",
    "from IPython.display import display\n",
    "\n",
    "# Create a Quantum Circuit \n",
    "qc = QuantumCircuit(1,1)\n",
    "\n",
    "qc.x(0)\n",
    "\n",
    "# Add a H gate on qubit 0\n",
    "qc.h(0)\n",
    "qc.h(0)\n",
    "\n",
    "# Map the quantum measurement from qubit 0 to the classical bit 0 \n",
    "qc.measure(0,0)\n",
    "\n",
    "# Draw the circuit\n",
    "display(qc.draw())\n",
    "\n",
    "\n",
    "# Use Aer's qasm_simulator\n",
    "simulator = QasmSimulator()\n",
    "\n",
    "# compile the circuit down to low-level QASM instructions\n",
    "# supported by the backend (not needed for simple circuits)\n",
    "compiled_circuit = transpile(qc, simulator)\n",
    "\n",
    "# Execute the circuit on the qasm simulator\n",
    "job = simulator.run(compiled_circuit, shots=10000)\n",
    "\n",
    "# Grab results from the job\n",
    "result = job.result()\n",
    "\n",
    "# Returns counts\n",
    "counts = result.get_counts(compiled_circuit)\n",
    "print(\"\\nTotal counts:\",counts)\n",
    "print(type(counts))\n",
    "plot_histogram(counts)"
   ]
  },
  {
   "cell_type": "code",
   "execution_count": 9,
   "id": "9724ed59",
   "metadata": {},
   "outputs": [
    {
     "data": {
      "text/html": [
       "<pre style=\"word-wrap: normal;white-space: pre;background: #fff0;line-height: 1.1;font-family: &quot;Courier New&quot;,Courier,monospace\">     ┌───┐┌─┐   \n",
       "q_0: ┤ H ├┤M├───\n",
       "     ├───┤└╥┘┌─┐\n",
       "q_1: ┤ H ├─╫─┤M├\n",
       "     └───┘ ║ └╥┘\n",
       "c: 2/══════╩══╩═\n",
       "           0  1 </pre>"
      ],
      "text/plain": [
       "     ┌───┐┌─┐   \n",
       "q_0: ┤ H ├┤M├───\n",
       "     ├───┤└╥┘┌─┐\n",
       "q_1: ┤ H ├─╫─┤M├\n",
       "     └───┘ ║ └╥┘\n",
       "c: 2/══════╩══╩═\n",
       "           0  1 "
      ]
     },
     "metadata": {},
     "output_type": "display_data"
    },
    {
     "name": "stdout",
     "output_type": "stream",
     "text": [
      "\n",
      "Total counts: {'10': 2534, '00': 2460, '01': 2468, '11': 2538}\n",
      "<class 'qiskit.result.counts.Counts'>\n"
     ]
    },
    {
     "data": {
      "image/png": "[encoded data removed]",
      "text/plain": [
       "<Figure size 504x360 with 1 Axes>"
      ]
     },
     "execution_count": 9,
     "metadata": {},
     "output_type": "execute_result"
    }
   ],
   "source": [
    "# Experiment 4\n",
    "# %load Hgate.py\n",
    "import numpy as np\n",
    "from qiskit import QuantumCircuit, transpile\n",
    "from qiskit.providers.aer import QasmSimulator\n",
    "from qiskit.visualization import plot_histogram\n",
    "\n",
    "## for display\n",
    "from IPython.display import display\n",
    "\n",
    "# Create a Quantum Circuit \n",
    "qc = QuantumCircuit(2,2)\n",
    "\n",
    "# Add a H gate on qubit 0\n",
    "qc.h(0)\n",
    "qc.h(1)\n",
    "\n",
    "# Map the quantum measurement from qubit 0 to the classical bit 0 \n",
    "qc.measure([0,1], [0,1])\n",
    "\n",
    "# Draw the circuit\n",
    "display(qc.draw())\n",
    "\n",
    "\n",
    "# Use Aer's qasm_simulator\n",
    "simulator = QasmSimulator()\n",
    "\n",
    "# compile the circuit down to low-level QASM instructions\n",
    "# supported by the backend (not needed for simple circuits)\n",
    "compiled_circuit = transpile(qc, simulator)\n",
    "\n",
    "# Execute the circuit on the qasm simulator\n",
    "job = simulator.run(compiled_circuit, shots=10000)\n",
    "\n",
    "# Grab results from the job\n",
    "result = job.result()\n",
    "\n",
    "# Returns counts\n",
    "counts = result.get_counts(compiled_circuit)\n",
    "print(\"\\nTotal counts:\",counts)\n",
    "print(type(counts))\n",
    "plot_histogram(counts)"
   ]
  },
  {
   "cell_type": "code",
   "execution_count": 11,
   "id": "b6aa9dbd",
   "metadata": {},
   "outputs": [
    {
     "name": "stdout",
     "output_type": "stream",
     "text": [
      "Writing entangle2.py\n"
     ]
    }
   ],
   "source": [
    "%%writefile entangle2.py\n",
    "# Experiment 5\n",
    "# %load Hgate.py\n",
    "import numpy as np\n",
    "from qiskit import QuantumCircuit, transpile\n",
    "from qiskit.providers.aer import QasmSimulator\n",
    "from qiskit.visualization import plot_histogram\n",
    "\n",
    "## for display\n",
    "from IPython.display import display\n",
    "\n",
    "# Create a Quantum Circuit \n",
    "qc = QuantumCircuit(2,2)\n",
    "\n",
    "# Add a H gate on qubit 0\n",
    "qc.h(0)\n",
    "\n",
    "qc.cx(0,1)\n",
    "\n",
    "# Map the quantum measurement from qubit 0 to the classical bit 0 \n",
    "qc.measure([0,1], [0,1])\n",
    "\n",
    "# Draw the circuit\n",
    "display(qc.draw())\n",
    "\n",
    "\n",
    "# Use Aer's qasm_simulator\n",
    "simulator = QasmSimulator()\n",
    "\n",
    "# compile the circuit down to low-level QASM instructions\n",
    "# supported by the backend (not needed for simple circuits)\n",
    "compiled_circuit = transpile(qc, simulator)\n",
    "\n",
    "# Execute the circuit on the qasm simulator\n",
    "job = simulator.run(compiled_circuit, shots=10000)\n",
    "\n",
    "# Grab results from the job\n",
    "result = job.result()\n",
    "\n",
    "# Returns counts\n",
    "counts = result.get_counts(compiled_circuit)\n",
    "print(\"\\nTotal counts:\",counts)\n",
    "print(type(counts))\n",
    "plot_histogram(counts)"
   ]
  },
  {
   "cell_type": "code",
   "execution_count": 12,
   "id": "d2cfea77",
   "metadata": {},
   "outputs": [
    {
     "data": {
      "text/html": [
       "<pre style=\"word-wrap: normal;white-space: pre;background: #fff0;line-height: 1.1;font-family: &quot;Courier New&quot;,Courier,monospace\">           ░ ┌───┐     ┌─┐   \n",
       "q_0: ──────░─┤ H ├──■──┤M├───\n",
       "     ┌───┐ ░ └───┘┌─┴─┐└╥┘┌─┐\n",
       "q_1: ┤ X ├─░──────┤ X ├─╫─┤M├\n",
       "     └───┘ ░      └───┘ ║ └╥┘\n",
       "c: 2/═══════════════════╩══╩═\n",
       "                        0  1 </pre>"
      ],
      "text/plain": [
       "           ░ ┌───┐     ┌─┐   \n",
       "q_0: ──────░─┤ H ├──■──┤M├───\n",
       "     ┌───┐ ░ └───┘┌─┴─┐└╥┘┌─┐\n",
       "q_1: ┤ X ├─░──────┤ X ├─╫─┤M├\n",
       "     └───┘ ░      └───┘ ║ └╥┘\n",
       "c: 2/═══════════════════╩══╩═\n",
       "                        0  1 "
      ]
     },
     "metadata": {},
     "output_type": "display_data"
    },
    {
     "name": "stdout",
     "output_type": "stream",
     "text": [
      "\n",
      "Total counts: {'10': 5093, '01': 4907}\n",
      "<class 'qiskit.result.counts.Counts'>\n"
     ]
    },
    {
     "data": {
      "image/png": "[encoded data removed]",
      "text/plain": [
       "<Figure size 504x360 with 1 Axes>"
      ]
     },
     "execution_count": 12,
     "metadata": {},
     "output_type": "execute_result"
    }
   ],
   "source": [
    "# Experiment 6\n",
    "# %load Hgate.py\n",
    "import numpy as np\n",
    "from qiskit import QuantumCircuit, transpile\n",
    "from qiskit.providers.aer import QasmSimulator\n",
    "from qiskit.visualization import plot_histogram\n",
    "\n",
    "## for display\n",
    "from IPython.display import display\n",
    "\n",
    "# Create a Quantum Circuit \n",
    "qc = QuantumCircuit(2,2)\n",
    "\n",
    "qc.x(1)\n",
    "qc.barrier()\n",
    "\n",
    "# Add a H gate on qubit 0\n",
    "qc.h(0)\n",
    "\n",
    "qc.cx(0,1)\n",
    "\n",
    "# Map the quantum measurement from qubit 0 to the classical bit 0 \n",
    "qc.measure([0,1], [0,1])\n",
    "\n",
    "# Draw the circuit\n",
    "display(qc.draw())\n",
    "\n",
    "\n",
    "# Use Aer's qasm_simulator\n",
    "simulator = QasmSimulator()\n",
    "\n",
    "# compile the circuit down to low-level QASM instructions\n",
    "# supported by the backend (not needed for simple circuits)\n",
    "compiled_circuit = transpile(qc, simulator)\n",
    "\n",
    "# Execute the circuit on the qasm simulator\n",
    "job = simulator.run(compiled_circuit, shots=10000)\n",
    "\n",
    "# Grab results from the job\n",
    "result = job.result()\n",
    "\n",
    "# Returns counts\n",
    "counts = result.get_counts(compiled_circuit)\n",
    "print(\"\\nTotal counts:\",counts)\n",
    "print(type(counts))\n",
    "plot_histogram(counts)"
   ]
  },
  {
   "cell_type": "code",
   "execution_count": null,
   "id": "d9abfaba",
   "metadata": {},
   "outputs": [],
   "source": []
  }
 ],
 "metadata": {
  "kernelspec": {
   "display_name": "Python 3 (ipykernel)",
   "language": "python",
   "name": "python3"
  },
  "language_info": {
   "codemirror_mode": {
    "name": "ipython",
    "version": 3
   },
   "file_extension": ".py",
   "mimetype": "text/x-python",
   "name": "python",
   "nbconvert_exporter": "python",
   "pygments_lexer": "ipython3",
   "version": "3.8.10"
  }
 },
 "nbformat": 4,
 "nbformat_minor": 5
}
