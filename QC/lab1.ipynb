{
 "cells": [
  {
   "cell_type": "code",
   "execution_count": 4,
   "id": "6350ad99",
   "metadata": {},
   "outputs": [
    {
     "name": "stdout",
     "output_type": "stream",
     "text": [
      "9 7\n"
     ]
    }
   ],
   "source": [
    "a = 9\n",
    "b = 7\n",
    "print(a,b)"
   ]
  },
  {
   "cell_type": "code",
   "execution_count": 5,
   "id": "a02d6a43",
   "metadata": {},
   "outputs": [
    {
     "name": "stdout",
     "output_type": "stream",
     "text": [
      "7 9\n"
     ]
    }
   ],
   "source": [
    "a,b = b,a\n",
    "print(a,b)"
   ]
  },
  {
   "cell_type": "code",
   "execution_count": 6,
   "id": "009a35f9",
   "metadata": {},
   "outputs": [
    {
     "name": "stdout",
     "output_type": "stream",
     "text": [
      "63 0.7777777777777778\n"
     ]
    }
   ],
   "source": [
    "if a > b:\n",
    "    c = a + b\n",
    "    d = a - b\n",
    "    print(c,d)\n",
    "else:\n",
    "    x = a * b\n",
    "    y = a / b\n",
    "    print(x,y)"
   ]
  },
  {
   "cell_type": "code",
   "execution_count": 7,
   "id": "ec24a2da",
   "metadata": {},
   "outputs": [
    {
     "name": "stdout",
     "output_type": "stream",
     "text": [
      "i j k\n",
      "0 Hello X\n",
      "0 Hello Y\n",
      "0 Hello Z\n",
      "0 World X\n",
      "0 World Y\n",
      "0 World Z\n",
      "1 Hello X\n",
      "1 Hello Y\n",
      "1 Hello Z\n",
      "1 World X\n",
      "1 World Y\n",
      "1 World Z\n"
     ]
    }
   ],
   "source": [
    "def foo(n):\n",
    "    print('i j k')\n",
    "    for i in range(n):\n",
    "        for j in ['Hello', 'World']:\n",
    "            for k in \"XYZ\":\n",
    "                print(i,j,k)\n",
    "foo(2)"
   ]
  },
  {
   "cell_type": "code",
   "execution_count": 8,
   "id": "5fbcaf89",
   "metadata": {},
   "outputs": [
    {
     "name": "stdout",
     "output_type": "stream",
     "text": [
      "{'00': 478, '11': 522}\n"
     ]
    }
   ],
   "source": [
    "counts = {}\n",
    "counts['00'] = 477\n",
    "counts['11'] = 522\n",
    "counts['00'] += 1\n",
    "print(counts)"
   ]
  },
  {
   "cell_type": "code",
   "execution_count": 11,
   "id": "ea5b2f1a",
   "metadata": {},
   "outputs": [
    {
     "data": {
      "text/html": [
       "<pre style=\"word-wrap: normal;white-space: pre;background: #fff0;line-height: 1.1;font-family: &quot;Courier New&quot;,Courier,monospace\">     ┌───┐┌─┐\n",
       "  q: ┤ H ├┤M├\n",
       "     └───┘└╥┘\n",
       "c: 1/══════╩═\n",
       "           0 </pre>"
      ],
      "text/plain": [
       "     ┌───┐┌─┐\n",
       "  q: ┤ H ├┤M├\n",
       "     └───┘└╥┘\n",
       "c: 1/══════╩═\n",
       "           0 "
      ]
     },
     "metadata": {},
     "output_type": "display_data"
    },
    {
     "name": "stdout",
     "output_type": "stream",
     "text": [
      "\n",
      "Total counts: {'0': 536, '1': 464}\n"
     ]
    }
   ],
   "source": [
    "# %load Hgate.py\n",
    "import numpy as np\n",
    "from qiskit import QuantumCircuit, transpile\n",
    "from qiskit.providers.aer import QasmSimulator\n",
    "from qiskit.visualization import plot_histogram\n",
    "\n",
    "## for display\n",
    "from IPython.display import display\n",
    "\n",
    "# Create a Quantum Circuit \n",
    "qc = QuantumCircuit(1,1)\n",
    "\n",
    "# Add a H gate on qubit 0\n",
    "qc.h(0)\n",
    "\n",
    "# Map the quantum measurement from qubit 0 to the classical bit 0 \n",
    "qc.measure(0,0)\n",
    "\n",
    "# Draw the circuit\n",
    "display(qc.draw())\n",
    "\n",
    "\n",
    "# Use Aer's qasm_simulator\n",
    "simulator = QasmSimulator()\n",
    "\n",
    "# compile the circuit down to low-level QASM instructions\n",
    "# supported by the backend (not needed for simple circuits)\n",
    "compiled_circuit = transpile(qc, simulator)\n",
    "\n",
    "# Execute the circuit on the qasm simulator\n",
    "job = simulator.run(compiled_circuit, shots=1000)\n",
    "\n",
    "# Grab results from the job\n",
    "result = job.result()\n",
    "\n",
    "# Returns counts\n",
    "counts = result.get_counts(compiled_circuit)\n",
    "print(\"\\nTotal counts:\",counts)\n",
    "\n"
   ]
  },
  {
   "cell_type": "code",
   "execution_count": null,
   "id": "e2bd01e0",
   "metadata": {},
   "outputs": [],
   "source": []
  }
 ],
 "metadata": {
  "kernelspec": {
   "display_name": "Python 3 (ipykernel)",
   "language": "python",
   "name": "python3"
  },
  "language_info": {
   "codemirror_mode": {
    "name": "ipython",
    "version": 3
   },
   "file_extension": ".py",
   "mimetype": "text/x-python",
   "name": "python",
   "nbconvert_exporter": "python",
   "pygments_lexer": "ipython3",
   "version": "3.8.10"
  }
 },
 "nbformat": 4,
 "nbformat_minor": 5
}
