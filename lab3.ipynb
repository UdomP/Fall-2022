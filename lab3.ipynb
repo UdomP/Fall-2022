{
 "cells": [
  {
   "cell_type": "code",
   "execution_count": 9,
   "id": "94e02d64",
   "metadata": {},
   "outputs": [
    {
     "data": {
      "text/html": [
       "<pre style=\"word-wrap: normal;white-space: pre;background: #fff0;line-height: 1.1;font-family: &quot;Courier New&quot;,Courier,monospace\">     ┌───┐           ░ ┌─┐      \n",
       "q_0: ┤ H ├──■────■───░─┤M├──────\n",
       "     └───┘┌─┴─┐  │   ░ └╥┘┌─┐   \n",
       "q_1: ─────┤ X ├──┼───░──╫─┤M├───\n",
       "          └───┘┌─┴─┐ ░  ║ └╥┘┌─┐\n",
       "q_2: ──────────┤ X ├─░──╫──╫─┤M├\n",
       "               └───┘ ░  ║  ║ └╥┘\n",
       "c: 3/═══════════════════╩══╩══╩═\n",
       "                        0  1  2 </pre>"
      ],
      "text/plain": [
       "     ┌───┐           ░ ┌─┐      \n",
       "q_0: ┤ H ├──■────■───░─┤M├──────\n",
       "     └───┘┌─┴─┐  │   ░ └╥┘┌─┐   \n",
       "q_1: ─────┤ X ├──┼───░──╫─┤M├───\n",
       "          └───┘┌─┴─┐ ░  ║ └╥┘┌─┐\n",
       "q_2: ──────────┤ X ├─░──╫──╫─┤M├\n",
       "               └───┘ ░  ║  ║ └╥┘\n",
       "c: 3/═══════════════════╩══╩══╩═\n",
       "                        0  1  2 "
      ]
     },
     "metadata": {},
     "output_type": "display_data"
    },
    {
     "name": "stdout",
     "output_type": "stream",
     "text": [
      "\n",
      "Total counts: {'000': 5003, '111': 4997}\n",
      "<class 'qiskit.result.counts.Counts'>\n"
     ]
    },
    {
     "data": {
      "image/png": "[encoded data removed]",
      "text/plain": [
       "<Figure size 504x360 with 1 Axes>"
      ]
     },
     "execution_count": 9,
     "metadata": {},
     "output_type": "execute_result"
    }
   ],
   "source": [
    "# Experiment 1\n",
    "# %load entangle2.py\n",
    "# %load Hgate.py\n",
    "import numpy as np\n",
    "from qiskit import QuantumCircuit, transpile\n",
    "from qiskit.providers.aer import QasmSimulator\n",
    "from qiskit.visualization import plot_histogram\n",
    "\n",
    "## for display\n",
    "from IPython.display import display\n",
    "\n",
    "# Create a Quantum Circuit \n",
    "qc = QuantumCircuit(3,3)\n",
    "\n",
    "# Add a H gate on qubit 0\n",
    "qc.h(0)\n",
    "\n",
    "qc.cx(0,1)\n",
    "qc.cx(0,2)\n",
    "\n",
    "qc.barrier()\n",
    "\n",
    "# Map the quantum measurement from qubit 0 to the classical bit 0 \n",
    "qc.measure([0,1,2], [0,1,2])\n",
    "\n",
    "# Draw the circuit\n",
    "display(qc.draw())\n",
    "\n",
    "\n",
    "# Use Aer's qasm_simulator\n",
    "simulator = QasmSimulator()\n",
    "\n",
    "# compile the circuit down to low-level QASM instructions\n",
    "# supported by the backend (not needed for simple circuits)\n",
    "compiled_circuit = transpile(qc, simulator)\n",
    "\n",
    "# Execute the circuit on the qasm simulator\n",
    "job = simulator.run(compiled_circuit, shots=10000)\n",
    "\n",
    "# Grab results from the job\n",
    "result = job.result()\n",
    "\n",
    "# Returns counts\n",
    "counts = result.get_counts(compiled_circuit)\n",
    "print(\"\\nTotal counts:\",counts)\n",
    "print(type(counts))\n",
    "plot_histogram(counts)\n"
   ]
  },
  {
   "cell_type": "code",
   "execution_count": 11,
   "id": "a43c9b50",
   "metadata": {},
   "outputs": [
    {
     "data": {
      "text/html": [
       "<pre style=\"word-wrap: normal;white-space: pre;background: #fff0;line-height: 1.1;font-family: &quot;Courier New&quot;,Courier,monospace\">     ┌───┐                ░ ┌─┐         \n",
       "q_0: ┤ H ├──■─────────────░─┤M├─────────\n",
       "     └───┘┌─┴─┐           ░ └╥┘┌─┐      \n",
       "q_1: ─────┤ X ├──■────────░──╫─┤M├──────\n",
       "          └───┘┌─┴─┐      ░  ║ └╥┘┌─┐   \n",
       "q_2: ──────────┤ X ├──■───░──╫──╫─┤M├───\n",
       "               └───┘┌─┴─┐ ░  ║  ║ └╥┘┌─┐\n",
       "q_3: ───────────────┤ X ├─░──╫──╫──╫─┤M├\n",
       "                    └───┘ ░  ║  ║  ║ └╥┘\n",
       "c: 4/════════════════════════╩══╩══╩══╩═\n",
       "                             0  1  2  3 </pre>"
      ],
      "text/plain": [
       "     ┌───┐                ░ ┌─┐         \n",
       "q_0: ┤ H ├──■─────────────░─┤M├─────────\n",
       "     └───┘┌─┴─┐           ░ └╥┘┌─┐      \n",
       "q_1: ─────┤ X ├──■────────░──╫─┤M├──────\n",
       "          └───┘┌─┴─┐      ░  ║ └╥┘┌─┐   \n",
       "q_2: ──────────┤ X ├──■───░──╫──╫─┤M├───\n",
       "               └───┘┌─┴─┐ ░  ║  ║ └╥┘┌─┐\n",
       "q_3: ───────────────┤ X ├─░──╫──╫──╫─┤M├\n",
       "                    └───┘ ░  ║  ║  ║ └╥┘\n",
       "c: 4/════════════════════════╩══╩══╩══╩═\n",
       "                             0  1  2  3 "
      ]
     },
     "metadata": {},
     "output_type": "display_data"
    },
    {
     "name": "stdout",
     "output_type": "stream",
     "text": [
      "\n",
      "Total counts: {'1111': 4994, '0000': 5006}\n",
      "<class 'qiskit.result.counts.Counts'>\n"
     ]
    },
    {
     "data": {
      "image/png": "[encoded data removed]",
      "text/plain": [
       "<Figure size 504x360 with 1 Axes>"
      ]
     },
     "execution_count": 11,
     "metadata": {},
     "output_type": "execute_result"
    }
   ],
   "source": [
    "# Experiment 2\n",
    "# %load entangle2.py\n",
    "# %load Hgate.py\n",
    "import numpy as np\n",
    "from qiskit import QuantumCircuit, transpile\n",
    "from qiskit.providers.aer import QasmSimulator\n",
    "from qiskit.visualization import plot_histogram\n",
    "\n",
    "## for display\n",
    "from IPython.display import display\n",
    "\n",
    "# Create a Quantum Circuit \n",
    "qc = QuantumCircuit(4,4)\n",
    "\n",
    "# Add a H gate on qubit 0\n",
    "qc.h(0)\n",
    "\n",
    "qc.cx(0,1)\n",
    "qc.cx(1,2)\n",
    "qc.cx(2,3)\n",
    "\n",
    "qc.barrier()\n",
    "\n",
    "# Map the quantum measurement from qubit 0 to the classical bit 0 \n",
    "qc.measure([0,1,2,3], [0,1,2,3])\n",
    "\n",
    "# Draw the circuit\n",
    "display(qc.draw())\n",
    "\n",
    "\n",
    "# Use Aer's qasm_simulator\n",
    "simulator = QasmSimulator()\n",
    "\n",
    "# compile the circuit down to low-level QASM instructions\n",
    "# supported by the backend (not needed for simple circuits)\n",
    "compiled_circuit = transpile(qc, simulator)\n",
    "\n",
    "# Execute the circuit on the qasm simulator\n",
    "job = simulator.run(compiled_circuit, shots=10000)\n",
    "\n",
    "# Grab results from the job\n",
    "result = job.result()\n",
    "\n",
    "# Returns counts\n",
    "counts = result.get_counts(compiled_circuit)\n",
    "print(\"\\nTotal counts:\",counts)\n",
    "print(type(counts))\n",
    "plot_histogram(counts)\n"
   ]
  },
  {
   "cell_type": "code",
   "execution_count": 18,
   "id": "a8d27193",
   "metadata": {},
   "outputs": [
    {
     "data": {
      "text/html": [
       "<pre style=\"word-wrap: normal;white-space: pre;background: #fff0;line-height: 1.1;font-family: &quot;Courier New&quot;,Courier,monospace\">     ┌───┐      ░    \n",
       "q_0: ┤ H ├──■───░────\n",
       "     ├───┤  │   ░    \n",
       "q_1: ┤ H ├──■───░────\n",
       "     └───┘┌─┴─┐ ░ ┌─┐\n",
       "q_2: ─────┤ X ├─░─┤M├\n",
       "          └───┘ ░ └╥┘\n",
       "c: 1/══════════════╩═\n",
       "                   0 </pre>"
      ],
      "text/plain": [
       "     ┌───┐      ░    \n",
       "q_0: ┤ H ├──■───░────\n",
       "     ├───┤  │   ░    \n",
       "q_1: ┤ H ├──■───░────\n",
       "     └───┘┌─┴─┐ ░ ┌─┐\n",
       "q_2: ─────┤ X ├─░─┤M├\n",
       "          └───┘ ░ └╥┘\n",
       "c: 1/══════════════╩═\n",
       "                   0 "
      ]
     },
     "metadata": {},
     "output_type": "display_data"
    },
    {
     "name": "stdout",
     "output_type": "stream",
     "text": [
      "\n",
      "Total counts: {'1': 2590, '0': 7410}\n",
      "<class 'qiskit.result.counts.Counts'>\n"
     ]
    },
    {
     "data": {
      "image/png": "[encoded data removed]",
      "text/plain": [
       "<Figure size 504x360 with 1 Axes>"
      ]
     },
     "execution_count": 18,
     "metadata": {},
     "output_type": "execute_result"
    }
   ],
   "source": [
    "# Experiment 3\n",
    "# %load entangle2.py\n",
    "# %load Hgate.py\n",
    "import numpy as np\n",
    "from qiskit import QuantumCircuit, transpile\n",
    "from qiskit.providers.aer import QasmSimulator\n",
    "from qiskit.visualization import plot_histogram\n",
    "\n",
    "## for display\n",
    "from IPython.display import display\n",
    "\n",
    "# Create a Quantum Circuit \n",
    "qc = QuantumCircuit(3,1)\n",
    "\n",
    "# Add a H gate on qubit 0\n",
    "qc.h(0)\n",
    "qc.h(1)\n",
    "\n",
    "qc.ccx(0,1,2)\n",
    "\n",
    "qc.barrier()\n",
    "\n",
    "# Map the quantum measurement from qubit 0 to the classical bit 0 \n",
    "qc.measure([2],[0])\n",
    "\n",
    "# Draw the circuit\n",
    "display(qc.draw())\n",
    "\n",
    "\n",
    "# Use Aer's qasm_simulator\n",
    "simulator = QasmSimulator()\n",
    "\n",
    "# compile the circuit down to low-level QASM instructions\n",
    "# supported by the backend (not needed for simple circuits)\n",
    "compiled_circuit = transpile(qc, simulator)\n",
    "\n",
    "# Execute the circuit on the qasm simulator\n",
    "job = simulator.run(compiled_circuit, shots=10000)\n",
    "\n",
    "# Grab results from the job\n",
    "result = job.result()\n",
    "\n",
    "# Returns counts\n",
    "counts = result.get_counts(compiled_circuit)\n",
    "print(\"\\nTotal counts:\",counts)\n",
    "print(type(counts))\n",
    "plot_histogram(counts)\n"
   ]
  },
  {
   "cell_type": "code",
   "execution_count": 22,
   "id": "cbf47616",
   "metadata": {},
   "outputs": [
    {
     "name": "stdout",
     "output_type": "stream",
     "text": [
      "AND with inputs 0 0 gives output 0\n"
     ]
    },
    {
     "data": {
      "text/html": [
       "<pre style=\"word-wrap: normal;white-space: pre;background: #fff0;line-height: 1.1;font-family: &quot;Courier New&quot;,Courier,monospace\">           ░       ░    \n",
       "q_0: ─|0>──░───■───░────\n",
       "           ░   │   ░    \n",
       "q_1: ─|0>──░───■───░────\n",
       "           ░ ┌─┴─┐ ░ ┌─┐\n",
       "q_2: ──────░─┤ X ├─░─┤M├\n",
       "           ░ └───┘ ░ └╥┘\n",
       "c: 1/═════════════════╩═\n",
       "                      0 </pre>"
      ],
      "text/plain": [
       "           ░       ░    \n",
       "q_0: ─|0>──░───■───░────\n",
       "           ░   │   ░    \n",
       "q_1: ─|0>──░───■───░────\n",
       "           ░ ┌─┴─┐ ░ ┌─┐\n",
       "q_2: ──────░─┤ X ├─░─┤M├\n",
       "           ░ └───┘ ░ └╥┘\n",
       "c: 1/═════════════════╩═\n",
       "                      0 "
      ]
     },
     "metadata": {},
     "output_type": "display_data"
    },
    {
     "name": "stdout",
     "output_type": "stream",
     "text": [
      "\n",
      "\n",
      "AND with inputs 0 1 gives output 0\n"
     ]
    },
    {
     "data": {
      "text/html": [
       "<pre style=\"word-wrap: normal;white-space: pre;background: #fff0;line-height: 1.1;font-family: &quot;Courier New&quot;,Courier,monospace\">                ░       ░    \n",
       "q_0: ─|0>───────░───■───░────\n",
       "          ┌───┐ ░   │   ░    \n",
       "q_1: ─|0>─┤ X ├─░───■───░────\n",
       "          └───┘ ░ ┌─┴─┐ ░ ┌─┐\n",
       "q_2: ───────────░─┤ X ├─░─┤M├\n",
       "                ░ └───┘ ░ └╥┘\n",
       "c: 1/══════════════════════╩═\n",
       "                           0 </pre>"
      ],
      "text/plain": [
       "                ░       ░    \n",
       "q_0: ─|0>───────░───■───░────\n",
       "          ┌───┐ ░   │   ░    \n",
       "q_1: ─|0>─┤ X ├─░───■───░────\n",
       "          └───┘ ░ ┌─┴─┐ ░ ┌─┐\n",
       "q_2: ───────────░─┤ X ├─░─┤M├\n",
       "                ░ └───┘ ░ └╥┘\n",
       "c: 1/══════════════════════╩═\n",
       "                           0 "
      ]
     },
     "metadata": {},
     "output_type": "display_data"
    },
    {
     "name": "stdout",
     "output_type": "stream",
     "text": [
      "\n",
      "\n",
      "AND with inputs 1 0 gives output 0\n"
     ]
    },
    {
     "data": {
      "text/html": [
       "<pre style=\"word-wrap: normal;white-space: pre;background: #fff0;line-height: 1.1;font-family: &quot;Courier New&quot;,Courier,monospace\">          ┌───┐ ░       ░    \n",
       "q_0: ─|0>─┤ X ├─░───■───░────\n",
       "          └───┘ ░   │   ░    \n",
       "q_1: ─|0>───────░───■───░────\n",
       "                ░ ┌─┴─┐ ░ ┌─┐\n",
       "q_2: ───────────░─┤ X ├─░─┤M├\n",
       "                ░ └───┘ ░ └╥┘\n",
       "c: 1/══════════════════════╩═\n",
       "                           0 </pre>"
      ],
      "text/plain": [
       "          ┌───┐ ░       ░    \n",
       "q_0: ─|0>─┤ X ├─░───■───░────\n",
       "          └───┘ ░   │   ░    \n",
       "q_1: ─|0>───────░───■───░────\n",
       "                ░ ┌─┴─┐ ░ ┌─┐\n",
       "q_2: ───────────░─┤ X ├─░─┤M├\n",
       "                ░ └───┘ ░ └╥┘\n",
       "c: 1/══════════════════════╩═\n",
       "                           0 "
      ]
     },
     "metadata": {},
     "output_type": "display_data"
    },
    {
     "name": "stdout",
     "output_type": "stream",
     "text": [
      "\n",
      "\n",
      "AND with inputs 1 1 gives output 1\n"
     ]
    },
    {
     "data": {
      "text/html": [
       "<pre style=\"word-wrap: normal;white-space: pre;background: #fff0;line-height: 1.1;font-family: &quot;Courier New&quot;,Courier,monospace\">          ┌───┐ ░       ░    \n",
       "q_0: ─|0>─┤ X ├─░───■───░────\n",
       "          ├───┤ ░   │   ░    \n",
       "q_1: ─|0>─┤ X ├─░───■───░────\n",
       "          └───┘ ░ ┌─┴─┐ ░ ┌─┐\n",
       "q_2: ───────────░─┤ X ├─░─┤M├\n",
       "                ░ └───┘ ░ └╥┘\n",
       "c: 1/══════════════════════╩═\n",
       "                           0 </pre>"
      ],
      "text/plain": [
       "          ┌───┐ ░       ░    \n",
       "q_0: ─|0>─┤ X ├─░───■───░────\n",
       "          ├───┤ ░   │   ░    \n",
       "q_1: ─|0>─┤ X ├─░───■───░────\n",
       "          └───┘ ░ ┌─┴─┐ ░ ┌─┐\n",
       "q_2: ───────────░─┤ X ├─░─┤M├\n",
       "                ░ └───┘ ░ └╥┘\n",
       "c: 1/══════════════════════╩═\n",
       "                           0 "
      ]
     },
     "metadata": {},
     "output_type": "display_data"
    },
    {
     "name": "stdout",
     "output_type": "stream",
     "text": [
      "\n",
      "\n"
     ]
    }
   ],
   "source": [
    "# %load ~cis492s/pub/ANDgate.py\n",
    "from qiskit import *\n",
    "from qiskit.visualization import plot_histogram\n",
    "import numpy as np\n",
    "\n",
    "## for display\n",
    "from IPython.display import display\n",
    "\n",
    "def AND(inp1,inp2):\n",
    "    \"\"\"An AND gate.\n",
    "    \n",
    "    Parameters:\n",
    "        inpt1 (str): Input 1, encoded in qubit 0.\n",
    "        inpt2 (str): Input 2, encoded in qubit 1.\n",
    "    \n",
    "    Returns:\n",
    "        QuantumCircuit: Output AND circuit.\n",
    "        str: Output value measured from qubit 2.\n",
    "    \"\"\"\n",
    "    qc = QuantumCircuit(3, 1) \n",
    "    qc.reset(range(2))\n",
    "  \n",
    "    if inp1=='1':\n",
    "        qc.x(0)\n",
    "    if inp2=='1':\n",
    "        qc.x(1)\n",
    "        \n",
    "    qc.barrier()\n",
    "\n",
    "    # this is where your program for quantum AND gate goes\n",
    "    qc.ccx(0,1,2)\n",
    "    \n",
    "    qc.barrier()\n",
    "    qc.measure(2, 0) # output from qubit 2 is measured\n",
    "  \n",
    "    # We'll run the program on a simulator\n",
    "    backend = Aer.get_backend('aer_simulator')\n",
    "    # Since the output will be deterministic, we can use just a single shot to get it\n",
    "    job = backend.run(qc, shots=1, memory=True)\n",
    "    output = job.result().get_memory()[0]\n",
    "  \n",
    "    return qc, output\n",
    "\n",
    "## Test the function\n",
    "for inp1 in ['0', '1']:\n",
    "    for inp2 in ['0', '1']:\n",
    "        qc, output = AND(inp1, inp2)\n",
    "        print('AND with inputs',inp1,inp2,'gives output',output)\n",
    "        display(qc.draw())\n",
    "        print('\\n')\n"
   ]
  },
  {
   "cell_type": "code",
   "execution_count": 24,
   "id": "bc0ad8fe",
   "metadata": {},
   "outputs": [
    {
     "name": "stdout",
     "output_type": "stream",
     "text": [
      "AND with inputs 0 0 gives output 1\n"
     ]
    },
    {
     "data": {
      "text/html": [
       "<pre style=\"word-wrap: normal;white-space: pre;background: #fff0;line-height: 1.1;font-family: &quot;Courier New&quot;,Courier,monospace\">           ░            ░    \n",
       "q_0: ─|0>──░───■────────░────\n",
       "           ░   │        ░    \n",
       "q_1: ─|0>──░───■────────░────\n",
       "           ░ ┌─┴─┐┌───┐ ░ ┌─┐\n",
       "q_2: ──────░─┤ X ├┤ X ├─░─┤M├\n",
       "           ░ └───┘└───┘ ░ └╥┘\n",
       "c: 1/══════════════════════╩═\n",
       "                           0 </pre>"
      ],
      "text/plain": [
       "           ░            ░    \n",
       "q_0: ─|0>──░───■────────░────\n",
       "           ░   │        ░    \n",
       "q_1: ─|0>──░───■────────░────\n",
       "           ░ ┌─┴─┐┌───┐ ░ ┌─┐\n",
       "q_2: ──────░─┤ X ├┤ X ├─░─┤M├\n",
       "           ░ └───┘└───┘ ░ └╥┘\n",
       "c: 1/══════════════════════╩═\n",
       "                           0 "
      ]
     },
     "metadata": {},
     "output_type": "display_data"
    },
    {
     "name": "stdout",
     "output_type": "stream",
     "text": [
      "\n",
      "\n",
      "AND with inputs 0 1 gives output 1\n"
     ]
    },
    {
     "data": {
      "text/html": [
       "<pre style=\"word-wrap: normal;white-space: pre;background: #fff0;line-height: 1.1;font-family: &quot;Courier New&quot;,Courier,monospace\">                ░            ░    \n",
       "q_0: ─|0>───────░───■────────░────\n",
       "          ┌───┐ ░   │        ░    \n",
       "q_1: ─|0>─┤ X ├─░───■────────░────\n",
       "          └───┘ ░ ┌─┴─┐┌───┐ ░ ┌─┐\n",
       "q_2: ───────────░─┤ X ├┤ X ├─░─┤M├\n",
       "                ░ └───┘└───┘ ░ └╥┘\n",
       "c: 1/═══════════════════════════╩═\n",
       "                                0 </pre>"
      ],
      "text/plain": [
       "                ░            ░    \n",
       "q_0: ─|0>───────░───■────────░────\n",
       "          ┌───┐ ░   │        ░    \n",
       "q_1: ─|0>─┤ X ├─░───■────────░────\n",
       "          └───┘ ░ ┌─┴─┐┌───┐ ░ ┌─┐\n",
       "q_2: ───────────░─┤ X ├┤ X ├─░─┤M├\n",
       "                ░ └───┘└───┘ ░ └╥┘\n",
       "c: 1/═══════════════════════════╩═\n",
       "                                0 "
      ]
     },
     "metadata": {},
     "output_type": "display_data"
    },
    {
     "name": "stdout",
     "output_type": "stream",
     "text": [
      "\n",
      "\n",
      "AND with inputs 1 0 gives output 1\n"
     ]
    },
    {
     "data": {
      "text/html": [
       "<pre style=\"word-wrap: normal;white-space: pre;background: #fff0;line-height: 1.1;font-family: &quot;Courier New&quot;,Courier,monospace\">          ┌───┐ ░            ░    \n",
       "q_0: ─|0>─┤ X ├─░───■────────░────\n",
       "          └───┘ ░   │        ░    \n",
       "q_1: ─|0>───────░───■────────░────\n",
       "                ░ ┌─┴─┐┌───┐ ░ ┌─┐\n",
       "q_2: ───────────░─┤ X ├┤ X ├─░─┤M├\n",
       "                ░ └───┘└───┘ ░ └╥┘\n",
       "c: 1/═══════════════════════════╩═\n",
       "                                0 </pre>"
      ],
      "text/plain": [
       "          ┌───┐ ░            ░    \n",
       "q_0: ─|0>─┤ X ├─░───■────────░────\n",
       "          └───┘ ░   │        ░    \n",
       "q_1: ─|0>───────░───■────────░────\n",
       "                ░ ┌─┴─┐┌───┐ ░ ┌─┐\n",
       "q_2: ───────────░─┤ X ├┤ X ├─░─┤M├\n",
       "                ░ └───┘└───┘ ░ └╥┘\n",
       "c: 1/═══════════════════════════╩═\n",
       "                                0 "
      ]
     },
     "metadata": {},
     "output_type": "display_data"
    },
    {
     "name": "stdout",
     "output_type": "stream",
     "text": [
      "\n",
      "\n",
      "AND with inputs 1 1 gives output 0\n"
     ]
    },
    {
     "data": {
      "text/html": [
       "<pre style=\"word-wrap: normal;white-space: pre;background: #fff0;line-height: 1.1;font-family: &quot;Courier New&quot;,Courier,monospace\">          ┌───┐ ░            ░    \n",
       "q_0: ─|0>─┤ X ├─░───■────────░────\n",
       "          ├───┤ ░   │        ░    \n",
       "q_1: ─|0>─┤ X ├─░───■────────░────\n",
       "          └───┘ ░ ┌─┴─┐┌───┐ ░ ┌─┐\n",
       "q_2: ───────────░─┤ X ├┤ X ├─░─┤M├\n",
       "                ░ └───┘└───┘ ░ └╥┘\n",
       "c: 1/═══════════════════════════╩═\n",
       "                                0 </pre>"
      ],
      "text/plain": [
       "          ┌───┐ ░            ░    \n",
       "q_0: ─|0>─┤ X ├─░───■────────░────\n",
       "          ├───┤ ░   │        ░    \n",
       "q_1: ─|0>─┤ X ├─░───■────────░────\n",
       "          └───┘ ░ ┌─┴─┐┌───┐ ░ ┌─┐\n",
       "q_2: ───────────░─┤ X ├┤ X ├─░─┤M├\n",
       "                ░ └───┘└───┘ ░ └╥┘\n",
       "c: 1/═══════════════════════════╩═\n",
       "                                0 "
      ]
     },
     "metadata": {},
     "output_type": "display_data"
    },
    {
     "name": "stdout",
     "output_type": "stream",
     "text": [
      "\n",
      "\n"
     ]
    }
   ],
   "source": [
    "# %load ~cis492s/pub/ANDgate.py\n",
    "from qiskit import *\n",
    "from qiskit.visualization import plot_histogram\n",
    "import numpy as np\n",
    "\n",
    "## for display\n",
    "from IPython.display import display\n",
    "\n",
    "def AND(inp1,inp2):\n",
    "    \"\"\"An AND gate.\n",
    "    \n",
    "    Parameters:\n",
    "        inpt1 (str): Input 1, encoded in qubit 0.\n",
    "        inpt2 (str): Input 2, encoded in qubit 1.\n",
    "    \n",
    "    Returns:\n",
    "        QuantumCircuit: Output AND circuit.\n",
    "        str: Output value measured from qubit 2.\n",
    "    \"\"\"\n",
    "    qc = QuantumCircuit(3, 1) \n",
    "    qc.reset(range(2))\n",
    "  \n",
    "    if inp1=='1':\n",
    "        qc.x(0)\n",
    "    if inp2=='1':\n",
    "        qc.x(1)\n",
    "        \n",
    "    qc.barrier()\n",
    "\n",
    "    # this is where your program for quantum AND gate goes\n",
    "    qc.ccx(0,1,2)\n",
    "    qc.x(2)\n",
    "    qc.barrier()\n",
    "    qc.measure(2, 0) # output from qubit 2 is measured\n",
    "  \n",
    "    # We'll run the program on a simulator\n",
    "    backend = Aer.get_backend('aer_simulator')\n",
    "    # Since the output will be deterministic, we can use just a single shot to get it\n",
    "    job = backend.run(qc, shots=1, memory=True)\n",
    "    output = job.result().get_memory()[0]\n",
    "    \n",
    "    return qc, output\n",
    "\n",
    "## Test the function\n",
    "for inp1 in ['0', '1']:\n",
    "    for inp2 in ['0', '1']:\n",
    "        qc, output = AND(inp1, inp2)\n",
    "        print('AND with inputs',inp1,inp2,'gives output',output)\n",
    "        display(qc.draw())\n",
    "        print('\\n')\n"
   ]
  },
  {
   "cell_type": "code",
   "execution_count": 27,
   "id": "44780eb0",
   "metadata": {},
   "outputs": [
    {
     "name": "stdout",
     "output_type": "stream",
     "text": [
      "OR with inputs 0 0 gives output 0\n"
     ]
    },
    {
     "data": {
      "text/html": [
       "<pre style=\"word-wrap: normal;white-space: pre;background: #fff0;line-height: 1.1;font-family: &quot;Courier New&quot;,Courier,monospace\">           ░ ┌───┐           ░    \n",
       "q_0: ─|0>──░─┤ X ├──■────────░────\n",
       "           ░ ├───┤  │        ░    \n",
       "q_1: ─|0>──░─┤ X ├──■────────░────\n",
       "           ░ └───┘┌─┴─┐┌───┐ ░ ┌─┐\n",
       "q_2: ─|0>──░──────┤ X ├┤ X ├─░─┤M├\n",
       "           ░      └───┘└───┘ ░ └╥┘\n",
       "c: 1/═══════════════════════════╩═\n",
       "                                0 </pre>"
      ],
      "text/plain": [
       "           ░ ┌───┐           ░    \n",
       "q_0: ─|0>──░─┤ X ├──■────────░────\n",
       "           ░ ├───┤  │        ░    \n",
       "q_1: ─|0>──░─┤ X ├──■────────░────\n",
       "           ░ └───┘┌─┴─┐┌───┐ ░ ┌─┐\n",
       "q_2: ─|0>──░──────┤ X ├┤ X ├─░─┤M├\n",
       "           ░      └───┘└───┘ ░ └╥┘\n",
       "c: 1/═══════════════════════════╩═\n",
       "                                0 "
      ]
     },
     "metadata": {},
     "output_type": "display_data"
    },
    {
     "name": "stdout",
     "output_type": "stream",
     "text": [
      "\n",
      "\n",
      "OR with inputs 0 1 gives output 1\n"
     ]
    },
    {
     "data": {
      "text/html": [
       "<pre style=\"word-wrap: normal;white-space: pre;background: #fff0;line-height: 1.1;font-family: &quot;Courier New&quot;,Courier,monospace\">                ░ ┌───┐           ░    \n",
       "q_0: ─|0>───────░─┤ X ├──■────────░────\n",
       "          ┌───┐ ░ ├───┤  │        ░    \n",
       "q_1: ─|0>─┤ X ├─░─┤ X ├──■────────░────\n",
       "          └───┘ ░ └───┘┌─┴─┐┌───┐ ░ ┌─┐\n",
       "q_2: ─|0>───────░──────┤ X ├┤ X ├─░─┤M├\n",
       "                ░      └───┘└───┘ ░ └╥┘\n",
       "c: 1/════════════════════════════════╩═\n",
       "                                     0 </pre>"
      ],
      "text/plain": [
       "                ░ ┌───┐           ░    \n",
       "q_0: ─|0>───────░─┤ X ├──■────────░────\n",
       "          ┌───┐ ░ ├───┤  │        ░    \n",
       "q_1: ─|0>─┤ X ├─░─┤ X ├──■────────░────\n",
       "          └───┘ ░ └───┘┌─┴─┐┌───┐ ░ ┌─┐\n",
       "q_2: ─|0>───────░──────┤ X ├┤ X ├─░─┤M├\n",
       "                ░      └───┘└───┘ ░ └╥┘\n",
       "c: 1/════════════════════════════════╩═\n",
       "                                     0 "
      ]
     },
     "metadata": {},
     "output_type": "display_data"
    },
    {
     "name": "stdout",
     "output_type": "stream",
     "text": [
      "\n",
      "\n",
      "OR with inputs 1 0 gives output 1\n"
     ]
    },
    {
     "data": {
      "text/html": [
       "<pre style=\"word-wrap: normal;white-space: pre;background: #fff0;line-height: 1.1;font-family: &quot;Courier New&quot;,Courier,monospace\">          ┌───┐ ░ ┌───┐           ░    \n",
       "q_0: ─|0>─┤ X ├─░─┤ X ├──■────────░────\n",
       "          └───┘ ░ ├───┤  │        ░    \n",
       "q_1: ─|0>───────░─┤ X ├──■────────░────\n",
       "                ░ └───┘┌─┴─┐┌───┐ ░ ┌─┐\n",
       "q_2: ─|0>───────░──────┤ X ├┤ X ├─░─┤M├\n",
       "                ░      └───┘└───┘ ░ └╥┘\n",
       "c: 1/════════════════════════════════╩═\n",
       "                                     0 </pre>"
      ],
      "text/plain": [
       "          ┌───┐ ░ ┌───┐           ░    \n",
       "q_0: ─|0>─┤ X ├─░─┤ X ├──■────────░────\n",
       "          └───┘ ░ ├───┤  │        ░    \n",
       "q_1: ─|0>───────░─┤ X ├──■────────░────\n",
       "                ░ └───┘┌─┴─┐┌───┐ ░ ┌─┐\n",
       "q_2: ─|0>───────░──────┤ X ├┤ X ├─░─┤M├\n",
       "                ░      └───┘└───┘ ░ └╥┘\n",
       "c: 1/════════════════════════════════╩═\n",
       "                                     0 "
      ]
     },
     "metadata": {},
     "output_type": "display_data"
    },
    {
     "name": "stdout",
     "output_type": "stream",
     "text": [
      "\n",
      "\n",
      "OR with inputs 1 1 gives output 1\n"
     ]
    },
    {
     "data": {
      "text/html": [
       "<pre style=\"word-wrap: normal;white-space: pre;background: #fff0;line-height: 1.1;font-family: &quot;Courier New&quot;,Courier,monospace\">          ┌───┐ ░ ┌───┐           ░    \n",
       "q_0: ─|0>─┤ X ├─░─┤ X ├──■────────░────\n",
       "          ├───┤ ░ ├───┤  │        ░    \n",
       "q_1: ─|0>─┤ X ├─░─┤ X ├──■────────░────\n",
       "          └───┘ ░ └───┘┌─┴─┐┌───┐ ░ ┌─┐\n",
       "q_2: ─|0>───────░──────┤ X ├┤ X ├─░─┤M├\n",
       "                ░      └───┘└───┘ ░ └╥┘\n",
       "c: 1/════════════════════════════════╩═\n",
       "                                     0 </pre>"
      ],
      "text/plain": [
       "          ┌───┐ ░ ┌───┐           ░    \n",
       "q_0: ─|0>─┤ X ├─░─┤ X ├──■────────░────\n",
       "          ├───┤ ░ ├───┤  │        ░    \n",
       "q_1: ─|0>─┤ X ├─░─┤ X ├──■────────░────\n",
       "          └───┘ ░ └───┘┌─┴─┐┌───┐ ░ ┌─┐\n",
       "q_2: ─|0>───────░──────┤ X ├┤ X ├─░─┤M├\n",
       "                ░      └───┘└───┘ ░ └╥┘\n",
       "c: 1/════════════════════════════════╩═\n",
       "                                     0 "
      ]
     },
     "metadata": {},
     "output_type": "display_data"
    },
    {
     "name": "stdout",
     "output_type": "stream",
     "text": [
      "\n",
      "\n"
     ]
    }
   ],
   "source": [
    "# %load ~cis492s/pub/ORgate.py\n",
    "from qiskit import *\n",
    "from qiskit.visualization import plot_histogram\n",
    "import numpy as np\n",
    "\n",
    "## for display\n",
    "from IPython.display import display\n",
    "\n",
    "def OR(inp1,inp2):\n",
    "    \"\"\"An OR gate.\n",
    "    \n",
    "    Parameters:\n",
    "        inpt1 (str): Input 1, encoded in qubit 0.\n",
    "        inpt2 (str): Input 2, encoded in qubit 1.\n",
    "        \n",
    "    Returns:\n",
    "        QuantumCircuit: Output XOR circuit.\n",
    "        str: Output value measured from qubit 2.\n",
    "    \"\"\"\n",
    "\n",
    "    qc = QuantumCircuit(3, 1) \n",
    "    qc.reset(range(3))\n",
    "    \n",
    "    if inp1=='1':\n",
    "        qc.x(0)\n",
    "    if inp2=='1':\n",
    "        qc.x(1)\n",
    "    \n",
    "    qc.barrier()\n",
    "   \n",
    "    # this is where your program for quantum OR gate goes\n",
    "    qc.x(1)\n",
    "    qc.x(0)\n",
    "    qc.ccx(0,1,2)\n",
    "    qc.x(2)\n",
    "\n",
    "\n",
    "\n",
    "\n",
    "\n",
    "    qc.barrier()\n",
    "    qc.measure(2, 0) # output from qubit 2 is measured\n",
    "  \n",
    "    # We'll run the program on a simulator\n",
    "    backend = Aer.get_backend('aer_simulator')\n",
    "    # Since the output will be deterministic, we can use just a single shot to get it\n",
    "    job = backend.run(qc,shots=1,memory=True)\n",
    "    output = job.result().get_memory()[0]\n",
    "  \n",
    "    return qc, output## Test the function\n",
    "\n",
    "for inp1 in ['0', '1']:\n",
    "    for inp2 in ['0', '1']:\n",
    "        qc, output = OR(inp1, inp2)\n",
    "        print('OR with inputs',inp1,inp2,'gives output',output)\n",
    "        display(qc.draw())\n",
    "        print('\\n')\n",
    "\n"
   ]
  },
  {
   "cell_type": "code",
   "execution_count": 31,
   "id": "651149f6",
   "metadata": {},
   "outputs": [
    {
     "name": "stdout",
     "output_type": "stream",
     "text": [
      "UNKNOWN func with inputs 0 0 gives outputs 0 0\n"
     ]
    },
    {
     "data": {
      "text/html": [
       "<pre style=\"word-wrap: normal;white-space: pre;background: #fff0;line-height: 1.1;font-family: &quot;Courier New&quot;,Courier,monospace\">           ░      ┌───┐      ░ ┌─┐   \n",
       "q_0: ─|0>──░───■──┤ X ├──■───░─┤M├───\n",
       "           ░ ┌─┴─┐└─┬─┘┌─┴─┐ ░ └╥┘┌─┐\n",
       "q_1: ─|0>──░─┤ X ├──■──┤ X ├─░──╫─┤M├\n",
       "           ░ └───┘     └───┘ ░  ║ └╥┘\n",
       "c: 2/═══════════════════════════╩══╩═\n",
       "                                0  1 </pre>"
      ],
      "text/plain": [
       "           ░      ┌───┐      ░ ┌─┐   \n",
       "q_0: ─|0>──░───■──┤ X ├──■───░─┤M├───\n",
       "           ░ ┌─┴─┐└─┬─┘┌─┴─┐ ░ └╥┘┌─┐\n",
       "q_1: ─|0>──░─┤ X ├──■──┤ X ├─░──╫─┤M├\n",
       "           ░ └───┘     └───┘ ░  ║ └╥┘\n",
       "c: 2/═══════════════════════════╩══╩═\n",
       "                                0  1 "
      ]
     },
     "metadata": {},
     "output_type": "display_data"
    },
    {
     "name": "stdout",
     "output_type": "stream",
     "text": [
      "\n",
      "\n",
      "UNKNOWN func with inputs 0 1 gives outputs 1 0\n"
     ]
    },
    {
     "data": {
      "text/html": [
       "<pre style=\"word-wrap: normal;white-space: pre;background: #fff0;line-height: 1.1;font-family: &quot;Courier New&quot;,Courier,monospace\">                ░      ┌───┐      ░ ┌─┐   \n",
       "q_0: ─|0>───────░───■──┤ X ├──■───░─┤M├───\n",
       "          ┌───┐ ░ ┌─┴─┐└─┬─┘┌─┴─┐ ░ └╥┘┌─┐\n",
       "q_1: ─|0>─┤ X ├─░─┤ X ├──■──┤ X ├─░──╫─┤M├\n",
       "          └───┘ ░ └───┘     └───┘ ░  ║ └╥┘\n",
       "c: 2/════════════════════════════════╩══╩═\n",
       "                                     0  1 </pre>"
      ],
      "text/plain": [
       "                ░      ┌───┐      ░ ┌─┐   \n",
       "q_0: ─|0>───────░───■──┤ X ├──■───░─┤M├───\n",
       "          ┌───┐ ░ ┌─┴─┐└─┬─┘┌─┴─┐ ░ └╥┘┌─┐\n",
       "q_1: ─|0>─┤ X ├─░─┤ X ├──■──┤ X ├─░──╫─┤M├\n",
       "          └───┘ ░ └───┘     └───┘ ░  ║ └╥┘\n",
       "c: 2/════════════════════════════════╩══╩═\n",
       "                                     0  1 "
      ]
     },
     "metadata": {},
     "output_type": "display_data"
    },
    {
     "name": "stdout",
     "output_type": "stream",
     "text": [
      "\n",
      "\n",
      "UNKNOWN func with inputs 1 0 gives outputs 0 1\n"
     ]
    },
    {
     "data": {
      "text/html": [
       "<pre style=\"word-wrap: normal;white-space: pre;background: #fff0;line-height: 1.1;font-family: &quot;Courier New&quot;,Courier,monospace\">          ┌───┐ ░      ┌───┐      ░ ┌─┐   \n",
       "q_0: ─|0>─┤ X ├─░───■──┤ X ├──■───░─┤M├───\n",
       "          └───┘ ░ ┌─┴─┐└─┬─┘┌─┴─┐ ░ └╥┘┌─┐\n",
       "q_1: ─|0>───────░─┤ X ├──■──┤ X ├─░──╫─┤M├\n",
       "                ░ └───┘     └───┘ ░  ║ └╥┘\n",
       "c: 2/════════════════════════════════╩══╩═\n",
       "                                     0  1 </pre>"
      ],
      "text/plain": [
       "          ┌───┐ ░      ┌───┐      ░ ┌─┐   \n",
       "q_0: ─|0>─┤ X ├─░───■──┤ X ├──■───░─┤M├───\n",
       "          └───┘ ░ ┌─┴─┐└─┬─┘┌─┴─┐ ░ └╥┘┌─┐\n",
       "q_1: ─|0>───────░─┤ X ├──■──┤ X ├─░──╫─┤M├\n",
       "                ░ └───┘     └───┘ ░  ║ └╥┘\n",
       "c: 2/════════════════════════════════╩══╩═\n",
       "                                     0  1 "
      ]
     },
     "metadata": {},
     "output_type": "display_data"
    },
    {
     "name": "stdout",
     "output_type": "stream",
     "text": [
      "\n",
      "\n",
      "UNKNOWN func with inputs 1 1 gives outputs 1 1\n"
     ]
    },
    {
     "data": {
      "text/html": [
       "<pre style=\"word-wrap: normal;white-space: pre;background: #fff0;line-height: 1.1;font-family: &quot;Courier New&quot;,Courier,monospace\">          ┌───┐ ░      ┌───┐      ░ ┌─┐   \n",
       "q_0: ─|0>─┤ X ├─░───■──┤ X ├──■───░─┤M├───\n",
       "          ├───┤ ░ ┌─┴─┐└─┬─┘┌─┴─┐ ░ └╥┘┌─┐\n",
       "q_1: ─|0>─┤ X ├─░─┤ X ├──■──┤ X ├─░──╫─┤M├\n",
       "          └───┘ ░ └───┘     └───┘ ░  ║ └╥┘\n",
       "c: 2/════════════════════════════════╩══╩═\n",
       "                                     0  1 </pre>"
      ],
      "text/plain": [
       "          ┌───┐ ░      ┌───┐      ░ ┌─┐   \n",
       "q_0: ─|0>─┤ X ├─░───■──┤ X ├──■───░─┤M├───\n",
       "          ├───┤ ░ ┌─┴─┐└─┬─┘┌─┴─┐ ░ └╥┘┌─┐\n",
       "q_1: ─|0>─┤ X ├─░─┤ X ├──■──┤ X ├─░──╫─┤M├\n",
       "          └───┘ ░ └───┘     └───┘ ░  ║ └╥┘\n",
       "c: 2/════════════════════════════════╩══╩═\n",
       "                                     0  1 "
      ]
     },
     "metadata": {},
     "output_type": "display_data"
    },
    {
     "name": "stdout",
     "output_type": "stream",
     "text": [
      "\n",
      "\n"
     ]
    }
   ],
   "source": [
    "# %load ~cis492s/pub/UNKNOWNfunc.py\n",
    "from qiskit import *\n",
    "from qiskit.visualization import plot_histogram\n",
    "import numpy as np\n",
    "\n",
    "## for display\n",
    "from IPython.display import display\n",
    "\n",
    "def UNKNOWN(inp1,inp2):\n",
    "    \"\"\"An unknown function \n",
    "    \n",
    "    Parameters:\n",
    "        inpt1 (str): Input 1, encoded in qubit 0.\n",
    "        inpt2 (str): Input 2, encoded in qubit 1.\n",
    "        \n",
    "    Returns:\n",
    "        QuantumCircuit: Output the circuit.\n",
    "        str: Output values measured from qubit 0 and qubit 1.\n",
    "    \"\"\"\n",
    "  \n",
    "    qc = QuantumCircuit(2, 2) \n",
    "    qc.reset(range(2))\n",
    "    \n",
    "    if inp1=='1':\n",
    "        qc.x(0)\n",
    "    if inp2=='1':\n",
    "        qc.x(1)\n",
    "    \n",
    "    # barrier between input state and gate operation \n",
    "    qc.barrier()\n",
    "    \n",
    "    # add the code based on the circuit diagram in the handout\n",
    "    qc.cx(0,1)\n",
    "    qc.cx(1,0)\n",
    "    qc.cx(0,1)\n",
    "\n",
    "    \n",
    "    # barrier between gate operation and measurement \n",
    "    qc.barrier()\n",
    "    \n",
    "    qc.measure([0,1],[0,1]) # output from qubit 0 and qubit 1 are measured\n",
    "  \n",
    "    #We'll run the program on a simulator\n",
    "    backend = Aer.get_backend('aer_simulator')\n",
    "    #Since the output will be deterministic, we can use just a single shot to get it\n",
    "    job = backend.run(qc, shots=1, memory=True)\n",
    "    out = job.result().get_memory()[0]\n",
    "  \n",
    "    return qc, out\n",
    "\n",
    "## Test the function\n",
    "for inp1 in ['0', '1']:\n",
    "    for inp2 in ['0', '1']:\n",
    "        qc, out = UNKNOWN(inp1, inp2)\n",
    "        # the output string bit positions are reversed\n",
    "        print('UNKNOWN func with inputs',inp1,inp2,'gives outputs',out[1],out[0])\n",
    "        display(qc.draw())\n",
    "        print('\\n')\n",
    "\n"
   ]
  },
  {
   "cell_type": "code",
   "execution_count": 33,
   "id": "d080c53c",
   "metadata": {},
   "outputs": [
    {
     "name": "stdout",
     "output_type": "stream",
     "text": [
      "UNKNOWN func with inputs 0 0 gives outputs 0 0\n"
     ]
    },
    {
     "data": {
      "text/html": [
       "<pre style=\"word-wrap: normal;white-space: pre;background: #fff0;line-height: 1.1;font-family: &quot;Courier New&quot;,Courier,monospace\">           ░ ┌───┐     ┌───┐ ░ ┌─┐   \n",
       "q_0: ─|0>──░─┤ H ├──■──┤ H ├─░─┤M├───\n",
       "           ░ ├───┤┌─┴─┐├───┤ ░ └╥┘┌─┐\n",
       "q_1: ─|0>──░─┤ H ├┤ X ├┤ H ├─░──╫─┤M├\n",
       "           ░ └───┘└───┘└───┘ ░  ║ └╥┘\n",
       "c: 2/═══════════════════════════╩══╩═\n",
       "                                0  1 </pre>"
      ],
      "text/plain": [
       "           ░ ┌───┐     ┌───┐ ░ ┌─┐   \n",
       "q_0: ─|0>──░─┤ H ├──■──┤ H ├─░─┤M├───\n",
       "           ░ ├───┤┌─┴─┐├───┤ ░ └╥┘┌─┐\n",
       "q_1: ─|0>──░─┤ H ├┤ X ├┤ H ├─░──╫─┤M├\n",
       "           ░ └───┘└───┘└───┘ ░  ║ └╥┘\n",
       "c: 2/═══════════════════════════╩══╩═\n",
       "                                0  1 "
      ]
     },
     "metadata": {},
     "output_type": "display_data"
    },
    {
     "name": "stdout",
     "output_type": "stream",
     "text": [
      "\n",
      "\n",
      "UNKNOWN func with inputs 0 1 gives outputs 1 1\n"
     ]
    },
    {
     "data": {
      "text/html": [
       "<pre style=\"word-wrap: normal;white-space: pre;background: #fff0;line-height: 1.1;font-family: &quot;Courier New&quot;,Courier,monospace\">                ░ ┌───┐     ┌───┐ ░ ┌─┐   \n",
       "q_0: ─|0>───────░─┤ H ├──■──┤ H ├─░─┤M├───\n",
       "          ┌───┐ ░ ├───┤┌─┴─┐├───┤ ░ └╥┘┌─┐\n",
       "q_1: ─|0>─┤ X ├─░─┤ H ├┤ X ├┤ H ├─░──╫─┤M├\n",
       "          └───┘ ░ └───┘└───┘└───┘ ░  ║ └╥┘\n",
       "c: 2/════════════════════════════════╩══╩═\n",
       "                                     0  1 </pre>"
      ],
      "text/plain": [
       "                ░ ┌───┐     ┌───┐ ░ ┌─┐   \n",
       "q_0: ─|0>───────░─┤ H ├──■──┤ H ├─░─┤M├───\n",
       "          ┌───┐ ░ ├───┤┌─┴─┐├───┤ ░ └╥┘┌─┐\n",
       "q_1: ─|0>─┤ X ├─░─┤ H ├┤ X ├┤ H ├─░──╫─┤M├\n",
       "          └───┘ ░ └───┘└───┘└───┘ ░  ║ └╥┘\n",
       "c: 2/════════════════════════════════╩══╩═\n",
       "                                     0  1 "
      ]
     },
     "metadata": {},
     "output_type": "display_data"
    },
    {
     "name": "stdout",
     "output_type": "stream",
     "text": [
      "\n",
      "\n",
      "UNKNOWN func with inputs 1 0 gives outputs 1 0\n"
     ]
    },
    {
     "data": {
      "text/html": [
       "<pre style=\"word-wrap: normal;white-space: pre;background: #fff0;line-height: 1.1;font-family: &quot;Courier New&quot;,Courier,monospace\">          ┌───┐ ░ ┌───┐     ┌───┐ ░ ┌─┐   \n",
       "q_0: ─|0>─┤ X ├─░─┤ H ├──■──┤ H ├─░─┤M├───\n",
       "          └───┘ ░ ├───┤┌─┴─┐├───┤ ░ └╥┘┌─┐\n",
       "q_1: ─|0>───────░─┤ H ├┤ X ├┤ H ├─░──╫─┤M├\n",
       "                ░ └───┘└───┘└───┘ ░  ║ └╥┘\n",
       "c: 2/════════════════════════════════╩══╩═\n",
       "                                     0  1 </pre>"
      ],
      "text/plain": [
       "          ┌───┐ ░ ┌───┐     ┌───┐ ░ ┌─┐   \n",
       "q_0: ─|0>─┤ X ├─░─┤ H ├──■──┤ H ├─░─┤M├───\n",
       "          └───┘ ░ ├───┤┌─┴─┐├───┤ ░ └╥┘┌─┐\n",
       "q_1: ─|0>───────░─┤ H ├┤ X ├┤ H ├─░──╫─┤M├\n",
       "                ░ └───┘└───┘└───┘ ░  ║ └╥┘\n",
       "c: 2/════════════════════════════════╩══╩═\n",
       "                                     0  1 "
      ]
     },
     "metadata": {},
     "output_type": "display_data"
    },
    {
     "name": "stdout",
     "output_type": "stream",
     "text": [
      "\n",
      "\n",
      "UNKNOWN func with inputs 1 1 gives outputs 0 1\n"
     ]
    },
    {
     "data": {
      "text/html": [
       "<pre style=\"word-wrap: normal;white-space: pre;background: #fff0;line-height: 1.1;font-family: &quot;Courier New&quot;,Courier,monospace\">          ┌───┐ ░ ┌───┐     ┌───┐ ░ ┌─┐   \n",
       "q_0: ─|0>─┤ X ├─░─┤ H ├──■──┤ H ├─░─┤M├───\n",
       "          ├───┤ ░ ├───┤┌─┴─┐├───┤ ░ └╥┘┌─┐\n",
       "q_1: ─|0>─┤ X ├─░─┤ H ├┤ X ├┤ H ├─░──╫─┤M├\n",
       "          └───┘ ░ └───┘└───┘└───┘ ░  ║ └╥┘\n",
       "c: 2/════════════════════════════════╩══╩═\n",
       "                                     0  1 </pre>"
      ],
      "text/plain": [
       "          ┌───┐ ░ ┌───┐     ┌───┐ ░ ┌─┐   \n",
       "q_0: ─|0>─┤ X ├─░─┤ H ├──■──┤ H ├─░─┤M├───\n",
       "          ├───┤ ░ ├───┤┌─┴─┐├───┤ ░ └╥┘┌─┐\n",
       "q_1: ─|0>─┤ X ├─░─┤ H ├┤ X ├┤ H ├─░──╫─┤M├\n",
       "          └───┘ ░ └───┘└───┘└───┘ ░  ║ └╥┘\n",
       "c: 2/════════════════════════════════╩══╩═\n",
       "                                     0  1 "
      ]
     },
     "metadata": {},
     "output_type": "display_data"
    },
    {
     "name": "stdout",
     "output_type": "stream",
     "text": [
      "\n",
      "\n"
     ]
    }
   ],
   "source": [
    "# %load ~cis492s/pub/UNKNOWNfunc.py\n",
    "from qiskit import *\n",
    "from qiskit.visualization import plot_histogram\n",
    "import numpy as np\n",
    "\n",
    "## for display\n",
    "from IPython.display import display\n",
    "\n",
    "def UNKNOWN(inp1,inp2):\n",
    "    \"\"\"An unknown function \n",
    "    \n",
    "    Parameters:\n",
    "        inpt1 (str): Input 1, encoded in qubit 0.\n",
    "        inpt2 (str): Input 2, encoded in qubit 1.\n",
    "        \n",
    "    Returns:\n",
    "        QuantumCircuit: Output the circuit.\n",
    "        str: Output values measured from qubit 0 and qubit 1.\n",
    "    \"\"\"\n",
    "  \n",
    "    qc = QuantumCircuit(2, 2) \n",
    "    qc.reset(range(2))\n",
    "    \n",
    "    if inp1=='1':\n",
    "        qc.x(0)\n",
    "    if inp2=='1':\n",
    "        qc.x(1)\n",
    "    \n",
    "    # barrier between input state and gate operation \n",
    "    qc.barrier()\n",
    "    \n",
    "    # add the code based on the circuit diagram in the handout\n",
    "    qc.h(0)\n",
    "    qc.h(1)\n",
    "    qc.cx(0,1)\n",
    "    qc.h(0)\n",
    "    qc.h(1)\n",
    "    \n",
    "    # barrier between gate operation and measurement \n",
    "    qc.barrier()\n",
    "    \n",
    "    qc.measure([0,1],[0,1]) # output from qubit 0 and qubit 1 are measured\n",
    "  \n",
    "    #We'll run the program on a simulator\n",
    "    backend = Aer.get_backend('aer_simulator')\n",
    "    #Since the output will be deterministic, we can use just a single shot to get it\n",
    "    job = backend.run(qc, shots=1, memory=True)\n",
    "    out = job.result().get_memory()[0]\n",
    "  \n",
    "    return qc, out\n",
    "\n",
    "## Test the function\n",
    "for inp1 in ['0', '1']:\n",
    "    for inp2 in ['0', '1']:\n",
    "        qc, out = UNKNOWN(inp1, inp2)\n",
    "        # the output string bit positions are reversed\n",
    "        print('UNKNOWN func with inputs',inp1,inp2,'gives outputs',out[1],out[0])\n",
    "        display(qc.draw())\n",
    "        print('\\n')\n",
    "\n"
   ]
  },
  {
   "cell_type": "code",
   "execution_count": null,
   "id": "2eb90a34",
   "metadata": {},
   "outputs": [],
   "source": []
  }
 ],
 "metadata": {
  "kernelspec": {
   "display_name": "Python 3 (ipykernel)",
   "language": "python",
   "name": "python3"
  },
  "language_info": {
   "codemirror_mode": {
    "name": "ipython",
    "version": 3
   },
   "file_extension": ".py",
   "mimetype": "text/x-python",
   "name": "python",
   "nbconvert_exporter": "python",
   "pygments_lexer": "ipython3",
   "version": "3.8.10"
  }
 },
 "nbformat": 4,
 "nbformat_minor": 5
}
