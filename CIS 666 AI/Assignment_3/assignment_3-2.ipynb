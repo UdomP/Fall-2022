{
 "cells": [
  {
   "cell_type": "code",
   "execution_count": 13,
   "metadata": {},
   "outputs": [],
   "source": [
    "import numpy as np\n",
    "from nltk.tokenize import sent_tokenize, word_tokenize, WordPunctTokenizer\n",
    "from nltk.stem import WordNetLemmatizer\n",
    "from nltk.stem import PorterStemmer, LancasterStemmer, SnowballStemmer\n",
    "from sklearn.decomposition import LatentDirichletAllocation\n",
    "from sklearn.datasets import make_multilabel_classification"
   ]
  },
  {
   "cell_type": "code",
   "execution_count": 2,
   "metadata": {},
   "outputs": [],
   "source": [
    "input_text = []\n",
    "count = 0\n",
    "for line in open('data.txt', 'r').read().split('\\n'):\n",
    "    count += 1\n",
    "    if line != '':\n",
    "        input_text.append(line)"
   ]
  },
  {
   "cell_type": "code",
   "execution_count": 3,
   "metadata": {},
   "outputs": [],
   "source": [
    "word_dict = {}\n",
    "punctuation_dict = {}\n",
    "for index, line in enumerate(input_text):\n",
    "    word_dict[index] = word_tokenize(line)\n",
    "    punctuation_dict[index] = WordPunctTokenizer().tokenize(line)"
   ]
  },
  {
   "cell_type": "code",
   "execution_count": 16,
   "metadata": {},
   "outputs": [],
   "source": [
    "lemma_word_dict = {}\n",
    "for line in word_dict:\n",
    "    lemma_word_dict[line] = []\n",
    "    lemmatizer = WordNetLemmatizer()\n",
    "    for i in word_dict[line]:\n",
    "        lemma_word_dict[line].append(lemmatizer.lemmatize(i, pos='n'))"
   ]
  },
  {
   "cell_type": "code",
   "execution_count": 18,
   "metadata": {},
   "outputs": [],
   "source": [
    "stem_word_dict = {}\n",
    "for line in word_dict:\n",
    "    stem_word_dict[line] = []\n",
    "    for i in word_dict[line]:\n",
    "        stem_word_dict[line].append(SnowballStemmer('english').stem(i))"
   ]
  },
  {
   "cell_type": "code",
   "execution_count": 21,
   "metadata": {},
   "outputs": [],
   "source": [
    "num = 2\n",
    "bow = {}\n",
    "for i in range(2):\n",
    "    for w in stem_word_dict[i]:\n",
    "        if w not in bow:\n",
    "            bow[w] = 0"
   ]
  },
  {
   "cell_type": "code",
   "execution_count": 27,
   "metadata": {},
   "outputs": [],
   "source": [
    "bow_dict = {}\n",
    "for line in word_dict:\n",
    "    bow_dict[line] = bow.copy()"
   ]
  },
  {
   "cell_type": "code",
   "execution_count": 33,
   "metadata": {},
   "outputs": [],
   "source": [
    "for w in stem_word_dict:\n",
    "    for ww in stem_word_dict[w]:\n",
    "        if ww in bow_dict[w]:\n",
    "            bow_dict[w][ww] += 1"
   ]
  },
  {
   "cell_type": "code",
   "execution_count": null,
   "metadata": {},
   "outputs": [],
   "source": [
    "X = []\n",
    "for w in bow_dict:\n"
   ]
  },
  {
   "cell_type": "code",
   "execution_count": 26,
   "metadata": {},
   "outputs": [
    {
     "name": "stdout",
     "output_type": "stream",
     "text": [
      "[[3. 1. 4. ... 4. 1. 3.]\n",
      " [5. 0. 6. ... 0. 0. 3.]\n",
      " [3. 4. 1. ... 3. 2. 5.]\n",
      " ...\n",
      " [2. 1. 2. ... 1. 0. 3.]\n",
      " [6. 4. 1. ... 1. 3. 5.]\n",
      " [2. 4. 2. ... 5. 4. 2.]]\n",
      "[[6. 4. 1. 4. 4. 3. 2. 1. 1. 2. 2. 3. 3. 4. 5. 0. 2. 1. 3. 5.]\n",
      " [2. 4. 2. 3. 4. 1. 5. 2. 3. 6. 4. 0. 2. 2. 0. 3. 2. 5. 4. 2.]]\n"
     ]
    },
    {
     "data": {
      "text/plain": [
       "array([[0.00360392, 0.25499205, 0.0036211 , 0.64236448, 0.09541846],\n",
       "       [0.15297572, 0.00362644, 0.44412786, 0.39568399, 0.003586  ]])"
      ]
     },
     "execution_count": 26,
     "metadata": {},
     "output_type": "execute_result"
    }
   ],
   "source": [
    "from sklearn.decomposition import LatentDirichletAllocation\n",
    "from sklearn.datasets import make_multilabel_classification\n",
    "# This produces a feature matrix of token counts, similar to what\n",
    "# CountVectorizer would produce on text.\n",
    "X, _ = make_multilabel_classification(random_state=0)\n",
    "lda = LatentDirichletAllocation(n_components=5,\n",
    "    random_state=0)\n",
    "lda.fit(X)\n",
    "print(X)\n",
    "print(X[-2:])\n",
    "# get topics for some given samples:\n",
    "lda.transform(X[-2:])"
   ]
  }
 ],
 "metadata": {
  "kernelspec": {
   "display_name": "Python 3",
   "language": "python",
   "name": "python3"
  },
  "language_info": {
   "codemirror_mode": {
    "name": "ipython",
    "version": 3
   },
   "file_extension": ".py",
   "mimetype": "text/x-python",
   "name": "python",
   "nbconvert_exporter": "python",
   "pygments_lexer": "ipython3",
   "version": "3.9.7"
  },
  "orig_nbformat": 4
 },
 "nbformat": 4,
 "nbformat_minor": 2
}
