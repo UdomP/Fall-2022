{
 "cells": [
  {
   "cell_type": "code",
   "execution_count": 1,
   "metadata": {},
   "outputs": [],
   "source": [
    "import numpy as np\n",
    "from nltk.tokenize import sent_tokenize, word_tokenize, WordPunctTokenizer\n",
    "from nltk.stem import WordNetLemmatizer\n",
    "from nltk.stem import PorterStemmer, LancasterStemmer, SnowballStemmer\n",
    "from sklearn.decomposition import LatentDirichletAllocation\n",
    "from sklearn.datasets import make_multilabel_classification\n",
    "from nltk.corpus import stopwords"
   ]
  },
  {
   "cell_type": "code",
   "execution_count": 2,
   "metadata": {},
   "outputs": [],
   "source": [
    "stop_words = stopwords.words('english')\n",
    "stop_words.append('.')\n",
    "stop_words.append(',')\n",
    "stop_words.append('\\'s')"
   ]
  },
  {
   "cell_type": "code",
   "execution_count": 3,
   "metadata": {},
   "outputs": [],
   "source": [
    "input_text = []\n",
    "count = 0\n",
    "for line in open('data.txt', 'r').read().split('\\n'):\n",
    "    count += 1\n",
    "    if line != '':\n",
    "        input_text.append(line)"
   ]
  },
  {
   "cell_type": "code",
   "execution_count": 4,
   "metadata": {},
   "outputs": [],
   "source": [
    "word_dict = {}\n",
    "punctuation_dict = {}\n",
    "for index, line in enumerate(input_text):\n",
    "    word_dict[index] = word_tokenize(line)\n",
    "    punctuation_dict[index] = WordPunctTokenizer().tokenize(line)"
   ]
  },
  {
   "cell_type": "code",
   "execution_count": 5,
   "metadata": {},
   "outputs": [],
   "source": [
    "lemma_word_dict = {}\n",
    "for line in word_dict:\n",
    "    lemma_word_dict[line] = []\n",
    "    lemmatizer = WordNetLemmatizer()\n",
    "    for i in word_dict[line]:\n",
    "        lemma_word_dict[line].append(lemmatizer.lemmatize(i, pos='n'))"
   ]
  },
  {
   "cell_type": "code",
   "execution_count": 6,
   "metadata": {},
   "outputs": [],
   "source": [
    "stem_word_dict = {}\n",
    "for line in word_dict:\n",
    "    stem_word_dict[line] = []\n",
    "    for i in word_dict[line]:\n",
    "        stem_word_dict[line].append(SnowballStemmer('english').stem(i))"
   ]
  },
  {
   "cell_type": "code",
   "execution_count": 7,
   "metadata": {},
   "outputs": [],
   "source": [
    "num = 2\n",
    "bow = {}\n",
    "for i in range(2):\n",
    "    for w in stem_word_dict[i]:\n",
    "        if w not in bow and w not in stop_words:\n",
    "            bow[w] = 0"
   ]
  },
  {
   "cell_type": "code",
   "execution_count": 8,
   "metadata": {},
   "outputs": [],
   "source": [
    "bow_dict = {}\n",
    "for line in word_dict:\n",
    "    bow_dict[line] = bow.copy()"
   ]
  },
  {
   "cell_type": "code",
   "execution_count": 9,
   "metadata": {},
   "outputs": [],
   "source": [
    "for w in stem_word_dict:\n",
    "    for ww in stem_word_dict[w]:\n",
    "        if ww in bow_dict[w]:\n",
    "            bow_dict[w][ww] += 1"
   ]
  },
  {
   "cell_type": "code",
   "execution_count": 10,
   "metadata": {},
   "outputs": [
    {
     "name": "stdout",
     "output_type": "stream",
     "text": [
      "{0: {'know': 1, 'children': 1, 'fussi': 1, 'eater': 1, '-': 1, \"n't\": 1, 'like': 1, 'tast': 1, 'shape': 1, 'colour': 1, 'textur': 1, 'particular': 1, 'food': 2, 'schoolgirl': 1, 'england': 1, 'kent': 1, 'surviv': 1, 'plain': 2, 'pasta': 2, 'croissant': 2, 'decad': 1, 'accord': 1, 'report': 1, 'daili': 1, 'star': 1, '13-year-old': 1, 'identifi': 1, 'ciarra': 1, 'franco': 1, 'becam': 1, 'scare': 1, 'tri': 1, 'new': 1, 'item': 1, 'almost': 1, 'choke': 1, 'toddler': 1, 'outlet': 1, 'said': 1, 'sinc': 1, 'teenag': 1, 'prefer': 1, 'pack': 1, 'lunch': 1, 'dinner': 1, 'ms': 0, 'mother': 0, 'angela': 0, 'veri': 0, 'hard': 0, 'chang': 0, 'habit': 0, 'broaden': 0, 'unsuccess': 0, '``': 0, 'two': 0, 'one': 0, 'onli': 0, 'thing': 0, 'eaten': 0, 'constant': 0, \"''\": 0, 'told': 0}, 1: {'know': 0, 'children': 0, 'fussi': 0, 'eater': 0, '-': 0, \"n't\": 0, 'like': 0, 'tast': 1, 'shape': 0, 'colour': 0, 'textur': 0, 'particular': 0, 'food': 1, 'schoolgirl': 0, 'england': 0, 'kent': 0, 'surviv': 0, 'plain': 1, 'pasta': 1, 'croissant': 1, 'decad': 0, 'accord': 0, 'report': 0, 'daili': 1, 'star': 1, '13-year-old': 0, 'identifi': 0, 'ciarra': 0, 'franco': 1, 'becam': 0, 'scare': 0, 'tri': 1, 'new': 0, 'item': 0, 'almost': 0, 'choke': 0, 'toddler': 0, 'outlet': 0, 'said': 0, 'sinc': 1, 'teenag': 0, 'prefer': 0, 'pack': 0, 'lunch': 1, 'dinner': 1, 'ms': 1, 'mother': 1, 'angela': 1, 'veri': 1, 'hard': 1, 'chang': 1, 'habit': 1, 'broaden': 1, 'unsuccess': 1, '``': 1, 'two': 1, 'one': 1, 'onli': 1, 'thing': 1, 'eaten': 1, 'constant': 1, \"''\": 1, 'told': 1}, 2: {'know': 0, 'children': 0, 'fussi': 0, 'eater': 0, '-': 0, \"n't\": 0, 'like': 1, 'tast': 0, 'shape': 0, 'colour': 0, 'textur': 0, 'particular': 0, 'food': 0, 'schoolgirl': 0, 'england': 0, 'kent': 0, 'surviv': 0, 'plain': 1, 'pasta': 0, 'croissant': 1, 'decad': 0, 'accord': 0, 'report': 0, 'daili': 0, 'star': 0, '13-year-old': 0, 'identifi': 0, 'ciarra': 0, 'franco': 0, 'becam': 0, 'scare': 0, 'tri': 1, 'new': 0, 'item': 0, 'almost': 0, 'choke': 0, 'toddler': 0, 'outlet': 0, 'said': 0, 'sinc': 0, 'teenag': 0, 'prefer': 0, 'pack': 0, 'lunch': 1, 'dinner': 0, 'ms': 0, 'mother': 0, 'angela': 1, 'veri': 0, 'hard': 0, 'chang': 0, 'habit': 0, 'broaden': 0, 'unsuccess': 0, '``': 1, 'two': 0, 'one': 0, 'onli': 0, 'thing': 0, 'eaten': 0, 'constant': 0, \"''\": 1, 'told': 0}, 3: {'know': 0, 'children': 0, 'fussi': 0, 'eater': 0, '-': 0, \"n't\": 0, 'like': 0, 'tast': 0, 'shape': 0, 'colour': 0, 'textur': 0, 'particular': 0, 'food': 1, 'schoolgirl': 0, 'england': 0, 'kent': 0, 'surviv': 0, 'plain': 0, 'pasta': 0, 'croissant': 0, 'decad': 0, 'accord': 0, 'report': 0, 'daili': 0, 'star': 0, '13-year-old': 0, 'identifi': 0, 'ciarra': 1, 'franco': 0, 'becam': 0, 'scare': 0, 'tri': 1, 'new': 1, 'item': 0, 'almost': 0, 'choke': 0, 'toddler': 0, 'outlet': 0, 'said': 1, 'sinc': 0, 'teenag': 0, 'prefer': 0, 'pack': 0, 'lunch': 0, 'dinner': 0, 'ms': 0, 'mother': 1, 'angela': 0, 'veri': 0, 'hard': 0, 'chang': 1, 'habit': 0, 'broaden': 0, 'unsuccess': 0, '``': 1, 'two': 0, 'one': 0, 'onli': 0, 'thing': 0, 'eaten': 0, 'constant': 0, \"''\": 1, 'told': 0}, 4: {'know': 0, 'children': 0, 'fussi': 0, 'eater': 0, '-': 0, \"n't\": 0, 'like': 0, 'tast': 0, 'shape': 0, 'colour': 0, 'textur': 0, 'particular': 0, 'food': 1, 'schoolgirl': 0, 'england': 0, 'kent': 0, 'surviv': 0, 'plain': 0, 'pasta': 0, 'croissant': 0, 'decad': 0, 'accord': 0, 'report': 0, 'daili': 0, 'star': 0, '13-year-old': 0, 'identifi': 0, 'ciarra': 0, 'franco': 0, 'becam': 0, 'scare': 0, 'tri': 0, 'new': 0, 'item': 0, 'almost': 0, 'choke': 0, 'toddler': 0, 'outlet': 0, 'said': 0, 'sinc': 0, 'teenag': 0, 'prefer': 0, 'pack': 0, 'lunch': 0, 'dinner': 0, 'ms': 0, 'mother': 0, 'angela': 0, 'veri': 0, 'hard': 0, 'chang': 0, 'habit': 0, 'broaden': 0, 'unsuccess': 0, '``': 0, 'two': 0, 'one': 0, 'onli': 0, 'thing': 0, 'eaten': 0, 'constant': 0, \"''\": 0, 'told': 0}, 5: {'know': 0, 'children': 0, 'fussi': 0, 'eater': 0, '-': 0, \"n't\": 0, 'like': 0, 'tast': 0, 'shape': 0, 'colour': 0, 'textur': 0, 'particular': 0, 'food': 1, 'schoolgirl': 0, 'england': 0, 'kent': 0, 'surviv': 0, 'plain': 0, 'pasta': 0, 'croissant': 0, 'decad': 0, 'accord': 0, 'report': 0, 'daili': 0, 'star': 0, '13-year-old': 0, 'identifi': 0, 'ciarra': 0, 'franco': 0, 'becam': 0, 'scare': 0, 'tri': 1, 'new': 1, 'item': 0, 'almost': 0, 'choke': 0, 'toddler': 0, 'outlet': 0, 'said': 1, 'sinc': 1, 'teenag': 0, 'prefer': 0, 'pack': 0, 'lunch': 0, 'dinner': 0, 'ms': 0, 'mother': 1, 'angela': 0, 'veri': 0, 'hard': 0, 'chang': 1, 'habit': 0, 'broaden': 0, 'unsuccess': 0, '``': 1, 'two': 0, 'one': 0, 'onli': 0, 'thing': 0, 'eaten': 0, 'constant': 0, \"''\": 1, 'told': 0}, 6: {'know': 0, 'children': 0, 'fussi': 0, 'eater': 0, '-': 0, \"n't\": 0, 'like': 0, 'tast': 0, 'shape': 0, 'colour': 0, 'textur': 0, 'particular': 0, 'food': 0, 'schoolgirl': 0, 'england': 0, 'kent': 0, 'surviv': 0, 'plain': 0, 'pasta': 0, 'croissant': 0, 'decad': 0, 'accord': 0, 'report': 0, 'daili': 0, 'star': 0, '13-year-old': 0, 'identifi': 0, 'ciarra': 0, 'franco': 0, 'becam': 0, 'scare': 0, 'tri': 0, 'new': 0, 'item': 0, 'almost': 0, 'choke': 0, 'toddler': 0, 'outlet': 0, 'said': 0, 'sinc': 0, 'teenag': 0, 'prefer': 0, 'pack': 0, 'lunch': 0, 'dinner': 0, 'ms': 0, 'mother': 0, 'angela': 0, 'veri': 0, 'hard': 0, 'chang': 0, 'habit': 0, 'broaden': 0, 'unsuccess': 0, '``': 0, 'two': 0, 'one': 0, 'onli': 0, 'thing': 0, 'eaten': 0, 'constant': 0, \"''\": 0, 'told': 0}}\n"
     ]
    }
   ],
   "source": [
    "print(bow_dict)"
   ]
  },
  {
   "cell_type": "code",
   "execution_count": 11,
   "metadata": {},
   "outputs": [],
   "source": [
    "X = []\n",
    "for w in bow_dict:\n",
    "    X.append(list(bow_dict[w].values()))"
   ]
  },
  {
   "cell_type": "code",
   "execution_count": 12,
   "metadata": {},
   "outputs": [
    {
     "data": {
      "text/plain": [
       "LatentDirichletAllocation(n_components=5, random_state=0)"
      ]
     },
     "execution_count": 12,
     "metadata": {},
     "output_type": "execute_result"
    }
   ],
   "source": [
    "lda = LatentDirichletAllocation(n_components=5, random_state=0)\n",
    "lda.fit(X[:2])"
   ]
  },
  {
   "cell_type": "code",
   "execution_count": 16,
   "metadata": {},
   "outputs": [
    {
     "name": "stdout",
     "output_type": "stream",
     "text": [
      "Topic 1 : tri\n",
      "Topic 1 : tast\n",
      "Topic 1 : daili\n",
      "Topic 1 : star\n",
      "Topic 1 : franco\n",
      "Topic 2 : tri\n",
      "Topic 2 : tast\n",
      "Topic 2 : daili\n",
      "Topic 2 : star\n",
      "Topic 2 : franco\n",
      "Topic 3 : pasta\n",
      "Topic 3 : plain\n",
      "Topic 3 : croissant\n",
      "Topic 3 : food\n",
      "Topic 3 : prefer\n",
      "Topic 4 : tri\n",
      "Topic 4 : tast\n",
      "Topic 4 : daili\n",
      "Topic 4 : star\n",
      "Topic 4 : franco\n",
      "Topic 5 : tri\n",
      "Topic 5 : tast\n",
      "Topic 5 : daili\n",
      "Topic 5 : star\n",
      "Topic 5 : franco\n"
     ]
    }
   ],
   "source": [
    "words = list(bow.keys())\n",
    "top = 5\n",
    "print('Top 5 words of each sentence are:')\n",
    "for n, topic in enumerate(lda.components_):\n",
    "    sort_topic = topic.argsort()\n",
    "    for i in range(5):\n",
    "        print('Topic', n + 1, ':', words[sort_topic[(-1) - i]])"
   ]
  }
 ],
 "metadata": {
  "kernelspec": {
   "display_name": "Python 3",
   "language": "python",
   "name": "python3"
  },
  "language_info": {
   "codemirror_mode": {
    "name": "ipython",
    "version": 3
   },
   "file_extension": ".py",
   "mimetype": "text/x-python",
   "name": "python",
   "nbconvert_exporter": "python",
   "pygments_lexer": "ipython3",
   "version": "3.9.6"
  },
  "orig_nbformat": 4
 },
 "nbformat": 4,
 "nbformat_minor": 2
}
