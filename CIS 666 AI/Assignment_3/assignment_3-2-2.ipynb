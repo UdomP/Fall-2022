{
 "cells": [
  {
   "cell_type": "code",
   "execution_count": 2,
   "metadata": {},
   "outputs": [],
   "source": [
    "import numpy as np\n",
    "from nltk.tokenize import sent_tokenize, word_tokenize, WordPunctTokenizer\n",
    "from nltk.stem import WordNetLemmatizer\n",
    "from nltk.stem import PorterStemmer, LancasterStemmer, SnowballStemmer\n",
    "from sklearn.decomposition import LatentDirichletAllocation\n",
    "from sklearn.datasets import make_multilabel_classification"
   ]
  },
  {
   "cell_type": "code",
   "execution_count": 3,
   "metadata": {},
   "outputs": [],
   "source": [
    "input_text = []\n",
    "count = 0\n",
    "for line in open('data.txt', 'r').read().split('\\n'):\n",
    "    count += 1\n",
    "    if line != '':\n",
    "        input_text.append(line)"
   ]
  },
  {
   "cell_type": "code",
   "execution_count": 4,
   "metadata": {},
   "outputs": [],
   "source": [
    "word_dict = {}\n",
    "punctuation_dict = {}\n",
    "for index, line in enumerate(input_text):\n",
    "    word_dict[index] = word_tokenize(line)\n",
    "    punctuation_dict[index] = WordPunctTokenizer().tokenize(line)"
   ]
  },
  {
   "cell_type": "code",
   "execution_count": 5,
   "metadata": {},
   "outputs": [],
   "source": [
    "lemma_word_dict = {}\n",
    "for line in word_dict:\n",
    "    lemma_word_dict[line] = []\n",
    "    lemmatizer = WordNetLemmatizer()\n",
    "    for i in word_dict[line]:\n",
    "        lemma_word_dict[line].append(lemmatizer.lemmatize(i, pos='n'))"
   ]
  },
  {
   "cell_type": "code",
   "execution_count": 6,
   "metadata": {},
   "outputs": [],
   "source": [
    "stem_word_dict = {}\n",
    "for line in word_dict:\n",
    "    stem_word_dict[line] = []\n",
    "    for i in word_dict[line]:\n",
    "        stem_word_dict[line].append(SnowballStemmer('english').stem(i))"
   ]
  },
  {
   "cell_type": "code",
   "execution_count": 7,
   "metadata": {},
   "outputs": [],
   "source": [
    "num = 2\n",
    "bow = {}\n",
    "for i in range(2):\n",
    "    for w in stem_word_dict[i]:\n",
    "        if w not in bow:\n",
    "            bow[w] = 0"
   ]
  },
  {
   "cell_type": "code",
   "execution_count": 8,
   "metadata": {},
   "outputs": [],
   "source": [
    "bow_dict = {}\n",
    "for line in word_dict:\n",
    "    bow_dict[line] = bow.copy()"
   ]
  },
  {
   "cell_type": "code",
   "execution_count": 9,
   "metadata": {},
   "outputs": [],
   "source": [
    "for w in stem_word_dict:\n",
    "    for ww in stem_word_dict[w]:\n",
    "        if ww in bow_dict[w]:\n",
    "            bow_dict[w][ww] += 1"
   ]
  },
  {
   "cell_type": "code",
   "execution_count": 14,
   "metadata": {},
   "outputs": [],
   "source": [
    "X = []\n",
    "for w in bow_dict:\n",
    "    X.append(list(bow_dict[w].values()))"
   ]
  },
  {
   "cell_type": "code",
   "execution_count": 17,
   "metadata": {},
   "outputs": [
    {
     "data": {
      "text/plain": [
       "array([[0.00833839, 0.96664642, 0.00833839, 0.00833839, 0.00833839],\n",
       "       [0.0076985 , 0.96920599, 0.0076985 , 0.0076985 , 0.0076985 ],\n",
       "       [0.02501486, 0.89994057, 0.02501486, 0.02501486, 0.02501486],\n",
       "       [0.00833993, 0.96664027, 0.00833993, 0.00833993, 0.00833993],\n",
       "       [0.02501348, 0.8999461 , 0.02501348, 0.02501348, 0.02501348]])"
      ]
     },
     "execution_count": 17,
     "metadata": {},
     "output_type": "execute_result"
    }
   ],
   "source": [
    "lda = LatentDirichletAllocation(n_components=5, random_state=0)\n",
    "lda.fit(X[:2])\n",
    "lda.transform(X[2:])"
   ]
  },
  {
   "cell_type": "code",
   "execution_count": null,
   "metadata": {},
   "outputs": [],
   "source": [
    "ldamodel = models.ldamodel.LdaModel(doc_term_mat, number of topics,\n",
    "id2word=dict_tokens, passes=25)"
   ]
  }
 ],
 "metadata": {
  "kernelspec": {
   "display_name": "Python 3",
   "language": "python",
   "name": "python3"
  },
  "language_info": {
   "codemirror_mode": {
    "name": "ipython",
    "version": 3
   },
   "file_extension": ".py",
   "mimetype": "text/x-python",
   "name": "python",
   "nbconvert_exporter": "python",
   "pygments_lexer": "ipython3",
   "version": "3.9.7"
  },
  "orig_nbformat": 4
 },
 "nbformat": 4,
 "nbformat_minor": 2
}
