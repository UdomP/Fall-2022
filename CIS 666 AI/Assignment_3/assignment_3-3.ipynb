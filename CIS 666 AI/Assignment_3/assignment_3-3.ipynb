{
 "cells": [
  {
   "cell_type": "code",
   "execution_count": 476,
   "metadata": {},
   "outputs": [],
   "source": [
    "from nltk.tokenize import sent_tokenize, word_tokenize, WordPunctTokenizer\n",
    "from nltk.stem import WordNetLemmatizer\n",
    "from nltk.stem import PorterStemmer, LancasterStemmer, SnowballStemmer\n",
    "from sklearn.decomposition import LatentDirichletAllocation\n",
    "from sklearn.datasets import make_multilabel_classification\n",
    "from nltk.corpus import stopwords\n",
    "import gensim.corpora as corpora\n",
    "import gensim\n",
    "from pprint import pprint\n",
    "from tkinter import *\n",
    "from googlesearch import search\n",
    "import wikipediaapi"
   ]
  },
  {
   "cell_type": "code",
   "execution_count": 477,
   "metadata": {},
   "outputs": [],
   "source": [
    "stop_words = stopwords.words('english')\n",
    "stop_words.append('.')\n",
    "stop_words.append(',')\n",
    "stop_words.append('\\'s')\n",
    "stop_words.append('\\'\\'')\n",
    "stop_words.append('``')\n",
    "stop_words.append('(')\n",
    "stop_words.append(')')\n",
    "stop_words.append('us')\n",
    "stop_words.append('The')\n",
    "stop_words.append('$')"
   ]
  },
  {
   "attachments": {},
   "cell_type": "markdown",
   "metadata": {},
   "source": [
    "I use nltk.corpus.stopwords to generate stop words. I also decided to add more special character that I found after fitting it into LDA model becuase the stop word does not have it. "
   ]
  },
  {
   "cell_type": "code",
   "execution_count": 478,
   "metadata": {},
   "outputs": [],
   "source": [
    "dataTXT = []\n",
    "count = 0\n",
    "for line in open('AI_info.txt', 'r').read().split('\\n'):\n",
    "        count += 1\n",
    "        if line != '':\n",
    "            dataTXT.append(line)"
   ]
  },
  {
   "attachments": {},
   "cell_type": "markdown",
   "metadata": {},
   "source": [
    "Read AI_Info.txt and store them in dataTXT list."
   ]
  },
  {
   "cell_type": "code",
   "execution_count": 479,
   "metadata": {},
   "outputs": [],
   "source": [
    "num_topics = 4\n",
    "ai_topic_word = []\n",
    "data_words = []"
   ]
  },
  {
   "cell_type": "code",
   "execution_count": 480,
   "metadata": {},
   "outputs": [],
   "source": [
    "def getTextData(text):\n",
    "    input_text = []\n",
    "    count = 0\n",
    "    for line in text.split('\\n'):\n",
    "        count += 1\n",
    "        if line != '':\n",
    "            input_text.append(line)\n",
    "\n",
    "    word_dict_ = {}\n",
    "    for index, line in enumerate(input_text):\n",
    "        word_dict_[index] = word_tokenize(line)\n",
    "\n",
    "    word_dict = {}\n",
    "    for w in word_dict_:\n",
    "        temp = []\n",
    "        for ww in word_dict_[w]:\n",
    "            if ww not in temp and ww not in stop_words:\n",
    "                temp.append(ww)\n",
    "        word_dict[w] = temp\n",
    "\n",
    "    lemma_word_dict = {}\n",
    "    for line in word_dict:\n",
    "        lemma_word_dict[line] = []\n",
    "        lemmatizer = WordNetLemmatizer()\n",
    "        for i in word_dict[line]:\n",
    "            lemma_word_dict[line].append(lemmatizer.lemmatize(i, pos='n'))\n",
    "    return lemma_word_dict"
   ]
  },
  {
   "attachments": {},
   "cell_type": "markdown",
   "metadata": {},
   "source": [
    "This method takes parameter split it line by lines. For each line it split it tokenized those lines. Then remove stop words. After it use WordNetLemmatizer to reverte words back to it's root word so that we don't have words with the same meaning but are different like, eat, eaten, ate. \n",
    "Finally return a dictionary of each lines of lists that has been tokenized, removed stop words, and lammatized."
   ]
  },
  {
   "cell_type": "code",
   "execution_count": 481,
   "metadata": {},
   "outputs": [],
   "source": [
    "def getLdaData(word_dict):\n",
    "    data_words = []\n",
    "    for w in word_dict:\n",
    "        data_words.append(list(word_dict[w]))\n",
    "    dict_tokens = corpora.Dictionary(data_words)\n",
    "    doc_term_mat = [dict_tokens.doc2bow(token) for token in data_words]\n",
    "    texts = data_words\n",
    "    corpus = [dict_tokens.doc2bow(text) for text in texts]\n",
    "    return dict_tokens, doc_term_mat, texts, corpus"
   ]
  },
  {
   "attachments": {},
   "cell_type": "markdown",
   "metadata": {},
   "source": [
    "return data for LDA model that is converted from word_dict that can get from getTextData(text)"
   ]
  },
  {
   "cell_type": "code",
   "execution_count": 482,
   "metadata": {},
   "outputs": [],
   "source": [
    "def isAIRelated(query):\n",
    "    global data_words\n",
    "    lemma_word_dict = getTextData(query)\n",
    "    dict_tokens, doc_term_mat, texts, corpus = getLdaData(lemma_word_dict)\n",
    "    count_topic = [0] * len(ai_topic_word)\n",
    "    isAI = False\n",
    "    for text in texts:\n",
    "        for t in text:\n",
    "            c = 0\n",
    "            for ai_text in ai_topic_word:\n",
    "                if t in ai_text:\n",
    "                    isAI = True\n",
    "                    count_topic[c] += 1\n",
    "                c += 1\n",
    "    index = 0\n",
    "    for i in range(len(ai_topic_word)):\n",
    "        if index != i and count_topic[i] > count_topic[index]:\n",
    "            index = i\n",
    "    return isAI, dataTXT[index]"
   ]
  },
  {
   "attachments": {},
   "cell_type": "markdown",
   "metadata": {},
   "source": [
    "With the parameter I called the method getTextData(query) and store it as lemma_word_dict, and finally getLdaData(lemma_word_dict). <br/>\n",
    "texts is a return value from getLdaData(lemma_word_dict) that contain all tokenized words and stored into a list. For each word in that I list I count the occurrence from ai_topic_word (a list of top words of each topic). <br/>\n",
    "- Example if ai_topic_word is [['system', 'intelligent', 'ai', 'pattern', 'artificial'], ['ai', 'nearly', 'potential', 'artificial', 'predicts'], ['system', 'work', 'ai', 'additional', 'data'], ['ai', 'artificial', 'intelligence', 'good', 'reason']]\n",
    "- Then chatbot input is system work ai data, this will be the result count_topic [2, 1, 4, 1].\n",
    "- In count_topic [2, 1, 4, 1] the index of highest value is 3, so it will return isAI = true and the text in AI_Info.txt line 3"
   ]
  },
  {
   "cell_type": "code",
   "execution_count": 483,
   "metadata": {},
   "outputs": [],
   "source": [
    "lemma_word_dict = getTextData(open('AI_info.txt', 'r').read())\n",
    "dict_tokens, doc_term_mat, texts, corpus = getLdaData(lemma_word_dict)"
   ]
  },
  {
   "cell_type": "code",
   "execution_count": 484,
   "metadata": {},
   "outputs": [],
   "source": [
    "data_words = []\n",
    "for w in lemma_word_dict:\n",
    "    data_words.append(list(lemma_word_dict[w]))\n",
    "dict_tokens = corpora.Dictionary(data_words)\n",
    "doc_term_mat = [dict_tokens.doc2bow(token) for token in data_words]\n",
    "texts = data_words\n",
    "corpus = [dict_tokens.doc2bow(text) for text in texts]"
   ]
  },
  {
   "cell_type": "code",
   "execution_count": 485,
   "metadata": {},
   "outputs": [],
   "source": [
    "lda = gensim.models.LdaModel(corpus=corpus, id2word=dict_tokens, num_topics=num_topics)\n",
    "ai_topic_word = []\n",
    "for i in range(num_topics):\n",
    "    temp = []\n",
    "    for l in lda.show_topic(topicid=i, topn=5):\n",
    "        if l[0].lower() not in ai_topic_word:\n",
    "            temp.append(l[0].lower())\n",
    "    ai_topic_word.append(temp)"
   ]
  },
  {
   "attachments": {},
   "cell_type": "markdown",
   "metadata": {},
   "source": [
    "I use LdaModel to get the top 5 topics out of 4 topics. I added those words into a list named ai_topic_word.\n"
   ]
  },
  {
   "cell_type": "code",
   "execution_count": 486,
   "metadata": {},
   "outputs": [
    {
     "name": "stdout",
     "output_type": "stream",
     "text": [
      "[['system', 'ai', 'intelligent', 'intelligence', 'pattern'], ['work', 'system', 'ai', 'industry', 'change'], ['intelligence', 'ai', 'artificial', 'solely', 'science'], ['ai', 'intelligence', 'one', 'reality', 'transform']]\n"
     ]
    }
   ],
   "source": [
    "print(ai_topic_word)"
   ]
  },
  {
   "cell_type": "code",
   "execution_count": 487,
   "metadata": {},
   "outputs": [],
   "source": [
    "def wikipediaSummary(query):\n",
    "    wiki_wiki = wikipediaapi.Wikipedia('en')\n",
    "    page_py = wiki_wiki.page(query)\n",
    "    return page_py.summary"
   ]
  },
  {
   "attachments": {},
   "cell_type": "markdown",
   "metadata": {},
   "source": [
    "I tried to use google to generate response then but it is way too complicated. So I use wikipediaapi and return a string of summary from this library."
   ]
  },
  {
   "cell_type": "code",
   "execution_count": 488,
   "metadata": {},
   "outputs": [],
   "source": [
    "root = Tk()\n",
    "root.title(\"Chatbot\")\n",
    "def send():\n",
    "    send = \"You -> \"+e.get()\n",
    "    txt.insert(END, \"\\n\"+send)\n",
    "    user = e.get().lower()\n",
    "    if(user == \"hello\"):\n",
    "        txt.insert(END, \"\\n\" + \"Bot -> Hi\")\n",
    "    elif(user == \"hi\" or user == \"hii\" or user == \"hiiii\"):\n",
    "        txt.insert(END, \"\\n\" + \"Bot -> Hello\")\n",
    "    elif(e.get() == \"how are you\"):\n",
    "        txt.insert(END, \"\\n\" + \"Bot -> fine! and you\")\n",
    "    elif(user == \"fine\" or user == \"i am good\" or user == \"i am doing good\"):\n",
    "        txt.insert(END, \"\\n\" + \"Bot -> Great! how can I help you.\")\n",
    "    else:\n",
    "        isAI, msg = isAIRelated(user)\n",
    "        if isAI:\n",
    "            txt.insert(END, \"n\" + msg)\n",
    "        else:\n",
    "            txt.insert(END, \"n\" + wikipediaSummary(user))\n",
    "    e.delete(0, END)\n",
    "txt = Text(root)\n",
    "txt.grid(row=0, column=0, columnspan=2)\n",
    "e = Entry(root, width=100)\n",
    "e.grid(row=1, column=0)\n",
    "send = Button(root, text=\"Send\", command=send).grid(row=1, column=1)\n",
    "root.mainloop()"
   ]
  },
  {
   "attachments": {},
   "cell_type": "markdown",
   "metadata": {},
   "source": [
    "I added a few default response to this chatbot. At the else statement I called isAIRelated(user) if isAI return true then response with one of the string from AI_Info.txt. Otherwise it will return a string of summary from wikipedia."
   ]
  },
  {
   "attachments": {
    "image-2.png": {
     "image/png": "[encoded data removed]"
    },
    "image.png": {
     "image/png": "[encoded data removed]"
    }
   },
   "cell_type": "markdown",
   "metadata": {},
   "source": [
    "Example out that I entered:<br/>\n",
    "my inputs are <br/>\n",
    "- Hello (Some default response)\n",
    "- Joe Biden (Not in ai_topic_word so it will get a wikipedia summary)\n",
    "- intelligence artificial solely (These words are in ai_topic_word, they occured within index 3 of ai_topic_word the most so it return text from line 3 in AI_info.txt)\n",
    "<br/>\n",
    "In this example ai_topic_word is [['system', 'ai', 'intelligent', 'intelligence', 'pattern'], ['work', 'system', 'ai', 'industry', 'change'], ['intelligence', 'ai', 'artificial', 'solely', 'science'], ['ai', 'intelligence', 'one', 'reality', 'transform']]\n",
    "<br/>\n",
    "![image.png](attachment:image.png)\n",
    "![image.png](attachment:image-2.png)"
   ]
  }
 ],
 "metadata": {
  "kernelspec": {
   "display_name": "Python 3",
   "language": "python",
   "name": "python3"
  },
  "language_info": {
   "codemirror_mode": {
    "name": "ipython",
    "version": 3
   },
   "file_extension": ".py",
   "mimetype": "text/x-python",
   "name": "python",
   "nbconvert_exporter": "python",
   "pygments_lexer": "ipython3",
   "version": "3.9.6"
  },
  "orig_nbformat": 4
 },
 "nbformat": 4,
 "nbformat_minor": 2
}
