{
 "cells": [
  {
   "cell_type": "code",
   "execution_count": 1,
   "metadata": {},
   "outputs": [
    {
     "name": "stdout",
     "output_type": "stream",
     "text": [
      "showing info https://raw.githubusercontent.com/nltk/nltk_data/gh-pages/index.xml\n"
     ]
    },
    {
     "data": {
      "text/plain": [
       "True"
      ]
     },
     "execution_count": 1,
     "metadata": {},
     "output_type": "execute_result"
    }
   ],
   "source": [
    "import nltk\n"
   ]
  },
  {
   "attachments": {},
   "cell_type": "markdown",
   "metadata": {},
   "source": [
    "Installed these for part 1 and 2:\n",
    "- pip install scipy    \n",
    "- pip install python_speech_features\n",
    "- pip install hmmlearn \n",
    "- pip install pathlib      \n",
    "- pip install nltk  \n",
    "- pip install gensim \n",
    "- pip install pattern\n",
    "- pip install SpeechRecognition \n",
    "- pip install pyaudio  "
   ]
  },
  {
   "cell_type": "code",
   "execution_count": 1,
   "metadata": {},
   "outputs": [
    {
     "data": {
      "text/plain": [
       "array([[0.00360392, 0.25499205, 0.0036211 , 0.64236448, 0.09541846],\n",
       "       [0.15297572, 0.00362644, 0.44412786, 0.39568399, 0.003586  ]])"
      ]
     },
     "execution_count": 1,
     "metadata": {},
     "output_type": "execute_result"
    }
   ],
   "source": [
    "from sklearn.decomposition import LatentDirichletAllocation\n",
    "from sklearn.datasets import make_multilabel_classification\n",
    "# This produces a feature matrix of token counts, similar to what\n",
    "# CountVectorizer would produce on text.\n",
    "X, _ = make_multilabel_classification(random_state=0)\n",
    "lda = LatentDirichletAllocation(n_components=5,\n",
    "    random_state=0)\n",
    "lda.fit(X)\n",
    "\n",
    "# get topics for some given samples:\n",
    "lda.transform(X[-2:])"
   ]
  },
  {
   "cell_type": "code",
   "execution_count": 3,
   "metadata": {},
   "outputs": [
    {
     "name": "stdout",
     "output_type": "stream",
     "text": [
      "[[3. 1. 4. ... 4. 1. 3.]\n",
      " [5. 0. 6. ... 0. 0. 3.]\n",
      " [3. 4. 1. ... 3. 2. 5.]\n",
      " ...\n",
      " [2. 1. 2. ... 1. 0. 3.]\n",
      " [6. 4. 1. ... 1. 3. 5.]\n",
      " [2. 4. 2. ... 5. 4. 2.]]\n",
      "(100, 20)\n"
     ]
    }
   ],
   "source": [
    "import numpy as np\n",
    "print(X)\n",
    "print(np.array(X).shape)"
   ]
  }
 ],
 "metadata": {
  "kernelspec": {
   "display_name": "Python 3",
   "language": "python",
   "name": "python3"
  },
  "language_info": {
   "codemirror_mode": {
    "name": "ipython",
    "version": 3
   },
   "file_extension": ".py",
   "mimetype": "text/x-python",
   "name": "python",
   "nbconvert_exporter": "python",
   "pygments_lexer": "ipython3",
   "version": "3.9.7"
  },
  "orig_nbformat": 4
 },
 "nbformat": 4,
 "nbformat_minor": 2
}
