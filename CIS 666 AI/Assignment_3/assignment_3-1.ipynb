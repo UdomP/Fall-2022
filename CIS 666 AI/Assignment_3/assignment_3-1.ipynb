{
 "cells": [
  {
   "cell_type": "code",
   "execution_count": 69,
   "metadata": {},
   "outputs": [],
   "source": [
    "import speech_recognition as sr\n",
    "import threading"
   ]
  },
  {
   "attachments": {},
   "cell_type": "markdown",
   "metadata": {},
   "source": [
    "- Import speech_recognition for processing audio and converting it into text\n",
    "- Import threading for multithread processing"
   ]
  },
  {
   "cell_type": "code",
   "execution_count": 70,
   "metadata": {},
   "outputs": [],
   "source": [
    "recognizer = sr.Recognizer()\n",
    "recognizer.energy_threshold = 300"
   ]
  },
  {
   "attachments": {},
   "cell_type": "markdown",
   "metadata": {},
   "source": [
    "- Instantiate speech_recognition and store them as recognizer.\n",
    "- Set energy threshold to 300. So if the values are higher than the energy threshold = 300 then are considered as speech but if the values are lower then they are considered as silent. (300 is the recomended value on SpeechRecognition)"
   ]
  },
  {
   "cell_type": "code",
   "execution_count": 71,
   "metadata": {},
   "outputs": [],
   "source": [
    "curThread = []\n",
    "end = False"
   ]
  },
  {
   "attachments": {},
   "cell_type": "markdown",
   "metadata": {},
   "source": [
    "- curThread global variable for threads.\n",
    "- end global boolean variable that tell real time audio recognition when to stop."
   ]
  },
  {
   "cell_type": "code",
   "execution_count": 72,
   "metadata": {},
   "outputs": [],
   "source": [
    "def recognizeAudio(audio_text):\n",
    "    global end\n",
    "    global curThread\n",
    "    try:\n",
    "        text = recognizer.recognize_google(audio_text)\n",
    "        print(\"Text: \" + text)\n",
    "        if text == 'exit':\n",
    "            end = True\n",
    "    except:\n",
    "         print(\"Unable to recognize voice\")"
   ]
  },
  {
   "attachments": {},
   "cell_type": "markdown",
   "metadata": {},
   "source": [
    "This method takes recorded audio as parameter. Then convert it into text with SpeechRecognizer's recognize_google. \n",
    "- If sucess the it print the converted audio text. \n",
    "- If sucess and the converted audio text is exit then set global variable end to true.\n",
    "- If fail then print \"Unable to recognize voice\""
   ]
  },
  {
   "cell_type": "code",
   "execution_count": 73,
   "metadata": {},
   "outputs": [],
   "source": [
    "def theadController(audio_text):\n",
    "    global end\n",
    "    global curThread\n",
    "    if len(curThread) == 0:\n",
    "        curThread.append(threading.Thread(target=recognizeAudio, args=(audio_text,)))\n",
    "        curThread[-1].start()\n",
    "    else:\n",
    "        for thread in curThread:\n",
    "            if thread.is_alive():\n",
    "                curThread.append(threading.Thread(target=recognizeAudio, args=(audio_text,)))\n",
    "                curThread[-1].start()\n",
    "                break\n",
    "            else:\n",
    "                thread = threading.Thread(target=recognizeAudio, args=(audio_text,))\n",
    "                thread.start()\n",
    "                break"
   ]
  },
  {
   "attachments": {},
   "cell_type": "markdown",
   "metadata": {},
   "source": [
    "This method manages thread, with recorded audio as parameter.\n",
    "- If the global variables curThread is enpty then start a new thread that execute the method recognizeAudio with recorded audio as parameter.\n",
    "- If a thread is not running in curThread then start a new thread that execute the method recognizeAudio with recorded audio as parameter.\n",
    "- If a thread is running in curThread then append a new thread that execute the method recognizeAudio with recorded audio as parameter."
   ]
  },
  {
   "cell_type": "code",
   "execution_count": 75,
   "metadata": {},
   "outputs": [
    {
     "name": "stdout",
     "output_type": "stream",
     "text": [
      "listening\n",
      "stop listening\n",
      "listening\n",
      "Text: hello how are you\n",
      "stop listening\n",
      "listening\n",
      "Text: Netflix\n",
      "stop listening\n",
      "listening\n",
      "Text: communism\n",
      "stop listening\n",
      "listening\n",
      "Text: exit\n",
      "stop listening\n"
     ]
    },
    {
     "name": "stdout",
     "output_type": "stream",
     "text": [
      "Unable to recognize voice\n"
     ]
    }
   ],
   "source": [
    "global end\n",
    "global curThread\n",
    "curThread = []\n",
    "end = False\n",
    "while not end:\n",
    "    recognizer = sr.Recognizer()\n",
    "    recognizer.energy_threshold = 300\n",
    "    with sr.Microphone(sample_rate=16000) as source:\n",
    "        print('listening')\n",
    "        audio_text = recognizer.listen(source)\n",
    "        print('stop listening')\n",
    "        if process is not None:\n",
    "            if process.is_alive:\n",
    "                process.join()\n",
    "        process = threading.Thread(target=theadController, args=(audio_text,))\n",
    "        process.start()"
   ]
  },
  {
   "attachments": {},
   "cell_type": "markdown",
   "metadata": {},
   "source": [
    "Contuniously listen for audio with SpeechRecognition.Microphone. When it is done recording then execute a thread that called theadController with recorded audio as parameter.\n",
    "\n",
    "I set sample_rate for SpeechRecognition.Microphone as 16000Htz because this is the lowest recomended rate on SpeechRecognition. I want the lowest rate for faster processing, and after verious testing the result cames out very good."
   ]
  }
 ],
 "metadata": {
  "kernelspec": {
   "display_name": "Python 3",
   "language": "python",
   "name": "python3"
  },
  "language_info": {
   "codemirror_mode": {
    "name": "ipython",
    "version": 3
   },
   "file_extension": ".py",
   "mimetype": "text/x-python",
   "name": "python",
   "nbconvert_exporter": "python",
   "pygments_lexer": "ipython3",
   "version": "3.9.6"
  },
  "orig_nbformat": 4
 },
 "nbformat": 4,
 "nbformat_minor": 2
}
