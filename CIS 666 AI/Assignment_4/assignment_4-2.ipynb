{
 "cells": [
  {
   "cell_type": "code",
   "execution_count": null,
   "metadata": {},
   "outputs": [],
   "source": [
    "import numpy as np\n",
    "import cv2"
   ]
  },
  {
   "cell_type": "code",
   "execution_count": 24,
   "metadata": {},
   "outputs": [],
   "source": [
    "cap = cv2.VideoCapture('roadvidtimelapse.mp4')\n",
    "car_cascade = cv2.CascadeClassifier('cars.xml')\n",
    "while True:\n",
    "    # reads frames from a video\n",
    "    ret, frames = cap.read()\n",
    "    # convert to gray scale of each frames\n",
    "    if ret == True:\n",
    "        gray = cv2.cvtColor(frames, cv2.COLOR_BGR2GRAY)\n",
    "        # Detects cars of different sizes in the input image\n",
    "        cars = car_cascade.detectMultiScale(gray, 1.1, 5)\n",
    "        # To draw a rectangle in each cars\n",
    "        for (x,y,w,h) in cars:\n",
    "            cv2.rectangle(frames,(x,y),(x+w,y+h),(0,0,255),2)\n",
    "            # Display frames in a window\n",
    "            cv2.imshow('Car Detection', frames)\n",
    "            \n",
    "        k = cv2.waitKey(60) & 0xff\n",
    "        # Wait for Enter key to stop\n",
    "        if k == 27:\n",
    "            break\n",
    "\n",
    "cv2.destroyAllWindows()\n",
    "cap.release()"
   ]
  },
  {
   "attachments": {},
   "cell_type": "markdown",
   "metadata": {},
   "source": [
    "I loaded the video and use cv2 method called CascadeClassifier to read cars.xml. <br/>\n",
    "I programmed this to read each frame of the video here are some of the steps I take to recognize cars in each frames:  <br/>\n",
    "- I convert each frames color scale to gray scale.\n",
    "- Then from CascadeClassifier('cars.xml) I use the method detectMultiScale to detect cars in each frames.\n",
    "    - The parameter I set for detectMultiScale are:\n",
    "        - I set scaleFactor to 1.1\n",
    "        - I set minNeighbors to 5 becuase higher than this will slow down video. I think 5 is sufficient, from the video it seems fairly accurate enough without making the video look like a slide show.\n",
    "- The output of detectMultiScale are coordinate of cars it recognized.\n",
    "- I use the output to draw rectangles on each frame."
   ]
  },
  {
   "cell_type": "code",
   "execution_count": 22,
   "metadata": {},
   "outputs": [],
   "source": [
    "cap = cv2.VideoCapture('roadvidtimelapse.mp4')\n",
    "car_cascade = cv2.CascadeClassifier('cars.xml')\n",
    "while True:\n",
    "    # reads frames from a video\n",
    "    ret, frames = cap.read()\n",
    "    # convert to gray scale of each frames\n",
    "    if ret == True:\n",
    "        grey = cv2.cvtColor(frames,cv2.COLOR_BGR2GRAY)\n",
    "\n",
    "        blur = cv2.GaussianBlur(grey,(5,5),0)\n",
    "\n",
    "        dilated = cv2.dilate(blur,np.ones((3,3)))\n",
    "\n",
    "        kernel = cv2.getStructuringElement(cv2.MORPH_ELLIPSE, (2, 2))\n",
    "        closing = cv2.morphologyEx(dilated, cv2.MORPH_CLOSE, kernel) \n",
    "\n",
    "        # Detects cars of different sizes in the input image\n",
    "        cars = car_cascade.detectMultiScale(closing,\n",
    "            scaleFactor=1.1,\n",
    "            minNeighbors=7)\n",
    "        \n",
    "        # To draw a rectangle in each cars\n",
    "        for (x,y,w,h) in cars:\n",
    "            cv2.rectangle(frames,(x,y),(x+w,y+h),(0,0,255),2)\n",
    "            # Display frames in a window\n",
    "            cv2.imshow('Car Detection', frames)\n",
    "            \n",
    "        k = cv2.waitKey(60) & 0xff\n",
    "        # Wait for Enter key to stop\n",
    "        if k == 27:\n",
    "            break\n",
    "\n",
    "cv2.destroyAllWindows()\n",
    "cap.release()"
   ]
  },
  {
   "attachments": {},
   "cell_type": "markdown",
   "metadata": {},
   "source": [
    "This step is similar to previous, but I added more image processing method to make the program run faster and can have more minNeighbors.<br/>\n",
    "I loaded the video and use cv2 method called CascadeClassifier to read cars.xml. <br/>\n",
    "I programmed this to read each frame of the video here are some of the steps I take to recognize cars in each frames:  <br/>\n",
    "- I convert each frames color scale to gray scale with cv2.cvtColor.\n",
    "- I blured the grey sacled image with cv2.GaussianBlur.\n",
    "- I Dilated the blured image with cv2.dilate.\n",
    "- Finallt I use Morphology transformation with the kernel technique.\n",
    "- Then from CascadeClassifier('cars.xml) I use the method detectMultiScale to detect cars in each frames.\n",
    "    - The parameter I set for detectMultiScale are:\n",
    "        - I set scaleFactor to 1.1\n",
    "        - I set minNeighbors to 7 becuase higher than this will slow down video. I think 7 is sufficient, from the video it seems fairly accurate enough without making the video look like a slide show. Each have gone through many conversion that help speed up the process of detecting video, and I was able to set the the minNeighbors to 7 without slowing the video too much\n",
    "- The output of detectMultiScale are coordinate of cars it recognized.\n",
    "- I use the output to draw rectangles on each frame."
   ]
  }
 ],
 "metadata": {
  "kernelspec": {
   "display_name": "Python 3",
   "language": "python",
   "name": "python3"
  },
  "language_info": {
   "codemirror_mode": {
    "name": "ipython",
    "version": 3
   },
   "file_extension": ".py",
   "mimetype": "text/x-python",
   "name": "python",
   "nbconvert_exporter": "python",
   "pygments_lexer": "ipython3",
   "version": "3.9.6"
  },
  "orig_nbformat": 4
 },
 "nbformat": 4,
 "nbformat_minor": 2
}
