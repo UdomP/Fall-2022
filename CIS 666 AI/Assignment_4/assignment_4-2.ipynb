{
 "cells": [
  {
   "cell_type": "code",
   "execution_count": null,
   "metadata": {},
   "outputs": [],
   "source": [
    "import numpy as np\n",
    "import cv2"
   ]
  },
  {
   "cell_type": "code",
   "execution_count": 24,
   "metadata": {},
   "outputs": [],
   "source": [
    "cap = cv2.VideoCapture('roadvidtimelapse.mp4')\n",
    "car_cascade = cv2.CascadeClassifier('cars.xml')\n",
    "while True:\n",
    "    # reads frames from a video\n",
    "    ret, frames = cap.read()\n",
    "    # convert to gray scale of each frames\n",
    "    if ret == True:\n",
    "        gray = cv2.cvtColor(frames, cv2.COLOR_BGR2GRAY)\n",
    "        # Detects cars of different sizes in the input image\n",
    "        cars = car_cascade.detectMultiScale(gray, 1.1, 5)\n",
    "        # To draw a rectangle in each cars\n",
    "        for (x,y,w,h) in cars:\n",
    "            cv2.rectangle(frames,(x,y),(x+w,y+h),(0,0,255),2)\n",
    "            # Display frames in a window\n",
    "            cv2.imshow('Car Detection', frames)\n",
    "            \n",
    "        k = cv2.waitKey(60) & 0xff\n",
    "        # Wait for Enter key to stop\n",
    "        if k == 27:\n",
    "            break\n",
    "\n",
    "cv2.destroyAllWindows()\n",
    "cap.release()"
   ]
  },
  {
   "cell_type": "code",
   "execution_count": 22,
   "metadata": {},
   "outputs": [],
   "source": [
    "cap = cv2.VideoCapture('roadvidtimelapse.mp4')\n",
    "car_cascade = cv2.CascadeClassifier('cars.xml')\n",
    "while True:\n",
    "    # reads frames from a video\n",
    "    ret, frames = cap.read()\n",
    "    # convert to gray scale of each frames\n",
    "    if ret == True:\n",
    "        grey = cv2.cvtColor(frames,cv2.COLOR_BGR2GRAY)\n",
    "        #frames.fromarray(grey)\n",
    "\n",
    "        blur = cv2.GaussianBlur(grey,(5,5),0)\n",
    "        #frames.fromarray(blur)\n",
    "\n",
    "        dilated = cv2.dilate(blur,np.ones((3,3)))\n",
    "        #frames.fromarray(dilated)\n",
    "\n",
    "        kernel = cv2.getStructuringElement(cv2.MORPH_ELLIPSE, (2, 2))\n",
    "        closing = cv2.morphologyEx(dilated, cv2.MORPH_CLOSE, kernel) \n",
    "        #frames.fromarray(closing)\n",
    "\n",
    "        # Detects cars of different sizes in the input image\n",
    "        cars = car_cascade.detectMultiScale(closing,\n",
    "            scaleFactor=1.1,\n",
    "            minNeighbors=7)\n",
    "        \n",
    "        # To draw a rectangle in each cars\n",
    "        for (x,y,w,h) in cars:\n",
    "            cv2.rectangle(frames,(x,y),(x+w,y+h),(255,0,0),2)\n",
    "            #cv2.rectangle(frames,(x,y),(x+w,y+h),(0,0,255),2)\n",
    "            # Display frames in a window\n",
    "            cv2.imshow('Car Detection', frames)\n",
    "            \n",
    "        k = cv2.waitKey(60) & 0xff\n",
    "        # Wait for Enter key to stop\n",
    "        if k == 27:\n",
    "            break\n",
    "\n",
    "cv2.destroyAllWindows()\n",
    "cap.release()"
   ]
  }
 ],
 "metadata": {
  "kernelspec": {
   "display_name": "Python 3",
   "language": "python",
   "name": "python3"
  },
  "language_info": {
   "codemirror_mode": {
    "name": "ipython",
    "version": 3
   },
   "file_extension": ".py",
   "mimetype": "text/x-python",
   "name": "python",
   "nbconvert_exporter": "python",
   "pygments_lexer": "ipython3",
   "version": "3.9.7"
  },
  "orig_nbformat": 4
 },
 "nbformat": 4,
 "nbformat_minor": 2
}
