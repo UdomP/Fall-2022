{
 "cells": [
  {
   "cell_type": "code",
   "execution_count": 45,
   "metadata": {},
   "outputs": [],
   "source": [
    "from sklearn.neural_network import MLPRegressor\n",
    "from sklearn.model_selection import train_test_split\n",
    "import pandas as pd\n",
    "from sklearn import preprocessing\n",
    "from datetime import datetime\n",
    "from sklearn.metrics import r2_score"
   ]
  },
  {
   "attachments": {},
   "cell_type": "markdown",
   "metadata": {},
   "source": [
    "I import all the necessary libraries. There are many machine learning libraries for neural network. I picked sklearn becuase I'm most familiar and comfortable with this."
   ]
  },
  {
   "cell_type": "code",
   "execution_count": 46,
   "metadata": {},
   "outputs": [],
   "source": [
    "df = pd.read_csv('Climate_dataset_TS.csv')"
   ]
  },
  {
   "attachments": {},
   "cell_type": "markdown",
   "metadata": {},
   "source": [
    "I use pandas to read Climate_dataset_TS.csv and store them as df"
   ]
  },
  {
   "cell_type": "code",
   "execution_count": 47,
   "metadata": {},
   "outputs": [],
   "source": [
    "le = preprocessing.LabelEncoder()\n",
    "df['date'] = le.fit_transform(df['date'])"
   ]
  },
  {
   "attachments": {},
   "cell_type": "markdown",
   "metadata": {},
   "source": [
    "I categorized the date to number for calculating.\n",
    "The dates in df are all organized low to high. The earliest date in df is 2017-01-01, so the encoder will encode it as 0. There 114 rows of data. The last date is 2017-04-24, so the encoder will encode it as 113."
   ]
  },
  {
   "cell_type": "code",
   "execution_count": 48,
   "metadata": {},
   "outputs": [],
   "source": [
    "X = df[['date', 'wind_speed', 'meanpressure']]\n",
    "y = df[['meantemp', 'humidity']]"
   ]
  },
  {
   "attachments": {},
   "cell_type": "markdown",
   "metadata": {},
   "source": [
    "I separate the data into X and y by column. olumns in X are 'date', 'wind_speed', and 'meanpressure' and columns in y are 'meantemp' and 'humidity'.\n"
   ]
  },
  {
   "cell_type": "code",
   "execution_count": 49,
   "metadata": {},
   "outputs": [],
   "source": [
    "X_train, X_test, y_train, y_test = train_test_split(X, y, shuffle=False, test_size=0.2)"
   ]
  },
  {
   "attachments": {},
   "cell_type": "markdown",
   "metadata": {},
   "source": [
    "I split the data into testing and training. 80% test and 20% train."
   ]
  },
  {
   "cell_type": "code",
   "execution_count": 50,
   "metadata": {},
   "outputs": [],
   "source": [
    "# nnTempHumid = MLPRegressor(activation='relu', solver='lbfgs', max_iter=15000).fit(X_train, y_train)\n",
    "nnSpeedPressure = MLPRegressor(activation='relu', solver='lbfgs', max_iter=15000).fit(df[['date']], df[['wind_speed', 'meanpressure']])\n",
    "nnTempHumid = MLPRegressor(activation='identity', solver='lbfgs', max_iter=15000).fit(X_train, y_train)\n",
    "# nnSpeedPressure = MLPRegressor(activation='identity', solver='lbfgs', max_iter=15000).fit(df[['date']], df[['wind_speed', 'meanpressure']])"
   ]
  },
  {
   "attachments": {},
   "cell_type": "markdown",
   "metadata": {},
   "source": [
    "I imported sklearn.MLRegressor to train my data </br>\n",
    "The parameters are:\n",
    "- activation='relu' for wind speed and mean pressure and 'identity' for windspeed and mean pressure - because all I think this fit the most. logistic is for classification, tanh might not fit becuase it is more linear. I picked them based on their r2 score\n",
    "- solver='lbfgs' - becuase I want the training process to stop when loss value has reached the threshold of 1e-4, instead of training for too much or too little, and free up computing time.\n",
    "- max_iter=15000 - if the interation reached 15000 then it will not continue instead of waiting for the loss to reach the threshold.\n",
    "</br>\n",
    "I train for predicting mean temperature and humidity, with 'date', 'wind_speed', and 'meanpressure' as input\n",
    "</br>\n",
    "I train for predicting mean ''wind_speed' and 'meanpressure', with 'date' as input"
   ]
  },
  {
   "cell_type": "code",
   "execution_count": 51,
   "metadata": {},
   "outputs": [],
   "source": [
    "predictTempHumid = nnTempHumid.predict(X_test)\n",
    "scoreTempHumid = nnTempHumid.score(X_test, y_test)\n",
    "predictSpeedPressure = nnSpeedPressure.predict(X_test[['date']])\n",
    "scoreSpeedPressure = nnSpeedPressure.score(X_test[['date']], X_test[['wind_speed', 'meanpressure']])"
   ]
  },
  {
   "attachments": {},
   "cell_type": "markdown",
   "metadata": {},
   "source": [
    "I calculate the score and predict the value to compare with the original values."
   ]
  },
  {
   "cell_type": "code",
   "execution_count": 52,
   "metadata": {},
   "outputs": [
    {
     "name": "stdout",
     "output_type": "stream",
     "text": [
      "Score for predicting Temperature and Humidity -0.78571040552771\n",
      "[26.2929604  40.37745688] [29.75, 33.75]\n",
      "[26.44575858 40.73831372] [30.5, 29.75]\n",
      "[26.57500732 37.5990831 ] [30.933333333333334, 31.866666666666667]\n",
      "[26.73088516 37.09725672] [29.23076923076923, 46.0]\n",
      "[26.88780407 36.90976949] [31.22222222222222, 26.0]\n",
      "[27.03692443 39.65372141] [27.0, 29.875]\n",
      "[27.17157895 37.84718052] [25.625, 29.375]\n",
      "[27.31141715 35.28220574] [27.125, 21.125]\n",
      "[27.45914304 32.93212575] [27.857142857142858, 19.428571428571427]\n",
      "[27.6212045  33.82474397] [29.25, 17.75]\n",
      "[27.78070525 35.51993479] [29.25, 26.0]\n",
      "[27.9341009  36.68111292] [29.666666666666668, 29.11111111111111]\n",
      "[28.0952825  37.48548768] [30.5, 37.625]\n",
      "[28.24431125 35.35541103] [31.22222222222222, 30.444444444444443]\n",
      "[28.39698451 36.27260043] [31.0, 34.25]\n",
      "[28.53774918 34.61716503] [32.55555555555556, 38.44444444444444]\n",
      "[28.68741859 33.25733315] [34.0, 27.33333333333333]\n",
      "[28.84167741 32.34098622] [33.5, 24.125]\n",
      "[29.00301189 33.11126142] [34.5, 27.5]\n",
      "[29.14641559 32.12909514] [34.25, 39.375]\n",
      "[29.28758498 30.95685393] [32.9, 40.9]\n",
      "[29.43368056 30.09253524] [32.875, 27.5]\n",
      "[29.57355976 28.82405358] [32.0, 27.142857142857142]\n",
      "Score for predicting Wind Speed and Mean Pressure 0.0358507075025849\n",
      "[   9.47770146 1008.38361598] [9.2625, 1004.25]\n",
      "[   9.51275422 1008.25094906] [6.9375, 1004.25]\n",
      "[   9.54780699 1008.11828214] [14.32, 1007.2]\n",
      "[   9.58285976 1007.98561523] [14.384615384615389, 1005.0]\n",
      "[   9.61791253 1007.85294831] [13.577777777777776, 1002.8888888888888]\n",
      "[   9.6529653  1007.72028139] [4.65, 1007.375]\n",
      "[   9.68801806 1007.58761447] [8.337499999999999, 1010.375]\n",
      "[   9.72307083 1007.45494756] [14.125, 1010.625]\n",
      "[   9.7581236  1007.32228064] [19.314285714285717, 1008.5714285714286]\n",
      "[   9.79317637 1007.18961372] [15.5125, 1006.25]\n",
      "[   9.82822913 1007.05694681] [9.4875, 1005.875]\n",
      "[   9.8632819  1006.92427989] [4.944444444444445, 1006.7777777777778]\n",
      "[   9.89833467 1006.79161297] [1.3875000000000002, 1004.625]\n",
      "[   9.78155398 1006.13930007] [5.966666666666667, 1002.4444444444443]\n",
      "[   9.56469949 1005.14448723] [2.1, 1003.25]\n",
      "[   9.34784501 1004.1496744 ] [5.366666666666666, 1004.4444444444443]\n",
      "[   9.13099052 1003.15486156] [7.811111111111111, 1003.1111111111112]\n",
      "[   8.91413603 1002.16004873] [9.025, 1000.875]\n",
      "[   8.69728155 1001.1652359 ] [5.5625, 998.625]\n",
      "[   8.48042706 1000.17042306] [6.9625, 999.875]\n",
      "[  8.26357257 999.17561023] [8.89, 1001.6]\n",
      "[  8.04671809 998.18079739] [9.9625, 1002.125]\n",
      "[  7.8298636  997.18598456] [12.157142857142858, 1004.1428571428572]\n"
     ]
    }
   ],
   "source": [
    "print('Score for predicting Temperature and Humidity', scoreTempHumid)\n",
    "for a, b in zip(predictTempHumid, y_test.values.tolist()):\n",
    "    print(a, b)\n",
    "print('Score for predicting Wind Speed and Mean Pressure', scoreSpeedPressure)\n",
    "for a, b in zip(predictSpeedPressure, X_test[['wind_speed', 'meanpressure']].values.tolist()):\n",
    "    print(a, b)"
   ]
  },
  {
   "attachments": {},
   "cell_type": "markdown",
   "metadata": {},
   "source": [
    "I calculate the coefficient of determination and print the predicted value and real value side by side for predicting mean temperature and humidity, with 'date', 'wind_speed', and 'meanpressure' as input and predicting mean ''wind_speed' and 'meanpressure', with 'date' as input"
   ]
  },
  {
   "cell_type": "code",
   "execution_count": 53,
   "metadata": {},
   "outputs": [],
   "source": [
    "def my_predict(_x):\n",
    "    xp = 0\n",
    "    if isinstance(_x, list):\n",
    "        xp = pd.DataFrame(_x)\n",
    "    elif isinstance(_x, pd.DataFrame):\n",
    "        xp = _x.copy()\n",
    "    try:\n",
    "        if xp.shape[1] == 1:\n",
    "            temp = nnSpeedPressure.predict(xp)\n",
    "            tempList = []\n",
    "            for a, b in zip(xp.values.tolist(), temp.tolist()):\n",
    "                temp = []\n",
    "                temp.extend(a)\n",
    "                temp.extend(b)\n",
    "                tempList.append(temp)\n",
    "            xp = pd.DataFrame(tempList)\n",
    "        return nnTempHumid.predict(xp)\n",
    "    except Exception as e:\n",
    "        print(str(e))\n",
    "        return []\n"
   ]
  },
  {
   "attachments": {},
   "cell_type": "markdown",
   "metadata": {},
   "source": [
    "If the input for this method has 1 column then it will predict the Wind Speed and Mean Pressure with input as parameter. Then I combine the result of prediction and parameter and use them to predict Temperature and Humidity."
   ]
  },
  {
   "cell_type": "code",
   "execution_count": 54,
   "metadata": {},
   "outputs": [
    {
     "name": "stdout",
     "output_type": "stream",
     "text": [
      "Predicting temperature and humidity on  2017-05-01\n",
      "[[30.82233384 27.18330115]]\n"
     ]
    },
    {
     "name": "stderr",
     "output_type": "stream",
     "text": [
      "c:\\Users\\serey\\AppData\\Local\\Programs\\Python\\Python39\\lib\\site-packages\\sklearn\\base.py:450: UserWarning: X does not have valid feature names, but MLPRegressor was fitted with feature names\n",
      "  warnings.warn(\n",
      "c:\\Users\\serey\\AppData\\Local\\Programs\\Python\\Python39\\lib\\site-packages\\sklearn\\base.py:450: UserWarning: X does not have valid feature names, but MLPRegressor was fitted with feature names\n",
      "  warnings.warn(\n"
     ]
    }
   ],
   "source": [
    "last_day_data = '2017-04-24'\n",
    "predict_day = '2017-05-01'\n",
    "# convert string to date object\n",
    "d1 = datetime.strptime(last_day_data, \"%Y-%m-%d\")\n",
    "d2 = datetime.strptime(predict_day, \"%Y-%m-%d\")\n",
    "\n",
    "dif = (d2 - d1)\n",
    "val = (df.shape)[0] + dif.days\n",
    "\n",
    "print('Predicting temperature and humidity on ', predict_day)\n",
    "print(my_predict([[val]]))"
   ]
  },
  {
   "attachments": {},
   "cell_type": "markdown",
   "metadata": {},
   "source": [
    "The last date in Climate_dataset_TS.csv is 2017-04-24. I want to know what the mean temperature and humidity value are on 2017-05-01. The encoded value for 2017-04-24 is 114. The difference in day between 2017-04-24 and 2017-05-01 is 7 days. <br/>\n",
    "so the encoded value for 2017-05-01 is 121. I call the method my_predict() with [[121]] as input and print the value of mean temperature and humidity on that day."
   ]
  },
  {
   "cell_type": "code",
   "execution_count": 55,
   "metadata": {},
   "outputs": [
    {
     "name": "stdout",
     "output_type": "stream",
     "text": [
      "Score: -0.8686995367122223\n",
      "[26.2800973  40.30138796] [29.75, 33.75]\n",
      "[26.4297483  39.81099786] [30.5, 29.75]\n",
      "[26.5793993  39.32060775] [30.933333333333334, 31.866666666666667]\n",
      "[26.7290503  38.83021765] [29.23076923076923, 46.0]\n",
      "[26.8787013  38.33982755] [31.22222222222222, 26.0]\n",
      "[27.0283523  37.84943744] [27.0, 29.875]\n",
      "[27.1780033  37.35904734] [25.625, 29.375]\n",
      "[27.3276543  36.86865724] [27.125, 21.125]\n",
      "[27.47730531 36.37826713] [27.857142857142858, 19.428571428571427]\n",
      "[27.62695631 35.88787703] [29.25, 17.75]\n",
      "[27.77660731 35.39748692] [29.25, 26.0]\n",
      "[27.92625831 34.90709682] [29.666666666666668, 29.11111111111111]\n",
      "[28.07590931 34.41670672] [30.5, 37.625]\n",
      "[28.22736504 33.98088365] [31.22222222222222, 30.444444444444443]\n",
      "[28.38001026 33.58102586] [31.0, 34.25]\n",
      "[28.53265548 33.18116807] [32.55555555555556, 38.44444444444444]\n",
      "[28.68530071 32.78131027] [34.0, 27.33333333333333]\n",
      "[28.83794593 32.38145248] [33.5, 24.125]\n",
      "[28.99059115 31.98159468] [34.5, 27.5]\n",
      "[29.14323638 31.58173689] [34.25, 39.375]\n",
      "[29.2958816  31.18187909] [32.9, 40.9]\n",
      "[29.44852682 30.7820213 ] [32.875, 27.5]\n",
      "[29.60117205 30.3821635 ] [32.0, 27.142857142857142]\n"
     ]
    },
    {
     "name": "stderr",
     "output_type": "stream",
     "text": [
      "c:\\Users\\serey\\AppData\\Local\\Programs\\Python\\Python39\\lib\\site-packages\\sklearn\\base.py:450: UserWarning: X does not have valid feature names, but MLPRegressor was fitted with feature names\n",
      "  warnings.warn(\n"
     ]
    }
   ],
   "source": [
    "resu = my_predict(X_test[['date']])\n",
    "score = r2_score(y_test.values.tolist(), resu)\n",
    "print('Score:', score)\n",
    "for a, b in zip(resu, y_test.values.tolist()):\n",
    "    print(a, b)"
   ]
  },
  {
   "attachments": {},
   "cell_type": "markdown",
   "metadata": {},
   "source": [
    "I date values from testing data's to predict for mean temperature and humidity. I want to see how they perform. The method my_predict is will take input with only encoded date value and predict for Wind Speed and Mean Pressure then with the result from the prediction I predict Temperature and Humidity."
   ]
  }
 ],
 "metadata": {
  "kernelspec": {
   "display_name": "Python 3",
   "language": "python",
   "name": "python3"
  },
  "language_info": {
   "codemirror_mode": {
    "name": "ipython",
    "version": 3
   },
   "file_extension": ".py",
   "mimetype": "text/x-python",
   "name": "python",
   "nbconvert_exporter": "python",
   "pygments_lexer": "ipython3",
   "version": "3.9.7"
  },
  "orig_nbformat": 4,
  "vscode": {
   "interpreter": {
    "hash": "23ec26e3d78f03e9d363b0521c54679bd260eb9cc535386c8fbbe8e297a627f2"
   }
  }
 },
 "nbformat": 4,
 "nbformat_minor": 2
}
