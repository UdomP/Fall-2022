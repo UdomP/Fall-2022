{
 "cells": [
  {
   "cell_type": "code",
   "execution_count": 117,
   "metadata": {},
   "outputs": [],
   "source": [
    "from sklearn.neural_network import MLPRegressor\n",
    "from sklearn.model_selection import train_test_split\n",
    "import pandas as pd\n",
    "from sklearn import preprocessing\n",
    "from datetime import datetime"
   ]
  },
  {
   "cell_type": "code",
   "execution_count": 118,
   "metadata": {},
   "outputs": [],
   "source": [
    "df = pd.read_csv('Climate_dataset_TS.csv')"
   ]
  },
  {
   "cell_type": "code",
   "execution_count": 119,
   "metadata": {},
   "outputs": [],
   "source": [
    "le = preprocessing.LabelEncoder()\n",
    "df['date'] = le.fit_transform(df['date'])"
   ]
  },
  {
   "cell_type": "code",
   "execution_count": 120,
   "metadata": {},
   "outputs": [],
   "source": [
    "X = df[['date', 'wind_speed', 'meanpressure']]\n",
    "y = df[['meantemp', 'humidity']]"
   ]
  },
  {
   "cell_type": "code",
   "execution_count": 121,
   "metadata": {},
   "outputs": [],
   "source": [
    "X_train, X_test, y_train, y_test = train_test_split(X, y, shuffle=False, test_size=0.2)"
   ]
  },
  {
   "cell_type": "code",
   "execution_count": 123,
   "metadata": {},
   "outputs": [],
   "source": [
    "nnTempHumid = MLPRegressor(random_state=1, activation='relu', solver='lbfgs', max_iter=15000).fit(X_train, y_train)\n",
    "nnSpeedPressure = MLPRegressor(random_state=1, activation='relu', solver='lbfgs', max_iter=15000).fit(df[['date']], df[['wind_speed', 'meanpressure']])"
   ]
  },
  {
   "cell_type": "code",
   "execution_count": 124,
   "metadata": {},
   "outputs": [],
   "source": [
    "predictTempHumid = nnTempHumid.predict(X_test)\n",
    "scoreTempHumid = nnTempHumid.score(X_test, y_test)\n",
    "predictSpeedPressure = nnSpeedPressure.predict(X_test[['date']])\n",
    "scoreSpeedPressure = nnSpeedPressure.score(X_test[['date']], X_test[['wind_speed', 'meanpressure']])"
   ]
  },
  {
   "cell_type": "code",
   "execution_count": 125,
   "metadata": {},
   "outputs": [
    {
     "name": "stdout",
     "output_type": "stream",
     "text": [
      "Score for predicting Temperature and Humidity -6.448006773297664\n",
      "[26.16786892 31.51417314] [29.75, 33.75]\n",
      "[26.93921127 31.31935965] [30.5, 29.75]\n",
      "[24.61706961 24.89674757] [30.933333333333334, 31.866666666666667]\n",
      "[24.60097599 22.81638948] [29.23076923076923, 46.0]\n",
      "[24.86572326 21.33771747] [31.22222222222222, 26.0]\n",
      "[27.79872184 26.16100971] [27.0, 29.875]\n",
      "[26.66446057 22.25019494] [25.625, 29.375]\n",
      "[24.8309597  16.58398388] [27.125, 21.125]\n",
      "[23.1692834  11.04595629] [27.857142857142858, 19.428571428571427]\n",
      "[24.39463259 11.57298067] [29.25, 17.75]\n",
      "[26.35169482 13.8421581 ] [29.25, 26.0]\n",
      "[27.84384117 15.26027702] [29.666666666666668, 29.11111111111111]\n",
      "[28.99200234 15.64157798] [30.5, 37.625]\n",
      "[27.52527025 10.50200724] [31.22222222222222, 30.444444444444443]\n",
      "[28.79918827 11.44971947] [31.0, 34.25]\n",
      "[27.78416239  7.60678971] [32.55555555555556, 38.44444444444444]\n",
      "[27.01096158  4.01694622] [34.0, 27.33333333333333]\n",
      "[26.6252136   1.15285516] [33.5, 24.125]\n",
      "[27.74216199  1.4583966 ] [34.5, 27.5]\n",
      "[27.32750663 -1.11195574] [34.25, 39.375]\n",
      "[26.74754269 -3.98281326] [32.9, 40.9]\n",
      "[26.43170718 -6.41840691] [32.875, 27.5]\n",
      "[25.76848932 -9.43514937] [32.0, 27.142857142857142]\n",
      "Score for predicting Wind Speed and Mean Pressure 0.137404612716378\n",
      "[   9.05117628 1006.94220311] [9.2625, 1004.25]\n",
      "[   9.07197516 1006.75825518] [6.9375, 1004.25]\n",
      "[   9.09277405 1006.57430724] [14.32, 1007.2]\n",
      "[   9.11357293 1006.39035931] [14.384615384615389, 1005.0]\n",
      "[   9.13437181 1006.20641138] [13.577777777777776, 1002.8888888888888]\n",
      "[   9.1551707  1006.02246344] [4.65, 1007.375]\n",
      "[   9.17596958 1005.83851551] [8.337499999999999, 1010.375]\n",
      "[   9.19676846 1005.65456758] [14.125, 1010.625]\n",
      "[   9.21756734 1005.47061964] [19.314285714285717, 1008.5714285714286]\n",
      "[   9.23836623 1005.28667171] [15.5125, 1006.25]\n",
      "[   9.25916511 1005.10272378] [9.4875, 1005.875]\n",
      "[   9.27996399 1004.91877584] [4.944444444444445, 1006.7777777777778]\n",
      "[   9.30076287 1004.73482791] [1.3875000000000002, 1004.625]\n",
      "[   9.32156176 1004.55087998] [5.966666666666667, 1002.4444444444443]\n",
      "[   9.34236064 1004.36693204] [2.1, 1003.25]\n",
      "[   9.36315952 1004.18298411] [5.366666666666666, 1004.4444444444443]\n",
      "[   9.38395841 1003.99903618] [7.811111111111111, 1003.1111111111112]\n",
      "[   9.40475729 1003.81508824] [9.025, 1000.875]\n",
      "[   9.42555617 1003.63114031] [5.5625, 998.625]\n",
      "[   9.44635505 1003.44719237] [6.9625, 999.875]\n",
      "[   9.46715394 1003.26324444] [8.89, 1001.6]\n",
      "[   9.48795282 1003.07929651] [9.9625, 1002.125]\n",
      "[   9.5087517  1002.89534857] [12.157142857142858, 1004.1428571428572]\n"
     ]
    }
   ],
   "source": [
    "print('Score for predicting Temperature and Humidity', scoreTempHumid)\n",
    "for a, b in zip(predictTempHumid, y_test.values.tolist()):\n",
    "    print(a, b)\n",
    "print('Score for predicting Wind Speed and Mean Pressure', scoreSpeedPressure)\n",
    "for a, b in zip(predictSpeedPressure, X_test[['wind_speed', 'meanpressure']].values.tolist()):\n",
    "    print(a, b)"
   ]
  },
  {
   "cell_type": "code",
   "execution_count": 126,
   "metadata": {},
   "outputs": [],
   "source": [
    "def my_predict(_x):\n",
    "    xp = 0\n",
    "    if isinstance(_x, list):\n",
    "        xp = pd.DataFrame(_x)\n",
    "    elif isinstance(_x, pd.DataFrame):\n",
    "        xp = _x.copy()\n",
    "    try:\n",
    "        if xp.shape[1] == 1:\n",
    "            temp = nnSpeedPressure.predict(xp)\n",
    "            tempList = []\n",
    "            for a, b in zip(xp.values.tolist(), temp.tolist()):\n",
    "                temp = []\n",
    "                temp.extend(a)\n",
    "                temp.extend(b)\n",
    "                tempList.append(temp)\n",
    "            xp = pd.DataFrame(tempList)\n",
    "        return nnTempHumid.predict(xp)\n",
    "    except Exception as e:\n",
    "        print(str(e))\n",
    "        return []\n"
   ]
  },
  {
   "cell_type": "code",
   "execution_count": 127,
   "metadata": {},
   "outputs": [
    {
     "name": "stdout",
     "output_type": "stream",
     "text": [
      "Predicting temperature and humidity on  2017-05-01\n",
      "[[ 26.73539263 -22.25167436]]\n"
     ]
    },
    {
     "name": "stderr",
     "output_type": "stream",
     "text": [
      "c:\\Users\\serey\\AppData\\Local\\Programs\\Python\\Python39\\lib\\site-packages\\sklearn\\base.py:450: UserWarning: X does not have valid feature names, but MLPRegressor was fitted with feature names\n",
      "  warnings.warn(\n",
      "c:\\Users\\serey\\AppData\\Local\\Programs\\Python\\Python39\\lib\\site-packages\\sklearn\\base.py:450: UserWarning: X does not have valid feature names, but MLPRegressor was fitted with feature names\n",
      "  warnings.warn(\n"
     ]
    }
   ],
   "source": [
    "last_day_data = '2017-04-24'\n",
    "predict_day = '2017-05-01'\n",
    "# convert string to date object\n",
    "d1 = datetime.strptime(last_day_data, \"%Y-%m-%d\")\n",
    "d2 = datetime.strptime(predict_day, \"%Y-%m-%d\")\n",
    "\n",
    "dif = (d2 - d1)\n",
    "val = (df.shape)[0] + dif.days\n",
    "\n",
    "print('Predicting temperature and humidity on ', predict_day)\n",
    "print(my_predict([[val]]))"
   ]
  },
  {
   "cell_type": "code",
   "execution_count": 128,
   "metadata": {},
   "outputs": [
    {
     "name": "stdout",
     "output_type": "stream",
     "text": [
      "[26.25964506 31.98179612] [29.75, 33.75]\n",
      "[26.27550331 30.17401377] [30.5, 29.75]\n",
      "[26.29136156 28.36623142] [30.933333333333334, 31.866666666666667]\n",
      "[26.30721981 26.55844907] [29.23076923076923, 46.0]\n",
      "[26.32307807 24.75066672] [31.22222222222222, 26.0]\n",
      "[26.33893632 22.94288437] [27.0, 29.875]\n",
      "[26.35479457 21.13510203] [25.625, 29.375]\n",
      "[26.37065282 19.32731968] [27.125, 21.125]\n",
      "[26.38651108 17.51953733] [27.857142857142858, 19.428571428571427]\n",
      "[26.40236933 15.71175498] [29.25, 17.75]\n",
      "[26.41822758 13.90397263] [29.25, 26.0]\n",
      "[26.43408583 12.09619028] [29.666666666666668, 29.11111111111111]\n",
      "[26.44994409 10.28840793] [30.5, 37.625]\n",
      "[26.46580234  8.48062558] [31.22222222222222, 30.444444444444443]\n",
      "[26.48166059  6.67284323] [31.0, 34.25]\n",
      "[26.49751884  4.86506088] [32.55555555555556, 38.44444444444444]\n",
      "[26.51337709  3.05727853] [34.0, 27.33333333333333]\n",
      "[26.52923535  1.24949618] [33.5, 24.125]\n",
      "[26.5450936  -0.55828617] [34.5, 27.5]\n",
      "[26.56095185 -2.36606852] [34.25, 39.375]\n",
      "[26.5768101  -4.17385086] [32.9, 40.9]\n",
      "[26.59266836 -5.98163321] [32.875, 27.5]\n",
      "[26.60852661 -7.78941556] [32.0, 27.142857142857142]\n"
     ]
    },
    {
     "name": "stderr",
     "output_type": "stream",
     "text": [
      "c:\\Users\\serey\\AppData\\Local\\Programs\\Python\\Python39\\lib\\site-packages\\sklearn\\base.py:450: UserWarning: X does not have valid feature names, but MLPRegressor was fitted with feature names\n",
      "  warnings.warn(\n"
     ]
    }
   ],
   "source": [
    "for a, b in zip(my_predict(X_test[['date']]), y_test.values.tolist()):\n",
    "    print(a, b)"
   ]
  }
 ],
 "metadata": {
  "kernelspec": {
   "display_name": "Python 3",
   "language": "python",
   "name": "python3"
  },
  "language_info": {
   "codemirror_mode": {
    "name": "ipython",
    "version": 3
   },
   "file_extension": ".py",
   "mimetype": "text/x-python",
   "name": "python",
   "nbconvert_exporter": "python",
   "pygments_lexer": "ipython3",
   "version": "3.9.6"
  },
  "orig_nbformat": 4,
  "vscode": {
   "interpreter": {
    "hash": "23ec26e3d78f03e9d363b0521c54679bd260eb9cc535386c8fbbe8e297a627f2"
   }
  }
 },
 "nbformat": 4,
 "nbformat_minor": 2
}
