{
 "cells": [
  {
   "cell_type": "code",
   "execution_count": 79,
   "metadata": {},
   "outputs": [],
   "source": [
    "import pandas as pd\n",
    "from sklearn.model_selection import train_test_split\n",
    "import matplotlib.pyplot as plt\n",
    "import numpy as np\n",
    "from sklearn import tree\n",
    "from sklearn.metrics import precision_score, recall_score, f1_score, accuracy_score\n",
    "from sklearn.metrics import confusion_matrix"
   ]
  },
  {
   "attachments": {},
   "cell_type": "markdown",
   "metadata": {},
   "source": [
    "I imported all the necessary libraries.\n",
    "- pandas - manage and read data.\n",
    "- sklearn.model_selection.train_test_split - split data into testing and training set of X and Y.\n",
    "- matplotlib.pyplot - to plot data and show graph\n",
    "- numpy - create array\n",
    "- sklearn.tree - decision tree class for my model\n",
    "- sklearn.metrics.precision_score, recall_score, f1_score, accuracy_score - to calculate the result of my prediction.\n"
   ]
  },
  {
   "cell_type": "code",
   "execution_count": 80,
   "metadata": {},
   "outputs": [],
   "source": [
    "df = pd.read_csv('test_dt.txt', header=None)"
   ]
  },
  {
   "attachments": {},
   "cell_type": "markdown",
   "metadata": {},
   "source": [
    "I use pandas to read 'test_dt.txt' and store in a variable called df. Since there are no header in the txt file I read, I turned it off."
   ]
  },
  {
   "cell_type": "code",
   "execution_count": 81,
   "metadata": {},
   "outputs": [],
   "source": [
    "Y = df[2]\n",
    "X = df.drop(2, axis=1)\n",
    "\n",
    "x_train,x_test,y_train,y_test = train_test_split(X,Y,test_size=0.25,random_state=666)"
   ]
  },
  {
   "attachments": {},
   "cell_type": "markdown",
   "metadata": {},
   "source": [
    "I removed column 2 and marked them as X, and marked column 2 as Y. Then I use sklearn.model_selection.train_test_split my X and Y data into a training set and testing set of X and Y. There are 15 rows, so spliting it 80:20 is 12:3. I don't think 3 testing rows is enough. So I decided to split 75:25 which is 11:4. Since it is a small set of data I made sure to have random state on and set it to 666."
   ]
  },
  {
   "cell_type": "code",
   "execution_count": 82,
   "metadata": {},
   "outputs": [
    {
     "name": "stderr",
     "output_type": "stream",
     "text": [
      "C:\\Users\\serey\\AppData\\Local\\Temp\\ipykernel_22372\\1382851991.py:4: UserWarning: You passed a edgecolor/edgecolors ('black') for an unfilled marker ('+').  Matplotlib is ignoring the edgecolor in favor of the facecolor.  This behavior may change in the future.\n",
      "  plt.scatter(class_0[:, 0], class_0[:, 1], s=75, facecolors='blue', edgecolors='black', linewidth=1, marker='+')\n"
     ]
    },
    {
     "data": {
      "image/png": "[encoded data removed]",
      "text/plain": [
       "<Figure size 432x288 with 1 Axes>"
      ]
     },
     "metadata": {
      "needs_background": "light"
     },
     "output_type": "display_data"
    }
   ],
   "source": [
    "class_0 = np.array(X[Y==0])\n",
    "class_1 = np.array(X[Y==1])\n",
    "\n",
    "plt.scatter(class_0[:, 0], class_0[:, 1], s=75, facecolors='blue', edgecolors='black', linewidth=1, marker='+')\n",
    "plt.scatter(class_1[:, 0], class_1[:, 1], s=75, facecolors='blue', edgecolors='black', linewidth=1, marker='o')\n",
    "plt.show()"
   ]
  },
  {
   "attachments": {},
   "cell_type": "markdown",
   "metadata": {},
   "source": [
    "I split my data based on the boolean value of column 2 that contain only 0s and 1s. I assigned the row where column 2 is 0 in a variable called class_0, and I assigned the row where column 2 is 1 in a variable called class_1. I put class_0 and class_1 in matplotlib.plt to graph. I labeled class_0 as '+' and class_1 as 'o'."
   ]
  },
  {
   "cell_type": "code",
   "execution_count": 83,
   "metadata": {},
   "outputs": [
    {
     "name": "stdout",
     "output_type": "stream",
     "text": [
      "[0 0 1 1]\n",
      "11    1\n",
      "10    0\n",
      "8     1\n",
      "5     1\n",
      "Name: 2, dtype: int64\n"
     ]
    }
   ],
   "source": [
    "clf = tree.DecisionTreeClassifier()\n",
    "clf = clf.fit(x_train, y_train)\n",
    "predict = clf.predict(x_test)\n",
    "print(predict)\n",
    "print(y_test)"
   ]
  },
  {
   "attachments": {},
   "cell_type": "markdown",
   "metadata": {},
   "source": [
    "I use DecisionTreeClassifier model from sklearn.tree class to train and predict. I fitted my training X and Y point into the model for training. Then I called the predict() method with my testing X data as parameter to predict. The method predict() will return an array of 0s and 1s value that it calculated."
   ]
  },
  {
   "cell_type": "code",
   "execution_count": 85,
   "metadata": {},
   "outputs": [
    {
     "name": "stdout",
     "output_type": "stream",
     "text": [
      "precision_score =  1.0\n",
      "recall_score =  0.6666666666666666\n",
      "f1_score =  0.8\n",
      "accuracy_score =  0.75\n"
     ]
    }
   ],
   "source": [
    "print('precision_score = ', precision_score(y_test, predict))\n",
    "print('recall_score = ', recall_score(y_test, predict))\n",
    "print('f1_score = ', f1_score(y_test, predict))\n",
    "print('accuracy_score = ', accuracy_score(y_test, predict))"
   ]
  },
  {
   "attachments": {},
   "cell_type": "markdown",
   "metadata": {},
   "source": [
    "I comparred my predicted value with the real y value that is in my testing set. With the precision_score, recall_score, f1_score,and accuracy_score classes that I imported from sklearn.metrics, I use the methods to calculate their performance. This is the best result that I have with random state of '666' turned on.\n",
    "<br/>\n",
    "Confusion matrix:<br/><br/>\n",
    "predict = [0 0 1 1]\n",
    "y_test = [1 0 1 1]\n",
    "<br/>\n",
    "1 is positive, and 0 is negative:<br/><br/>\n",
    "true_positive = 2<br/>\n",
    "false_positive = 0<br/>\n",
    "true_negative = 1<br/>\n",
    "false_negative = 1<br/>\n",
    "<br/>\n",
    "Performance calculation of precision_score, recall_score, f1_score,and accuracy_score:<br/><br/>\n",
    "precision_score =  1.0<br/>\n",
    "recall_score =  0.6666666666666666<br/>\n",
    "f1_score =  0.8<br/>\n",
    "accuracy_score =  0.75<br/>\n",
    "\n",
    "This is the best result that I got after a few runs. I think with more data or more fine tuning the randomization may help the decisiontree to perform better. \n",
    "\n"
   ]
  }
 ],
 "metadata": {
  "kernelspec": {
   "display_name": "Python 3",
   "language": "python",
   "name": "python3"
  },
  "language_info": {
   "codemirror_mode": {
    "name": "ipython",
    "version": 3
   },
   "file_extension": ".py",
   "mimetype": "text/x-python",
   "name": "python",
   "nbconvert_exporter": "python",
   "pygments_lexer": "ipython3",
   "version": "3.9.6"
  },
  "orig_nbformat": 4,
  "vscode": {
   "interpreter": {
    "hash": "23ec26e3d78f03e9d363b0521c54679bd260eb9cc535386c8fbbe8e297a627f2"
   }
  }
 },
 "nbformat": 4,
 "nbformat_minor": 2
}
