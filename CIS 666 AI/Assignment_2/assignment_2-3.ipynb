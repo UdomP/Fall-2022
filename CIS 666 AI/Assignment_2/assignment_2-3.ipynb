{
 "cells": [
  {
   "cell_type": "code",
   "execution_count": 3,
   "metadata": {},
   "outputs": [],
   "source": [
    "import pandas as pd\n",
    "import matplotlib.pyplot as plt\n",
    "import numpy as np\n",
    "from sklearn.neighbors import KNeighborsClassifier\n",
    "import euclidean_score\n",
    "import pearson_score"
   ]
  },
  {
   "cell_type": "code",
   "execution_count": 2,
   "metadata": {},
   "outputs": [],
   "source": [
    "df_movie = pd.read_csv('movie.csv')\n",
    "df_rating = pd.read_csv('rating.csv')\n",
    "df_tag = pd.read_csv('tag.csv')"
   ]
  },
  {
   "cell_type": "code",
   "execution_count": 4,
   "metadata": {},
   "outputs": [
    {
     "name": "stdout",
     "output_type": "stream",
     "text": [
      "   movieId                               title  \\\n",
      "0        1                    Toy Story (1995)   \n",
      "1        2                      Jumanji (1995)   \n",
      "2        3             Grumpier Old Men (1995)   \n",
      "3        4            Waiting to Exhale (1995)   \n",
      "4        5  Father of the Bride Part II (1995)   \n",
      "\n",
      "                                        genres  \n",
      "0  Adventure|Animation|Children|Comedy|Fantasy  \n",
      "1                   Adventure|Children|Fantasy  \n",
      "2                               Comedy|Romance  \n",
      "3                         Comedy|Drama|Romance  \n",
      "4                                       Comedy  \n",
      "   userId  movieId  rating            timestamp\n",
      "0       1        2     3.5  2005-04-02 23:53:47\n",
      "1       1       29     3.5  2005-04-02 23:31:16\n",
      "2       1       32     3.5  2005-04-02 23:33:39\n",
      "3       1       47     3.5  2005-04-02 23:32:07\n",
      "4       1       50     3.5  2005-04-02 23:29:40\n",
      "   userId  movieId            tag            timestamp\n",
      "0      18     4141    Mark Waters  2009-04-24 18:19:40\n",
      "1      65      208      dark hero  2013-05-10 01:41:18\n",
      "2      65      353      dark hero  2013-05-10 01:41:19\n",
      "3      65      521  noir thriller  2013-05-10 01:39:43\n",
      "4      65      592      dark hero  2013-05-10 01:41:18\n"
     ]
    }
   ],
   "source": [
    "print(df_movie.head())\n",
    "print(df_rating.head())\n",
    "print(df_tag.head())"
   ]
  },
  {
   "cell_type": "code",
   "execution_count": 10,
   "metadata": {},
   "outputs": [],
   "source": [
    "unique_movie = df_movie['movieId'].unique()\n",
    "movie_id_name = {}\n",
    "for m in unique_movie:\n",
    "    movie_id_name[m] = (df_movie.loc[df_movie['movieId'] == m])['title']"
   ]
  },
  {
   "cell_type": "code",
   "execution_count": 15,
   "metadata": {},
   "outputs": [],
   "source": [
    "unique_tag_list = []\n",
    "for t in df_movie['genres']:\n",
    "    temp = t.split('|')\n",
    "    for word in temp:\n",
    "        if word not in unique_tag_list:\n",
    "            unique_tag_list.append(word)"
   ]
  },
  {
   "cell_type": "code",
   "execution_count": 18,
   "metadata": {},
   "outputs": [],
   "source": [
    "genre = {}\n",
    "for t in unique_tag_list:\n",
    "    genre[t] = 0"
   ]
  },
  {
   "cell_type": "code",
   "execution_count": 19,
   "metadata": {},
   "outputs": [
    {
     "name": "stdout",
     "output_type": "stream",
     "text": [
      "{'Adventure': 0, 'Animation': 0, 'Children': 0, 'Comedy': 0, 'Fantasy': 0, 'Romance': 0, 'Drama': 0, 'Action': 0, 'Crime': 0, 'Thriller': 0, 'Horror': 0, 'Mystery': 0, 'Sci-Fi': 0, 'IMAX': 0, 'Documentary': 0, 'War': 0, 'Musical': 0, 'Western': 0, 'Film-Noir': 0, '(no genres listed)': 0}\n"
     ]
    }
   ],
   "source": [
    "print(genre)"
   ]
  },
  {
   "cell_type": "code",
   "execution_count": 20,
   "metadata": {},
   "outputs": [],
   "source": [
    "X = {}\n",
    "for m in unique_movie:\n",
    "    X[m] = genre"
   ]
  },
  {
   "cell_type": "code",
   "execution_count": 24,
   "metadata": {},
   "outputs": [
    {
     "ename": "TypeError",
     "evalue": "string indices must be integers",
     "output_type": "error",
     "traceback": [
      "\u001b[1;31m---------------------------------------------------------------------------\u001b[0m",
      "\u001b[1;31mTypeError\u001b[0m                                 Traceback (most recent call last)",
      "Cell \u001b[1;32mIn[24], line 2\u001b[0m\n\u001b[0;32m      1\u001b[0m \u001b[39mfor\u001b[39;00m movie \u001b[39min\u001b[39;00m df_movie:\n\u001b[1;32m----> 2\u001b[0m     temp \u001b[39m=\u001b[39m movie[\u001b[39m'\u001b[39;49m\u001b[39mgenre\u001b[39;49m\u001b[39m'\u001b[39;49m]\u001b[39m.\u001b[39msplit(\u001b[39m'\u001b[39m\u001b[39m|\u001b[39m\u001b[39m'\u001b[39m)\n\u001b[0;32m      3\u001b[0m     \u001b[39mfor\u001b[39;00m word \u001b[39min\u001b[39;00m temp:\n\u001b[0;32m      4\u001b[0m         \u001b[39mif\u001b[39;00m word \u001b[39min\u001b[39;00m unique_tag_list:\n",
      "\u001b[1;31mTypeError\u001b[0m: string indices must be integers"
     ]
    }
   ],
   "source": [
    "for movie in df_movie:\n",
    "    temp = movie['genre'].split('|')\n",
    "    for word in temp:\n",
    "        X[movie['movieId']][word] = 1"
   ]
  }
 ],
 "metadata": {
  "kernelspec": {
   "display_name": "Python 3",
   "language": "python",
   "name": "python3"
  },
  "language_info": {
   "codemirror_mode": {
    "name": "ipython",
    "version": 3
   },
   "file_extension": ".py",
   "mimetype": "text/x-python",
   "name": "python",
   "nbconvert_exporter": "python",
   "pygments_lexer": "ipython3",
   "version": "3.9.7"
  },
  "orig_nbformat": 4,
  "vscode": {
   "interpreter": {
    "hash": "23ec26e3d78f03e9d363b0521c54679bd260eb9cc535386c8fbbe8e297a627f2"
   }
  }
 },
 "nbformat": 4,
 "nbformat_minor": 2
}
