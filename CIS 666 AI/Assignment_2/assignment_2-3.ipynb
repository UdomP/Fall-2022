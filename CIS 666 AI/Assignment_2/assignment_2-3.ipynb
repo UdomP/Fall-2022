{
 "cells": [
  {
   "cell_type": "code",
   "execution_count": 4,
   "metadata": {},
   "outputs": [],
   "source": [
    "import pandas as pd\n",
    "import matplotlib.pyplot as plt\n",
    "import numpy as np\n",
    "from sklearn.neighbors import KNeighborsClassifier"
   ]
  },
  {
   "cell_type": "code",
   "execution_count": 5,
   "metadata": {},
   "outputs": [
    {
     "name": "stdout",
     "output_type": "stream",
     "text": [
      "       movieId                               title  \\\n",
      "0            1                    Toy Story (1995)   \n",
      "1            2                      Jumanji (1995)   \n",
      "2            3             Grumpier Old Men (1995)   \n",
      "3            4            Waiting to Exhale (1995)   \n",
      "4            5  Father of the Bride Part II (1995)   \n",
      "...        ...                                 ...   \n",
      "27273   131254        Kein Bund für's Leben (2007)   \n",
      "27274   131256       Feuer, Eis & Dosenbier (2002)   \n",
      "27275   131258                  The Pirates (2014)   \n",
      "27276   131260                 Rentun Ruusu (2001)   \n",
      "27277   131262                    Innocence (2014)   \n",
      "\n",
      "                                            genres  \n",
      "0      Adventure|Animation|Children|Comedy|Fantasy  \n",
      "1                       Adventure|Children|Fantasy  \n",
      "2                                   Comedy|Romance  \n",
      "3                             Comedy|Drama|Romance  \n",
      "4                                           Comedy  \n",
      "...                                            ...  \n",
      "27273                                       Comedy  \n",
      "27274                                       Comedy  \n",
      "27275                                    Adventure  \n",
      "27276                           (no genres listed)  \n",
      "27277                     Adventure|Fantasy|Horror  \n",
      "\n",
      "[27278 rows x 3 columns]\n",
      "          userId  movieId  rating            timestamp\n",
      "0              1        2     3.5  2005-04-02 23:53:47\n",
      "1              1       29     3.5  2005-04-02 23:31:16\n",
      "2              1       32     3.5  2005-04-02 23:33:39\n",
      "3              1       47     3.5  2005-04-02 23:32:07\n",
      "4              1       50     3.5  2005-04-02 23:29:40\n",
      "...          ...      ...     ...                  ...\n",
      "20000258  138493    68954     4.5  2009-11-13 15:42:00\n",
      "20000259  138493    69526     4.5  2009-12-03 18:31:48\n",
      "20000260  138493    69644     3.0  2009-12-07 18:10:57\n",
      "20000261  138493    70286     5.0  2009-11-13 15:42:24\n",
      "20000262  138493    71619     2.5  2009-10-17 20:25:36\n",
      "\n",
      "[20000263 rows x 4 columns]\n",
      "        userId  movieId            tag            timestamp\n",
      "0           18     4141    Mark Waters  2009-04-24 18:19:40\n",
      "1           65      208      dark hero  2013-05-10 01:41:18\n",
      "2           65      353      dark hero  2013-05-10 01:41:19\n",
      "3           65      521  noir thriller  2013-05-10 01:39:43\n",
      "4           65      592      dark hero  2013-05-10 01:41:18\n",
      "...        ...      ...            ...                  ...\n",
      "465559  138446    55999        dragged  2013-01-23 23:29:32\n",
      "465560  138446    55999  Jason Bateman  2013-01-23 23:29:38\n",
      "465561  138446    55999         quirky  2013-01-23 23:29:38\n",
      "465562  138446    55999            sad  2013-01-23 23:29:32\n",
      "465563  138472      923  rise to power  2007-11-02 21:12:47\n",
      "\n",
      "[465564 rows x 4 columns]\n"
     ]
    }
   ],
   "source": [
    "df_movie = pd.read_csv('movie.csv')\n",
    "df_rating = pd.read_csv('rating.csv')\n",
    "df_tag = pd.read_csv('tag.csv')\n",
    "\n",
    "print(df_movie)\n",
    "print(df_rating)\n",
    "print(df_tag)"
   ]
  },
  {
   "cell_type": "code",
   "execution_count": null,
   "metadata": {},
   "outputs": [],
   "source": []
  }
 ],
 "metadata": {
  "kernelspec": {
   "display_name": "Python 3",
   "language": "python",
   "name": "python3"
  },
  "language_info": {
   "codemirror_mode": {
    "name": "ipython",
    "version": 3
   },
   "file_extension": ".py",
   "mimetype": "text/x-python",
   "name": "python",
   "nbconvert_exporter": "python",
   "pygments_lexer": "ipython3",
   "version": "3.9.6"
  },
  "orig_nbformat": 4,
  "vscode": {
   "interpreter": {
    "hash": "23ec26e3d78f03e9d363b0521c54679bd260eb9cc535386c8fbbe8e297a627f2"
   }
  }
 },
 "nbformat": 4,
 "nbformat_minor": 2
}
