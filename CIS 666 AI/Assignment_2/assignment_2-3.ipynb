{
 "cells": [
  {
   "cell_type": "code",
   "execution_count": 174,
   "metadata": {},
   "outputs": [],
   "source": [
    "import pandas as pd\n",
    "from sklearn.neighbors import NearestNeighbors\n",
    "import random\n",
    "from compute_score import pearson_score, euclidean_score"
   ]
  },
  {
   "attachments": {},
   "cell_type": "markdown",
   "metadata": {},
   "source": [
    "Imported libraries:\n",
    "- pandas to read and manage data files\n",
    "- sklearn.neighbors.NearestNeighbors - K Nearest Neighbors model to predict other movies that are similar\n",
    "- random - pick a random value"
   ]
  },
  {
   "cell_type": "code",
   "execution_count": 175,
   "metadata": {},
   "outputs": [],
   "source": [
    "df_movie = pd.read_csv('movie.csv')\n",
    "df_rating = pd.read_csv('rating.csv')\n",
    "df_tag = pd.read_csv('tag.csv')"
   ]
  },
  {
   "attachments": {},
   "cell_type": "markdown",
   "metadata": {},
   "source": [
    "Use pandas to read movie.csv, rating.csv, and tag.csv and store them in df_movie, df_rating, and df_tag."
   ]
  },
  {
   "cell_type": "code",
   "execution_count": 176,
   "metadata": {},
   "outputs": [],
   "source": [
    "unique_movie = df_movie['movieId'].unique()"
   ]
  },
  {
   "attachments": {},
   "cell_type": "markdown",
   "metadata": {},
   "source": [
    "Get a list of unique movie ids and store them in unique_movie.\n",
    "This is to make sure there are no duplicate movies in the csv files"
   ]
  },
  {
   "cell_type": "code",
   "execution_count": 177,
   "metadata": {},
   "outputs": [],
   "source": [
    "unique_tag_list = []\n",
    "for t in df_movie['genres']:\n",
    "    temp = t.split('|')\n",
    "    for word in temp:\n",
    "        if word not in unique_tag_list:\n",
    "            unique_tag_list.append(word)\n",
    "\n",
    "unique_tag_list.remove('IMAX')"
   ]
  },
  {
   "attachments": {},
   "cell_type": "markdown",
   "metadata": {},
   "source": [
    "Go through all genres of all the movies and store them in a list. This is the list of all tags that are in movie.csv \n",
    "- ['Adventure', 'Animation', 'Children', 'Comedy', 'Fantasy', 'Romance', 'Drama', 'Action', 'Crime', 'Thriller', 'Horror', 'Mystery', 'Sci-Fi', 'IMAX', 'Documentary', 'War', 'Musical', 'Western', 'Film-Noir', '(no genres listed)']\n",
    "\n",
    "I noticed that in 'IMAX' is in the list so I decided to remove it because it is not a genre. This is now the current genres in the list:\n",
    "- ['Adventure', 'Animation', 'Children', 'Comedy', 'Fantasy', 'Romance', 'Drama', 'Action', 'Crime', 'Thriller', 'Horror', 'Mystery', 'Sci-Fi', 'Documentary', 'War', 'Musical', 'Western', 'Film-Noir', '(no genres listed)']"
   ]
  },
  {
   "cell_type": "code",
   "execution_count": 178,
   "metadata": {},
   "outputs": [],
   "source": [
    "genre = {}\n",
    "for t in unique_tag_list:\n",
    "    genre[t] = 0"
   ]
  },
  {
   "cell_type": "code",
   "execution_count": null,
   "metadata": {},
   "outputs": [],
   "source": [
    "print(genre)"
   ]
  },
  {
   "attachments": {},
   "cell_type": "markdown",
   "metadata": {},
   "source": [
    "I use dictionary to store all genres in unique_tag_list as key and with the values as 0. This is what the dictionary genre look like:\n",
    "- {'Adventure': 0, 'Animation': 0, 'Children': 0, 'Comedy': 0, 'Fantasy': 0, 'Romance': 0, 'Drama': 0, 'Action': 0, 'Crime': 0, 'Thriller': 0, 'Horror': 0, 'Mystery': 0, 'Sci-Fi': 0, 'Documentary': 0, 'War': 0, 'Musical': 0, 'Western': 0, 'Film-Noir': 0, '(no genres listed)': 0}"
   ]
  },
  {
   "cell_type": "code",
   "execution_count": 179,
   "metadata": {},
   "outputs": [],
   "source": [
    "X = {}\n",
    "for m in unique_movie:\n",
    "    X[str(m)] = genre.copy()"
   ]
  },
  {
   "attachments": {},
   "cell_type": "markdown",
   "metadata": {},
   "source": [
    "I make a dictionary called X. For all movie id in unique_movie as key, I assigned the value as genre. So in this list X contain the key value of all movie id, and with it's value is a genre dictionary with all values in it as 0."
   ]
  },
  {
   "cell_type": "code",
   "execution_count": 180,
   "metadata": {},
   "outputs": [],
   "source": [
    "for movie in X:\n",
    "    temp = str((df_movie.loc[df_movie['movieId'] == int(movie)])['genres']).split()[1]\n",
    "    temp = temp.split('|')\n",
    "    for g in temp:\n",
    "        if g in X[movie]:\n",
    "            X[movie][g] = 1\n",
    "    X[movie]['movieId'] = movie"
   ]
  },
  {
   "attachments": {},
   "cell_type": "markdown",
   "metadata": {},
   "source": [
    "For all key value in X is a movieId, and the value of each movieId are genre dictionary.<br/>\n",
    "I search df_movie for genre, and for each genre in df_movie for all movies I flip genre dictionary value to one.\n",
    "I also store each movieId in each X dictionary value.\n",
    "\n",
    "<br/>\n",
    "ex. {'Adventure': 0, 'Animation': 0, 'Children': 0, 'Comedy': 0, 'Fantasy': 0, 'Romance': 0, 'Drama': 0, 'Action': 0, 'Crime': 0, 'Thriller': 0, 'Horror': 0, 'Mystery': 0, 'Sci-Fi': 0, 'Documentary': 0, 'War': 0, 'Musical': 0, 'Western': 0, 'Film-Noir': 0, '(no genres listed)': 0, 'movieId': '1'} <br/> ==> <br/>{'Adventure': 1, 'Animation': 1, 'Children': 1, 'Comedy': 1, 'Fantasy': 1, 'Romance': 0, 'Drama': 0, 'Action': 0, 'Crime': 0, 'Thriller': 0, 'Horror': 0, 'Mystery': 0, 'Sci-Fi': 0, 'Documentary': 0, 'War': 0, 'Musical': 0, 'Western': 0, 'Film-Noir': 0, '(no genres listed)': 0, 'movieId': '1'}"
   ]
  },
  {
   "cell_type": "code",
   "execution_count": 181,
   "metadata": {},
   "outputs": [],
   "source": [
    "X_list = []\n",
    "X_list_id = []\n",
    "for i, x in enumerate(X):\n",
    "    X_list.append(list(X[x].values())[0:-1])\n",
    "    X_list_id.append(list(X[x].values())[-1])"
   ]
  },
  {
   "attachments": {},
   "cell_type": "markdown",
   "metadata": {},
   "source": [
    "I converted all values in each movieId in X dictionary to list. I append the list except for the last element in the list in X_list, append the last element in the list into X_list_id. X_list contains lists of all genres value that converted from {'Adventure': 1, 'Animation': 1, 'Children': 1, 'Comedy': 1, 'Fantasy': 1, 'Romance': 0, 'Drama': 0, 'Action': 0, 'Crime': 0, 'Thriller': 0, 'Horror': 0, 'Mystery': 0, 'Sci-Fi': 0, 'Documentary': 0, 'War': 0, 'Musical': 0, 'Western': 0, 'Film-Noir': 0, '(no genres listed)': 0, 'movieId': '1'} to [1, 1, 1, 1, 1, 0, 0, 0, 0, 0, 0, 0, 0, 0, 0, 0, 0, 0, 0]\n",
    "<br/>\n",
    "X_list_id is a list of all movie Id. X_list and X_list_id have the same number of all elements. I will use X_list as input for knn model.\n",
    "- X_list = [[1, 1, 1, 1, 1, 0, 0, 0, 0, 0, 0, 0, 0, 0, 0, 0, 0, 0, 0], [1, 0, 1, 0, 1, 0, 0, 0, 0, 0, 0, 0, 0, 0, 0, 0, 0, 0, 0], ...]\n",
    "- X_list_id = ['1', '2', '3', '4', '5', '6', '7', '8', '9', '10', '11', '12', '13', '14', '15',....]"
   ]
  },
  {
   "cell_type": "code",
   "execution_count": 182,
   "metadata": {},
   "outputs": [
    {
     "name": "stdout",
     "output_type": "stream",
     "text": [
      "Picked random movie named: Cellar, The (Huset vid vägens ände) (2003) genres Horror|Thriller\n"
     ]
    }
   ],
   "source": [
    "random_movie = random.choice(list(X.values()))\n",
    "y_movie_id = list(random_movie.values())[-1]\n",
    "y_movie_name = df_movie.loc[df_movie['movieId'] == int(y_movie_id)]['title'].to_string(index=False)\n",
    "y_movie_genre = df_movie.loc[df_movie['movieId'] == int(y_movie_id)]['genres'].to_string(index=False)\n",
    "y_movie = list(random_movie.values())[0:-1]\n",
    "\n",
    "print('Picked random movie named:', y_movie_name, 'genres', y_movie_genre)\n"
   ]
  },
  {
   "attachments": {},
   "cell_type": "markdown",
   "metadata": {},
   "source": [
    "I use random to pick a random movieId in X. That random movie is my Value."
   ]
  },
  {
   "cell_type": "code",
   "execution_count": 183,
   "metadata": {},
   "outputs": [
    {
     "name": "stdout",
     "output_type": "stream",
     "text": [
      "Other movies similar to the movie Cellar, The (Huset vid vägens ände) (2003) genres Horror|Thriller are\n",
      "Rank 1 ==> movie name: And Now the Screaming Starts! (1973) Horror|Thriller\n",
      "Rank 2 ==> movie name: House at the End of the Street (2012) Horror|Thriller\n",
      "Rank 3 ==> movie name: Session 9 (2001) Horror|Thriller\n",
      "Rank 4 ==> movie name: Quicksilver Highway (1997) Horror|Thriller\n",
      "Rank 5 ==> movie name: Madhouse (2004) Horror|Thriller\n"
     ]
    }
   ],
   "source": [
    "k = 5\n",
    "knn = NearestNeighbors(n_neighbors=k).fit(X_list)\n",
    "distances, indices = knn.kneighbors([y_movie])\n",
    "\n",
    "print('Other movies similar to the movie', y_movie_name, 'genres', y_movie_genre, 'are')\n",
    "for rank, index in enumerate(indices[0][:k], start=1):\n",
    "    m_name = df_movie.loc[df_movie['movieId'] == int(X_list_id[index])]['title'].to_string(index=False)\n",
    "    m_genre = df_movie.loc[df_movie['movieId'] == int(X_list_id[index])]['genres'].to_string(index=False)\n",
    "    print('Rank', str(rank) + \" ==> movie name:\", m_name, m_genre)\n",
    "    \n"
   ]
  },
  {
   "attachments": {},
   "cell_type": "markdown",
   "metadata": {},
   "source": [
    "I use NearestNeighbors as a model, and fit X_list. Then I use kneighbors() to get 5 movies that are similar to the movie that I randomly picked. I left all parameters as default except for number of neighbors. I'm using KNN to reccommend 5 other movies that are similar to a movie that was randomly picked based on their genres.\n",
    "<br/>\n",
    "result:<br/>\n",
    "Other movies similar to the movie Cellar, The (Huset vid vägens ände) (2003) genres Horror|Thriller are<br/>\n",
    "Rank 1 ==> movie name: And Now the Screaming Starts! (1973) Horror|Thriller<br/>\n",
    "Rank 2 ==> movie name: House at the End of the Street (2012) Horror|Thriller<br/>\n",
    "Rank 3 ==> movie name: Session 9 (2001) Horror|Thriller<br/>\n",
    "Rank 4 ==> movie name: Quicksilver Highway (1997) Horror|Thriller<br/>\n",
    "Rank 5 ==> movie name: Madhouse (2004) Horror|Thriller<br/>"
   ]
  },
  {
   "cell_type": "code",
   "execution_count": 184,
   "metadata": {},
   "outputs": [],
   "source": [
    "X2 = {}\n",
    "for m in unique_movie:\n",
    "    X2[str(m)] = genre.copy()\n",
    "\n",
    "for movie in X2:\n",
    "    temp = str((df_movie.loc[df_movie['movieId'] == int(movie)])['genres']).split()[1]\n",
    "    temp = temp.split('|')\n",
    "    for g in temp:\n",
    "        if g in X2[movie]:\n",
    "            X2[movie][g] = 1\n"
   ]
  },
  {
   "attachments": {},
   "cell_type": "markdown",
   "metadata": {},
   "source": [
    "I want to confirm that the recomendations by using pearson and euclidean scores for the performance metric. So this steps I altered the X data a bit to be used in pearson and euclidean score method."
   ]
  },
  {
   "cell_type": "code",
   "execution_count": 186,
   "metadata": {},
   "outputs": [
    {
     "name": "stdout",
     "output_type": "stream",
     "text": [
      "Comparing movie  Cellar, The (Huset vid vägens ände) (2003)\n",
      "Movie name: And Now the Screaming Starts! (1973) Pearson Score =  1.0 Euclidean Score =  1.0\n",
      "Movie name: House at the End of the Street (2012) Pearson Score =  1.0 Euclidean Score =  1.0\n",
      "Movie name: Session 9 (2001) Pearson Score =  1.0 Euclidean Score =  1.0\n",
      "Movie name: Quicksilver Highway (1997) Pearson Score =  1.0 Euclidean Score =  1.0\n",
      "Movie name: Madhouse (2004) Pearson Score =  1.0 Euclidean Score =  1.0\n"
     ]
    }
   ],
   "source": [
    "print('Comparing movie ', y_movie_name)\n",
    "for rank, index in enumerate(indices[0][:k], start=1):\n",
    "    user1 = random_movie['movieId']\n",
    "    user2 = X_list_id[index]\n",
    "    m_name = df_movie.loc[df_movie['movieId'] == int(X_list_id[index])]['title'].to_string(index=False)\n",
    "    print('Movie name:', m_name, 'Pearson Score = ', pearson_score(X2, user1, user2), 'Euclidean Score = ', euclidean_score(X2, user1, user2))"
   ]
  },
  {
   "attachments": {},
   "cell_type": "markdown",
   "metadata": {},
   "source": [
    "I compared the random movie picked to the recomended movie using pearson and euclidean score. The scores that are got are all 1.0 for all the movies that I have recomended based on genre.\n",
    "<br/>\n",
    "Result:<br/>\n",
    "Comparing movie  Cellar, The (Huset vid vägens ände) (2003)<br/>\n",
    "Movie name: And Now the Screaming Starts! (1973) Pearson Score =  1.0 Euclidean Score =  1.0<br/>\n",
    "Movie name: House at the End of the Street (2012) Pearson Score =  1.0 Euclidean Score =  1.0<br/>\n",
    "Movie name: Session 9 (2001) Pearson Score =  1.0 Euclidean Score =  1.0<br/>\n",
    "Movie name: Quicksilver Highway (1997) Pearson Score =  1.0 Euclidean Score =  1.0<br/>\n",
    "Movie name: Madhouse (2004) Pearson Score =  1.0 Euclidean Score =  1.0<br/>"
   ]
  }
 ],
 "metadata": {
  "kernelspec": {
   "display_name": "Python 3",
   "language": "python",
   "name": "python3"
  },
  "language_info": {
   "codemirror_mode": {
    "name": "ipython",
    "version": 3
   },
   "file_extension": ".py",
   "mimetype": "text/x-python",
   "name": "python",
   "nbconvert_exporter": "python",
   "pygments_lexer": "ipython3",
   "version": "3.9.7"
  },
  "orig_nbformat": 4,
  "vscode": {
   "interpreter": {
    "hash": "23ec26e3d78f03e9d363b0521c54679bd260eb9cc535386c8fbbe8e297a627f2"
   }
  }
 },
 "nbformat": 4,
 "nbformat_minor": 2
}
