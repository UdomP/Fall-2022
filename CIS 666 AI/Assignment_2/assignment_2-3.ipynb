{
 "cells": [
  {
   "cell_type": "code",
   "execution_count": null,
   "metadata": {},
   "outputs": [],
   "source": [
    "import pandas as pd\n",
    "import matplotlib.pyplot as plt\n",
    "import numpy as np\n",
    "from sklearn.neighbors import KNeighborsClassifier\n",
    "from score import euclidean_score, pearson_score\n",
    "import json\n",
    "import random\n",
    "from sklearn.preprocessing import LabelEncoder"
   ]
  },
  {
   "cell_type": "code",
   "execution_count": null,
   "metadata": {},
   "outputs": [],
   "source": [
    "#df_movie = pd.read_csv('movie.csv', nrows=(.25 * 27000))\n",
    "df_movie = pd.read_csv('movie.csv')\n",
    "df_rating = pd.read_csv('rating.csv', nrows=(.10 * 20000000))\n",
    "df_tag = pd.read_csv('tag.csv', nrows=(.25 * 460000))"
   ]
  },
  {
   "cell_type": "code",
   "execution_count": null,
   "metadata": {},
   "outputs": [],
   "source": [
    "print(df_movie)\n",
    "print(df_rating)\n",
    "print(df_tag)"
   ]
  },
  {
   "cell_type": "code",
   "execution_count": null,
   "metadata": {},
   "outputs": [],
   "source": [
    "users = df_rating['userId'].unique()\n",
    "X = {}\n",
    "\n",
    "for user in users:\n",
    "    user_rating = df_rating.loc[df_rating['userId'] == user]\n",
    "    user_movie = []\n",
    "    user_tag = []\n",
    "    movie_rating = {}\n",
    "    for m in user_rating['movieId']:# get name of all movies current user have watched\n",
    "        try:\n",
    "            movieName = df_movie['title'][m]\n",
    "            user_movie.append(movieName)\n",
    "            movie_rating[movieName] = user_rating['rating'][m]\n",
    "        except:\n",
    "            pass\n",
    "    if not (len(movie_rating) == 0):\n",
    "        X[user] = movie_rating"
   ]
  },
  {
   "cell_type": "code",
   "execution_count": null,
   "metadata": {},
   "outputs": [],
   "source": [
    "print(X)"
   ]
  },
  {
   "cell_type": "code",
   "execution_count": null,
   "metadata": {},
   "outputs": [],
   "source": [
    "print(X[1])\n",
    "print(X[4])\n",
    "print(euclidean_score(X, 1, 3))\n",
    "print(pearson_score(X, 1, 3))"
   ]
  },
  {
   "cell_type": "code",
   "execution_count": null,
   "metadata": {},
   "outputs": [],
   "source": []
  }
 ],
 "metadata": {
  "kernelspec": {
   "display_name": "Python 3",
   "language": "python",
   "name": "python3"
  },
  "language_info": {
   "codemirror_mode": {
    "name": "ipython",
    "version": 3
   },
   "file_extension": ".py",
   "mimetype": "text/x-python",
   "name": "python",
   "nbconvert_exporter": "python",
   "pygments_lexer": "ipython3",
   "version": "3.9.6"
  },
  "orig_nbformat": 4,
  "vscode": {
   "interpreter": {
    "hash": "23ec26e3d78f03e9d363b0521c54679bd260eb9cc535386c8fbbe8e297a627f2"
   }
  }
 },
 "nbformat": 4,
 "nbformat_minor": 2
}
