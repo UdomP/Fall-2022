{
 "cells": [
  {
   "cell_type": "code",
   "execution_count": 135,
   "metadata": {},
   "outputs": [],
   "source": [
    "import pandas as pd\n",
    "import matplotlib.pyplot as plt\n",
    "import numpy as np\n",
    "from sklearn.cluster import MeanShift, KMeans\n",
    "from sklearn.metrics import silhouette_score"
   ]
  },
  {
   "attachments": {},
   "cell_type": "markdown",
   "metadata": {},
   "source": [
    "I imported all the necessary libraries.\n",
    "- pandas - manage and read data.\n",
    "- matplotlib.pyplot - to plot data and show graph\n",
    "- numpy - create array\n",
    "- sklearn.cluster - Meanshift model, and KMeans model\n",
    "- sklearn.metrics.silhouette_score - to calculate performance of my prediction.\n"
   ]
  },
  {
   "cell_type": "code",
   "execution_count": 136,
   "metadata": {},
   "outputs": [],
   "source": [
    "df = pd.read_csv('dd_tt_02.txt', header=None)"
   ]
  },
  {
   "attachments": {},
   "cell_type": "markdown",
   "metadata": {},
   "source": [
    "I use pandas to read 'dd_tt_02.txt' and store in a variable called df. Since there are no header in the txt file I read, I turned it off."
   ]
  },
  {
   "cell_type": "code",
   "execution_count": 137,
   "metadata": {},
   "outputs": [],
   "source": [
    "clustering = MeanShift().fit(df)"
   ]
  },
  {
   "attachments": {},
   "cell_type": "markdown",
   "metadata": {},
   "source": [
    "I user sklearn.cluster's MeanShift() method/model, with my data in df as parameter. From this mean shift model I want to estimate the number of clusters there are in this data set. There are multiple ways I found, and I used all of the methods I found just to be sure I have the correct number of clusters."
   ]
  },
  {
   "cell_type": "code",
   "execution_count": 138,
   "metadata": {},
   "outputs": [
    {
     "name": "stdout",
     "output_type": "stream",
     "text": [
      "number of estimated clusters : 4\n",
      "predicted:  [0 0 3 1 2 0 0 0 3 1 2 3 0 0 3 1 2 0 0 0 3 1 2]\n"
     ]
    }
   ],
   "source": [
    "predict = clustering.predict(df)\n",
    "labels_unique = np.unique(predict)\n",
    "n_clusters_ = len(labels_unique)\n",
    "print(\"number of estimated clusters : %d\" % n_clusters_)\n",
    "print('predicted: ', predict)"
   ]
  },
  {
   "attachments": {},
   "cell_type": "markdown",
   "metadata": {},
   "source": [
    "One method of estimating cluster is by predicting the model with my data. The output is an array of labels for each data points. Then I use numpy to count the number of unique value in the array, and I get an array of all the unique label found in the predicted array. The unique array is [0, 1, 2, 3]. The length is 4, so the estimated cluster is 4.\n",
    "<br/>\n",
    "<br/>number of estimated clusters : 4\n",
    "<br/>predicted:  [0 0 3 1 2 0 0 0 3 1 2 3 0 0 3 1 2 0 0 0 3 1 2]"
   ]
  },
  {
   "cell_type": "code",
   "execution_count": 139,
   "metadata": {},
   "outputs": [
    {
     "name": "stdout",
     "output_type": "stream",
     "text": [
      "number of estimated clusters : 4\n",
      "cluster_centers:  [[2.58333333 4.85444444]\n",
      " [9.33       3.72      ]\n",
      " [7.622      7.428     ]\n",
      " [6.746      1.794     ]]\n"
     ]
    }
   ],
   "source": [
    "cluster_centers = clustering.cluster_centers_\n",
    "n_clusters_ = len(cluster_centers)\n",
    "print(\"number of estimated clusters : %d\" % n_clusters_)\n",
    "print('cluster_centers: ', cluster_centers)"
   ]
  },
  {
   "attachments": {},
   "cell_type": "markdown",
   "metadata": {},
   "source": [
    "Next method is by counting the numbers of centers in the model. I get an array of centers from clustering.cluster_centers_. Then I did the same thing and count the number of centers. I have 4 clusters.\n",
    "<br/>\n",
    "<br/>number of estimated clusters : 4\n",
    "<br/>cluster_centers:  [[2.58333333 4.85444444]\n",
    " [9.33       3.72      ]\n",
    " [7.622      7.428     ]\n",
    " [6.746      1.794     ]]\n"
   ]
  },
  {
   "cell_type": "code",
   "execution_count": 140,
   "metadata": {},
   "outputs": [
    {
     "name": "stderr",
     "output_type": "stream",
     "text": [
      "C:\\Users\\serey\\AppData\\Local\\Temp\\ipykernel_15468\\2753648236.py:9: UserWarning: You passed a edgecolor/edgecolors ('black') for an unfilled marker ('+').  Matplotlib is ignoring the edgecolor in favor of the facecolor.  This behavior may change in the future.\n",
      "  plt.scatter(class_0[:, 0], class_0[:, 1], s=75, facecolors='blue', edgecolors='black', linewidth=1, marker='+')\n",
      "C:\\Users\\serey\\AppData\\Local\\Temp\\ipykernel_15468\\2753648236.py:12: UserWarning: You passed a edgecolor/edgecolors ('black') for an unfilled marker ('x').  Matplotlib is ignoring the edgecolor in favor of the facecolor.  This behavior may change in the future.\n",
      "  plt.scatter(class_3[:, 0], class_3[:, 1], s=75, facecolors='yellow', edgecolors='black', linewidth=1, marker='x')\n"
     ]
    },
    {
     "data": {
      "image/png": "[encoded data removed]",
      "text/plain": [
       "<Figure size 432x288 with 1 Axes>"
      ]
     },
     "metadata": {
      "needs_background": "light"
     },
     "output_type": "display_data"
    }
   ],
   "source": [
    "new_df = df.copy()\n",
    "new_df[2] = predict\n",
    "\n",
    "class_0 = np.array(new_df[(new_df[2])==0])\n",
    "class_1 = np.array(new_df[(new_df[2])==1])\n",
    "class_2 = np.array(new_df[(new_df[2])==2])\n",
    "class_3 = np.array(new_df[(new_df[2])==3])\n",
    "\n",
    "plt.scatter(class_0[:, 0], class_0[:, 1], s=75, facecolors='blue', edgecolors='black', linewidth=1, marker='+')\n",
    "plt.scatter(class_1[:, 0], class_1[:, 1], s=75, facecolors='green', edgecolors='black', linewidth=1, marker='o')\n",
    "plt.scatter(class_2[:, 0], class_2[:, 1], s=75, facecolors='red', edgecolors='black', linewidth=1, marker='*')\n",
    "plt.scatter(class_3[:, 0], class_3[:, 1], s=75, facecolors='yellow', edgecolors='black', linewidth=1, marker='x')\n",
    "plt.show()"
   ]
  },
  {
   "attachments": {},
   "cell_type": "markdown",
   "metadata": {},
   "source": [
    "I graphed the predicted label value for each data point to show how all clusters are kind of separated from each other."
   ]
  },
  {
   "cell_type": "code",
   "execution_count": 141,
   "metadata": {},
   "outputs": [],
   "source": [
    "kmeans = KMeans(n_clusters=3).fit(df)"
   ]
  },
  {
   "attachments": {},
   "cell_type": "markdown",
   "metadata": {},
   "source": [
    "I use K-means clustering to divide the data points into three different clusters. I use K-means model from sklearn.cluster. I did the same thing as the mean shift model I used except that this time I set the number of cluster to 3 instead of allowing the model to calculate/estimate its own number of cluster."
   ]
  },
  {
   "cell_type": "code",
   "execution_count": 142,
   "metadata": {},
   "outputs": [
    {
     "name": "stderr",
     "output_type": "stream",
     "text": [
      "C:\\Users\\serey\\AppData\\Local\\Temp\\ipykernel_15468\\289386401.py:10: UserWarning: You passed a edgecolor/edgecolors ('black') for an unfilled marker ('+').  Matplotlib is ignoring the edgecolor in favor of the facecolor.  This behavior may change in the future.\n",
      "  plt.scatter(class_0[:, 0], class_0[:, 1], s=75, facecolors='blue', edgecolors='black', linewidth=1, marker='+')\n"
     ]
    },
    {
     "data": {
      "image/png": "[encoded data removed]",
      "text/plain": [
       "<Figure size 432x288 with 1 Axes>"
      ]
     },
     "metadata": {
      "needs_background": "light"
     },
     "output_type": "display_data"
    }
   ],
   "source": [
    "kmeans_predict = kmeans.predict(df)\n",
    "\n",
    "new_df = df.copy()\n",
    "new_df[2] = kmeans_predict\n",
    "\n",
    "class_0 = np.array(new_df[(new_df[2])==0])\n",
    "class_1 = np.array(new_df[(new_df[2])==1])\n",
    "class_2 = np.array(new_df[(new_df[2])==2])\n",
    "\n",
    "plt.scatter(class_0[:, 0], class_0[:, 1], s=75, facecolors='blue', edgecolors='black', linewidth=1, marker='+')\n",
    "plt.scatter(class_1[:, 0], class_1[:, 1], s=75, facecolors='green', edgecolors='black', linewidth=1, marker='o')\n",
    "plt.scatter(class_2[:, 0], class_2[:, 1], s=75, facecolors='red', edgecolors='black', linewidth=1, marker='*')\n",
    "plt.show()"
   ]
  },
  {
   "cell_type": "markdown",
   "metadata": {},
   "source": [
    "I graphed the predicted label value for each data point. When compared this graph to the mean shift graph, the fourth lebels (yellow, 'x') gets replaced by other labels."
   ]
  },
  {
   "cell_type": "code",
   "execution_count": 143,
   "metadata": {},
   "outputs": [
    {
     "name": "stdout",
     "output_type": "stream",
     "text": [
      "MeanShift silhouette score =  0.5072073009631013\n",
      "Kmean silhouette score =  0.47721408530488957\n"
     ]
    }
   ],
   "source": [
    "silhouette_score_meanshift = silhouette_score(df, clustering.labels_)\n",
    "print('MeanShift silhouette score = ', silhouette_score_meanshift)\n",
    "\n",
    "silhouette_score_kmean = silhouette_score(df, kmeans.labels_)\n",
    "print('Kmean silhouette score = ', silhouette_score_kmean)\n",
    "\n"
   ]
  },
  {
   "attachments": {},
   "cell_type": "markdown",
   "metadata": {},
   "source": [
    "I calculated the sulhouette score to compare meanshift with 4 clusters to kmeans with 3 clusters. The best value is 1 and the worst value is -1. Values near 0 indicate overlapping clusters. The result shows that meanshift has a higher score of 0.5072073009631013 compared to kmeans score of 0.46366475002256474. <br/>\n",
    "\n",
    "<br/>MeanShift silhouette score =  0.5072073009631013\n",
    "<br/>Kmean silhouette score =  0.46366475002256474"
   ]
  },
  {
   "cell_type": "code",
   "execution_count": 144,
   "metadata": {},
   "outputs": [
    {
     "name": "stderr",
     "output_type": "stream",
     "text": [
      "C:\\Users\\serey\\AppData\\Local\\Temp\\ipykernel_15468\\354401376.py:11: UserWarning: You passed a edgecolor/edgecolors ('black') for an unfilled marker ('+').  Matplotlib is ignoring the edgecolor in favor of the facecolor.  This behavior may change in the future.\n",
      "  plt.scatter(class_0[:, 0], class_0[:, 1], s=75, facecolors='blue', edgecolors='black', linewidth=1, marker='+')\n"
     ]
    },
    {
     "data": {
      "image/png": "[encoded data removed]",
      "text/plain": [
       "<Figure size 432x288 with 1 Axes>"
      ]
     },
     "metadata": {
      "needs_background": "light"
     },
     "output_type": "display_data"
    },
    {
     "name": "stdout",
     "output_type": "stream",
     "text": [
      "MeanShift silhouette score =  0.5072073009631013\n",
      "Kmean silhouette score =  0.4968538089048822\n"
     ]
    }
   ],
   "source": [
    "kmeans = KMeans(n_clusters=4).fit(df)\n",
    "kmeans_predict = kmeans.predict(df)\n",
    "\n",
    "new_df = df.copy()\n",
    "new_df[2] = kmeans_predict\n",
    "\n",
    "class_0 = np.array(new_df[(new_df[2])==0])\n",
    "class_1 = np.array(new_df[(new_df[2])==1])\n",
    "class_2 = np.array(new_df[(new_df[2])==2])\n",
    "\n",
    "plt.scatter(class_0[:, 0], class_0[:, 1], s=75, facecolors='blue', edgecolors='black', linewidth=1, marker='+')\n",
    "plt.scatter(class_1[:, 0], class_1[:, 1], s=75, facecolors='green', edgecolors='black', linewidth=1, marker='o')\n",
    "plt.scatter(class_2[:, 0], class_2[:, 1], s=75, facecolors='red', edgecolors='black', linewidth=1, marker='*')\n",
    "plt.show()\n",
    "\n",
    "silhouette_score_meanshift = silhouette_score(df, clustering.labels_)\n",
    "print('MeanShift silhouette score = ', silhouette_score_meanshift)\n",
    "\n",
    "silhouette_score_kmean = silhouette_score(df, kmeans.labels_)\n",
    "print('Kmean silhouette score = ', silhouette_score_kmean)"
   ]
  },
  {
   "attachments": {},
   "cell_type": "markdown",
   "metadata": {},
   "source": [
    "I tried this time set the cluster of Kmeans to 4 because MeanShift has a better score with 4 clusters. I did not change anything in MeanShift. Kmean has a higher silhouette score with 4 clusters than MeanShift with the same amount of 4 clusters.<br/>\n",
    "\n",
    "MeanShift tunes it's own hyper parameter which means that it finds its own clusters.<br/>\n",
    "Kmeans, I need to tune the hyper parameter in order to make it perform better.<br/>\n",
    "\n",
    "<br/>MeanShift silhouette score =  0.5072073009631013\n",
    "<br/>Kmean silhouette score =  0.5262264148709318"
   ]
  }
 ],
 "metadata": {
  "kernelspec": {
   "display_name": "Python 3",
   "language": "python",
   "name": "python3"
  },
  "language_info": {
   "codemirror_mode": {
    "name": "ipython",
    "version": 3
   },
   "file_extension": ".py",
   "mimetype": "text/x-python",
   "name": "python",
   "nbconvert_exporter": "python",
   "pygments_lexer": "ipython3",
   "version": "3.9.7"
  },
  "orig_nbformat": 4,
  "vscode": {
   "interpreter": {
    "hash": "23ec26e3d78f03e9d363b0521c54679bd260eb9cc535386c8fbbe8e297a627f2"
   }
  }
 },
 "nbformat": 4,
 "nbformat_minor": 2
}
