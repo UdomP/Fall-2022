{
 "cells": [
  {
   "cell_type": "code",
   "execution_count": 65,
   "metadata": {},
   "outputs": [],
   "source": [
    "import pandas as pd\n",
    "import matplotlib.pyplot as plt\n",
    "import numpy as np\n",
    "from sklearn.linear_model import LogisticRegression\n",
    "from sklearn.metrics import classification_report, confusion_matrix\n",
    "from sklearn.model_selection import train_test_split\n",
    "from sklearn.metrics import f1_score\n",
    "\n",
    "df = pd.read_csv('drug_class.csv')\n",
    "\n",
    "\n",
    "Y = df['Drug'].str.lower()\n",
    "X = df.drop('Drug', axis=1)\n"
   ]
  },
  {
   "cell_type": "code",
   "execution_count": 66,
   "metadata": {},
   "outputs": [
    {
     "name": "stdout",
     "output_type": "stream",
     "text": [
      "drugy\n",
      "drugx\n",
      "druga\n",
      "drugb\n",
      "drugc\n"
     ]
    }
   ],
   "source": [
    "drugTypes = {'drugy':1, 'drugx':2, 'druga':3, 'drugb':4, 'drugc':5}\n",
    "for key in drugTypes.keys():\n",
    "    print(key)\n",
    "    Y = Y.replace(key, drugTypes[key])\n",
    "X['Sex'] = X['Sex'].replace(['F', 'M'], [1, 2])\n",
    "X['BP'] = X['BP'].replace(['LOW', 'NORMAL', 'HIGH'], [0,1,2])\n",
    "X['Cholesterol'] = X['Cholesterol'].replace(['LOW', 'NORMAL', 'HIGH'], [0,1,2])\n",
    "\n",
    "x_train,x_test,y_train,y_test = train_test_split(X,Y,test_size=0.3,random_state=7)\n"
   ]
  },
  {
   "cell_type": "code",
   "execution_count": 67,
   "metadata": {},
   "outputs": [
    {
     "data": {
      "text/plain": [
       "array([1, 1, 1, 1, 2, 2, 1, 2, 3, 2, 4, 1, 3, 1, 1, 2, 1, 1, 1, 3, 1, 4,\n",
       "       1, 1, 4, 3, 3, 2, 1, 1, 1, 2, 2, 5, 4, 3, 1, 1, 2, 2, 2, 1, 1, 1,\n",
       "       2, 1, 4, 3, 4, 1, 2, 1, 2, 3, 1, 1, 5, 1, 1, 1], dtype=int64)"
      ]
     },
     "execution_count": 67,
     "metadata": {},
     "output_type": "execute_result"
    }
   ],
   "source": [
    "model = LogisticRegression(max_iter=100, solver='liblinear').fit(x_train, y_train)\n",
    "predict = model.predict(x_test)\n",
    "\n",
    "f1_score(y_test, predict)\n",
    "\n",
    "0.6857142857142857"
   ]
  }
 ],
 "metadata": {
  "kernelspec": {
   "display_name": "Python 3",
   "language": "python",
   "name": "python3"
  },
  "language_info": {
   "codemirror_mode": {
    "name": "ipython",
    "version": 3
   },
   "file_extension": ".py",
   "mimetype": "text/x-python",
   "name": "python",
   "nbconvert_exporter": "python",
   "pygments_lexer": "ipython3",
   "version": "3.9.7"
  },
  "orig_nbformat": 4,
  "vscode": {
   "interpreter": {
    "hash": "23ec26e3d78f03e9d363b0521c54679bd260eb9cc535386c8fbbe8e297a627f2"
   }
  }
 },
 "nbformat": 4,
 "nbformat_minor": 2
}
