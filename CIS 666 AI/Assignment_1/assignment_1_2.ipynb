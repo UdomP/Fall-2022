{
 "cells": [
  {
   "cell_type": "code",
   "execution_count": 38,
   "metadata": {},
   "outputs": [],
   "source": [
    "import pandas as pd\n",
    "import matplotlib.pyplot as plt\n",
    "import numpy as np\n",
    "from sklearn.linear_model import LogisticRegression\n",
    "from sklearn.metrics import classification_report, confusion_matrix\n",
    "from sklearn.model_selection import train_test_split\n",
    "from sklearn.metrics import f1_score\n",
    "from sklearn import preprocessing\n",
    "from sklearn.naive_bayes import GaussianNB\n",
    "\n",
    "df = pd.read_csv('drug_class.csv')\n",
    "# I imported all the libraries and read drub_class.csv\n"
   ]
  },
  {
   "cell_type": "code",
   "execution_count": 39,
   "metadata": {},
   "outputs": [],
   "source": [
    "# Clean data \n",
    "# Separate independent and dependent features to X and Y.\n",
    "Y = df['Drug'].str.lower()\n",
    "X = df.drop('Drug', axis=1)\n",
    "\n",
    "# Replace strings value with numbers.\n",
    "drugTypes = {'drugy':1, 'drugx':2, 'druga':3, 'drugb':4, 'drugc':5}\n",
    "for key in drugTypes.keys():\n",
    "    Y = Y.replace(key, drugTypes[key])\n",
    "X['Sex'] = X['Sex'].replace(['F', 'M'], [1, 2])\n",
    "X['BP'] = X['BP'].replace(['LOW', 'NORMAL', 'HIGH'], [0,1,2])\n",
    "X['Cholesterol'] = X['Cholesterol'].replace(['LOW', 'NORMAL', 'HIGH'], [0,1,2])\n",
    "\n",
    "# Split X and Y data into testing and training sets\n",
    "x_train,x_test,y_train,y_test = train_test_split(X,Y,test_size=0.2,random_state=7)\n"
   ]
  },
  {
   "cell_type": "code",
   "execution_count": 42,
   "metadata": {},
   "outputs": [
    {
     "name": "stdout",
     "output_type": "stream",
     "text": [
      "0.75\n",
      "[2, 1, 1, 1, 5, 5, 1, 1, 3, 2, 4, 1, 4, 1, 1, 5, 1, 1, 2, 3, 1, 2, 1, 1, 4, 3, 3, 2, 1, 1, 1, 2, 2, 5, 4, 4, 1, 1, 4, 2]\n",
      "[1 1 1 1 2 2 1 2 3 2 4 1 3 1 1 2 1 1 1 3 1 2 1 1 4 3 3 2 1 1 1 2 2 2 4 2 1\n",
      " 1 2 2]\n"
     ]
    }
   ],
   "source": [
    "# Use LogisticRefression to train, predict and calculate f1 score\n",
    "\n",
    "# Set logisticRefression parameter. 100 interations, and used liblinear as solver.\n",
    "# Set x and y training data into linearRegression model\n",
    "model = LogisticRegression(max_iter=100, solver='liblinear').fit(x_train, y_train)\n",
    "# Predict with X testing data\n",
    "predict = model.predict(x_test)\n",
    "\n",
    "# Calculated f1 score with the predicted value and actual Y value\n",
    "f1 = f1_score(y_test, predict, average='micro')\n",
    "print(f1)\n",
    "\n",
    "print(y_test.tolist())\n",
    "print(predict)"
   ]
  },
  {
   "cell_type": "code",
   "execution_count": 41,
   "metadata": {},
   "outputs": [
    {
     "name": "stdout",
     "output_type": "stream",
     "text": [
      "0.8000000000000002\n",
      "[2, 1, 1, 1, 5, 5, 1, 1, 3, 2, 4, 1, 4, 1, 1, 5, 1, 1, 2, 3, 1, 2, 1, 1, 4, 3, 3, 2, 1, 1, 1, 2, 2, 5, 4, 4, 1, 1, 4, 2]\n",
      "[2 1 1 1 5 5 3 5 3 2 4 1 3 1 1 5 1 3 2 3 1 2 4 3 4 3 3 2 1 1 1 2 2 5 4 4 4\n",
      " 3 4 2]\n"
     ]
    }
   ],
   "source": [
    "# Use GaissianNaiveBayes to train, predict and calculate f1 score\n",
    "\n",
    "# Set x and y training data into Naive Bayes model\n",
    "model = GaussianNB().fit(x_train, y_train)\n",
    "# Predict with X testing data\n",
    "predict = model.predict(x_test)\n",
    "\n",
    "# Calculated f1 score with the predicted value and actual Y value\n",
    "f1 = f1_score(y_test, predict, average='micro')\n",
    "print(f1)\n",
    "\n",
    "print(y_test.tolist())\n",
    "print(predict)"
   ]
  }
 ],
 "metadata": {
  "kernelspec": {
   "display_name": "Python 3",
   "language": "python",
   "name": "python3"
  },
  "language_info": {
   "codemirror_mode": {
    "name": "ipython",
    "version": 3
   },
   "file_extension": ".py",
   "mimetype": "text/x-python",
   "name": "python",
   "nbconvert_exporter": "python",
   "pygments_lexer": "ipython3",
   "version": "3.9.7"
  },
  "orig_nbformat": 4,
  "vscode": {
   "interpreter": {
    "hash": "23ec26e3d78f03e9d363b0521c54679bd260eb9cc535386c8fbbe8e297a627f2"
   }
  }
 },
 "nbformat": 4,
 "nbformat_minor": 2
}
