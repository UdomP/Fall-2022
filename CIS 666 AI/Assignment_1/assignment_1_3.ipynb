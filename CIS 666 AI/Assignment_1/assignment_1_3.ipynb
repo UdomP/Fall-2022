{
 "cells": [
  {
   "cell_type": "code",
   "execution_count": 36,
   "metadata": {},
   "outputs": [],
   "source": [
    "import pandas as pd\n",
    "import matplotlib.pyplot as plt\n",
    "import numpy as np\n",
    "from sklearn.linear_model import LinearRegression\n",
    "from sklearn.model_selection import train_test_split\n",
    "from sklearn.metrics import f1_score\n",
    "from sklearn import preprocessing\n",
    "from sklearn.metrics import mean_squared_error\n",
    "\n",
    "df = pd.read_csv('kc_house_data.csv')\n",
    "# df = df.apply(preprocessing.LabelEncoder().fit_transform)\n",
    "df = df.drop(['id', 'date'], axis=1)\n",
    "\n",
    "le = preprocessing.LabelEncoder()\n",
    "df['zipcode'] = le.fit_transform(df['zipcode'])\n",
    "\n",
    "# print(df['zipcode'])\n",
    "# df['zipcode'] = le.fit_transform(df['zipcode'])\n",
    "# print(df['zipcode'])\n",
    "# print(df.rows)"
   ]
  },
  {
   "cell_type": "code",
   "execution_count": 37,
   "metadata": {},
   "outputs": [
    {
     "name": "stdout",
     "output_type": "stream",
     "text": [
      "       bedrooms  bathrooms  sqft_living  sqft_lot  floors  waterfront  view  \\\n",
      "5691          3       2.00         1420      9828     1.0           0     0   \n",
      "12340         3       1.00         1200      8316     1.0           0     0   \n",
      "2996          4       2.00         1910     10200     1.0           0     0   \n",
      "5286          4       2.50         2500      9654     1.0           0     0   \n",
      "16099         4       2.50         2480     91911     1.0           0     2   \n",
      "...         ...        ...          ...       ...     ...         ...   ...   \n",
      "8948          3       2.50         1720      3407     2.0           0     0   \n",
      "8450          3       2.75         3610    107386     1.5           1     3   \n",
      "6772          3       1.00         1980      9540     1.0           0     0   \n",
      "5514          3       2.50         2890     21780     2.0           0     0   \n",
      "5321          4       1.75         1910      8775     1.0           0     0   \n",
      "\n",
      "       condition  grade  sqft_above  sqft_basement  yr_built  yr_renovated  \\\n",
      "5691           4      7        1420              0      1990             0   \n",
      "12340          4      6        1200              0      1953             0   \n",
      "2996           4      7        1910              0      1963             0   \n",
      "5286           3      8        1830            670      1979             0   \n",
      "16099          4      7        1470           1010      1973             0   \n",
      "...          ...    ...         ...            ...       ...           ...   \n",
      "8948           3      7        1720              0      1992             0   \n",
      "8450           3      8        3130            480      1918          1962   \n",
      "6772           3      7        1080            900      1949             0   \n",
      "5514           3      8        2890              0      2000             0   \n",
      "5321           3      7        1210            700      1956             0   \n",
      "\n",
      "       zipcode      lat     long  sqft_living15  sqft_lot15  \n",
      "5691         8  47.3287 -122.011           1550        7227  \n",
      "12340        1  47.3231 -122.215           1250        8316  \n",
      "2996        33  47.4804 -122.133           1820       15600  \n",
      "5286        13  47.3137 -122.343           2500        8839  \n",
      "16099       15  47.4579 -121.981           2540       91911  \n",
      "...        ...      ...      ...            ...         ...  \n",
      "8948        19  47.4034 -122.188           1720        3407  \n",
      "8450        13  47.3351 -122.362           2630       42126  \n",
      "6772        57  47.7551 -122.353           1680        9529  \n",
      "5514        67  47.4326 -122.286           2120        8117  \n",
      "5321        16  47.7396 -122.247           2210        8778  \n",
      "\n",
      "[2162 rows x 18 columns]\n"
     ]
    }
   ],
   "source": [
    "Y = df['price']\n",
    "X = df.drop('price', axis=1)\n",
    "\n",
    "x_train,x_test,y_train,y_test = train_test_split(X,Y,test_size=0.1)\n",
    "print(x_test)"
   ]
  },
  {
   "cell_type": "code",
   "execution_count": 38,
   "metadata": {},
   "outputs": [
    {
     "name": "stdout",
     "output_type": "stream",
     "text": [
      "[172045.79569404 139867.62012906 376313.92707433 ... 538235.40375114\n",
      " 544362.60057887 559295.94012406]\n",
      "0.6798414295237029\n"
     ]
    }
   ],
   "source": [
    "model = LinearRegression().fit(x_train,y_train)\n",
    "\n",
    "predict = model.predict(x_test)\n",
    "score = model.score(x_test, y_test)\n",
    "mse = mean_squared_error(y_test, predict)\n",
    "print(mse)\n",
    "print(predict)\n",
    "print(score)"
   ]
  }
 ],
 "metadata": {
  "kernelspec": {
   "display_name": "Python 3",
   "language": "python",
   "name": "python3"
  },
  "language_info": {
   "codemirror_mode": {
    "name": "ipython",
    "version": 3
   },
   "file_extension": ".py",
   "mimetype": "text/x-python",
   "name": "python",
   "nbconvert_exporter": "python",
   "pygments_lexer": "ipython3",
   "version": "3.9.7"
  },
  "orig_nbformat": 4,
  "vscode": {
   "interpreter": {
    "hash": "23ec26e3d78f03e9d363b0521c54679bd260eb9cc535386c8fbbe8e297a627f2"
   }
  }
 },
 "nbformat": 4,
 "nbformat_minor": 2
}
