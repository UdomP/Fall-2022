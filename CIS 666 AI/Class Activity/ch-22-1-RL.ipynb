{
 "cells": [
  {
   "cell_type": "code",
   "execution_count": null,
   "metadata": {},
   "outputs": [],
   "source": [
    "import argparse\n",
    "import gym\n",
    "import warnings\n",
    "warnings.filterwarnings('ignore')"
   ]
  },
  {
   "cell_type": "code",
   "execution_count": null,
   "metadata": {},
   "outputs": [],
   "source": [
    "env = gym.make(\"CartPole-v0\", render_mode='human') \n",
    "env.reset()\n",
    "\n",
    "# Iterate 1000 times\n",
    "for _ in range(1000):\n",
    "    # Render the environment\n",
    "    env.render()\n",
    "    # take a random action\n",
    "    env.step(env.action_space.sample())\n",
    "env.close()"
   ]
  },
  {
   "cell_type": "code",
   "execution_count": null,
   "metadata": {},
   "outputs": [],
   "source": [
    "args = build_arg_parser().parse_args()\n",
    "input_env = args.input_env"
   ]
  },
  {
   "cell_type": "code",
   "execution_count": null,
   "metadata": {},
   "outputs": [],
   "source": [
    "name_map = {'cartpole': 'CartPole-v0',\n",
    "'mountaincar': 'MountainCar-v0',\n",
    "'pendulum': 'Pendulum-v0',\n",
    "'taxi': 'Taxi-v1',\n",
    "'lake': 'FrozenLake-v0'}"
   ]
  },
  {
   "cell_type": "code",
   "execution_count": null,
   "metadata": {},
   "outputs": [],
   "source": []
  }
 ],
 "metadata": {
  "language_info": {
   "name": "python"
  },
  "orig_nbformat": 4
 },
 "nbformat": 4,
 "nbformat_minor": 2
}
