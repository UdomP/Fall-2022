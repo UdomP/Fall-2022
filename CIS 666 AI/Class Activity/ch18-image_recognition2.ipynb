{
 "cells": [
  {
   "cell_type": "code",
   "execution_count": 1,
   "metadata": {},
   "outputs": [],
   "source": [
    "import cv2\n",
    "import numpy as np"
   ]
  },
  {
   "cell_type": "code",
   "execution_count": 2,
   "metadata": {},
   "outputs": [],
   "source": [
    "# Define a function to get the current frame from the webcam\n",
    "def get_frame(cap, scaling_factor):\n",
    "    # Read the current frame from the video capture object\n",
    "    _, frame = cap.read()\n",
    "    # Resize the image\n",
    "    frame = cv2.resize(frame, None, fx=scaling_factor,\n",
    "    fy=scaling_factor, interpolation=cv2.INTER_AREA)\n",
    "    return frame"
   ]
  },
  {
   "cell_type": "code",
   "execution_count": 3,
   "metadata": {},
   "outputs": [],
   "source": [
    "# Define the video capture object\n",
    "cap = cv2.VideoCapture(0)\n",
    "# Define the scaling factor for the images\n",
    "scaling_factor = 0.5\n",
    "# Keep reading the frames from the webcam\n",
    "# until the user hits the 'Esc' key\n",
    "while True:\n",
    "    # Grab the current frame\n",
    "    frame = get_frame(cap, scaling_factor)\n",
    "    # Convert the image to HSV colorspace\n",
    "    hsv = cv2.cvtColor(frame, cv2.COLOR_BGR2HSV)\n",
    "    # Define range of skin color in HSV\n",
    "    lower = np.array([0, 70, 60])\n",
    "    upper = np.array([50, 150, 255])\n",
    "    # Threshold the HSV image to get only skin color\n",
    "    mask = cv2.inRange(hsv, lower, upper)\n",
    "    # Bitwise-AND between the mask and original image\n",
    "    img_bitwise_and = cv2.bitwise_and(frame, frame, mask=mask)\n",
    "    # Run median blurring\n",
    "    img_median_blurred = cv2.medianBlur(img_bitwise_and, 5)\n",
    "    # Display the input and output\n",
    "    cv2.imshow('Input', frame)\n",
    "    cv2.imshow('Output', img_median_blurred)\n",
    "    # Check if the user hit the 'Esc' key\n",
    "    c = cv2.waitKey(5)\n",
    "    if c == 27:\n",
    "        break\n",
    "# Close all the windows\n",
    "cv2.destroyAllWindows()"
   ]
  }
 ],
 "metadata": {
  "kernelspec": {
   "display_name": "Python 3",
   "language": "python",
   "name": "python3"
  },
  "language_info": {
   "codemirror_mode": {
    "name": "ipython",
    "version": 3
   },
   "file_extension": ".py",
   "mimetype": "text/x-python",
   "name": "python",
   "nbconvert_exporter": "python",
   "pygments_lexer": "ipython3",
   "version": "3.9.7"
  },
  "orig_nbformat": 4
 },
 "nbformat": 4,
 "nbformat_minor": 2
}
