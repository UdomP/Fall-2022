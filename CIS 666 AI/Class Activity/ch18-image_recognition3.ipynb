{
 "cells": [
  {
   "cell_type": "code",
   "execution_count": 4,
   "metadata": {},
   "outputs": [],
   "source": [
    "import cv2\n",
    "import numpy as np"
   ]
  },
  {
   "cell_type": "code",
   "execution_count": 5,
   "metadata": {},
   "outputs": [],
   "source": [
    "# Define a function to get the current frame from the webcam\n",
    "def get_frame(cap, scaling_factor):\n",
    "    # Read the current frame from the video capture object\n",
    "    _, frame = cap.read()\n",
    "    # Resize the image\n",
    "    frame = cv2.resize(frame, None, fx=scaling_factor,\n",
    "    fy=scaling_factor, interpolation=cv2.INTER_AREA)\n",
    "    return frame"
   ]
  },
  {
   "cell_type": "code",
   "execution_count": 6,
   "metadata": {},
   "outputs": [],
   "source": [
    "# Define the video capture object\n",
    "cap = cv2.VideoCapture(0)\n",
    "# Define the background subtractor object\n",
    "bg_subtractor = cv2.createBackgroundSubtractorMOG2()\n",
    "# Define the number of previous frames to use to learn.\n",
    "# This factor controls the learning rate of the algorithm.\n",
    "# The learning rate refers to the rate at which your model\n",
    "# will learn about the background. Higher value for\n",
    "# 'history' indicates a slower learning rate. You can\n",
    "# play with this parameter to see how it affects the output.\n",
    "history = 100\n",
    "# Define the learning rate\n",
    "learning_rate = 1.0/history\n",
    "# Keep reading the frames from the webcam\n",
    "# until the user hits the 'Esc' key\n",
    "while True:\n",
    "    # Grab the current frame\n",
    "    frame = get_frame(cap, 0.5)\n",
    "    # Compute the mask\n",
    "    mask = bg_subtractor.apply(frame, learningRate=learning_rate)\n",
    "    # Convert grayscale image to RGB color image\n",
    "    mask = cv2.cvtColor(mask, cv2.COLOR_GRAY2BGR)\n",
    "    # Display the images\n",
    "    cv2.imshow('Input', frame)\n",
    "    cv2.imshow('Output', mask & frame)\n",
    "    # Check if the user hit the 'Esc' key\n",
    "    c = cv2.waitKey(10)\n",
    "    if c == 27:\n",
    "        break\n",
    "# Release the video capture object\n",
    "cap.release()\n",
    "# Close all the windows\n",
    "cv2.destroyAllWindows()"
   ]
  }
 ],
 "metadata": {
  "kernelspec": {
   "display_name": "Python 3",
   "language": "python",
   "name": "python3"
  },
  "language_info": {
   "codemirror_mode": {
    "name": "ipython",
    "version": 3
   },
   "file_extension": ".py",
   "mimetype": "text/x-python",
   "name": "python",
   "nbconvert_exporter": "python",
   "pygments_lexer": "ipython3",
   "version": "3.9.7"
  },
  "orig_nbformat": 4
 },
 "nbformat": 4,
 "nbformat_minor": 2
}
