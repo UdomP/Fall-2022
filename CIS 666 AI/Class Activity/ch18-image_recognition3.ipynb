{
 "cells": [
  {
   "cell_type": "code",
   "execution_count": 8,
   "metadata": {},
   "outputs": [],
   "source": [
    "import cv2\n",
    "import numpy as np"
   ]
  },
  {
   "cell_type": "code",
   "execution_count": 9,
   "metadata": {},
   "outputs": [],
   "source": [
    "# Define a function to get the current frame from the webcam\n",
    "def get_frame(cap, scaling_factor):\n",
    "    # Read the current frame from the video capture object\n",
    "    _, frame = cap.read()\n",
    "    # Resize the image\n",
    "    frame = cv2.resize(frame, None, fx=scaling_factor,\n",
    "    fy=scaling_factor, interpolation=cv2.INTER_AREA)\n",
    "    return frame"
   ]
  },
  {
   "cell_type": "code",
   "execution_count": 10,
   "metadata": {},
   "outputs": [
    {
     "ename": "error",
     "evalue": "OpenCV(4.5.3) C:\\Users\\runneradmin\\AppData\\Local\\Temp\\pip-req-build-sn_xpupm\\opencv\\modules\\imgproc\\src\\resize.cpp:4051: error: (-215:Assertion failed) !ssize.empty() in function 'cv::resize'\n",
     "output_type": "error",
     "traceback": [
      "\u001b[1;31m---------------------------------------------------------------------------\u001b[0m",
      "\u001b[1;31merror\u001b[0m                                     Traceback (most recent call last)",
      "Cell \u001b[1;32mIn[10], line 18\u001b[0m\n\u001b[0;32m     14\u001b[0m \u001b[39m# Keep reading the frames from the webcam\u001b[39;00m\n\u001b[0;32m     15\u001b[0m \u001b[39m# until the user hits the 'Esc' key\u001b[39;00m\n\u001b[0;32m     16\u001b[0m \u001b[39mwhile\u001b[39;00m \u001b[39mTrue\u001b[39;00m:\n\u001b[0;32m     17\u001b[0m     \u001b[39m# Grab the current frame\u001b[39;00m\n\u001b[1;32m---> 18\u001b[0m     frame \u001b[39m=\u001b[39m get_frame(cap, \u001b[39m0.5\u001b[39;49m)\n\u001b[0;32m     19\u001b[0m     \u001b[39m# Compute the mask\u001b[39;00m\n\u001b[0;32m     20\u001b[0m     mask \u001b[39m=\u001b[39m bg_subtractor\u001b[39m.\u001b[39mapply(frame, learningRate\u001b[39m=\u001b[39mlearning_rate)\n",
      "Cell \u001b[1;32mIn[9], line 6\u001b[0m, in \u001b[0;36mget_frame\u001b[1;34m(cap, scaling_factor)\u001b[0m\n\u001b[0;32m      4\u001b[0m _, frame \u001b[39m=\u001b[39m cap\u001b[39m.\u001b[39mread()\n\u001b[0;32m      5\u001b[0m \u001b[39m# Resize the image\u001b[39;00m\n\u001b[1;32m----> 6\u001b[0m frame \u001b[39m=\u001b[39m cv2\u001b[39m.\u001b[39;49mresize(frame, \u001b[39mNone\u001b[39;49;00m, fx\u001b[39m=\u001b[39;49mscaling_factor,\n\u001b[0;32m      7\u001b[0m fy\u001b[39m=\u001b[39;49mscaling_factor, interpolation\u001b[39m=\u001b[39;49mcv2\u001b[39m.\u001b[39;49mINTER_AREA)\n\u001b[0;32m      8\u001b[0m \u001b[39mreturn\u001b[39;00m frame\n",
      "\u001b[1;31merror\u001b[0m: OpenCV(4.5.3) C:\\Users\\runneradmin\\AppData\\Local\\Temp\\pip-req-build-sn_xpupm\\opencv\\modules\\imgproc\\src\\resize.cpp:4051: error: (-215:Assertion failed) !ssize.empty() in function 'cv::resize'\n"
     ]
    }
   ],
   "source": [
    "# Define the video capture object\n",
    "cap = cv2.VideoCapture(0)\n",
    "# Define the background subtractor object\n",
    "bg_subtractor = cv2.createBackgroundSubtractorMOG2()\n",
    "# Define the number of previous frames to use to learn.\n",
    "# This factor controls the learning rate of the algorithm.\n",
    "# The learning rate refers to the rate at which your model\n",
    "# will learn about the background. Higher value for\n",
    "# 'history' indicates a slower learning rate. You can\n",
    "# play with this parameter to see how it affects the output.\n",
    "history = 100\n",
    "# Define the learning rate\n",
    "learning_rate = 1.0/history\n",
    "# Keep reading the frames from the webcam\n",
    "# until the user hits the 'Esc' key\n",
    "while True:\n",
    "    # Grab the current frame\n",
    "    frame = get_frame(cap, 0.5)\n",
    "    # Compute the mask\n",
    "    mask = bg_subtractor.apply(frame, learningRate=learning_rate)\n",
    "    # Convert grayscale image to RGB color image\n",
    "    mask = cv2.cvtColor(mask, cv2.COLOR_GRAY2BGR)\n",
    "    # Display the images\n",
    "    cv2.imshow('Input', frame)\n",
    "    cv2.imshow('Output', mask & frame)\n",
    "    # Check if the user hit the 'Esc' key\n",
    "    c = cv2.waitKey(10)\n",
    "    if c == 27:\n",
    "        break\n",
    "# Release the video capture object\n",
    "cap.release()\n",
    "# Close all the windows\n",
    "cv2.destroyAllWindows()"
   ]
  }
 ],
 "metadata": {
  "kernelspec": {
   "display_name": "Python 3",
   "language": "python",
   "name": "python3"
  },
  "language_info": {
   "codemirror_mode": {
    "name": "ipython",
    "version": 3
   },
   "file_extension": ".py",
   "mimetype": "text/x-python",
   "name": "python",
   "nbconvert_exporter": "python",
   "pygments_lexer": "ipython3",
   "version": "3.9.7"
  },
  "orig_nbformat": 4
 },
 "nbformat": 4,
 "nbformat_minor": 2
}
