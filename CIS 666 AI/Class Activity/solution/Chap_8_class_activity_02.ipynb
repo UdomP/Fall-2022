{
 "cells": [
  {
   "cell_type": "markdown",
   "id": "28edb040",
   "metadata": {},
   "source": [
    "# Level-1"
   ]
  },
  {
   "cell_type": "code",
   "execution_count": 2,
   "id": "084040c6",
   "metadata": {},
   "outputs": [
    {
     "name": "stdout",
     "output_type": "stream",
     "text": [
      "\n",
      "Pearson score:\n"
     ]
    },
    {
     "ename": "TypeError",
     "evalue": "'module' object is not callable",
     "output_type": "error",
     "traceback": [
      "\u001b[1;31m---------------------------------------------------------------------------\u001b[0m",
      "\u001b[1;31mTypeError\u001b[0m                                 Traceback (most recent call last)",
      "Cell \u001b[1;32mIn[2], line 15\u001b[0m\n\u001b[0;32m     13\u001b[0m     data \u001b[39m=\u001b[39m json\u001b[39m.\u001b[39mloads(f\u001b[39m.\u001b[39mread())\n\u001b[0;32m     14\u001b[0m \u001b[39mprint\u001b[39m(\u001b[39m\"\u001b[39m\u001b[39m\\n\u001b[39;00m\u001b[39mPearson score:\u001b[39m\u001b[39m\"\u001b[39m)\n\u001b[1;32m---> 15\u001b[0m \u001b[39mprint\u001b[39m(pearson_score(data, user1, user2))\n\u001b[0;32m     16\u001b[0m \u001b[39mprint\u001b[39m(\u001b[39m\"\u001b[39m\u001b[39m\\n\u001b[39;00m\u001b[39mEuclidean score:\u001b[39m\u001b[39m\"\u001b[39m)\n\u001b[0;32m     17\u001b[0m \u001b[39mprint\u001b[39m(euclidean_score(data, user1, user2))\n",
      "\u001b[1;31mTypeError\u001b[0m: 'module' object is not callable"
     ]
    }
   ],
   "source": [
    "import json\n",
    "import numpy as np\n",
    "\n",
    "import pearson_score\n",
    "import euclidean_score\n",
    "\n",
    "user1 = 'Root Grooves'\n",
    "user2 = 'Joss Carter'\n",
    "\n",
    "ratings_file = 'imdb_series_rating.json'\n",
    "\n",
    "with open(ratings_file, 'r') as f:\n",
    "    data = json.loads(f.read())\n",
    "print(\"\\nPearson score:\")\n",
    "print(pearson_score(data, user1, user2))\n",
    "print(\"\\nEuclidean score:\")\n",
    "print(euclidean_score(data, user1, user2))"
   ]
  },
  {
   "cell_type": "markdown",
   "id": "95cd395f",
   "metadata": {},
   "source": [
    "# Level-2"
   ]
  },
  {
   "cell_type": "code",
   "execution_count": null,
   "id": "39beb8a9",
   "metadata": {},
   "outputs": [],
   "source": [
    "# Finds users in the dataset that are similar to the input user \n",
    "def find_similar_users(dataset, user, num_users):\n",
    "    if user not in dataset:\n",
    "        raise TypeError('Cannot find ' + user + ' in the dataset')\n",
    "\n",
    "    # Compute Pearson score between input user \n",
    "    # and all the users in the dataset\n",
    "    scores = np.array([[x, pearson_score(dataset, user,x)] for x in dataset if x != user])\n",
    "\n",
    "    # Sort the scores in decreasing order\n",
    "    scores_sorted = np.argsort(scores[:, 1])[::-1]\n",
    "\n",
    "    # Extract the top 'num_users' scores\n",
    "    top_users = scores_sorted[:num_users] \n",
    "\n",
    "    return scores[top_users] \n"
   ]
  },
  {
   "cell_type": "code",
   "execution_count": null,
   "id": "4413027c",
   "metadata": {},
   "outputs": [
    {
     "name": "stdout",
     "output_type": "stream",
     "text": [
      "\n",
      "Users similar to Harold Finch:\n",
      "\n",
      "User\t\t\tSimilarity score\n",
      "-----------------------------------------\n",
      "Joss Carter \t\t 0.83\n",
      "John Reese \t\t 0.56\n",
      "Lionel Fusco \t\t 0.0\n",
      "Claire Dunphy \t\t -1.0\n",
      "Sameen Shaw \t\t -0.95\n"
     ]
    }
   ],
   "source": [
    "user = 'Harold Finch'\n",
    "\n",
    "ratings_file = 'imdb_series_rating.json'\n",
    "\n",
    "with open(ratings_file, 'r') as f:\n",
    "    data = json.loads(f.read())\n",
    "\n",
    "print('\\nUsers similar to ' + user + ':\\n')\n",
    "similar_users = find_similar_users(data, user,5) \n",
    "print('User\\t\\t\\tSimilarity score')\n",
    "print('-'*41)\n",
    "for item in similar_users:\n",
    "    print(item[0], '\\t\\t', round(float(item[1]), 2))"
   ]
  },
  {
   "cell_type": "code",
   "execution_count": null,
   "id": "186eb113",
   "metadata": {},
   "outputs": [
    {
     "name": "stdout",
     "output_type": "stream",
     "text": [
      "\n",
      "Users similar to Joss Carter:\n",
      "\n",
      "User\t\t\tSimilarity score\n",
      "-----------------------------------------\n",
      "Harold Finch \t\t 0.83\n",
      "John Reese \t\t 0.34\n",
      "Root Grooves \t\t 0.24\n",
      "Lionel Fusco \t\t -1.0\n",
      "Claire Dunphy \t\t -0.78\n"
     ]
    }
   ],
   "source": [
    "user = 'Joss Carter'\n",
    "\n",
    "ratings_file = 'imdb_series_rating.json'\n",
    "\n",
    "with open(ratings_file, 'r') as f:\n",
    "    data = json.loads(f.read())\n",
    "\n",
    "print('\\nUsers similar to ' + user + ':\\n')\n",
    "similar_users = find_similar_users(data, user, 5) \n",
    "print('User\\t\\t\\tSimilarity score')\n",
    "print('-'*41)\n",
    "for item in similar_users:\n",
    "    print(item[0], '\\t\\t', round(float(item[1]), 2))"
   ]
  },
  {
   "cell_type": "markdown",
   "id": "5cd37b34",
   "metadata": {},
   "source": [
    "# Level-3"
   ]
  },
  {
   "cell_type": "code",
   "execution_count": null,
   "id": "5f7b9afd",
   "metadata": {},
   "outputs": [],
   "source": [
    "# Get movie recommendations for the input user\n",
    "def get_recommendations(dataset, input_user):\n",
    "    if input_user not in dataset:\n",
    "        raise TypeError('Cannot find ' + input_user + ' in the dataset')\n",
    "\n",
    "    overall_scores = {}\n",
    "    similarity_scores = {}\n",
    "\n",
    "    for user in [x for x in dataset if x != input_user]:\n",
    "        similarity_score = pearson_score(dataset, input_user, user)\n",
    "\n",
    "        if similarity_score <= 0:\n",
    "            continue\n",
    "        \n",
    "        filtered_list = [x for x in dataset[user] if x not in dataset[input_user] or dataset[input_user][x] == 0]\n",
    "\n",
    "        for item in filtered_list: \n",
    "            overall_scores.update({item: dataset[user][item] * similarity_score})\n",
    "            similarity_scores.update({item: similarity_score})\n",
    "\n",
    "    if len(overall_scores) == 0:\n",
    "        return ['No recommendations possible']\n",
    "\n",
    "    # Generate movie ranks by normalization \n",
    "    TV_series_scores = np.array([[score/similarity_scores[item], item] for item, score in overall_scores.items()])\n",
    "\n",
    "    # Sort in decreasing order \n",
    "    TV_series_scores = TV_series_scores[np.argsort(TV_series_scores[:, 0])[::-1]]\n",
    "\n",
    "    # Extract the movie recommendations\n",
    "    TV_series_recommendations = [series for _, series in TV_series_scores]\n",
    "\n",
    "    return TV_series_recommendations\n",
    " "
   ]
  },
  {
   "cell_type": "code",
   "execution_count": null,
   "id": "7f25a1fe",
   "metadata": {},
   "outputs": [
    {
     "name": "stdout",
     "output_type": "stream",
     "text": [
      "\n",
      "Movie recommendations for Harold Finch:\n",
      "1. The IT Crowd\n",
      "2. Parks and Recreation\n"
     ]
    }
   ],
   "source": [
    "user = 'Harold Finch'\n",
    "ratings_file = 'imdb_series_rating.json'\n",
    "with open(ratings_file, 'r') as f:\n",
    "    data = json.loads(f.read())\n",
    "print(\"\\nMovie recommendations for \" + user + \":\")\n",
    "TV_series = get_recommendations(data, user) \n",
    "for i, series in enumerate(TV_series):\n",
    "    print(str(i+1) + '. ' + series)"
   ]
  },
  {
   "cell_type": "code",
   "execution_count": null,
   "id": "a2692674",
   "metadata": {},
   "outputs": [
    {
     "name": "stdout",
     "output_type": "stream",
     "text": [
      "\n",
      "Movie recommendations for Sameen Shaw:\n",
      "1. No recommendations possible\n"
     ]
    }
   ],
   "source": [
    "user = 'Sameen Shaw'\n",
    "ratings_file = 'imdb_series_rating.json'\n",
    "with open(ratings_file, 'r') as f:\n",
    "    data = json.loads(f.read())\n",
    "print(\"\\nMovie recommendations for \" + user + \":\")\n",
    "TV_series = get_recommendations(data, user) \n",
    "for i, series in enumerate(TV_series):\n",
    "    print(str(i+1) + '. ' + series)"
   ]
  },
  {
   "cell_type": "code",
   "execution_count": null,
   "id": "2102d5e3",
   "metadata": {},
   "outputs": [],
   "source": []
  }
 ],
 "metadata": {
  "kernelspec": {
   "display_name": "Python 3",
   "language": "python",
   "name": "python3"
  },
  "language_info": {
   "codemirror_mode": {
    "name": "ipython",
    "version": 3
   },
   "file_extension": ".py",
   "mimetype": "text/x-python",
   "name": "python",
   "nbconvert_exporter": "python",
   "pygments_lexer": "ipython3",
   "version": "3.9.7"
  }
 },
 "nbformat": 4,
 "nbformat_minor": 5
}
