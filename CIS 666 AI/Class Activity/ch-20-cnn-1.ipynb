{
 "cells": [
  {
   "cell_type": "code",
   "execution_count": null,
   "metadata": {},
   "outputs": [],
   "source": [
    "import numpy as np\n",
    "import matplotlib.pyplot as plt\n",
    "import tensorflow as tf"
   ]
  },
  {
   "cell_type": "code",
   "execution_count": null,
   "metadata": {},
   "outputs": [],
   "source": [
    "# Define the number of points to generate\n",
    "num_points = 1200"
   ]
  },
  {
   "cell_type": "code",
   "execution_count": null,
   "metadata": {},
   "outputs": [],
   "source": [
    "# Generate the data based on equation y = mx + c\n",
    "data = []\n",
    "m = 0.2\n",
    "c = 0.5\n",
    "for i in range(num_points):\n",
    "    # Generate 'x'\n",
    "    x = np.random.normal(0.0, 0.8)"
   ]
  },
  {
   "cell_type": "code",
   "execution_count": null,
   "metadata": {},
   "outputs": [],
   "source": [
    "# Generate some noise\n",
    "noise = np.random.normal(0.0, 0.04)"
   ]
  },
  {
   "cell_type": "code",
   "execution_count": null,
   "metadata": {},
   "outputs": [],
   "source": [
    "# Compute 'y'\n",
    "y = m*x + c + noise\n",
    "data.append([x, y])"
   ]
  },
  {
   "cell_type": "code",
   "execution_count": null,
   "metadata": {},
   "outputs": [],
   "source": [
    "# Separate x and y\n",
    "x_data = [d[0] for d in data]\n",
    "y_data = [d[1] for d in data]"
   ]
  },
  {
   "cell_type": "code",
   "execution_count": null,
   "metadata": {},
   "outputs": [],
   "source": [
    "# Plot the generated data\n",
    "plt.plot(x_data, y_data, 'ro')\n",
    "plt.title('Input data')\n",
    "plt.show()"
   ]
  },
  {
   "cell_type": "code",
   "execution_count": null,
   "metadata": {},
   "outputs": [],
   "source": [
    "# Generate weights and biases\n",
    "W = tf.Variable(tf.random_uniform([1], -1.0, 1.0))\n",
    "b = tf.Variable(tf.zeros([1]))"
   ]
  },
  {
   "cell_type": "code",
   "execution_count": null,
   "metadata": {},
   "outputs": [],
   "source": [
    "# Define equation for 'y'\n",
    "y = W * x_data + b"
   ]
  },
  {
   "cell_type": "code",
   "execution_count": null,
   "metadata": {},
   "outputs": [],
   "source": [
    "# Define how to compute the loss\n",
    "loss = tf.reduce_mean(tf.square(y - y_data))"
   ]
  },
  {
   "cell_type": "code",
   "execution_count": null,
   "metadata": {},
   "outputs": [],
   "source": [
    "# Define the gradient descent optimizer\n",
    "optimizer = tf.train.GradientDescentOptimizer(0.5)\n",
    "train = optimizer.minimize(loss)"
   ]
  },
  {
   "cell_type": "code",
   "execution_count": null,
   "metadata": {},
   "outputs": [],
   "source": [
    "# Initialize all the variables\n",
    "init = tf.initialize_all_variables()"
   ]
  },
  {
   "cell_type": "code",
   "execution_count": null,
   "metadata": {},
   "outputs": [],
   "source": [
    "# Start the tensorflow session and run it\n",
    "sess = tf.Session()\n",
    "sess.run(init)"
   ]
  },
  {
   "cell_type": "code",
   "execution_count": null,
   "metadata": {},
   "outputs": [],
   "source": [
    "# Start iterating\n",
    "num_iterations = 10\n",
    "for step in range(num_iterations):\n",
    "    # Run the session\n",
    "    sess.run(train)\n",
    "    # Print the progress\n",
    "    print('\\nITERATION', step+1)\n",
    "    print('W =', sess.run(W)[0])\n",
    "    print('b =', sess.run(b)[0])\n",
    "    print('loss =', sess.run(loss))\n",
    "    # Plot the input data\n",
    "    plt.plot(x_data, y_data, 'ro')\n",
    "    # Plot the predicted output line\n",
    "    plt.plot(x_data, sess.run(W) * x_data + sess.run(b))\n",
    "# Set plotting parameters\n",
    "plt.xlabel('Dimension 0')\n",
    "plt.ylabel('Dimension 1')\n",
    "plt.title('Iteration ' + str(step+1) + ' of ' + str(num_iterations))\n",
    "plt.show()"
   ]
  }
 ],
 "metadata": {
  "language_info": {
   "name": "python"
  },
  "orig_nbformat": 4
 },
 "nbformat": 4,
 "nbformat_minor": 2
}
