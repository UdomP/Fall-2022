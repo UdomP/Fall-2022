{
 "cells": [
  {
   "cell_type": "code",
   "execution_count": 16,
   "metadata": {},
   "outputs": [],
   "source": [
    "import nltk\n",
    "import numpy as np\n",
    "from nltk.tokenize import sent_tokenize, word_tokenize, WordPunctTokenizer\n",
    "from nltk.stem import WordNetLemmatizer\n",
    "from nltk.stem import PorterStemmer, LancasterStemmer, SnowballStemmer"
   ]
  },
  {
   "cell_type": "code",
   "execution_count": 23,
   "metadata": {},
   "outputs": [],
   "source": [
    "input_text = open('Language_data.txt', 'r').read()\n",
    "input_text_bow = open('BoW_data.txt', 'r').read()"
   ]
  },
  {
   "cell_type": "code",
   "execution_count": 4,
   "metadata": {},
   "outputs": [],
   "source": [
    "sentences = sent_tokenize(input_text)\n",
    "words = word_tokenize(input_text)\n",
    "puncuation = WordPunctTokenizer().tokenize(input_text)"
   ]
  },
  {
   "cell_type": "code",
   "execution_count": 5,
   "metadata": {},
   "outputs": [
    {
     "name": "stdout",
     "output_type": "stream",
     "text": [
      "['Attracting and retaining the mindshare of your customer base is a challenge that most enterprises are constantly struggling with.', 'To improve your brand recall, you need to constantly generate quality content that is relevant and engaging and properly appropriated for circulation in a variety of outlets.', 'Here comes Generative AI, which offers new capabilities to augment content creation.', 'Using generative AI, Enterprises can create a variety of content like images, videos, and written material and decrease turnaround time.']\n",
      "['Attracting', 'and', 'retaining', 'the', 'mindshare', 'of', 'your', 'customer', 'base', 'is', 'a', 'challenge', 'that', 'most', 'enterprises', 'are', 'constantly', 'struggling', 'with', '.', 'To', 'improve', 'your', 'brand', 'recall', ',', 'you', 'need', 'to', 'constantly', 'generate', 'quality', 'content', 'that', 'is', 'relevant', 'and', 'engaging', 'and', 'properly', 'appropriated', 'for', 'circulation', 'in', 'a', 'variety', 'of', 'outlets', '.', 'Here', 'comes', 'Generative', 'AI', ',', 'which', 'offers', 'new', 'capabilities', 'to', 'augment', 'content', 'creation', '.', 'Using', 'generative', 'AI', ',', 'Enterprises', 'can', 'create', 'a', 'variety', 'of', 'content', 'like', 'images', ',', 'videos', ',', 'and', 'written', 'material', 'and', 'decrease', 'turnaround', 'time', '.']\n",
      "['Attracting', 'and', 'retaining', 'the', 'mindshare', 'of', 'your', 'customer', 'base', 'is', 'a', 'challenge', 'that', 'most', 'enterprises', 'are', 'constantly', 'struggling', 'with', '.', 'To', 'improve', 'your', 'brand', 'recall', ',', 'you', 'need', 'to', 'constantly', 'generate', 'quality', 'content', 'that', 'is', 'relevant', 'and', 'engaging', 'and', 'properly', 'appropriated', 'for', 'circulation', 'in', 'a', 'variety', 'of', 'outlets', '.', 'Here', 'comes', 'Generative', 'AI', ',', 'which', 'offers', 'new', 'capabilities', 'to', 'augment', 'content', 'creation', '.', 'Using', 'generative', 'AI', ',', 'Enterprises', 'can', 'create', 'a', 'variety', 'of', 'content', 'like', 'images', ',', 'videos', ',', 'and', 'written', 'material', 'and', 'decrease', 'turnaround', 'time', '.']\n"
     ]
    }
   ],
   "source": [
    "print(sentences)\n",
    "print(words)\n",
    "print(puncuation)"
   ]
  },
  {
   "cell_type": "code",
   "execution_count": 15,
   "metadata": {},
   "outputs": [
    {
     "name": "stdout",
     "output_type": "stream",
     "text": [
      "['Attracting', 'and', 'retaining', 'the', 'mindshare', 'of', 'your', 'customer', 'base', 'is', 'a', 'challenge', 'that', 'most', 'enterprise', 'are', 'constantly', 'struggling', 'with', '.', 'To', 'improve', 'your', 'brand', 'recall', ',', 'you', 'need', 'to', 'constantly', 'generate', 'quality', 'content', 'that', 'is', 'relevant', 'and', 'engaging', 'and', 'properly', 'appropriated', 'for', 'circulation', 'in', 'a', 'variety', 'of', 'outlet', '.', 'Here', 'come', 'Generative', 'AI', ',', 'which', 'offer', 'new', 'capability', 'to', 'augment', 'content', 'creation', '.', 'Using', 'generative', 'AI', ',', 'Enterprises', 'can', 'create', 'a', 'variety', 'of', 'content', 'like', 'image', ',', 'video', ',', 'and', 'written', 'material', 'and', 'decrease', 'turnaround', 'time', '.']\n",
      "['Attracting', 'and', 'retain', 'the', 'mindshare', 'of', 'your', 'customer', 'base', 'be', 'a', 'challenge', 'that', 'most', 'enterprises', 'be', 'constantly', 'struggle', 'with', '.', 'To', 'improve', 'your', 'brand', 'recall', ',', 'you', 'need', 'to', 'constantly', 'generate', 'quality', 'content', 'that', 'be', 'relevant', 'and', 'engage', 'and', 'properly', 'appropriate', 'for', 'circulation', 'in', 'a', 'variety', 'of', 'outlets', '.', 'Here', 'come', 'Generative', 'AI', ',', 'which', 'offer', 'new', 'capabilities', 'to', 'augment', 'content', 'creation', '.', 'Using', 'generative', 'AI', ',', 'Enterprises', 'can', 'create', 'a', 'variety', 'of', 'content', 'like', 'image', ',', 'videos', ',', 'and', 'write', 'material', 'and', 'decrease', 'turnaround', 'time', '.']\n"
     ]
    }
   ],
   "source": [
    "lemma_words_noun = []\n",
    "for w in words:\n",
    "    lemmatizer = WordNetLemmatizer()\n",
    "    lemma_words_noun.append(lemmatizer.lemmatize(w, pos='n'))\n",
    "print(lemma_words_noun)\n",
    "\n",
    "lemma_words_verb = []\n",
    "for w in words:\n",
    "    lemmatizer = WordNetLemmatizer()\n",
    "    lemma_words_verb.append(lemmatizer.lemmatize(w, pos='v'))\n",
    "print(lemma_words_verb)"
   ]
  },
  {
   "cell_type": "code",
   "execution_count": 21,
   "metadata": {},
   "outputs": [
    {
     "name": "stdout",
     "output_type": "stream",
     "text": [
      "['attract', 'and', 'retain', 'the', 'mindshar', 'of', 'your', 'custom', 'base', 'is', 'a', 'challeng', 'that', 'most', 'enterpris', 'are', 'constantli', 'struggl', 'with', '.', 'to', 'improv', 'your', 'brand', 'recal', ',', 'you', 'need', 'to', 'constantli', 'gener', 'qualiti', 'content', 'that', 'is', 'relev', 'and', 'engag', 'and', 'properli', 'appropri', 'for', 'circul', 'in', 'a', 'varieti', 'of', 'outlet', '.', 'here', 'come', 'gener', 'ai', ',', 'which', 'offer', 'new', 'capabl', 'to', 'augment', 'content', 'creation', '.', 'use', 'gener', 'ai', ',', 'enterpris', 'can', 'creat', 'a', 'varieti', 'of', 'content', 'like', 'imag', ',', 'video', ',', 'and', 'written', 'materi', 'and', 'decreas', 'turnaround', 'time', '.']\n",
      "['attract', 'and', 'retain', 'the', 'mindsh', 'of', 'yo', 'custom', 'bas', 'is', 'a', 'challeng', 'that', 'most', 'enterpr', 'ar', 'const', 'struggling', 'with', '.', 'to', 'improv', 'yo', 'brand', 'recal', ',', 'you', 'nee', 'to', 'const', 'gen', 'qual', 'cont', 'that', 'is', 'relev', 'and', 'eng', 'and', 'prop', 'appropry', 'for', 'circ', 'in', 'a', 'vary', 'of', 'outlet', '.', 'her', 'com', 'gen', 'ai', ',', 'which', 'off', 'new', 'cap', 'to', 'aug', 'cont', 'cre', '.', 'us', 'gen', 'ai', ',', 'enterpr', 'can', 'cre', 'a', 'vary', 'of', 'cont', 'lik', 'im', ',', 'video', ',', 'and', 'writ', 'mat', 'and', 'decreas', 'turnaround', 'tim', '.']\n",
      "['attract', 'and', 'retain', 'the', 'mindshar', 'of', 'your', 'custom', 'base', 'is', 'a', 'challeng', 'that', 'most', 'enterpris', 'are', 'constant', 'struggl', 'with', '.', 'to', 'improv', 'your', 'brand', 'recal', ',', 'you', 'need', 'to', 'constant', 'generat', 'qualiti', 'content', 'that', 'is', 'relev', 'and', 'engag', 'and', 'proper', 'appropri', 'for', 'circul', 'in', 'a', 'varieti', 'of', 'outlet', '.', 'here', 'come', 'generat', 'ai', ',', 'which', 'offer', 'new', 'capabl', 'to', 'augment', 'content', 'creation', '.', 'use', 'generat', 'ai', ',', 'enterpris', 'can', 'creat', 'a', 'varieti', 'of', 'content', 'like', 'imag', ',', 'video', ',', 'and', 'written', 'materi', 'and', 'decreas', 'turnaround', 'time', '.']\n"
     ]
    }
   ],
   "source": [
    "porter_words = []\n",
    "for w in words:\n",
    "    porter_words.append(PorterStemmer().stem(w))\n",
    "print(porter_words)\n",
    "\n",
    "lancas_words = []\n",
    "for w in words:\n",
    "    lancas_words.append(LancasterStemmer().stem(w))\n",
    "print(lancas_words)\n",
    "\n",
    "snow_words = []\n",
    "for w in words:\n",
    "    snow_words.append(SnowballStemmer('english').stem(w))\n",
    "print(snow_words)"
   ]
  },
  {
   "cell_type": "code",
   "execution_count": 24,
   "metadata": {},
   "outputs": [],
   "source": [
    "words_bow = word_tokenize(input_text_bow)\n",
    "print(words_bow)"
   ]
  },
  {
   "cell_type": "code",
   "execution_count": null,
   "metadata": {},
   "outputs": [],
   "source": [
    "# for word in words_bow:\n",
    "#      cur_chunk.append(word)\n",
    "#     count += 1\n",
    "#     if count == chunk_size:\n",
    "#     output.append(' '.join(cur_chunk))\n",
    "#     count, cur_chunk = 0, []\n",
    "#     output.append(' '.join(cur_chunk))\n"
   ]
  }
 ],
 "metadata": {
  "kernelspec": {
   "display_name": "Python 3",
   "language": "python",
   "name": "python3"
  },
  "language_info": {
   "codemirror_mode": {
    "name": "ipython",
    "version": 3
   },
   "file_extension": ".py",
   "mimetype": "text/x-python",
   "name": "python",
   "nbconvert_exporter": "python",
   "pygments_lexer": "ipython3",
   "version": "3.9.7"
  },
  "orig_nbformat": 4,
  "vscode": {
   "interpreter": {
    "hash": "23ec26e3d78f03e9d363b0521c54679bd260eb9cc535386c8fbbe8e297a627f2"
   }
  }
 },
 "nbformat": 4,
 "nbformat_minor": 2
}
