{
 "cells": [
  {
   "cell_type": "code",
   "execution_count": 16,
   "metadata": {},
   "outputs": [],
   "source": [
    "import nltk\n",
    "import numpy as np\n",
    "from nltk.tokenize import sent_tokenize, word_tokenize, WordPunctTokenizer\n",
    "from nltk.stem import WordNetLemmatizer\n",
    "from nltk.stem import PorterStemmer, LancasterStemmer, SnowballStemmer"
   ]
  },
  {
   "cell_type": "code",
   "execution_count": 23,
   "metadata": {},
   "outputs": [],
   "source": [
    "input_text = open('Language_data.txt', 'r').read()\n",
    "input_text_bow = open('BoW_data.txt', 'r').read()"
   ]
  },
  {
   "cell_type": "code",
   "execution_count": 4,
   "metadata": {},
   "outputs": [],
   "source": [
    "sentences = sent_tokenize(input_text)\n",
    "words = word_tokenize(input_text)\n",
    "puncuation = WordPunctTokenizer().tokenize(input_text)"
   ]
  },
  {
   "cell_type": "code",
   "execution_count": 5,
   "metadata": {},
   "outputs": [
    {
     "name": "stdout",
     "output_type": "stream",
     "text": [
      "['Attracting and retaining the mindshare of your customer base is a challenge that most enterprises are constantly struggling with.', 'To improve your brand recall, you need to constantly generate quality content that is relevant and engaging and properly appropriated for circulation in a variety of outlets.', 'Here comes Generative AI, which offers new capabilities to augment content creation.', 'Using generative AI, Enterprises can create a variety of content like images, videos, and written material and decrease turnaround time.']\n",
      "['Attracting', 'and', 'retaining', 'the', 'mindshare', 'of', 'your', 'customer', 'base', 'is', 'a', 'challenge', 'that', 'most', 'enterprises', 'are', 'constantly', 'struggling', 'with', '.', 'To', 'improve', 'your', 'brand', 'recall', ',', 'you', 'need', 'to', 'constantly', 'generate', 'quality', 'content', 'that', 'is', 'relevant', 'and', 'engaging', 'and', 'properly', 'appropriated', 'for', 'circulation', 'in', 'a', 'variety', 'of', 'outlets', '.', 'Here', 'comes', 'Generative', 'AI', ',', 'which', 'offers', 'new', 'capabilities', 'to', 'augment', 'content', 'creation', '.', 'Using', 'generative', 'AI', ',', 'Enterprises', 'can', 'create', 'a', 'variety', 'of', 'content', 'like', 'images', ',', 'videos', ',', 'and', 'written', 'material', 'and', 'decrease', 'turnaround', 'time', '.']\n",
      "['Attracting', 'and', 'retaining', 'the', 'mindshare', 'of', 'your', 'customer', 'base', 'is', 'a', 'challenge', 'that', 'most', 'enterprises', 'are', 'constantly', 'struggling', 'with', '.', 'To', 'improve', 'your', 'brand', 'recall', ',', 'you', 'need', 'to', 'constantly', 'generate', 'quality', 'content', 'that', 'is', 'relevant', 'and', 'engaging', 'and', 'properly', 'appropriated', 'for', 'circulation', 'in', 'a', 'variety', 'of', 'outlets', '.', 'Here', 'comes', 'Generative', 'AI', ',', 'which', 'offers', 'new', 'capabilities', 'to', 'augment', 'content', 'creation', '.', 'Using', 'generative', 'AI', ',', 'Enterprises', 'can', 'create', 'a', 'variety', 'of', 'content', 'like', 'images', ',', 'videos', ',', 'and', 'written', 'material', 'and', 'decrease', 'turnaround', 'time', '.']\n"
     ]
    }
   ],
   "source": [
    "print(sentences)\n",
    "print(words)\n",
    "print(puncuation)"
   ]
  },
  {
   "cell_type": "code",
   "execution_count": 15,
   "metadata": {},
   "outputs": [
    {
     "name": "stdout",
     "output_type": "stream",
     "text": [
      "['Attracting', 'and', 'retaining', 'the', 'mindshare', 'of', 'your', 'customer', 'base', 'is', 'a', 'challenge', 'that', 'most', 'enterprise', 'are', 'constantly', 'struggling', 'with', '.', 'To', 'improve', 'your', 'brand', 'recall', ',', 'you', 'need', 'to', 'constantly', 'generate', 'quality', 'content', 'that', 'is', 'relevant', 'and', 'engaging', 'and', 'properly', 'appropriated', 'for', 'circulation', 'in', 'a', 'variety', 'of', 'outlet', '.', 'Here', 'come', 'Generative', 'AI', ',', 'which', 'offer', 'new', 'capability', 'to', 'augment', 'content', 'creation', '.', 'Using', 'generative', 'AI', ',', 'Enterprises', 'can', 'create', 'a', 'variety', 'of', 'content', 'like', 'image', ',', 'video', ',', 'and', 'written', 'material', 'and', 'decrease', 'turnaround', 'time', '.']\n",
      "['Attracting', 'and', 'retain', 'the', 'mindshare', 'of', 'your', 'customer', 'base', 'be', 'a', 'challenge', 'that', 'most', 'enterprises', 'be', 'constantly', 'struggle', 'with', '.', 'To', 'improve', 'your', 'brand', 'recall', ',', 'you', 'need', 'to', 'constantly', 'generate', 'quality', 'content', 'that', 'be', 'relevant', 'and', 'engage', 'and', 'properly', 'appropriate', 'for', 'circulation', 'in', 'a', 'variety', 'of', 'outlets', '.', 'Here', 'come', 'Generative', 'AI', ',', 'which', 'offer', 'new', 'capabilities', 'to', 'augment', 'content', 'creation', '.', 'Using', 'generative', 'AI', ',', 'Enterprises', 'can', 'create', 'a', 'variety', 'of', 'content', 'like', 'image', ',', 'videos', ',', 'and', 'write', 'material', 'and', 'decrease', 'turnaround', 'time', '.']\n"
     ]
    }
   ],
   "source": [
    "lemma_words_noun = []\n",
    "for w in words:\n",
    "    lemmatizer = WordNetLemmatizer()\n",
    "    lemma_words_noun.append(lemmatizer.lemmatize(w, pos='n'))\n",
    "print(lemma_words_noun)\n",
    "\n",
    "lemma_words_verb = []\n",
    "for w in words:\n",
    "    lemmatizer = WordNetLemmatizer()\n",
    "    lemma_words_verb.append(lemmatizer.lemmatize(w, pos='v'))\n",
    "print(lemma_words_verb)"
   ]
  },
  {
   "cell_type": "code",
   "execution_count": 21,
   "metadata": {},
   "outputs": [
    {
     "name": "stdout",
     "output_type": "stream",
     "text": [
      "['attract', 'and', 'retain', 'the', 'mindshar', 'of', 'your', 'custom', 'base', 'is', 'a', 'challeng', 'that', 'most', 'enterpris', 'are', 'constantli', 'struggl', 'with', '.', 'to', 'improv', 'your', 'brand', 'recal', ',', 'you', 'need', 'to', 'constantli', 'gener', 'qualiti', 'content', 'that', 'is', 'relev', 'and', 'engag', 'and', 'properli', 'appropri', 'for', 'circul', 'in', 'a', 'varieti', 'of', 'outlet', '.', 'here', 'come', 'gener', 'ai', ',', 'which', 'offer', 'new', 'capabl', 'to', 'augment', 'content', 'creation', '.', 'use', 'gener', 'ai', ',', 'enterpris', 'can', 'creat', 'a', 'varieti', 'of', 'content', 'like', 'imag', ',', 'video', ',', 'and', 'written', 'materi', 'and', 'decreas', 'turnaround', 'time', '.']\n",
      "['attract', 'and', 'retain', 'the', 'mindsh', 'of', 'yo', 'custom', 'bas', 'is', 'a', 'challeng', 'that', 'most', 'enterpr', 'ar', 'const', 'struggling', 'with', '.', 'to', 'improv', 'yo', 'brand', 'recal', ',', 'you', 'nee', 'to', 'const', 'gen', 'qual', 'cont', 'that', 'is', 'relev', 'and', 'eng', 'and', 'prop', 'appropry', 'for', 'circ', 'in', 'a', 'vary', 'of', 'outlet', '.', 'her', 'com', 'gen', 'ai', ',', 'which', 'off', 'new', 'cap', 'to', 'aug', 'cont', 'cre', '.', 'us', 'gen', 'ai', ',', 'enterpr', 'can', 'cre', 'a', 'vary', 'of', 'cont', 'lik', 'im', ',', 'video', ',', 'and', 'writ', 'mat', 'and', 'decreas', 'turnaround', 'tim', '.']\n",
      "['attract', 'and', 'retain', 'the', 'mindshar', 'of', 'your', 'custom', 'base', 'is', 'a', 'challeng', 'that', 'most', 'enterpris', 'are', 'constant', 'struggl', 'with', '.', 'to', 'improv', 'your', 'brand', 'recal', ',', 'you', 'need', 'to', 'constant', 'generat', 'qualiti', 'content', 'that', 'is', 'relev', 'and', 'engag', 'and', 'proper', 'appropri', 'for', 'circul', 'in', 'a', 'varieti', 'of', 'outlet', '.', 'here', 'come', 'generat', 'ai', ',', 'which', 'offer', 'new', 'capabl', 'to', 'augment', 'content', 'creation', '.', 'use', 'generat', 'ai', ',', 'enterpris', 'can', 'creat', 'a', 'varieti', 'of', 'content', 'like', 'imag', ',', 'video', ',', 'and', 'written', 'materi', 'and', 'decreas', 'turnaround', 'time', '.']\n"
     ]
    }
   ],
   "source": [
    "porter_words = []\n",
    "for w in words:\n",
    "    porter_words.append(PorterStemmer().stem(w))\n",
    "print(porter_words)\n",
    "\n",
    "lancas_words = []\n",
    "for w in words:\n",
    "    lancas_words.append(LancasterStemmer().stem(w))\n",
    "print(lancas_words)\n",
    "\n",
    "snow_words = []\n",
    "for w in words:\n",
    "    snow_words.append(SnowballStemmer('english').stem(w))\n",
    "print(snow_words)"
   ]
  },
  {
   "cell_type": "code",
   "execution_count": 25,
   "metadata": {},
   "outputs": [
    {
     "name": "stdout",
     "output_type": "stream",
     "text": [
      "['There', 'is', 'a', 'treasure', 'trove', 'of', 'intelligence', 'buried', 'deep', 'in', 'the', 'conversations', 'that', 'customers', 'have', 'with', 'contact', 'center', 'executives', '.', 'These', 'unstructured', 'voice', 'and', 'text-based', 'conversations', 'are', 'fast', 'becoming', 'one', 'of', 'the', 'easiest', 'sources', 'of', 'intelligence', '.', 'In', 'some', 'scenarios', ',', 'it', 'is', 'possible', 'to', 'derive', 'crucial', 'consumer', 'insights', 'to', 'improve', 'products', 'and', 'services', ',', 'design', 'virtual', 'assistants', 'to', 'help', 'the', 'staff', 'tackle', 'complex', 'customer', 'issues', 'and', 'improve', 'customer', 'satisfaction', '.', 'Some', 'other', 'intelligence', 'that', 'can', 'be', 'of', 'value', 'is', 'identifying', 'frequently', 'asked', 'questions', 'and', 'creating', 'proper', 'self-service', 'channels', 'for', 'them', ',', 'increasing', 'customer', 'engagement', 'and', 'identifying', 'and', 'prescribing', 'opportunities', 'for', 'cross-selling', 'and', 'upselling', 'and', 'an', 'abundance', 'of', 'other', 'allied', 'opportunities', '.', 'Also', ',', 'language', 'and', 'accent', 'neutralization', 'capabilities', 'can', 'enable', 'an', 'executive', 'to', 'serve', 'customers', 'across', 'geographies', '.', 'There', 'are', 'several', 'existing', 'hurdles', 'in', 'building', 'these', 'solutions', ',', 'like', 'achieving', 'clean', 'transcription', 'from', 'different', 'languages', ',', 'diverse', 'dialects', 'and', 'accents', ',', 'identifying', 'different', 'types', 'of', 'contextual', 'vocabularies', ',', 'removing', 'ambient', 'noise', ',', 'and', 'using', 'different', 'channels', 'like', 'mono', 'or', 'stereo', 'for', 'recording', 'the', 'conversations', '.', 'Over', 'the', 'years', ',', 'big', 'technology', 'players', 'have', 'come', 'up', 'with', 'many', 'solutions', '.', 'They', 'have', 'built', 'powerful', 'proprietary', 'models', 'with', 'very', 'high', 'accuracies', '.', 'But', 'the', 'major', 'challenge', 'is', 'that', 'the', 'data', 'needs', 'to', 'be', 'sent', 'over', 'the', 'cloud', ',', 'which', 'may', 'conflict', 'with', 'confidentiality', 'and', 'privacy', 'concerns', '.', 'Also', ',', 'these', 'proprietary', 'models', 'have', 'limited', 'scope', 'in', 'training', 'for', 'domain-specific', 'customizations', '.', 'What', 'will', 'be', 'a', 'differentiator', 'in', 'the', 'coming', 'days', 'is', 'the', 'usage', 'of', 'powerful', 'deep', 'learning', 'to', 'build', 'encoder', 'decoder', 'transformer', 'networks', 'using', 'pre-trained', 'components', 'and', 'transfer', 'learning', '.', 'These', 'computationally', 'intensive', 'models', 'are', 'leveraging', 'the', 'hardware', 'acceleration', 'of', 'high-performance', 'GPU', 'computing', 'to', 'circumvent', 'challenges', 'with', 'translations', 'and', 'nuances', 'of', 'speech', '.', 'Large', 'language', 'models', 'like', 'BERT', ',', 'and', 'GPT-3', ',', 'will', 'become', 'far', 'more', 'sophisticated', 'in', 'the', 'coming', 'days', 'extending', 'their', 'capabilities', 'to', 'process', 'different', 'semantic', 'similarities', 'and', 'contextual', 'relationships', 'and', 'improving', 'upon', 'existing', 'applications', 'in', 'text', 'summarization', 'and', 'generation', ',', 'chatbots', ',', 'increasing', 'translation', 'accuracy', 'and', 'enhancing', 'sentiment', 'mining', ',', 'search', ',', 'code', 'generation', 'etc', '.', 'In', 'the', 'field', 'of', 'computer', 'vision', ',', 'newer', 'and', 'more', 'powerful', 'models', 'for', 'object', 'detection', ',', 'segmentation', ',', 'tracking', 'and', 'counting', 'are', 'being', 'built', 'that', 'deliver', 'previously', 'unimagined', 'levels', 'of', 'accuracy', '.', 'Augmented', 'by', 'extraordinarily', 'powerful', 'GPU', ',', 'these', 'models', 'will', 'become', 'increasingly', 'commonplace', '.', 'We', 'can', 'expect', 'to', 'see', 'hybrid', 'solutions', 'leveraging', 'all', 'the', 'above', 'advancements', 'to', 'bring', 'the', 'next', 'generation', 'of', 'AI', 'assistants', 'to', 'life', '.', 'These', 'solutions', 'will', 'have', 'the', 'warm', 'touch', 'of', 'human', 'conversations', 'coupled', 'with', 'the', 'fast', 'execution', 'and', 'inferencing', 'capabilities', ',', 'ultimately', 'resulting', 'in', 'lower', 'operational', 'costs', 'and', 'huge', 'boosts', 'in', 'customer', 'satisfaction', '.', 'Attracting', 'and', 'retaining', 'the', 'mindshare', 'of', 'your', 'customer', 'base', 'is', 'a', 'challenge', 'that', 'most', 'enterprises', 'are', 'constantly', 'struggling', 'with', '.', 'To', 'improve', 'your', 'brand', 'recall', ',', 'you', 'need', 'to', 'constantly', 'generate', 'quality', 'content', 'that', 'is', 'relevant', 'and', 'engaging', 'and', 'properly', 'appropriated', 'for', 'circulation', 'in', 'a', 'variety', 'of', 'outlets', '.', 'Here', 'comes', 'Generative', 'AI', ',', 'which', 'offers', 'new', 'capabilities', 'to', 'augment', 'content', 'creation', '.', 'Using', 'generative', 'AI', ',', 'Enterprises', 'can', 'create', 'a', 'variety', 'of', 'content', 'like', 'images', ',', 'videos', ',', 'and', 'written', 'material', 'and', 'decrease', 'turnaround', 'time', '.', 'Generative', 'AI', 'networks', 'employ', 'transfer-style', 'learning', 'or', 'general', 'adversarial', 'networks', 'to', 'create', 'immersive', 'content', 'from', 'different', 'sources', '.', 'Apart', 'from', 'obvious', 'use', 'cases', 'in', 'marketing', ',', 'it', 'can', 'potentially', 'revolutionize', 'the', 'media', 'industry', '.', 'Film', 'making', 'and', 'restoring', 'old', 'films', 'in', 'high', 'definition', ',', 'augmented', 'capabilities', 'for', 'special', 'effects', 'and', 'building', 'avatars', 'in', 'the', 'metaverse', 'are', 'a', 'few', 'limitless', 'applications', '.', 'Here', ',', 'large', 'language', 'models', 'like', 'GPT-3', 'will', 'again', 'come', 'into', 'play', 'to', 'create', 'engaging', 'content', 'in', 'fiction', ',', 'non-fiction', 'and', 'academic', 'articles', '.', 'On', 'many', 'publicly', 'available', 'websites', ',', 'it', 'is', 'already', 'possible', 'to', 'generate', 'quality', 'images', 'of', 'abstract', 'ideas', 'that', 'are', 'rendered', 'from', 'simple', 'written', 'prompts', 'from', 'the', 'user', '.', 'It', 'is', 'possible', 'to', 'create', 'narrations', 'and', 'voices', 'in', 'thousands', 'of', 'tones', 'and', 'frequencies', 'in', 'areas', 'like', 'audio', 'synthesis', '.', 'One', 'of', 'the', 'malicious', 'applications', 'that', 'might', 'arise', 'that', 'we', 'need', 'to', 'be', 'vigilant', 'of', 'is', 'the', 'creation', 'of', 'deepfakes', '(', 'artificially', 'generated', 'fake', 'images', 'and', 'videos', ')', 'which', 'will', 'lead', 'to', 'emerging', 'threats', 'like', 'the', 'proliferation', 'of', 'fake', 'news', 'and', 'furthering', 'harmful', 'propaganda', '.', 'Techno', 'Thus', ',', 'Generative', 'AI', 'will', 'be', 'a', 'major', 'transformational', 'force', 'augmenting', 'our', 'innate', 'creativity', 'in', 'various', 'business', 'pursuits', '.', 'Increasingly', 'enterprises', 'are', 'realizing', 'the', 'need', 'for', 'explainable', 'AI', 'to', 'improve', 'transparency', ',', 'establishing', 'accountability', 'and', 'exposing', 'biases', 'in', 'automated', 'decision-making', 'systems', '.', 'Explainable', 'AI', 'is', 'also', 'a', 'major', 'instrument', 'in', 'mitigating', 'the', 'risks', 'inherently', 'associated', 'with', 'Enterprise', 'AI', '.', 'It', 'is', 'also', 'proven', 'that', 'explainable', 'AI', 'also', 'increases', 'AI', 'adoption', 'across', 'the', 'enterprise', 'as', 'people', 'are', 'more', 'comfortable', 'when', 'AI', 'models', 'give', 'justifications', 'and', 'rationale', 'along', 'with', 'their', 'predictions', '.', 'In', 'settings', 'like', 'healthcare', 'or', 'financial', 'services', ',', 'this', 'would', 'gain', 'a', 'lot', 'of', 'momentum', 'as', 'you', 'would', 'need', 'to', 'understand', 'and', 'articulate', 'the', 'justification', 'for', 'recommending', 'a', 'treatment', 'or', 'diagnosis', 'or', 'why', 'a', 'loan', 'application', 'was', 'rejected', '.', 'Several', 'techniques', ',', 'like', 'LIME', ',', 'increase', 'model', 'interpretability', 'by', 'perturbing', 'the', 'inputs', 'and', 'assessing', 'impacts', 'on', 'the', 'output', '.', 'Another', 'popular', 'technique', ',', 'SHAP', ',', 'uses', 'a', 'game', 'theory-based', 'approach', 'by', 'analyzing', 'a', 'combination', 'of', 'features', 'and', 'their', 'corresponding', 'effects', 'on', 'the', 'resulting', 'delta', '.', 'It', 'creates', 'explainability', 'scores', 'for', 'highlighting', 'the', 'inputâ€™s', 'aspects', 'that', 'contributed', 'more', 'to', 'the', 'output', '.', 'For', 'example', ',', 'in', 'image-based', 'predictions', ',', 'the', 'dominant', 'area', 'or', 'the', 'pixels', 'that', 'resulted', 'in', 'the', 'output', 'can', 'be', 'highlighted', '.', 'As', 'the', 'impact', 'of', 'AI', 'continues', 'to', 'surge', 'in', 'business', 'and', 'society', ',', 'we', 'also', 'expose', 'ourselves', 'to', 'various', 'ethical', 'issues', 'that', 'arise', 'from', 'these', 'complex', 'use', 'cases', '.', 'Proper', 'data', 'governance', 'frameworks', ',', 'tools', 'to', 'expose', 'bias', 'and', 'factors', 'in', 'transparency', 'are', 'being', 'looked', 'at', 'to', 'stay', 'compliant', 'with', 'legal', 'and', 'social', 'structures', '.', 'Models', 'will', 'be', 'thoroughly', 'tested', 'for', 'drifts', ',', 'humility', ',', 'and', 'bias', '.', 'Proper', 'model', 'validation', 'and', 'audit', 'mechanisms', 'with', 'inbuilt', 'explainability', 'and', 'checks', 'for', 'reproducibility', 'will', 'become', 'the', 'norm', ',', 'for', 'safeguarding', 'against', 'ethical', 'lapses', '.', 'Leading', 'Retailers', 'are', 'investing', 'significantly', 'in', 'improving', 'operational', 'efficiencies', 'and', 'customer', 'experiences', 'through', 'AI', '.', 'Increasingly', ',', 'retail', 'stores', 'will', 'become', 'the', 'focal', 'point', 'for', 'driving', 'brand', 'awareness', 'and', 'customer', 'experience', 'rather', 'than', 'simple', 'transaction', 'centers', ',', 'and', 'Adaptive', 'AI', 'will', 'be', 'the', 'force', 'behind', 'this', 'transformation', '.', 'Frictionless', 'shopping', 'experiences', 'built', 'on', 'computer', 'vision', 'and', 'edge-based', 'AI', 'systems', 'that', 'reduce', 'wait', 'times', 'and', 'reduce', 'hassle', 'will', 'be', 'one', 'major', 'growth', 'area', '.', 'The', 'future', 'retail', 'stores', 'will', 'also', 'be', 'able', 'to', 'offer', 'hyper-personalized', 'recommendations', 'and', 'craft', 'seamless', 'customer', 'journeys', 'based', 'on', 'real-time', 'insights', 'generated', 'through', 'video', 'analytics', 'powered', 'by', 'on-prem', 'infrastructure', '.', 'In-store', 'analytics', 'will', 'give', 'intelligent', 'insights', 'based', 'on', 'the', 'dwell', 'time', 'across', 'different', 'aisles', 'in', 'a', 'store', '.', 'Integrating', 'with', 'past', 'shopping', 'histories', 'across', 'multiple', 'channels', 'and', 'factoring', 'in', 'the', 'demographic', 'profile', 'will', 'enrich', 'the', 'customer', 'experience', 'and', 'make', 'experiential', 'shopping', 'highly', 'immersive', 'and', 'enjoyable', '.', 'Omnichannel', 'management', 'will', 'be', 'augmented', 'through', 'adaptive', 'AI', ',', 'which', 'will', 'give', 'highly', 'contextual', 'assistance', '.', 'Conversational', 'AI', ',', 'coupled', 'with', 'emerging', 'technologies', 'like', 'AR', 'and', 'VR', ',', 'will', 'augment', 'the', 'capability', 'of', 'store', 'employees', 'to', 'redefine', 'the', 'shopping', 'experience', 'entirely', 'in', 'brick-and-mortar', 'stores', '.', 'Edge', 'AI', 'has', 'immense', 'power', 'to', 'transform', 'our', 'daily', 'lives', 'by', 'making', 'common', 'consumer', 'devices', 'context-aware', 'through', 'powerful', 'deep', 'learning', '.', 'Edge-based', 'AI', 'will', 'get', 'more', 'affordable', 'due', 'to', 'lighter', 'models', 'and', 'accessibility', 'to', 'high-performance', 'GPU', 'compute', '.', 'The', 'Edge', 'models', 'use', 'local', 'context-based', 'learning', 'and', 'synchronize', 'with', 'the', 'central', 'model', 'at', 'the', 'appropriate', 'times', ',', 'resulting', 'in', 'lesser', 'bandwidth', 'and', 'energy', 'requirements', '.', 'These', 'affordable', 'and', 'intelligent', 'devices', 'will', 'revolutionize', 'various', 'segments', 'like', 'retail', ',', 'manufacturing', 'and', 'energy', 'utilities', 'for', 'use-cases', 'like', 'quality', 'inspection', ',', 'predictive', 'maintenance', 'and', 'health', 'and', 'safety', '.', 'The', 'drop', 'in', 'costs', 'due', 'to', 'lower', 'compute', 'requirements', 'will', 'give', 'rise', 'to', 'a', 'market', 'for', 'smart', 'and', 'responsive', 'devices', '.', 'Lesser', 'data', 'requirements', 'will', 'be', 'a', 'boon', 'for', 'sectors', 'like', 'healthcare', 'and', 'finance', ',', 'where', 'data', 'management', 'is', 'strictly', 'regulated', '.', 'In', 'every', 'edge', 'deviceâ€™s', 'models', 'are', 'customized', 'to', 'the', 'specific', 'edge', 'environment', ',', 'and', 'critical', 'data', 'never', 'exits', 'outside', 'the', 'edge', 'network', '.', 'Edge', 'AI', 'will', 'become', 'pervasive', 'in', 'arenas', 'like', 'smart', 'warehouses', ',', 'manufacturing', 'and', 'utilities', '.', 'As', 'enterprises', 'become', 'more', 'aware', 'of', 'bulky', 'modelsâ€™', 'huge', 'energy', 'requirements', ',', 'edge-based', 'AI', 'will', 'be', 'adopted', 'to', 'reduce', 'AIâ€™s', 'carbon', 'footprint', 'and', 'meet', 'sustainability', 'goals', '.']\n"
     ]
    }
   ],
   "source": [
    "words_bow = word_tokenize(input_text_bow)\n",
    "print(words_bow)"
   ]
  },
  {
   "cell_type": "code",
   "execution_count": null,
   "metadata": {},
   "outputs": [],
   "source": [
    "# for word in words_bow:\n",
    "#      cur_chunk.append(word)\n",
    "#     count += 1\n",
    "#     if count == chunk_size:\n",
    "#     output.append(' '.join(cur_chunk))\n",
    "#     count, cur_chunk = 0, []\n",
    "#     output.append(' '.join(cur_chunk))\n"
   ]
  }
 ],
 "metadata": {
  "kernelspec": {
   "display_name": "Python 3",
   "language": "python",
   "name": "python3"
  },
  "language_info": {
   "codemirror_mode": {
    "name": "ipython",
    "version": 3
   },
   "file_extension": ".py",
   "mimetype": "text/x-python",
   "name": "python",
   "nbconvert_exporter": "python",
   "pygments_lexer": "ipython3",
   "version": "3.9.7"
  },
  "orig_nbformat": 4,
  "vscode": {
   "interpreter": {
    "hash": "23ec26e3d78f03e9d363b0521c54679bd260eb9cc535386c8fbbe8e297a627f2"
   }
  }
 },
 "nbformat": 4,
 "nbformat_minor": 2
}
