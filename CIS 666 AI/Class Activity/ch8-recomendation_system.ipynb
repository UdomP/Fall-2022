{
 "cells": [
  {
   "cell_type": "code",
   "execution_count": 32,
   "metadata": {},
   "outputs": [],
   "source": [
    "import pandas as pd\n",
    "import numpy as np\n",
    "from pearson_score import pearson_score\n",
    "from euclidean_score import euclidean_score\n",
    "\n",
    "\n",
    "df = pd.read_json('imdb_series_rating.json')"
   ]
  },
  {
   "cell_type": "code",
   "execution_count": 33,
   "metadata": {},
   "outputs": [
    {
     "name": "stdout",
     "output_type": "stream",
     "text": [
      "                      John Reese  Sameen Shaw  Harold Finch  Root Grooves  \\\n",
      "Person of Interest           4.0          3.0           4.5           NaN   \n",
      "Silicon Valley               1.5          1.5           5.0           3.5   \n",
      "The IT Crowd                 3.0          1.0           NaN           5.0   \n",
      "The Office                   4.5          2.0           4.5           1.0   \n",
      "30 Rock                      1.0          5.0           1.0           5.0   \n",
      "Parks and Recreation         NaN          4.5           NaN           1.0   \n",
      "\n",
      "                      Claire Dunphy  Joss Carter  Gloria Pritchett  \\\n",
      "Person of Interest              NaN          5.0               3.5   \n",
      "Silicon Valley                  2.5          4.5               3.0   \n",
      "The IT Crowd                    NaN          4.0               NaN   \n",
      "The Office                      NaN          2.5               1.0   \n",
      "30 Rock                         4.5          1.0               4.5   \n",
      "Parks and Recreation            3.0          1.5               3.0   \n",
      "\n",
      "                      Lionel Fusco  \n",
      "Person of Interest             NaN  \n",
      "Silicon Valley                 NaN  \n",
      "The IT Crowd                   NaN  \n",
      "The Office                     1.5  \n",
      "30 Rock                        NaN  \n",
      "Parks and Recreation           4.5  \n"
     ]
    }
   ],
   "source": [
    "print(df)"
   ]
  },
  {
   "cell_type": "code",
   "execution_count": 34,
   "metadata": {},
   "outputs": [
    {
     "name": "stdout",
     "output_type": "stream",
     "text": [
      "0\n",
      "0\n"
     ]
    }
   ],
   "source": [
    "user1 = 'Root Grooves'\n",
    "user2 = 'Joss Carter'\n",
    "\n",
    "print(pearson_score(df, user1, user2))\n",
    "print(euclidean_score(df, user1, user2))"
   ]
  }
 ],
 "metadata": {
  "kernelspec": {
   "display_name": "Python 3",
   "language": "python",
   "name": "python3"
  },
  "language_info": {
   "codemirror_mode": {
    "name": "ipython",
    "version": 3
   },
   "file_extension": ".py",
   "mimetype": "text/x-python",
   "name": "python",
   "nbconvert_exporter": "python",
   "pygments_lexer": "ipython3",
   "version": "3.9.7"
  },
  "orig_nbformat": 4,
  "vscode": {
   "interpreter": {
    "hash": "23ec26e3d78f03e9d363b0521c54679bd260eb9cc535386c8fbbe8e297a627f2"
   }
  }
 },
 "nbformat": 4,
 "nbformat_minor": 2
}
