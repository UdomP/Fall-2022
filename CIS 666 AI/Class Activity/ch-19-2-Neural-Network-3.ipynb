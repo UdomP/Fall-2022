{
 "cells": [
  {
   "cell_type": "code",
   "execution_count": 1,
   "metadata": {},
   "outputs": [],
   "source": [
    "import numpy as np\n",
    "import neurolab as nl"
   ]
  },
  {
   "cell_type": "code",
   "execution_count": 2,
   "metadata": {},
   "outputs": [],
   "source": [
    "# Define the input file\n",
    "input_file = 'letter.data'"
   ]
  },
  {
   "cell_type": "code",
   "execution_count": 3,
   "metadata": {},
   "outputs": [],
   "source": [
    "# Define the number of datapoints to\n",
    "# be loaded from the input file\n",
    "num_datapoints = 50"
   ]
  },
  {
   "cell_type": "code",
   "execution_count": 4,
   "metadata": {},
   "outputs": [],
   "source": [
    "# String containing all the distinct characters\n",
    "orig_labels = 'omandig'"
   ]
  },
  {
   "cell_type": "code",
   "execution_count": 5,
   "metadata": {},
   "outputs": [],
   "source": [
    "# Compute the number of distinct characters\n",
    "num_orig_labels = len(orig_labels)"
   ]
  },
  {
   "cell_type": "code",
   "execution_count": 6,
   "metadata": {},
   "outputs": [],
   "source": [
    "# Define the training and testing parameters\n",
    "num_train = int(0.9 * num_datapoints)\n",
    "num_test = num_datapoints - num_train"
   ]
  },
  {
   "cell_type": "code",
   "execution_count": 7,
   "metadata": {},
   "outputs": [],
   "source": [
    "# Define the dataset extraction parameters\n",
    "start = 6\n",
    "end = -1"
   ]
  },
  {
   "cell_type": "code",
   "execution_count": 8,
   "metadata": {},
   "outputs": [],
   "source": [
    "# Creating the dataset\n",
    "data = []\n",
    "labels = []\n",
    "with open(input_file, 'r') as f:\n",
    "    for line in f.readlines():\n",
    "        # Split the current line tabwise\n",
    "        list_vals = line.split('\\t')\n",
    "        # Check if the label is in our ground truth\n",
    "        # labels. If not, we should skip it.\n",
    "        if list_vals[1] not in orig_labels:\n",
    "            continue\n",
    "        # Extract the current label and append it\n",
    "        # to the main list\n",
    "        label = np.zeros((num_orig_labels, 1))\n",
    "        label[orig_labels.index(list_vals[1])] = 1\n",
    "        labels.append(label)\n",
    "        # Extract the character vector and append it to the main list\n",
    "        cur_char = np.array([float(x) for x in list_vals[start:end]])\n",
    "        data.append(cur_char)\n",
    "        # Exit the loop once the required dataset has been created\n",
    "        if len(data) >= num_datapoints:\n",
    "            break"
   ]
  },
  {
   "cell_type": "code",
   "execution_count": 9,
   "metadata": {},
   "outputs": [],
   "source": [
    "# Convert the data and labels to numpy arrays\n",
    "data = np.asfarray(data)\n",
    "labels = np.array(labels).reshape(num_datapoints, num_orig_labels)"
   ]
  },
  {
   "cell_type": "code",
   "execution_count": 10,
   "metadata": {},
   "outputs": [],
   "source": [
    "# Extract the number of dimensions\n",
    "num_dims = len(data[0])"
   ]
  },
  {
   "cell_type": "code",
   "execution_count": 11,
   "metadata": {},
   "outputs": [],
   "source": [
    "# Create a feedforward neural network\n",
    "nn = nl.net.newff([[0, 1] for _ in range(len(data[0]))], [128, 16, num_orig_labels])\n",
    "# Set the training algorithm to gradient descent\n",
    "nn.trainf = nl.train.train_gd"
   ]
  },
  {
   "cell_type": "code",
   "execution_count": 12,
   "metadata": {},
   "outputs": [
    {
     "name": "stdout",
     "output_type": "stream",
     "text": [
      "Epoch: 100; Error: 92.12734287524054;\n",
      "Epoch: 200; Error: 44.88630070050522;\n",
      "Epoch: 300; Error: 36.49781247236555;\n",
      "Epoch: 400; Error: 26.99002948410355;\n",
      "Epoch: 500; Error: 19.19369240619352;\n",
      "Epoch: 600; Error: 16.339761989582136;\n",
      "Epoch: 700; Error: 15.860658498341003;\n",
      "Epoch: 800; Error: 16.51883781887891;\n",
      "Epoch: 900; Error: 16.21250856778161;\n",
      "Epoch: 1000; Error: 15.624047568046025;\n",
      "Epoch: 1100; Error: 16.876451183393524;\n",
      "Epoch: 1200; Error: 11.183356031490208;\n",
      "Epoch: 1300; Error: 1.560904151927449;\n",
      "Epoch: 1400; Error: 1.1880603877743132;\n",
      "Epoch: 1500; Error: 0.9326789740786063;\n",
      "Epoch: 1600; Error: 0.4871764183252749;\n",
      "Epoch: 1700; Error: 0.07320373470990398;\n",
      "Epoch: 1800; Error: 0.032796043407596266;\n",
      "Epoch: 1900; Error: 0.02534810236627546;\n",
      "Epoch: 2000; Error: 0.020638640444849976;\n",
      "Epoch: 2100; Error: 0.017389168128331793;\n",
      "Epoch: 2200; Error: 0.015476529966672637;\n",
      "Epoch: 2300; Error: 0.014391211617064543;\n",
      "Epoch: 2400; Error: 0.013674113572544402;\n",
      "Epoch: 2500; Error: 0.012988749887505162;\n",
      "Epoch: 2600; Error: 0.012223063269349596;\n",
      "Epoch: 2700; Error: 0.011480041002716518;\n",
      "Epoch: 2800; Error: 0.010885907850876474;\n",
      "Epoch: 2900; Error: 0.010467272852095921;\n",
      "Epoch: 3000; Error: 0.010155320181948636;\n",
      "The goal of learning is reached\n"
     ]
    }
   ],
   "source": [
    "# Train the network\n",
    "error_progress = nn.train(data[:num_train,:], labels[:num_train,:], epochs=10000, show=100, goal=0.01)"
   ]
  },
  {
   "cell_type": "code",
   "execution_count": 14,
   "metadata": {},
   "outputs": [
    {
     "name": "stdout",
     "output_type": "stream",
     "text": [
      "\n",
      "Testing on unknown data:\n",
      "\n",
      "Original: o\n",
      "Predicted: o\n",
      "\n",
      "Original: m\n",
      "Predicted: m\n",
      "\n",
      "Original: m\n",
      "Predicted: m\n",
      "\n",
      "Original: a\n",
      "Predicted: n\n",
      "\n",
      "Original: n\n",
      "Predicted: n\n"
     ]
    }
   ],
   "source": [
    "# Predict the output for test inputs\n",
    "print('\\nTesting on unknown data:')\n",
    "predicted_test = nn.sim(data[num_train:, :])\n",
    "for i in range(num_test):\n",
    "    print('\\nOriginal:', orig_labels[np.argmax(labels[i])])\n",
    "    print('Predicted:', orig_labels[np.argmax(predicted_test[i])])"
   ]
  }
 ],
 "metadata": {
  "kernelspec": {
   "display_name": "Python 3",
   "language": "python",
   "name": "python3"
  },
  "language_info": {
   "codemirror_mode": {
    "name": "ipython",
    "version": 3
   },
   "file_extension": ".py",
   "mimetype": "text/x-python",
   "name": "python",
   "nbconvert_exporter": "python",
   "pygments_lexer": "ipython3",
   "version": "3.9.7"
  },
  "orig_nbformat": 4,
  "vscode": {
   "interpreter": {
    "hash": "23ec26e3d78f03e9d363b0521c54679bd260eb9cc535386c8fbbe8e297a627f2"
   }
  }
 },
 "nbformat": 4,
 "nbformat_minor": 2
}
