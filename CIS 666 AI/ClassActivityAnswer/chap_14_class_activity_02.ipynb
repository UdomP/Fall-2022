{
 "cells": [
  {
   "cell_type": "markdown",
   "id": "f8e2672d",
   "metadata": {},
   "source": [
    "# Level-1"
   ]
  },
  {
   "cell_type": "code",
   "execution_count": 7,
   "id": "559128c3",
   "metadata": {},
   "outputs": [],
   "source": [
    "import warnings\n",
    "warnings.filterwarnings(\"ignore\")\n",
    "import numpy as np\n",
    "import matplotlib.pyplot as plt\n",
    "import json\n",
    "from scipy.io import wavfile \n",
    "from scipy.io.wavfile import write\n",
    "import os\n",
    "import argparse \n",
    "from pathlib import Path\n",
    "from hmmlearn import hmm\n",
    "from python_speech_features import mfcc, logfbank"
   ]
  },
  {
   "cell_type": "code",
   "execution_count": 11,
   "id": "fe4a4ee9",
   "metadata": {},
   "outputs": [
    {
     "name": "stdout",
     "output_type": "stream",
     "text": [
      "\n",
      "MFCC:\n",
      "Number of windows = 24\n",
      "Length of each feature = 13\n",
      "\n",
      "Filter bank:\n",
      "Number of windows = 24\n",
      "Length of each feature = 26\n"
     ]
    },
    {
     "data": {
      "image/png": "[encoded data removed]",
      "text/plain": [
       "<Figure size 531.692x288 with 1 Axes>"
      ]
     },
     "metadata": {
      "needs_background": "light"
     },
     "output_type": "display_data"
    },
    {
     "data": {
      "image/png": "[encoded data removed]",
      "text/plain": [
       "<Figure size 288x312 with 1 Axes>"
      ]
     },
     "metadata": {
      "needs_background": "light"
     },
     "output_type": "display_data"
    }
   ],
   "source": [
    "# Read the input audio file\n",
    "sampling_freq, signal = wavfile.read('test_sound.wav')\n",
    "\n",
    "# Take the first 1000 samples for analysis\n",
    "signal = signal[:1000]\n",
    "\n",
    "# Extract the MFCC features \n",
    "features_mfcc = mfcc(signal, sampling_freq)\n",
    "\n",
    "# Print the parameters for MFCC\n",
    "print('\\nMFCC:\\nNumber of windows =', features_mfcc.shape[0])\n",
    "print('Length of each feature =', features_mfcc.shape[1])\n",
    "\n",
    "# Plot the features\n",
    "features_mfcc = features_mfcc.T\n",
    "plt.matshow(features_mfcc)\n",
    "plt.title('MFCC')\n",
    "\n",
    "# Extract the Filter Bank features\n",
    "features_fb = logfbank(signal, sampling_freq)\n",
    "\n",
    "# Print the parameters for Filter Bank \n",
    "print('\\nFilter bank:\\nNumber of windows =', features_fb.shape[0])\n",
    "print('Length of each feature =', features_fb.shape[1])\n",
    "\n",
    "# Plot the features\n",
    "features_fb = features_fb.T\n",
    "plt.matshow(features_fb)\n",
    "plt.title('Filter bank')\n",
    "\n",
    "plt.show()"
   ]
  },
  {
   "cell_type": "markdown",
   "id": "8b6e24ce",
   "metadata": {},
   "source": [
    "# Level-2"
   ]
  },
  {
   "cell_type": "code",
   "execution_count": 10,
   "id": "a22a4a90",
   "metadata": {},
   "outputs": [],
   "source": [
    "def tone_synthesizer(freq, duration, amplitude, sampling_freq):\n",
    "    # Construct the time axis \n",
    "    time_axis = np.linspace(0, duration, duration * sampling_freq)\n",
    "\n",
    "    # Construct the audio signal\n",
    "    signal = amplitude * np.sin(2 * np.pi * freq * time_axis)\n",
    "\n",
    "    return signal.astype(np.float) "
   ]
  },
  {
   "cell_type": "code",
   "execution_count": 11,
   "id": "c2040cbd",
   "metadata": {},
   "outputs": [],
   "source": [
    "file_tone_sequence = 'music_00.wav'\n",
    "\n",
    "mapping_file = 'tone_mapping.json'\n",
    "    \n",
    "# Load the tone to frequency map from the mapping file\n",
    "with open(mapping_file, 'r') as f:\n",
    "    tone_map = json.loads(f.read())\n",
    "    \n",
    "amplitude = 12000\n",
    "sampling_freq = 44100    # Hz"
   ]
  },
  {
   "cell_type": "code",
   "execution_count": 12,
   "id": "cec96fc4",
   "metadata": {},
   "outputs": [],
   "source": [
    "\n",
    "tone_sequence = [('G', 2), ('D', 2), ('F', 3), ('C', 4), ('A', 2)]\n",
    "signal = np.array([])\n",
    "\n",
    "for item in tone_sequence:\n",
    "    tone_name = item[0]\n",
    "    freq = tone_map[tone_name]\n",
    "    duration = item[1]\n",
    "    synthesized_tone = tone_synthesizer(freq, duration, amplitude, sampling_freq)\n",
    "    signal = np.append(signal, synthesized_tone, axis=0)\n",
    "    \n",
    "write(file_tone_sequence, sampling_freq, signal)\n"
   ]
  },
  {
   "cell_type": "markdown",
   "id": "fa32a686",
   "metadata": {},
   "source": [
    "# Level-3"
   ]
  },
  {
   "cell_type": "code",
   "execution_count": 25,
   "id": "8daa11fb",
   "metadata": {},
   "outputs": [],
   "source": [
    "class ModelHMM(object):\n",
    "    def __init__(self, num_components=4, num_iter=1000):\n",
    "        self.n_components = num_components\n",
    "        self.n_iter = num_iter\n",
    "\n",
    "        self.cov_type = 'diag' \n",
    "        self.model_name = 'GaussianHMM' \n",
    "\n",
    "        self.models = []\n",
    "\n",
    "        self.model = hmm.GaussianHMM(n_components=self.n_components,covariance_type=self.cov_type, n_iter=self.n_iter)\n",
    "\n",
    "    # 'training_data' is a 2D numpy array where each row is 13-dimensional\n",
    "    def train(self, training_data):\n",
    "        np.seterr(all='ignore')\n",
    "        cur_model = self.model.fit(training_data)\n",
    "        self.models.append(cur_model)\n",
    "\n",
    "    # Run the HMM model for inference on input data\n",
    "    def compute_score(self, input_data):\n",
    "        return self.model.score(input_data)\n",
    "\n",
    "# Define a function to build a model for each word\n",
    "def build_models(input_folder):\n",
    "    # Initialize the variable to store all the models\n",
    "    speech_models = []\n",
    "\n",
    "    # Parse the input directory\n",
    "    for dirname in os.listdir(input_folder):\n",
    "        # Get the name of the subfolder \n",
    "        subfolder = os.path.join(input_folder, dirname)\n",
    "\n",
    "        if not os.path.isdir(subfolder): \n",
    "            continue\n",
    "\n",
    "        # Extract the label\n",
    "        label = subfolder[subfolder.rfind('/') + 1:]\n",
    "\n",
    "        # Initialize the variables\n",
    "        X = np.array([])\n",
    "\n",
    "        # Create a list of files to be used for training\n",
    "        # We will leave one file per folder for testing\n",
    "        training_files = [x for x in os.listdir(subfolder) if x.endswith('.wav')][:-1]\n",
    "\n",
    "        # Iterate through the training files and build the models\n",
    "        for filename in training_files: \n",
    "            # Extract the current filepath\n",
    "            filepath = os.path.join(subfolder, filename)\n",
    "\n",
    "            # Read the audio signal from the input file\n",
    "            sampling_freq, signal = wavfile.read(filepath)\n",
    "            \n",
    "            # Extract the MFCC features\n",
    "            with warnings.catch_warnings():\n",
    "                warnings.simplefilter('ignore')\n",
    "                features_mfcc = mfcc(signal, sampling_freq)\n",
    "\n",
    "            # Append to the variable X\n",
    "            if len(X) == 0:\n",
    "                X = features_mfcc\n",
    "            else:\n",
    "                X = np.append(X, features_mfcc, axis=0)\n",
    "            \n",
    "        # Create the HMM model\n",
    "        model = ModelHMM()\n",
    "\n",
    "        # Train the HMM\n",
    "        model.train(X)\n",
    "\n",
    "        # Save the model for the current word\n",
    "        speech_models.append((model, label))\n",
    "\n",
    "        # Reset the variable\n",
    "        model = None\n",
    "\n",
    "    return speech_models\n",
    "\n",
    "# Define a function to run tests on input files\n",
    "def run_tests(test_files):\n",
    "    # Classify input data\n",
    "    for test_file in test_files:\n",
    "        # Read input file\n",
    "        sampling_freq, signal = wavfile.read(test_file)\n",
    "\n",
    "        # Extract MFCC features\n",
    "        with warnings.catch_warnings():\n",
    "            warnings.simplefilter('ignore')\n",
    "            features_mfcc = mfcc(signal, sampling_freq)\n",
    "\n",
    "        # Define variables\n",
    "        max_score = -float('inf') \n",
    "        output_label = None\n",
    "\n",
    "        # Run the current feature vector through all the HMM\n",
    "        # models and pick the one with the highest score\n",
    "        for item in speech_models:\n",
    "            model, label = item\n",
    "            score = model.compute_score(features_mfcc)\n",
    "            if score > max_score:\n",
    "                max_score = score\n",
    "                predicted_label = Path(label).name\n",
    "\n",
    "        # Print the predicted output \n",
    "        #start_index = test_file.find('/') + 1\n",
    "        #end_index = test_file.rfind('/')\n",
    "        #original_label = test_file[start_index:end_index]\n",
    "        original_label = Path(test_file).name\n",
    "        print('\\nOriginal: ', original_label) \n",
    "        print('Predicted:', predicted_label)\n"
   ]
  },
  {
   "cell_type": "code",
   "execution_count": 26,
   "id": "ddea5f50",
   "metadata": {},
   "outputs": [
    {
     "name": "stdout",
     "output_type": "stream",
     "text": [
      "\n",
      "Original:  apple15.wav\n",
      "Predicted: apple\n",
      "\n",
      "Original:  banana15.wav\n",
      "Predicted: banana\n",
      "\n",
      "Original:  peach15.wav\n",
      "Predicted: peach\n",
      "\n",
      "Original:  pineapple15.wav\n",
      "Predicted: pineapple\n"
     ]
    }
   ],
   "source": [
    "input_folder= r'C:\\Users\\user\\Desktop\\Speech_Recognition'\n",
    "speech_models = build_models(input_folder)\n",
    "test_files = []\n",
    "for root, dirs, files in os.walk(input_folder):\n",
    "    for filename in (x for x in files if '15' in x):\n",
    "        filepath = os.path.join(root, filename)\n",
    "        test_files.append(filepath)\n",
    "\n",
    "run_tests(test_files)"
   ]
  },
  {
   "cell_type": "code",
   "execution_count": null,
   "id": "bc4f479c",
   "metadata": {},
   "outputs": [],
   "source": []
  }
 ],
 "metadata": {
  "kernelspec": {
   "display_name": "Python 3",
   "language": "python",
   "name": "python3"
  },
  "language_info": {
   "codemirror_mode": {
    "name": "ipython",
    "version": 3
   },
   "file_extension": ".py",
   "mimetype": "text/x-python",
   "name": "python",
   "nbconvert_exporter": "python",
   "pygments_lexer": "ipython3",
   "version": "3.8.10"
  }
 },
 "nbformat": 4,
 "nbformat_minor": 5
}
