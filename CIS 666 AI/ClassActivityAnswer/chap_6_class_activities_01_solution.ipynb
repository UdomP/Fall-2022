{
 "cells": [
  {
   "cell_type": "markdown",
   "id": "cbba15c7",
   "metadata": {},
   "source": [
    "# Level-1"
   ]
  },
  {
   "cell_type": "code",
   "execution_count": 1,
   "id": "51293705",
   "metadata": {},
   "outputs": [
    {
     "data": {
      "text/plain": [
       "Text(0.5, 1.0, 'Input data')"
      ]
     },
     "execution_count": 1,
     "metadata": {},
     "output_type": "execute_result"
    },
    {
     "data": {
      "image/png": "[encoded data removed]",
      "text/plain": [
       "<Figure size 432x288 with 1 Axes>"
      ]
     },
     "metadata": {
      "needs_background": "light"
     },
     "output_type": "display_data"
    }
   ],
   "source": [
    "import numpy as np\n",
    "from sklearn.ensemble import RandomForestClassifier\n",
    "\n",
    "import matplotlib.pyplot as plt\n",
    "from sklearn.metrics import classification_report\n",
    "from sklearn.model_selection import train_test_split\n",
    "from sklearn.tree import DecisionTreeClassifier\n",
    "import warnings\n",
    "warnings.filterwarnings(\"ignore\")\n",
    "\n",
    "# Load input data\n",
    "input_file = 'created_dataset.txt'\n",
    "\n",
    "data = np.loadtxt(input_file, delimiter=',')\n",
    "X = data[:, :-1]\n",
    "y = data[:, -1]\n",
    "\n",
    "class_0 = np.array(X[y==0])\n",
    "class_1 = np.array(X[y==1])\n",
    "class_2 = np.array(X[y==2])\n",
    "\n",
    "\n",
    "# Visualize input data\n",
    "plt.figure()\n",
    "plt.scatter(class_0[:, 0], class_0[:, 1], s=75, facecolors='black', \n",
    "        edgecolors='black', linewidth=1, marker='+')\n",
    "plt.scatter(class_1[:, 0], class_1[:, 1], s=75, facecolors='white', \n",
    "        edgecolors='black', linewidth=1, marker='o')\n",
    "plt.scatter(class_2[:, 0], class_2[:, 1], s=75, facecolors='blue', \n",
    "        edgecolors='black', linewidth=1, marker='*')\n",
    "plt.title('Input data')\n",
    "\n"
   ]
  },
  {
   "cell_type": "markdown",
   "id": "a0ea1233",
   "metadata": {},
   "source": [
    "# Level-2"
   ]
  },
  {
   "cell_type": "code",
   "execution_count": 2,
   "id": "89359a85",
   "metadata": {},
   "outputs": [
    {
     "name": "stdout",
     "output_type": "stream",
     "text": [
      "\n",
      "Classifier performance on dataset\n",
      "\n",
      "              precision    recall  f1-score   support\n",
      "\n",
      "     Class-0       0.75      0.60      0.67         5\n",
      "     Class-1       0.33      0.25      0.29         4\n",
      "     Class-2       0.33      1.00      0.50         1\n",
      "\n",
      "    accuracy                           0.50        10\n",
      "   macro avg       0.47      0.62      0.48        10\n",
      "weighted avg       0.54      0.50      0.50        10\n",
      "\n"
     ]
    }
   ],
   "source": [
    "# Split data into training and testing datasets \n",
    "X_train, X_test, y_train, y_test = train_test_split(X, y, test_size=0.25, random_state=5)\n",
    "\n",
    "# Decision Trees classifier \n",
    "classifier = RandomForestClassifier()\n",
    "classifier.fit(X_train, y_train)\n",
    "\n",
    "y_test_pred = classifier.predict(X_test)\n",
    "\n",
    "# Evaluate classifier performance\n",
    "class_names = ['Class-0', 'Class-1','Class-2']\n",
    "print(\"\\nClassifier performance on dataset\\n\")\n",
    "print(classification_report(y_test, y_test_pred, target_names=class_names))\n",
    "\n",
    "plt.show()"
   ]
  },
  {
   "cell_type": "code",
   "execution_count": 3,
   "id": "70e207b9",
   "metadata": {},
   "outputs": [],
   "source": [
    "import numpy as np\n",
    "import sklearn.ensemble\n",
    "import matplotlib.pyplot as plt\n",
    "from sklearn.metrics import classification_report\n",
    "from sklearn.model_selection import train_test_split\n",
    "from sklearn.tree import DecisionTreeClassifier\n",
    "import warnings\n",
    "warnings.filterwarnings(\"ignore\")\n"
   ]
  },
  {
   "cell_type": "code",
   "execution_count": 4,
   "id": "686d7ef4",
   "metadata": {},
   "outputs": [],
   "source": [
    "test_datapoints = np.array([[7, 10], [12, 13], [14, 17], [27, 30], [42,61], [3, 9]])"
   ]
  },
  {
   "cell_type": "code",
   "execution_count": 5,
   "id": "53bced12",
   "metadata": {},
   "outputs": [
    {
     "name": "stdout",
     "output_type": "stream",
     "text": [
      "\n",
      "Confidence measure:\n",
      "\n",
      "Datapoint: [ 7 10]\n",
      "Predicted class: Class-0\n",
      "\n",
      "Datapoint: [12 13]\n",
      "Predicted class: Class-1\n",
      "\n",
      "Datapoint: [14 17]\n",
      "Predicted class: Class-1\n",
      "\n",
      "Datapoint: [27 30]\n",
      "Predicted class: Class-1\n",
      "\n",
      "Datapoint: [42 61]\n",
      "Predicted class: Class-2\n",
      "\n",
      "Datapoint: [3 9]\n",
      "Predicted class: Class-0\n"
     ]
    }
   ],
   "source": [
    "print(\"\\nConfidence measure:\")\n",
    "for datapoint in test_datapoints:\n",
    "  probabilities = classifier.predict_proba([datapoint])[0]\n",
    "  predicted_class = 'Class-' + str(np.argmax(probabilities))\n",
    "  print('\\nDatapoint:', datapoint)\n",
    "  print('Predicted class:', predicted_class)"
   ]
  },
  {
   "cell_type": "markdown",
   "id": "abe86037",
   "metadata": {},
   "source": [
    "# Level-3"
   ]
  },
  {
   "cell_type": "code",
   "execution_count": 9,
   "id": "dbd217ca",
   "metadata": {},
   "outputs": [],
   "source": [
    "import numpy as np\n",
    "import matplotlib.pyplot as plt\n",
    "import pandas as pd\n",
    "\n",
    "def visualize_classifier(classifier, X, y, title=''):\n",
    "    # Define the minimum and maximum values for X and Y\n",
    "    # that will be used in the mesh grid\n",
    "    min_x, max_x = X[:, 0].min() - 1.0, X[:, 0].max() + 1.0\n",
    "    min_y, max_y = X[:, 1].min() - 1.0, X[:, 1].max() + 1.0\n",
    "\n",
    "    # Define the step size to use in plotting the mesh grid \n",
    "    mesh_step_size = 0.01\n",
    "\n",
    "    # Define the mesh grid of X and Y values\n",
    "    x_vals, y_vals = np.meshgrid(np.arange(min_x, max_x, mesh_step_size), np.arange(min_y, max_y, mesh_step_size))\n",
    "\n",
    "    # Run the classifier on the mesh grid\n",
    "    output = classifier.predict(np.c_[x_vals.ravel(), y_vals.ravel()])\n",
    "\n",
    "    # Reshape the output array\n",
    "    output = output.reshape(x_vals.shape)\n",
    "\n",
    "    # Create a plot\n",
    "    plt.figure()\n",
    "\n",
    "    # Specify the title\n",
    "    plt.title(title)\n",
    "\n",
    "    # Choose a color scheme for the plot \n",
    "    plt.pcolormesh(x_vals, y_vals, output, cmap=plt.cm.gray)\n",
    "\n",
    "    # Overlay the training points on the plot \n",
    "    plt.scatter(X[:, 0], X[:, 1], c=y, s=75, edgecolors='black', linewidth=1, cmap=plt.cm.Paired)\n",
    "\n",
    "  \n",
    "\n",
    "    plt.show()"
   ]
  },
  {
   "cell_type": "code",
   "execution_count": 10,
   "id": "a5892cd9",
   "metadata": {},
   "outputs": [
    {
     "data": {
      "image/png": "[encoded data removed]",
      "text/plain": [
       "<Figure size 432x288 with 1 Axes>"
      ]
     },
     "metadata": {
      "needs_background": "light"
     },
     "output_type": "display_data"
    },
    {
     "data": {
      "image/png": "[encoded data removed]",
      "text/plain": [
       "<Figure size 432x288 with 1 Axes>"
      ]
     },
     "metadata": {
      "needs_background": "light"
     },
     "output_type": "display_data"
    },
    {
     "name": "stdout",
     "output_type": "stream",
     "text": [
      "\n",
      "########################################\n",
      "\n",
      "Classifier performance on training dataset\n",
      "\n",
      "              precision    recall  f1-score   support\n",
      "\n",
      "     Class-0       0.83      1.00      0.91        10\n",
      "     Class-1       1.00      0.90      0.95        10\n",
      "     Class-2       1.00      0.89      0.94         9\n",
      "\n",
      "    accuracy                           0.93        29\n",
      "   macro avg       0.94      0.93      0.93        29\n",
      "weighted avg       0.94      0.93      0.93        29\n",
      "\n",
      "########################################\n",
      "\n",
      "########################################\n",
      "\n",
      "Classifier performance on test dataset\n",
      "\n",
      "              precision    recall  f1-score   support\n",
      "\n",
      "     Class-0       0.67      0.50      0.57         4\n",
      "     Class-1       0.25      0.33      0.29         3\n",
      "     Class-2       0.00      0.00      0.00         1\n",
      "\n",
      "    accuracy                           0.38         8\n",
      "   macro avg       0.31      0.28      0.29         8\n",
      "weighted avg       0.43      0.38      0.39         8\n",
      "\n",
      "########################################\n",
      "\n"
     ]
    }
   ],
   "source": [
    "X_train, X_test, y_train, y_test = train_test_split(X, y, test_size=0.20, random_state=5)\n",
    "\n",
    "# Decision Trees classifier \n",
    "params = {'random_state': 0, 'max_depth': 4}\n",
    "classifier = DecisionTreeClassifier(**params)\n",
    "classifier.fit(X_train, y_train)\n",
    "visualize_classifier(classifier, X_train, y_train, 'Training dataset')\n",
    "\n",
    "y_test_pred = classifier.predict(X_test)\n",
    "visualize_classifier(classifier, X_test, y_test, 'Test dataset')\n",
    "\n",
    "# Evaluate classifier performance\n",
    "class_names = ['Class-0', 'Class-1','Class-2']\n",
    "print(\"\\n\" + \"#\"*40)\n",
    "print(\"\\nClassifier performance on training dataset\\n\")\n",
    "print(classification_report(y_train, classifier.predict(X_train), target_names=class_names))\n",
    "print(\"#\"*40 + \"\\n\")\n",
    "\n",
    "print(\"#\"*40)\n",
    "print(\"\\nClassifier performance on test dataset\\n\")\n",
    "print(classification_report(y_test, y_test_pred, target_names=class_names))\n",
    "print(\"#\"*40 + \"\\n\")\n",
    "\n",
    "plt.show()"
   ]
  },
  {
   "cell_type": "code",
   "execution_count": 11,
   "id": "03884c02",
   "metadata": {},
   "outputs": [
    {
     "name": "stdout",
     "output_type": "stream",
     "text": [
      "\n",
      "Confidence measure:\n",
      "\n",
      "Datapoint: [ 7 10]\n",
      "Predicted class: Class-0\n",
      "Confidence value of the classes [0.66666667 0.         0.33333333]\n",
      "\n",
      "Datapoint: [12 13]\n",
      "Predicted class: Class-1\n",
      "Confidence value of the classes [0. 1. 0.]\n",
      "\n",
      "Datapoint: [14 17]\n",
      "Predicted class: Class-1\n",
      "Confidence value of the classes [0. 1. 0.]\n",
      "\n",
      "Datapoint: [27 30]\n",
      "Predicted class: Class-1\n",
      "Confidence value of the classes [0. 1. 0.]\n",
      "\n",
      "Datapoint: [42 61]\n",
      "Predicted class: Class-2\n",
      "Confidence value of the classes [0. 0. 1.]\n",
      "\n",
      "Datapoint: [3 9]\n",
      "Predicted class: Class-0\n",
      "Confidence value of the classes [0.66666667 0.         0.33333333]\n"
     ]
    }
   ],
   "source": [
    "print(\"\\nConfidence measure:\")\n",
    "for datapoint in test_datapoints:\n",
    "  probabilities = classifier.predict_proba([datapoint])[0]\n",
    "  predicted_class = 'Class-' + str(np.argmax(probabilities))\n",
    "  print('\\nDatapoint:', datapoint)\n",
    "  print('Predicted class:', predicted_class)\n",
    "  print('Confidence value of the classes', probabilities)"
   ]
  },
  {
   "cell_type": "code",
   "execution_count": null,
   "id": "47ad3d07",
   "metadata": {},
   "outputs": [],
   "source": []
  }
 ],
 "metadata": {
  "kernelspec": {
   "display_name": "Python 3",
   "language": "python",
   "name": "python3"
  },
  "language_info": {
   "codemirror_mode": {
    "name": "ipython",
    "version": 3
   },
   "file_extension": ".py",
   "mimetype": "text/x-python",
   "name": "python",
   "nbconvert_exporter": "python",
   "pygments_lexer": "ipython3",
   "version": "3.8.10"
  }
 },
 "nbformat": 4,
 "nbformat_minor": 5
}
